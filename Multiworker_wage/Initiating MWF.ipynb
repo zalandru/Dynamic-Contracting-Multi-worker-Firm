{
 "cells": [
  {
   "cell_type": "markdown",
   "metadata": {},
   "source": [
    "## Basics"
   ]
  },
  {
   "cell_type": "code",
   "execution_count": 1,
   "metadata": {},
   "outputs": [],
   "source": [
    "from primitives import Parameters\n",
    "p = Parameters()\n",
    "import matplotlib.pyplot as plt\n",
    "import numpy as np"
   ]
  },
  {
   "cell_type": "code",
   "execution_count": 2,
   "metadata": {},
   "outputs": [],
   "source": [
    "#%%timeit\n",
    "from Multiworker_Contract import MultiworkerContract\n",
    "K=3 #number of tenure levels\n",
    "mwc=MultiworkerContract(K,p)\n",
    "#(mwc_J,mwc_W,mwc_Wstar)=cc_inv.J()"
   ]
  },
  {
   "cell_type": "code",
   "execution_count": 5,
   "metadata": {},
   "outputs": [
    {
     "data": {
      "text/plain": [
       "1010.9748841899266"
      ]
     },
     "execution_count": 5,
     "metadata": {},
     "output_type": "execute_result"
    }
   ],
   "source": [
    "mwc.w_grid[99]*(mwc.sum_size[0,0,10,10,0,0])\n",
    "#mwc.sum_wage[0,10,10,10,99,99] \n",
    "#Same value of maximum wage at all the maximum sizes. Keep in mind that this ignores the wage and size at the very first step."
   ]
  }
 ],
 "metadata": {
  "kernelspec": {
   "display_name": "Python 3",
   "language": "python",
   "name": "python3"
  },
  "language_info": {
   "codemirror_mode": {
    "name": "ipython",
    "version": 3
   },
   "file_extension": ".py",
   "mimetype": "text/x-python",
   "name": "python",
   "nbconvert_exporter": "python",
   "pygments_lexer": "ipython3",
   "version": "3.11.4"
  }
 },
 "nbformat": 4,
 "nbformat_minor": 2
}

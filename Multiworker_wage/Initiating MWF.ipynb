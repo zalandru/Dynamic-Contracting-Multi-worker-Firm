{
 "cells": [
  {
   "cell_type": "markdown",
   "metadata": {},
   "source": [
    "## Basics"
   ]
  },
  {
   "cell_type": "code",
   "execution_count": 3,
   "metadata": {},
   "outputs": [],
   "source": [
    "from primitives import Parameters\n",
    "p = Parameters()\n",
    "import matplotlib.pyplot as plt\n",
    "import numpy as np"
   ]
  },
  {
   "cell_type": "code",
   "execution_count": 4,
   "metadata": {},
   "outputs": [
    {
     "ename": "AttributeError",
     "evalue": "'MultiworkerContract' object has no attribute 'J_deriv'",
     "output_type": "error",
     "traceback": [
      "\u001b[1;31m---------------------------------------------------------------------------\u001b[0m",
      "\u001b[1;31mAttributeError\u001b[0m                            Traceback (most recent call last)",
      "Cell \u001b[1;32mIn[4], line 4\u001b[0m\n\u001b[0;32m      2\u001b[0m \u001b[38;5;28;01mfrom\u001b[39;00m \u001b[38;5;21;01mMultiworker_Contract\u001b[39;00m \u001b[38;5;28;01mimport\u001b[39;00m MultiworkerContract\n\u001b[0;32m      3\u001b[0m K\u001b[38;5;241m=\u001b[39m\u001b[38;5;241m3\u001b[39m \u001b[38;5;66;03m#number of tenure levels\u001b[39;00m\n\u001b[1;32m----> 4\u001b[0m mwc\u001b[38;5;241m=\u001b[39m\u001b[43mMultiworkerContract\u001b[49m\u001b[43m(\u001b[49m\u001b[43mK\u001b[49m\u001b[43m,\u001b[49m\u001b[43mp\u001b[49m\u001b[43m)\u001b[49m\n\u001b[0;32m      5\u001b[0m \u001b[38;5;66;03m#(mwc_J,mwc_W,mwc_Wstar)=cc_inv.J()\u001b[39;00m\n",
      "File \u001b[1;32mc:\\Users\\andre\\Codes\\Multi-worker firm\\Multiworker_wage\\Multiworker_Contract.py:113\u001b[0m, in \u001b[0;36mMultiworkerContract.__init__\u001b[1;34m(self, K, input_param)\u001b[0m\n\u001b[0;32m    109\u001b[0m \u001b[38;5;28mself\u001b[39m\u001b[38;5;241m.\u001b[39msimple_J\u001b[38;5;241m=\u001b[39mnp\u001b[38;5;241m.\u001b[39mdivide(\u001b[38;5;28mself\u001b[39m\u001b[38;5;241m.\u001b[39mfun_prod_onedim[:,ax] \u001b[38;5;241m-\u001b[39m\u001b[38;5;28mself\u001b[39m\u001b[38;5;241m.\u001b[39mpref\u001b[38;5;241m.\u001b[39minv_utility(\u001b[38;5;28mself\u001b[39m\u001b[38;5;241m.\u001b[39mv_grid[ax,:]\u001b[38;5;241m*\u001b[39m(\u001b[38;5;241m1\u001b[39m\u001b[38;5;241m-\u001b[39m\u001b[38;5;28mself\u001b[39m\u001b[38;5;241m.\u001b[39mp\u001b[38;5;241m.\u001b[39mbeta)),\u001b[38;5;241m1\u001b[39m\u001b[38;5;241m-\u001b[39m\u001b[38;5;28mself\u001b[39m\u001b[38;5;241m.\u001b[39mp\u001b[38;5;241m.\u001b[39mbeta)\n\u001b[0;32m    110\u001b[0m \u001b[38;5;66;03m#Apply the matching function: take the simple function and consider its different values across v.\u001b[39;00m\n\u001b[0;32m    111\u001b[0m \u001b[38;5;66;03m#This is equivalent to marginal value of a firm of size 1 at the lowest step\u001b[39;00m\n\u001b[0;32m    112\u001b[0m \u001b[38;5;28mself\u001b[39m\u001b[38;5;241m.\u001b[39mprob_find_vx \u001b[38;5;241m=\u001b[39m \u001b[38;5;28mself\u001b[39m\u001b[38;5;241m.\u001b[39mp\u001b[38;5;241m.\u001b[39malpha \u001b[38;5;241m*\u001b[39m np\u001b[38;5;241m.\u001b[39mpower(\u001b[38;5;241m1\u001b[39m \u001b[38;5;241m-\u001b[39m np\u001b[38;5;241m.\u001b[39mpower(\n\u001b[1;32m--> 113\u001b[0m     np\u001b[38;5;241m.\u001b[39mdivide(\u001b[38;5;28mself\u001b[39m\u001b[38;5;241m.\u001b[39mp\u001b[38;5;241m.\u001b[39mkappa, np\u001b[38;5;241m.\u001b[39mmaximum(\u001b[38;5;28;43mself\u001b[39;49m\u001b[38;5;241;43m.\u001b[39;49m\u001b[43mJ_deriv\u001b[49m[\u001b[38;5;28mself\u001b[39m\u001b[38;5;241m.\u001b[39mp\u001b[38;5;241m.\u001b[39mz_0\u001b[38;5;241m-\u001b[39m\u001b[38;5;241m1\u001b[39m, :], \u001b[38;5;241m1.0\u001b[39m)), \u001b[38;5;28mself\u001b[39m\u001b[38;5;241m.\u001b[39mp\u001b[38;5;241m.\u001b[39msigma), \u001b[38;5;241m1\u001b[39m\u001b[38;5;241m/\u001b[39m\u001b[38;5;28mself\u001b[39m\u001b[38;5;241m.\u001b[39mp\u001b[38;5;241m.\u001b[39msigma)\n\u001b[0;32m    114\u001b[0m \u001b[38;5;66;03m#Now get workers' probability to find a job while at some current value, as well as their return probabilities.\u001b[39;00m\n\u001b[0;32m    115\u001b[0m \u001b[38;5;28mself\u001b[39m\u001b[38;5;241m.\u001b[39mjs \u001b[38;5;241m=\u001b[39m JobSearchArray() \u001b[38;5;66;03m#Andrei: note that for us this array will have only one element\u001b[39;00m\n",
      "\u001b[1;31mAttributeError\u001b[0m: 'MultiworkerContract' object has no attribute 'J_deriv'"
     ]
    }
   ],
   "source": [
    "#%%timeit\n",
    "from Multiworker_Contract import MultiworkerContract\n",
    "K=3 #number of tenure levels\n",
    "mwc=MultiworkerContract(K,p)\n",
    "#(mwc_J,mwc_W,mwc_Wstar)=cc_inv.J()"
   ]
  },
  {
   "cell_type": "code",
   "execution_count": 5,
   "metadata": {},
   "outputs": [
    {
     "data": {
      "text/plain": [
       "1010.9748841899266"
      ]
     },
     "execution_count": 5,
     "metadata": {},
     "output_type": "execute_result"
    }
   ],
   "source": [
    "mwc.w_grid[99]*(mwc.sum_size[0,0,10,10,0,0])\n",
    "#mwc.sum_wage[0,10,10,10,99,99] \n",
    "#Same value of maximum wage at all the maximum sizes. Keep in mind that this ignores the wage and size at the very first step."
   ]
  }
 ],
 "metadata": {
  "kernelspec": {
   "display_name": "Python 3",
   "language": "python",
   "name": "python3"
  },
  "language_info": {
   "codemirror_mode": {
    "name": "ipython",
    "version": 3
   },
   "file_extension": ".py",
   "mimetype": "text/x-python",
   "name": "python",
   "nbconvert_exporter": "python",
   "pygments_lexer": "ipython3",
   "version": "3.11.4"
  }
 },
 "nbformat": 4,
 "nbformat_minor": 2
}

{
 "cells": [
  {
   "cell_type": "markdown",
   "metadata": {},
   "source": [
    "## Basics"
   ]
  },
  {
   "cell_type": "code",
   "execution_count": null,
   "metadata": {},
   "outputs": [],
   "source": [
    "def get_results_for_p(p,all_results):\n",
    "    # Create the key as a tuple\n",
    "    #key = (p.num_z,p.num_v,p.num_n,p.n_bar,p.num_q,p.q_0,p.prod_q,p.hire_c,p.k_entry,p.k_f,p.prod_alpha,p.dt)\n",
    "    key = (p.num_z,p.num_v,p.z_corr,p.prod_var_z,p.num_q,p.q_0,p.prod_q,p.s_job,p.alpha,p.kappa,p.dt,p.u_bf_m,p.min_wage)\n",
    "    # Check if the key exists in the saved results\n",
    "    if key in all_results:\n",
    "        print(key)\n",
    "        return all_results[key]\n",
    "    else:\n",
    "        print(f\"No results found for p = {key}\")\n",
    "        return None\n",
    "new_baseline = {\n",
    "   'q_0': 0.56602, 'prod_q':\t0.50425,'u_bf_m':\t2.34264/4,'s_job':\t0.779616,'alpha':\t0.79,'z_corr':\t0.946006,'prod_var_z':\t0.646317\n",
    "}\n",
    "another_baseline = { #This shit aint even solvable??? wtf?\n",
    "'q_0':     0.7094052599792449,\n",
    "'prod_q':    0.48553336143372877,\n",
    "'u_bf_m':    0.5884034329521419,\n",
    "'s_job':    0.35319166225985643,\n",
    "'alpha':    0.15424752943946796,\n",
    "'z_corr':    0.8809848371620363,\n",
    "'prod_var_z':    0.6063338243114458\n",
    "}\n",
    "from primitives import Parameters\n",
    "p = Parameters(overwrite=another_baseline)\n",
    "import pickle\n",
    "import matplotlib.pyplot as plt\n",
    "import numpy as np\n",
    "from plots import Plots\n",
    "import cProfile\n",
    "import pstats\n",
    "plts=Plots(p)"
   ]
  },
  {
   "cell_type": "code",
   "execution_count": null,
   "metadata": {},
   "outputs": [],
   "source": [
    "# Load the temp objects\n",
    "\n",
    "#with open(\"results_GE.pkl\", \"rb\") as file:\n",
    "#    all_results = pickle.load(file)\n",
    "#results_GE = get_results_for_p(p,all_results)\n",
    "\n",
    "\n",
    "with open(\"model_GE.pkl\", \"rb\") as file:\n",
    "    all_results = pickle.load(file)\n",
    "model = get_results_for_p(p,all_results)\n",
    "if model is None:\n",
    "    import numpy as np\n",
    "    ax = np.newaxis\n",
    "    #from Multiworker_Contract_GE_JITted import MultiworkerContract\n",
    "    from CRS_HMQ_full import MultiworkerContract\n",
    "    mwc_J=MultiworkerContract(p)\n",
    "    model=mwc_J.J_sep(update_eq=1,s=0)"
   ]
  },
  {
   "cell_type": "code",
   "execution_count": null,
   "metadata": {},
   "outputs": [],
   "source": [
    "from CRS_HMQ_full import MultiworkerContract\n",
    "mwc_J=MultiworkerContract(p)\n",
    "model=mwc_J.J_sep(update_eq=1,s=0)"
   ]
  },
  {
   "cell_type": "code",
   "execution_count": null,
   "metadata": {},
   "outputs": [],
   "source": []
  },
  {
   "cell_type": "code",
   "execution_count": null,
   "metadata": {},
   "outputs": [],
   "source": [
    "from simulate import Simulator\n",
    "sim = Simulator(model,p)\n",
    "moms_mean,_,moms_unt_mean,_ = sim.simulate_moments_rep(5)\n",
    "moms_mean"
   ]
  },
  {
   "cell_type": "markdown",
   "metadata": {},
   "source": [
    "(5, 200, 0.95, 0.14, 6, 0.7, 0.3, 0.65, 1.0, 0.25, 2.0, 2.0) best so far: good with the transition rates (j2j and u2e slightly small, but not horrible), but the productivity moments are crazy small???? did I do them wrong? although in the BL ones are kinda crazy..."
   ]
  },
  {
   "cell_type": "markdown",
   "metadata": {},
   "source": [
    "(5, 200, 0.95, 0.14, 6, 0.8, 0.4, 0.65, 1.0, 0.25, 0.5, 0.5) was good with j2j, but bad with layoffs"
   ]
  },
  {
   "cell_type": "code",
   "execution_count": null,
   "metadata": {},
   "outputs": [
    {
     "data": {
      "text/plain": [
       "0.13997602111275775"
      ]
     },
     "execution_count": 6,
     "metadata": {},
     "output_type": "execute_result"
    }
   ],
   "source": [
    "#Moments comparison:\n",
    "E2U annual: 1-(1-0.004116)**4 # soo this is a 1.6% layoff rate, tooo low\n",
    "J2j annual: 1- (1 - 0.036997)**4 #14% j2j rate, way too high\n",
    "Pr_new hire: 4% compared to 13% in the data #soooooo need to raise the pr_u2e even firther??? 49% aint enough? BL had 17% QUARTERLY transition probability\n",
    "#Maybe this should be checked using annual data? Maybe pr_new_hire dooes not translate perfectly between quarterly and annual? hmmmm I'd guess so? "
   ]
  },
  {
   "cell_type": "code",
   "execution_count": 6,
   "metadata": {},
   "outputs": [
    {
     "data": {
      "text/plain": [
       "np.float64(0.6972788225321755)"
      ]
     },
     "execution_count": 6,
     "metadata": {},
     "output_type": "execute_result"
    }
   ],
   "source": [
    "moms_unt_mean['autocov_ypw_alt']['ypw_l4']"
   ]
  },
  {
   "cell_type": "code",
   "execution_count": 5,
   "metadata": {},
   "outputs": [
    {
     "data": {
      "text/plain": [
       "coef\n",
       "Intercept                0.260714\n",
       "dypw                    -0.029017\n",
       "C(tenure)[T.1.0]        -0.234174\n",
       "C(tenure)[T.2.0]        -0.265843\n",
       "C(tenure)[T.3.0]        -0.265482\n",
       "C(tenure)[T.4.0]        -0.265506\n",
       "C(tenure)[T.5.0]        -0.264684\n",
       "C(tenure)[T.6.0]        -0.264581\n",
       "C(tenure)[T.7.0]        -0.264694\n",
       "C(tenure)[T.8.0]        -0.264646\n",
       "C(tenure)[T.9.0]        -0.264740\n",
       "C(tenure)[T.1.0]:dypw    0.042506\n",
       "C(tenure)[T.2.0]:dypw    0.038396\n",
       "C(tenure)[T.3.0]:dypw    0.048169\n",
       "C(tenure)[T.4.0]:dypw    0.048103\n",
       "C(tenure)[T.5.0]:dypw    0.049450\n",
       "C(tenure)[T.6.0]:dypw    0.050814\n",
       "C(tenure)[T.7.0]:dypw    0.049641\n",
       "C(tenure)[T.8.0]:dypw    0.049506\n",
       "C(tenure)[T.9.0]:dypw    0.051323\n",
       "Name: regressions_mean, dtype: float64"
      ]
     },
     "execution_count": 5,
     "metadata": {},
     "output_type": "execute_result"
    }
   ],
   "source": [
    "moms_unt_mean['wage_pass_ten']#['C(tenure)[T.15.0]:dypw']"
   ]
  },
  {
   "cell_type": "code",
   "execution_count": 15,
   "metadata": {},
   "outputs": [
    {
     "data": {
      "text/plain": [
       "coef\n",
       "Intercept           0.043607\n",
       "C(tenure)[T.1.0]   -0.035763\n",
       "C(tenure)[T.2.0]   -0.042548\n",
       "C(tenure)[T.3.0]   -0.043351\n",
       "C(tenure)[T.4.0]   -0.043553\n",
       "C(tenure)[T.5.0]   -0.043570\n",
       "C(tenure)[T.6.0]   -0.043607\n",
       "C(tenure)[T.7.0]   -0.043607\n",
       "C(tenure)[T.8.0]   -0.043607\n",
       "C(tenure)[T.9.0]   -0.043607\n",
       "Name: regressions_mean, dtype: float64"
      ]
     },
     "execution_count": 15,
     "metadata": {},
     "output_type": "execute_result"
    }
   ],
   "source": [
    "moms_unt_mean['sep_ten']"
   ]
  },
  {
   "cell_type": "code",
   "execution_count": null,
   "metadata": {},
   "outputs": [],
   "source": [
    "import sqlite3\n",
    "import pandas as pd\n",
    "\n",
    "db_path = \"runs/quickscan/eval_log.sqlite\"\n",
    "\n",
    "# Read-only connection (works even while the optimizer is writing)\n",
    "con = sqlite3.connect(f\"file:{db_path}?mode=ro\", uri=True, timeout=5)\n",
    "\n",
    "# Peek at the schema\n",
    "print(pd.read_sql_query(\"PRAGMA table_info(eval_log);\", con))\n",
    "\n",
    "# How many evaluations so far?\n",
    "n = pd.read_sql_query(\"SELECT COUNT(*) AS n FROM eval_log;\", con).iloc[0,0]\n",
    "print(\"rows logged:\", n)\n",
    "\n",
    "tail = pd.read_sql_query(\"\"\"\n",
    "  SELECT id, ts, obj\n",
    "  FROM eval_log\n",
    "  ORDER BY id DESC\n",
    "  LIMIT 10;\n",
    "\"\"\", con)\n",
    "tail\n",
    "\n",
    "best = pd.read_sql_query(\"\"\"\n",
    "  SELECT *\n",
    "  FROM eval_log\n",
    "  ORDER BY obj ASC\n",
    "  LIMIT 1;\n",
    "\"\"\", con)\n",
    "best"
   ]
  },
  {
   "cell_type": "code",
   "execution_count": 6,
   "metadata": {},
   "outputs": [
    {
     "data": {
      "text/plain": [
       "np.float64(39.634454607396236)"
      ]
     },
     "execution_count": 6,
     "metadata": {},
     "output_type": "execute_result"
    }
   ],
   "source": [
    "model.Vf_W.min()\n"
   ]
  },
  {
   "cell_type": "code",
   "execution_count": 13,
   "metadata": {},
   "outputs": [
    {
     "data": {
      "text/plain": [
       "np.float64(-8.893649214830631)"
      ]
     },
     "execution_count": 13,
     "metadata": {},
     "output_type": "execute_result"
    }
   ],
   "source": [
    "model.Vf_U"
   ]
  },
  {
   "cell_type": "code",
   "execution_count": 5,
   "metadata": {},
   "outputs": [
    {
     "data": {
      "image/png": "[encoded data removed]",
      "text/plain": [
       "<Figure size 640x480 with 1 Axes>"
      ]
     },
     "metadata": {},
     "output_type": "display_data"
    }
   ],
   "source": [
    "prod = p.z_0-1\n",
    "plt.plot(model.Vf_W[prod, :, 0], model.Vf_J [prod, :, 0], label='1 senior value function')\n",
    "plt.plot(model.Vf_W[prod, :, 0], model.Jp[prod, :, 0], label='1 senior value function')  \n",
    "plt.show()"
   ]
  },
  {
   "cell_type": "code",
   "execution_count": 9,
   "metadata": {},
   "outputs": [
    {
     "data": {
      "text/plain": [
       "np.float64(0.029180667059879706)"
      ]
     },
     "execution_count": 9,
     "metadata": {},
     "output_type": "execute_result"
    },
    {
     "data": {
      "image/png": "[encoded data removed]",
      "text/plain": [
       "<Figure size 640x480 with 1 Axes>"
      ]
     },
     "metadata": {},
     "output_type": "display_data"
    }
   ],
   "source": [
    "#plt.plot(model.Vf_W[p.z_0-2, :, 0], model.rho_star [p.z_0-2, :, 0], label='1 senior value function')\n",
    "q=0\n",
    "prod=p.z_0-0 #soomehow layoffs are higher in high productivity states???\n",
    "plt.plot(model.Vf_W[prod, :, q], model.sep_star[prod, :, q], label='1 senior value function')  \n",
    "model.sep_star.mean()"
   ]
  },
  {
   "cell_type": "code",
   "execution_count": 2,
   "metadata": {},
   "outputs": [
    {
     "name": "stdout",
     "output_type": "stream",
     "text": [
      "No results found for p = (3, 200, 6, 5, 11, 0.5, 0.5, 5.0, 0.85, 1.0, 1.0)\n"
     ]
    }
   ],
   "source": [
    "# Load the temp objects\n",
    "try:\n",
    "    with open('my_objects.pkl', 'rb') as file:\n",
    "        objects = pickle.load(file)\n",
    "except FileNotFoundError:\n",
    "    # If the file doesn't exist, start with an empty dictionary\n",
    "    objects = {}\n",
    "\n",
    "# Load the permanent results, for sep, across different parametrizations\n",
    "with open(\"results_Rho_sep.pkl\", \"rb\") as file:\n",
    "    all_results = pickle.load(file)\n",
    "results = get_results_for_p(p,all_results)"
   ]
  }
 ],
 "metadata": {
  "kernelspec": {
   "display_name": "Python 3",
   "language": "python",
   "name": "python3"
  },
  "language_info": {
   "codemirror_mode": {
    "name": "ipython",
    "version": 3
   },
   "file_extension": ".py",
   "mimetype": "text/x-python",
   "name": "python",
   "nbconvert_exporter": "python",
   "pygments_lexer": "ipython3",
   "version": "3.11.9"
  }
 },
 "nbformat": 4,
 "nbformat_minor": 2
}

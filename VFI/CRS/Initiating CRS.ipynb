{
 "cells": [
  {
   "cell_type": "markdown",
   "metadata": {},
   "source": [
    "## Basics"
   ]
  },
  {
   "cell_type": "code",
   "execution_count": 1,
   "metadata": {},
   "outputs": [],
   "source": [
    "def get_results_for_p(p,all_results):\n",
    "    # Create the key as a tuple\n",
    "    #key = (p.num_z,p.num_v,p.num_n,p.n_bar,p.num_q,p.q_0,p.prod_q,p.hire_c,p.k_entry,p.k_f,p.prod_alpha,p.dt)\n",
    "    key = (p.num_z,p.num_v,p.num_n,p.n_bar,p.num_q,p.q_0,p.prod_q,p.hire_c,p.prod_alpha,p.dt,p.u_bf_m)\n",
    "    # Check if the key exists in the saved results\n",
    "    if key in all_results:\n",
    "        print(key)\n",
    "        return all_results[key]\n",
    "    else:\n",
    "        print(f\"No results found for p = {key}\")\n",
    "        return None\n",
    "\n",
    "from primitives import Parameters\n",
    "p = Parameters()\n",
    "import pickle\n",
    "import matplotlib.pyplot as plt\n",
    "import numpy as np\n",
    "from plots import Plots\n",
    "import cProfile\n",
    "import pstats\n",
    "plts=Plots(p)"
   ]
  },
  {
   "cell_type": "code",
   "execution_count": null,
   "metadata": {},
   "outputs": [],
   "source": [
    "import numpy as np\n",
    "ax = np.newaxis\n",
    "from Multiworker_Contract_GE_JITted import MultiworkerContract\n",
    "mwc_J=MultiworkerContract(p)\n",
    "#model=mwc_J.J_sep(Jg=np.zeros(mwc_J.J_grid.shape)+cc_J[...,ax],Wg=np.zeros(mwc_J.J_grid.shape)+cc_W[...,ax],Ug=cc_U,update_eq=0,s=1)\n",
    "model=mwc_J.J_sep(update_eq=1,s=0)"
   ]
  },
  {
   "cell_type": "code",
   "execution_count": 2,
   "metadata": {},
   "outputs": [
    {
     "name": "stdout",
     "output_type": "stream",
     "text": [
      "No results found for p = (5, 200, 6, 5, 6, 0.5, 0.5, 5.0, 0.85, 0.25, 1.0)\n",
      "(5, 200, 6, 5, 6, 0.5, 0.5, 5.0, 0.85, 0.25, 1.0)\n",
      "(5, 200, 6, 5, 6, 0.5, 0.5, 5.0, 0.85, 0.25, 1.0)\n"
     ]
    }
   ],
   "source": [
    "# Load the temp objects\n",
    "try:\n",
    "    with open('my_objects.pkl', 'rb') as file:\n",
    "        objects = pickle.load(file)\n",
    "except FileNotFoundError:\n",
    "    # If the file doesn't exist, start with an empty dictionary\n",
    "    objects = {}\n",
    "\n",
    "# Load the permanent results, for sep, across different parametrizations\n",
    "with open(\"results_Rho_sep.pkl\", \"rb\") as file:\n",
    "    all_results = pickle.load(file)\n",
    "results = get_results_for_p(p,all_results)\n",
    "\n",
    "with open(\"results_GE.pkl\", \"rb\") as file:\n",
    "    all_results = pickle.load(file)\n",
    "results_GE = get_results_for_p(p,all_results)\n",
    "\n",
    "with open(\"model_GE.pkl\", \"rb\") as file:\n",
    "    all_results = pickle.load(file)\n",
    "model = get_results_for_p(p,all_results)"
   ]
  },
  {
   "cell_type": "code",
   "execution_count": 3,
   "metadata": {},
   "outputs": [
    {
     "name": "stdout",
     "output_type": "stream",
     "text": [
      "Loading model from: c:\\Users\\zaloilo\\Documents\\GitHub\\Dynamic-Contracting-Multi-worker-Firm\\VFI\\CRS\\model_GE.pkl\n",
      "(5, 200, 6, 5, 6, 0.5, 0.5, 5.0, 0.85, 0.25, 1.0)\n"
     ]
    },
    {
     "name": "stderr",
     "output_type": "stream",
     "text": [
      "c:\\Users\\zaloilo\\AppData\\Local\\Programs\\Python\\Python311\\Lib\\site-packages\\pandas\\core\\arraylike.py:399: RuntimeWarning: divide by zero encountered in log\n",
      "  result = getattr(ufunc, method)(*inputs, **kwargs)\n",
      "c:\\Users\\zaloilo\\AppData\\Local\\Programs\\Python\\Python311\\Lib\\site-packages\\pyfixest\\estimation\\feols_.py:965: RuntimeWarning: invalid value encountered in divide\n",
      "  self._tstat = _beta_hat / self._se\n",
      "c:\\Users\\zaloilo\\AppData\\Local\\Programs\\Python\\Python311\\Lib\\site-packages\\pyfixest\\estimation\\feols_.py:2058: RuntimeWarning: invalid value encountered in scalar divide\n",
      "  self._r2 = 1 - (ssu / ssy)\n",
      "c:\\Users\\zaloilo\\AppData\\Local\\Programs\\Python\\Python311\\Lib\\site-packages\\pyfixest\\estimation\\feols_.py:2059: RuntimeWarning: invalid value encountered in scalar divide\n",
      "  self._adj_r2 = 1 - (ssu / ssy) * _adj_factor\n",
      "c:\\Users\\zaloilo\\AppData\\Local\\Programs\\Python\\Python311\\Lib\\site-packages\\pyfixest\\estimation\\feols_.py:2703: UserWarning: \n",
      "            2 variables dropped due to multicollinearity.\n",
      "            The following variables are dropped: ['e', 'e:dypw'].\n",
      "            \n",
      "  warnings.warn(\n",
      "c:\\Users\\zaloilo\\AppData\\Local\\Programs\\Python\\Python311\\Lib\\site-packages\\pyfixest\\estimation\\feols_.py:965: RuntimeWarning: invalid value encountered in divide\n",
      "  self._tstat = _beta_hat / self._se\n",
      "c:\\Users\\zaloilo\\AppData\\Local\\Programs\\Python\\Python311\\Lib\\site-packages\\pyfixest\\estimation\\feols_.py:2058: RuntimeWarning: invalid value encountered in scalar divide\n",
      "  self._r2 = 1 - (ssu / ssy)\n",
      "c:\\Users\\zaloilo\\AppData\\Local\\Programs\\Python\\Python311\\Lib\\site-packages\\pyfixest\\estimation\\feols_.py:2059: RuntimeWarning: invalid value encountered in scalar divide\n",
      "  self._adj_r2 = 1 - (ssu / ssy) * _adj_factor\n",
      "c:\\Users\\zaloilo\\AppData\\Local\\Programs\\Python\\Python311\\Lib\\site-packages\\pandas\\core\\arraylike.py:399: RuntimeWarning: divide by zero encountered in log\n",
      "  result = getattr(ufunc, method)(*inputs, **kwargs)\n",
      "c:\\Users\\zaloilo\\AppData\\Local\\Programs\\Python\\Python311\\Lib\\site-packages\\pyfixest\\estimation\\feols_.py:965: RuntimeWarning: invalid value encountered in divide\n",
      "  self._tstat = _beta_hat / self._se\n",
      "c:\\Users\\zaloilo\\AppData\\Local\\Programs\\Python\\Python311\\Lib\\site-packages\\pyfixest\\estimation\\feols_.py:2058: RuntimeWarning: invalid value encountered in scalar divide\n",
      "  self._r2 = 1 - (ssu / ssy)\n",
      "c:\\Users\\zaloilo\\AppData\\Local\\Programs\\Python\\Python311\\Lib\\site-packages\\pyfixest\\estimation\\feols_.py:2059: RuntimeWarning: invalid value encountered in scalar divide\n",
      "  self._adj_r2 = 1 - (ssu / ssy) * _adj_factor\n",
      "c:\\Users\\zaloilo\\AppData\\Local\\Programs\\Python\\Python311\\Lib\\site-packages\\pyfixest\\estimation\\feols_.py:2703: UserWarning: \n",
      "            2 variables dropped due to multicollinearity.\n",
      "            The following variables are dropped: ['e', 'e:dypw'].\n",
      "            \n",
      "  warnings.warn(\n",
      "c:\\Users\\zaloilo\\AppData\\Local\\Programs\\Python\\Python311\\Lib\\site-packages\\pyfixest\\estimation\\feols_.py:965: RuntimeWarning: invalid value encountered in divide\n",
      "  self._tstat = _beta_hat / self._se\n",
      "c:\\Users\\zaloilo\\AppData\\Local\\Programs\\Python\\Python311\\Lib\\site-packages\\pyfixest\\estimation\\feols_.py:2058: RuntimeWarning: invalid value encountered in scalar divide\n",
      "  self._r2 = 1 - (ssu / ssy)\n",
      "c:\\Users\\zaloilo\\AppData\\Local\\Programs\\Python\\Python311\\Lib\\site-packages\\pyfixest\\estimation\\feols_.py:2059: RuntimeWarning: invalid value encountered in scalar divide\n",
      "  self._adj_r2 = 1 - (ssu / ssy) * _adj_factor\n",
      "c:\\Users\\zaloilo\\AppData\\Local\\Programs\\Python\\Python311\\Lib\\site-packages\\pandas\\core\\arraylike.py:399: RuntimeWarning: divide by zero encountered in log\n",
      "  result = getattr(ufunc, method)(*inputs, **kwargs)\n",
      "c:\\Users\\zaloilo\\AppData\\Local\\Programs\\Python\\Python311\\Lib\\site-packages\\pyfixest\\estimation\\feols_.py:965: RuntimeWarning: invalid value encountered in divide\n",
      "  self._tstat = _beta_hat / self._se\n",
      "c:\\Users\\zaloilo\\AppData\\Local\\Programs\\Python\\Python311\\Lib\\site-packages\\pyfixest\\estimation\\feols_.py:2058: RuntimeWarning: invalid value encountered in scalar divide\n",
      "  self._r2 = 1 - (ssu / ssy)\n",
      "c:\\Users\\zaloilo\\AppData\\Local\\Programs\\Python\\Python311\\Lib\\site-packages\\pyfixest\\estimation\\feols_.py:2059: RuntimeWarning: invalid value encountered in scalar divide\n",
      "  self._adj_r2 = 1 - (ssu / ssy) * _adj_factor\n",
      "c:\\Users\\zaloilo\\AppData\\Local\\Programs\\Python\\Python311\\Lib\\site-packages\\pyfixest\\estimation\\feols_.py:2703: UserWarning: \n",
      "            2 variables dropped due to multicollinearity.\n",
      "            The following variables are dropped: ['e', 'e:dypw'].\n",
      "            \n",
      "  warnings.warn(\n",
      "c:\\Users\\zaloilo\\AppData\\Local\\Programs\\Python\\Python311\\Lib\\site-packages\\pyfixest\\estimation\\feols_.py:965: RuntimeWarning: invalid value encountered in divide\n",
      "  self._tstat = _beta_hat / self._se\n",
      "c:\\Users\\zaloilo\\AppData\\Local\\Programs\\Python\\Python311\\Lib\\site-packages\\pyfixest\\estimation\\feols_.py:2058: RuntimeWarning: invalid value encountered in scalar divide\n",
      "  self._r2 = 1 - (ssu / ssy)\n",
      "c:\\Users\\zaloilo\\AppData\\Local\\Programs\\Python\\Python311\\Lib\\site-packages\\pyfixest\\estimation\\feols_.py:2059: RuntimeWarning: invalid value encountered in scalar divide\n",
      "  self._adj_r2 = 1 - (ssu / ssy) * _adj_factor\n",
      "c:\\Users\\zaloilo\\AppData\\Local\\Programs\\Python\\Python311\\Lib\\site-packages\\pandas\\core\\arraylike.py:399: RuntimeWarning: divide by zero encountered in log\n",
      "  result = getattr(ufunc, method)(*inputs, **kwargs)\n",
      "c:\\Users\\zaloilo\\AppData\\Local\\Programs\\Python\\Python311\\Lib\\site-packages\\pyfixest\\estimation\\feols_.py:965: RuntimeWarning: invalid value encountered in divide\n",
      "  self._tstat = _beta_hat / self._se\n",
      "c:\\Users\\zaloilo\\AppData\\Local\\Programs\\Python\\Python311\\Lib\\site-packages\\pyfixest\\estimation\\feols_.py:2058: RuntimeWarning: invalid value encountered in scalar divide\n",
      "  self._r2 = 1 - (ssu / ssy)\n",
      "c:\\Users\\zaloilo\\AppData\\Local\\Programs\\Python\\Python311\\Lib\\site-packages\\pyfixest\\estimation\\feols_.py:2059: RuntimeWarning: invalid value encountered in scalar divide\n",
      "  self._adj_r2 = 1 - (ssu / ssy) * _adj_factor\n",
      "c:\\Users\\zaloilo\\AppData\\Local\\Programs\\Python\\Python311\\Lib\\site-packages\\pyfixest\\estimation\\feols_.py:2703: UserWarning: \n",
      "            2 variables dropped due to multicollinearity.\n",
      "            The following variables are dropped: ['e', 'e:dypw'].\n",
      "            \n",
      "  warnings.warn(\n",
      "c:\\Users\\zaloilo\\AppData\\Local\\Programs\\Python\\Python311\\Lib\\site-packages\\pyfixest\\estimation\\feols_.py:965: RuntimeWarning: invalid value encountered in divide\n",
      "  self._tstat = _beta_hat / self._se\n",
      "c:\\Users\\zaloilo\\AppData\\Local\\Programs\\Python\\Python311\\Lib\\site-packages\\pyfixest\\estimation\\feols_.py:2058: RuntimeWarning: invalid value encountered in scalar divide\n",
      "  self._r2 = 1 - (ssu / ssy)\n",
      "c:\\Users\\zaloilo\\AppData\\Local\\Programs\\Python\\Python311\\Lib\\site-packages\\pyfixest\\estimation\\feols_.py:2059: RuntimeWarning: invalid value encountered in scalar divide\n",
      "  self._adj_r2 = 1 - (ssu / ssy) * _adj_factor\n"
     ]
    },
    {
     "data": {
      "text/plain": [
       "total_output               4.033780e+00\n",
       "total_wage_gross           3.533812e+00\n",
       "total_wage_net             3.533812e+00\n",
       "total_uben                 9.951477e-03\n",
       "pr_u2e                     3.972707e-01\n",
       "pr_j2j                     4.619644e-05\n",
       "pr_e2u                     4.853826e-03\n",
       "cov_dydsep                -1.121382e-02\n",
       "var_dy                     2.850719e-02\n",
       "cov_dydy_l4                7.379630e-03\n",
       "cov_dydw                   2.948461e-07\n",
       "var_w_longac              -2.047860e-05\n",
       "var_w                      4.143412e-05\n",
       "cov_dwdw_l4                2.754276e-10\n",
       "cov_dwdw_l8                4.173716e-09\n",
       "var_dw                     3.377836e-05\n",
       "mean_dw                    3.945612e-04\n",
       "w_u2e_ee_gap               9.468674e-02\n",
       "mean_dw_j2j_2             -1.227523e-03\n",
       "pr_new_hire                5.469569e-03\n",
       "avg_w_growth_7             1.040225e-01\n",
       "sd_dypw                    1.490474e-01\n",
       "autocov_ypw                4.287020e-02\n",
       "layoffs_share_tercile_0    5.214425e-03\n",
       "layoffs_share_tercile_1    4.483417e-03\n",
       "layoffs_share_tercile_2    4.242587e-03\n",
       "Name: value_model, dtype: float64"
      ]
     },
     "execution_count": 3,
     "metadata": {},
     "output_type": "execute_result"
    }
   ],
   "source": [
    "from simulate import Simulator\n",
    "sim = Simulator(model,p)\n",
    "moms_mean,_,moms_unt_mean,_ = sim.simulate_moments_rep(3)\n",
    "moms_mean"
   ]
  },
  {
   "cell_type": "code",
   "execution_count": 8,
   "metadata": {},
   "outputs": [
    {
     "data": {
      "text/plain": [
       "regression           coef        \n",
       "wage_pass_ten        Intercept       0.000395\n",
       "                     C(s)[5]:dypw    0.009141\n",
       "                     C(s)[6]:dypw   -0.001512\n",
       "                     C(s)[7]:dypw   -0.000093\n",
       "                     C(s)[8]:dypw   -0.000145\n",
       "                                       ...   \n",
       "sep_ten              Intercept       0.009402\n",
       "sep_pass_ten         Intercept       0.000000\n",
       "                     C(e)[1]:dypw    0.000000\n",
       "sep_pass_ten_simple  Intercept       0.000000\n",
       "                     dypw            0.000000\n",
       "Name: regressions_mean, Length: 103, dtype: float64"
      ]
     },
     "execution_count": 8,
     "metadata": {},
     "output_type": "execute_result"
    }
   ],
   "source": [
    "moms_unt_mean"
   ]
  },
  {
   "cell_type": "markdown",
   "metadata": {},
   "source": [
    "u= 2.0 = min wage (s=10)\n",
    "pr_u2e              0.415207\n",
    "pr_j2j              0.134193\n",
    "pr_e2u              0.011334\n",
    "cov_dydw            0.000170 <- EXTREMELY LOW??? Is that truly the impact of u here?\n",
    "min_wage = 1.2 * u (s=5) <- refused to work with higher s (assertion error)>\n",
    "pr_u2e              0.406773\n",
    "pr_j2j              0.149216\n",
    "pr_e2u              0.004953\n",
    "cov_dydw           -0.000050 <- makes nooooo sense, esp since layoffs went down\n",
    "\n",
    "u= 2.4 = min wage (s=0) <- refused to work with higher s (assertion error)>\n",
    "pr_u2e              0.466228\n",
    "pr_j2j              0.019130\n",
    "pr_e2u              0.004880\n",
    "cov_dydw            0.000988\n",
    "\n",
    "min_wage = 1.2 * u (s=0)\n",
    "pr_u2e              3.212060e-01 <buuuut so is also the job finding rate>\n",
    "pr_j2j              9.069822e-06\n",
    "pr_e2u              2.224588e-03 <- again, layooffs lower???>\n",
    "cov_dydw            1.167461e-06 <- aaaaan so is wage passthrough>"
   ]
  },
  {
   "cell_type": "markdown",
   "metadata": {},
   "source": [
    "WRONG RESULTS HERE. LITERALLY FAKE\n",
    "u= 2.0 = min wage e2u is 0.012042 <- Still toooo small>\n",
    "cov_dydw            0.001222\n",
    "pr_u2e              0.558683\n",
    "Noow same but noo HMQ\n",
    "e2u is zero lol\n",
    "u = 2.0, min_wage = 1.2 u; e2u is 0.010747 <- LOWER\n",
    "cov_dydw            0.001096 ALSO LOWER. DAMN.\n",
    "pr_u2e              0.557146\n",
    "u = 2.3 = min wage\n"
   ]
  },
  {
   "cell_type": "code",
   "execution_count": null,
   "metadata": {},
   "outputs": [],
   "source": [
    "import numpy as np\n",
    "ax = np.newaxis\n",
    "from Multiworker_Contract_J import MultiworkerContract\n",
    "mwc_J=MultiworkerContract(p)\n",
    "#model=mwc_J.J_sep(Jg=np.zeros(mwc_J.J_grid.shape)+cc_J[...,ax],Wg=np.zeros(mwc_J.J_grid.shape)+cc_W[...,ax],Ug=cc_U,update_eq=0,s=1)\n",
    "model=mwc_J.J_sep(update_eq=1,s=0,layoff_iter=1)"
   ]
  },
  {
   "cell_type": "code",
   "execution_count": null,
   "metadata": {},
   "outputs": [],
   "source": [
    "u= 1.0 , 3.510171e-03, or even 8e-04.... fuck me bros"
   ]
  },
  {
   "cell_type": "code",
   "execution_count": 6,
   "metadata": {},
   "outputs": [
    {
     "data": {
      "text/plain": [
       "np.float64(39.634454607396236)"
      ]
     },
     "execution_count": 6,
     "metadata": {},
     "output_type": "execute_result"
    }
   ],
   "source": [
    "model.Vf_W.min()\n"
   ]
  },
  {
   "cell_type": "code",
   "execution_count": 8,
   "metadata": {},
   "outputs": [
    {
     "data": {
      "image/png": "[encoded data removed]",
      "text/plain": [
       "<Figure size 640x480 with 1 Axes>"
      ]
     },
     "metadata": {},
     "output_type": "display_data"
    }
   ],
   "source": [
    "prod = p.z_0-2\n",
    "plt.plot(model.Vf_W[prod, :, 0], model.Vf_J [prod, :, 0], label='1 senior value function')\n",
    "plt.plot(model.Vf_W[prod, :, 0], model.Jp[prod, :, 0], label='1 senior value function')  \n",
    "plt.show()"
   ]
  },
  {
   "cell_type": "code",
   "execution_count": 11,
   "metadata": {},
   "outputs": [
    {
     "data": {
      "text/plain": [
       "np.float64(0.05182906323891566)"
      ]
     },
     "execution_count": 11,
     "metadata": {},
     "output_type": "execute_result"
    },
    {
     "data": {
      "image/png": "[encoded data removed]",
      "text/plain": [
       "<Figure size 640x480 with 1 Axes>"
      ]
     },
     "metadata": {},
     "output_type": "display_data"
    }
   ],
   "source": [
    "#plt.plot(model.Vf_W[p.z_0-2, :, 0], model.rho_star [p.z_0-2, :, 0], label='1 senior value function')\n",
    "q=0\n",
    "prod=p.z_0-0 #soomehow layoffs are higher in high productivity states???\n",
    "plt.plot(model.Vf_W[prod, :, q], model.sep_star[prod, :, q], label='1 senior value function')  \n",
    "model.sep_star.mean()"
   ]
  },
  {
   "cell_type": "code",
   "execution_count": 2,
   "metadata": {},
   "outputs": [
    {
     "name": "stdout",
     "output_type": "stream",
     "text": [
      "No results found for p = (3, 200, 6, 5, 11, 0.5, 0.5, 5.0, 0.85, 1.0, 1.0)\n"
     ]
    }
   ],
   "source": [
    "# Load the temp objects\n",
    "try:\n",
    "    with open('my_objects.pkl', 'rb') as file:\n",
    "        objects = pickle.load(file)\n",
    "except FileNotFoundError:\n",
    "    # If the file doesn't exist, start with an empty dictionary\n",
    "    objects = {}\n",
    "\n",
    "# Load the permanent results, for sep, across different parametrizations\n",
    "with open(\"results_Rho_sep.pkl\", \"rb\") as file:\n",
    "    all_results = pickle.load(file)\n",
    "results = get_results_for_p(p,all_results)"
   ]
  }
 ],
 "metadata": {
  "kernelspec": {
   "display_name": "Python 3",
   "language": "python",
   "name": "python3"
  },
  "language_info": {
   "codemirror_mode": {
    "name": "ipython",
    "version": 3
   },
   "file_extension": ".py",
   "mimetype": "text/x-python",
   "name": "python",
   "nbconvert_exporter": "python",
   "pygments_lexer": "ipython3",
   "version": "3.11.9"
  }
 },
 "nbformat": 4,
 "nbformat_minor": 2
}

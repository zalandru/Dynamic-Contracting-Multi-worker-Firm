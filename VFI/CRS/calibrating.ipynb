{
 "cells": [
  {
   "cell_type": "markdown",
   "id": "29c0c079",
   "metadata": {},
   "source": [
    "## Quick sample"
   ]
  },
  {
   "cell_type": "code",
   "execution_count": null,
   "id": "bfd6ebf4",
   "metadata": {},
   "outputs": [],
   "source": [
    "from params_factory import make_params_for_grid\n",
    "from smm_tools_parallel import grid_moments_parallel  # the parallel-safe function I sent\n",
    "\n",
    "bounds = {\n",
    "    'q_0':        (0.5, 0.85),\n",
    "    'prod_q':     (0.2,  0.6),\n",
    "    'u_bf_m':     (0.40, 2.50),\n",
    "    's_job':      (0.2, 0.8),\n",
    "    'alpha':      (0.10, 1.0),   # if really a share/prob in (0,1)\n",
    "    'z_corr':     (0.80, 0.99),   # AR(1) corr\n",
    "    'prod_var_z': (0.10, 0.70),\n",
    "}\n",
    "\n",
    "# On Windows/macOS, put the following inside a script guarded by __main__:\n",
    "# if __name__ == \"__main__\":\n",
    "df_grid = grid_moments_parallel(\n",
    "    p_template=None,         # ignored because we pass a factory\n",
    "    bounds=bounds,\n",
    "    n_points=5,\n",
    "    n_rep=5,\n",
    "    random_state = 1000,\n",
    "    sample=10,             # downsample the 5^7 grid\n",
    "    n_jobs=4,                # adjust to your core count\n",
    "    p_factory=make_params_for_grid\n",
    ")\n",
    "print(df_grid.head())"
   ]
  },
  {
   "cell_type": "markdown",
   "id": "238c35d9",
   "metadata": {},
   "source": [
    "# Full on calibration"
   ]
  },
  {
   "cell_type": "code",
   "execution_count": null,
   "id": "da7f624b",
   "metadata": {},
   "outputs": [],
   "source": [
    "from smm_tools_parallel import (\n",
    "    fit_smm_global_percent, report_fit,\n",
    "    SMMPercentConfig, PARAM_NAMES,\n",
    "    save_de_result, save_fit_table, export_log_to_csv\n",
    ")\n",
    "from params_factory import make_params_coarse, make_params_fine\n",
    "\n",
    "# bounds for your 7 parameters (edit as needed)\n",
    "bounds = {\n",
    "    'q_0':        (0.50, 0.85),\n",
    "    'prod_q':     (0.20, 0.60),\n",
    "    'u_bf_m':     (0.40, 2.50),\n",
    "    's_job':      (0.20, 0.80),\n",
    "    'alpha':      (0.10, 1.00),   # if really a share/prob in (0,1)\n",
    "    'z_corr':     (0.80, 0.99),   # AR(1) corr\n",
    "    'prod_var_z': (0.10, 0.70),\n",
    "}\n",
    "\n",
    "# your target data moments (names must match your simulator's moment names)\n",
    "moms_data = {\n",
    "    'pr_j2j_an': 0.063,                       # for s_job. but wait: this is YEARLY, not QUARTERLY\n",
    "    'pr_new_hire': 0.128,                  # for alpha\n",
    "    'layoffs_share_tercile_0': 0.039,      # for q_0/prod_q #what about this one? in the data it's yearly layoff rate of firms\n",
    "    # 'layoffs_share_tercile_1': ...\n",
    "    'layoffs_share_tercile_2': 0.030,      # for q_0/prod_q\n",
    "    'avg_w_growth_10': 0.33,                # for b\n",
    "    'sd_dypw': 0.39,                       # for sigma_y\n",
    "    'autocov_ypw_alt': 0.79,               # for lambda_y\n",
    "}\n",
    "\n",
    "# pick any subset to match (defaults to moms_data.keys())\n",
    "target_keys = list(moms_data.keys())\n",
    "\n",
    "# --- where to log every evaluation ---\n",
    "log_db = \"runs/quickscan/eval_log.sqlite\"\n",
    "\n",
    "# --- quick coarse config ---\n",
    "cfg = SMMPercentConfig(n_rep=3, average=False)\n",
    "quick_overrides = {'tol_simple_model': 1e-4, 'tol_full_model': 1e-4, 'sim_ni': 3000, 'sim_nrep': 3}\n",
    "\n",
    "res = fit_smm_global_percent(\n",
    "    p_template=None,\n",
    "    p_factory=make_params_coarse,\n",
    "    p_overrides=quick_overrides,\n",
    "    data_moments=moms_data,\n",
    "    bounds=bounds,\n",
    "    target_keys=list(moms_data.keys()),\n",
    "    cfg=cfg,\n",
    "    seed=123,\n",
    "    maxiter=35,\n",
    "    popsize=6,\n",
    "    n_jobs=4,\n",
    "    log_db_path=log_db,     # <-- enable per-evaluation logging\n",
    "    polish=True,\n",
    ")\n",
    "\n",
    "# save the optimizer result\n",
    "save_de_result(res, \"runs/quickscan/de_result\")\n",
    "\n",
    "# verify/present a fit table (e.g., at higher fidelity)\n",
    "df_fit = report_fit(\n",
    "    res.x, moms_data, bounds, list(moms_data.keys()),\n",
    "    cfg=SMMPercentConfig(n_rep=8, average=False),\n",
    "    p_factory=make_params_fine,\n",
    "    p_overrides={'tol_simple_model': 1e-6, 'tol_full_model': 1e-6, 'sim_ni': 15000, 'sim_nrep': 8}\n",
    ")\n",
    "save_fit_table(df_fit, \"runs/quickscan/fit_table.csv\")\n",
    "\n",
    "# export the full evaluation log (all tried θ and their moments/objective)\n",
    "df_log = export_log_to_csv(log_db, \"runs/quickscan/eval_log.csv\")\n",
    "print(\"Logged rows:\", len(df_log))\n"
   ]
  },
  {
   "cell_type": "markdown",
   "id": "7d0a42ca",
   "metadata": {},
   "source": [
    "## Traceback of an error"
   ]
  },
  {
   "cell_type": "code",
   "execution_count": null,
   "id": "4573119f",
   "metadata": {},
   "outputs": [
    {
     "name": "stderr",
     "output_type": "stream",
     "text": [
      "c:\\Users\\zaloilo\\Documents\\GitHub\\Dynamic-Contracting-Multi-worker-Firm\\VFI\\CRS\\smm_tools.py:53: UserWarning: Simulation failed for {'q_0': np.float64(0.675), 'prod_q': np.float64(0.4), 'u_bf_m': np.float64(1.45), 's_job': np.float64(0.5), 'alpha': np.float64(0.55), 'z_corr': np.float64(0.895), 'prod_var_z': np.float64(0.39999999999999997)}: CPUDispatcher(<function Values_int at 0x000001F06BE2F2E0>) returned a result with an exception set\n",
      "  warnings.warn(f\"Simulation failed for {theta_dict}: {e}\")\n"
     ]
    }
   ],
   "source": [
    "import traceback\n",
    "from smm_tools import simulate_moments_for_params\n",
    "\n",
    "theta = {\n",
    "    'q_0': 0.675,\n",
    "    'prod_q': 0.4,                 # from your warning\n",
    "    'u_bf_m': 1.45,\n",
    "    's_job': 0.5,\n",
    "    'alpha': 0.55,\n",
    "    'z_corr': 0.895,\n",
    "    'prod_var_z': 0.4,\n",
    "}\n",
    "\n",
    "try:\n",
    "    simulate_moments_for_params(p, theta, n_rep=2, raise_on_fail=True)\n",
    "except Exception:\n",
    "    print(\"TRACEBACK ↓↓↓\")\n",
    "    print(traceback.format_exc())"
   ]
  }
 ],
 "metadata": {
  "kernelspec": {
   "display_name": "Python 3",
   "language": "python",
   "name": "python3"
  },
  "language_info": {
   "codemirror_mode": {
    "name": "ipython",
    "version": 3
   },
   "file_extension": ".py",
   "mimetype": "text/x-python",
   "name": "python",
   "nbconvert_exporter": "python",
   "pygments_lexer": "ipython3",
   "version": "3.11.9"
  }
 },
 "nbformat": 4,
 "nbformat_minor": 5
}

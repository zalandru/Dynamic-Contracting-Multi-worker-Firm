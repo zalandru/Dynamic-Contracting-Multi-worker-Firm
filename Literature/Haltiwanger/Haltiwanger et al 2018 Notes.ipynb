{
 "cells": [
  {
   "cell_type": "markdown",
   "id": "8b0a613d",
   "metadata": {},
   "source": [
    "# Haltiwanger et al 2018 - Who Moves Up the Job Ladder Notes"
   ]
  },
  {
   "cell_type": "markdown",
   "id": "f1d06b45",
   "metadata": {},
   "source": [
    "#Results:\n",
    "Young workers move up the job ladder way more. But also less educated workers. Educated workers, although more likely to be in high productive firms, are more often stuck at the same firm: unlikely to both be fired or find a different job."
   ]
  },
  {
   "cell_type": "markdown",
   "id": "fc15207b",
   "metadata": {},
   "source": [
    "# Relation to my paper:\n",
    "Could I explain the education part somehow? Potentially, yes if these guys have some info on their match quality. Or, even in a more basic sense, that their prior for match quality is higher, so they dont expect to get fired, so they don't search for jobs elsewhere\n",
    "Essentially, I have the following chain: more education -> less firing risk (via HMQ) -> less likely to find a diff-nt job (via OJS)\n",
    "But no need for DRS here + modified Balke-Lamadon (lower effort cost for educated workers) may accomplish it, too"
   ]
  }
 ],
 "metadata": {
  "language_info": {
   "name": "python"
  }
 },
 "nbformat": 4,
 "nbformat_minor": 5
}

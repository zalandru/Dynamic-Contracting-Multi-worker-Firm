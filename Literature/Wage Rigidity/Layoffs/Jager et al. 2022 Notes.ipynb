{
 "cells": [
  {
   "cell_type": "markdown",
   "id": "a877c239",
   "metadata": {},
   "source": [
    "# Jager et al. 2022"
   ]
  },
  {
   "cell_type": "markdown",
   "id": "2088841b",
   "metadata": {},
   "source": [
    "# Summary\n",
    "\n",
    "The paper tests bilaterally efficient separations using a quasi-experiment in Austria where UI benefits were raised for 5 years in random regions and then suddenly repeal."
   ]
  },
  {
   "cell_type": "markdown",
   "id": "202c9863",
   "metadata": {},
   "source": [
    "# Finding\n",
    "The treatment group had 15pp more layoffs during the treatment, but exactly the same layoff rate as the control group afterwards, which is contrary to bilateral efficiency, which would suggest that the worst matches have separated and thus the remaining matches must be more resilitient."
   ]
  },
  {
   "cell_type": "markdown",
   "id": "b647738b",
   "metadata": {},
   "source": [
    "# Relation to my paper\n",
    "Potentially goes against my paper. Definitely does not actively support anything in my paper besides rejecting bilateral efficiency.\n",
    "\n",
    "In my paper, UI benefits should boost layoffs. But, after the layoffs, the remaining matches should indeed be of higher quality, and thus less likely to be fired.\n",
    "\n",
    "What might save me here is the 5 year period: once the bad matches survive 5 whole years, they become significantly less likely to be fired, and it's the incoming juniors who are under risk instead.\n",
    "\n",
    "Now, if the survey looked not only at the layoffs of the two groups, but also at the wages, my model would predict that the treatment group would see higher wage growth, including after the repeal."
   ]
  }
 ],
 "metadata": {
  "language_info": {
   "name": "python"
  }
 },
 "nbformat": 4,
 "nbformat_minor": 5
}

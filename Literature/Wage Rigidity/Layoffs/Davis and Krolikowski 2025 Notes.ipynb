{
 "cells": [
  {
   "cell_type": "markdown",
   "id": "b6302188",
   "metadata": {},
   "source": [
    "# Davis and Krolikowski 2025"
   ]
  },
  {
   "cell_type": "markdown",
   "id": "5d457e0a",
   "metadata": {},
   "source": [
    "Abstract:\n",
    "We design and field an innovative survey of unemployment insurance\n",
    "(UI) recipients that yields new insights about wage stickiness on the\n",
    "layoff margin. A majority of UI recipients would accept pay cuts of\n",
    "5–10 percent to save their jobs, and one-third would accept a 25 per-\n",
    "cent cut. Yet worker-employer discussions about cuts in pay, benefits,\n",
    "or hours in lieu of layoffs are exceedingly rare. Roughly one-quar-\n",
    "ter of the layoffs in our sample violate the theoretical condition for\n",
    "bilaterally efficient separations. We draw on our findings and other\n",
    "evidence to assess theories of wage stickiness and its role in layoffs."
   ]
  },
  {
   "cell_type": "markdown",
   "id": "6a9afd81",
   "metadata": {},
   "source": [
    "## Key findings:"
   ]
  },
  {
   "cell_type": "markdown",
   "id": "06824e73",
   "metadata": {},
   "source": [
    "1. Only 3% of fired workers were offered wage negotiations"
   ]
  },
  {
   "cell_type": "markdown",
   "id": "d1233b67",
   "metadata": {},
   "source": [
    "2. Why workers think they weren't offered wage cuts: 36.3% - wouldn't have saved the job, 8.4% - would lead the best workers to quit"
   ]
  },
  {
   "cell_type": "markdown",
   "id": "6cc89611",
   "metadata": {},
   "source": [
    "3. About 25% of layoffs were bilaterally inefficient"
   ]
  }
 ],
 "metadata": {
  "language_info": {
   "name": "python"
  }
 },
 "nbformat": 4,
 "nbformat_minor": 5
}

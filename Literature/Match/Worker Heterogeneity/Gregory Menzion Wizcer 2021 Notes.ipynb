{
 "cells": [
  {
   "cell_type": "markdown",
   "id": "a877c239",
   "metadata": {},
   "source": [
    "# Gregory Menzion Wizcer 2021"
   ]
  },
  {
   "cell_type": "markdown",
   "id": "2088841b",
   "metadata": {},
   "source": [
    "# Summary\n",
    "\n",
    "Three different worker types identified based on the transition patterns: α,β,γ\n",
    "γ-type workers stay less on the same job, receive higher losses upon displacement, and stay unemployed longer.\n",
    "They build a Menzio-Shi type model with persistent heterogeneity in match quality distribution across worker types to match this observed heterogeneity.\n",
    "The key cool suggestion is that a lot of the micro and macro facts are driven solely by this small proportion of γ-type workers"
   ]
  },
  {
   "cell_type": "markdown",
   "id": "b647738b",
   "metadata": {},
   "source": [
    "# Relation to my paper\n",
    "- My paper can potentially go against this paper as I build an alternative theory as to why these workers stay in their jobs less often (just being unlucky).\n",
    "- However, even Balke-Lamadon can speak to this to an extent, in that chances of being fired go down there as well.\n",
    "- In that sense, is my large-ass model even needed here?"
   ]
  }
 ],
 "metadata": {
  "language_info": {
   "name": "python"
  }
 },
 "nbformat": 4,
 "nbformat_minor": 5
}

{
 "cells": [
  {
   "cell_type": "code",
   "execution_count": 1,
   "id": "4dd39fe7",
   "metadata": {},
   "outputs": [],
   "source": [
    "import torch\n",
    "import torch.nn as nn\n",
    "import torch.optim as optim\n",
    "from tqdm import tqdm\n",
    "import numpy as np\n",
    "from scipy.stats import lognorm as lnorm\n",
    "from primitives import Parameters\n",
    "p = Parameters()\n",
    "import opt_einsum as oe\n",
    "from primitives import Preferences\n",
    "from probabilities import createPoissonTransitionMatrix,createBlockPoissonTransitionMatrix\n",
    "from search import JobSearchArray\n",
    "import matplotlib.pyplot as plt\n",
    "# Set random seeds for reproducibility\n",
    "torch.manual_seed(0)\n",
    "np.random.seed(0)\n",
    "def impose_decreasing(M):\n",
    "    nv = M.shape[1]\n",
    "    for v in reversed(range(nv-1)):\n",
    "        M[:,v,:] = np.maximum(M[:,v,:],M[:,v+1,:])\n",
    "    return M\n",
    "def impose_increasing(A0):\n",
    "    A = np.copy(A0)\n",
    "    nv = len(A)\n",
    "    for v in range(1,nv):\n",
    "        A[v] = np.maximum(A[v],A[v-1])\n",
    "    return A\n",
    "ax = np.newaxis\n",
    "class StateBoundsProcessor:\n",
    "    def __init__(self, lower_bounds, upper_bounds):\n",
    "        \"\"\"\n",
    "        Initialize with lower and upper bounds for each state dimension\n",
    "        \n",
    "        Args:\n",
    "            lower_bounds: List or tensor of lower bounds [x_1, x_2, ..., x_20]\n",
    "            upper_bounds: List or tensor of upper bounds [y_1, y_2, ..., y_20]\n",
    "        \"\"\"\n",
    "        self.lower_bounds = torch.tensor(lower_bounds, dtype=torch.float32)\n",
    "        self.upper_bounds = torch.tensor(upper_bounds, dtype=torch.float32)\n",
    "        self.range = self.upper_bounds - self.lower_bounds\n",
    "        \n",
    "    def normalize(self, states):\n",
    "        \"\"\"Scale states from [lower_bound, upper_bound] to [-1, 1]\"\"\"\n",
    "        return 2 * (states - self.lower_bounds) / self.range - 1\n",
    "        #Example: lower-upper is [0,1]. So normalize(0.5) = 2 * (0.5 - 0) /1 -1 = 0. Ok correct\n",
    "        #Another example. lower-upper is [0,30]. Sn normalize 15= 2 * 15 / 30 -1 = 0 Ok good.\n",
    "        # And normalize (20) = 40/30 - 1 = 1/3 yup\n",
    "        # Now denormalize(1/3) = 0.5 ( 1/3 +1 ) * 30 + 0 = 2/3*30 = 20\n",
    "        \n",
    "    def denormalize(self, normalized_states):\n",
    "        \"\"\"Convert normalized states back to original range\"\"\"\n",
    "        return 0.5 * (normalized_states + 1) * self.range + self.lower_bounds\n",
    "class ValueFunctionNN(nn.Module):\n",
    "    \"\"\"Neural network to approximate the value function\"\"\"\n",
    "    def __init__(self, state_dim, hidden_dims=[40, 30, 20, 10]):\n",
    "        super(ValueFunctionNN, self).__init__()\n",
    "        \n",
    "        # Build layers\n",
    "        layers = []\n",
    "        input_dim = state_dim\n",
    "        \n",
    "        for hidden_dim in hidden_dims:\n",
    "            layers.append(nn.Linear(input_dim, hidden_dim))\n",
    "            layers.append(nn.Softplus())  # SiLU activation function\n",
    "            # Consider adding layer normalization for stability\n",
    "            #layers.append(nn.LayerNorm(hidden_dim))\n",
    "            input_dim = hidden_dim\n",
    "        \n",
    "        # Output layer\n",
    "        layers.append(nn.Linear(input_dim, 1)) #was input_dim instead of 16\n",
    "        \n",
    "        self.model = nn.Sequential(*layers)\n",
    "    \n",
    "    def forward(self, x):\n",
    "        return self.model(x)\n"
   ]
  },
  {
   "cell_type": "code",
   "execution_count": 4,
   "id": "205077dd",
   "metadata": {},
   "outputs": [
    {
     "data": {
      "text/plain": [
       "0.05"
      ]
     },
     "execution_count": 4,
     "metadata": {},
     "output_type": "execute_result"
    }
   ],
   "source": [
    "from ContinuousContract import ContinuousContract\n",
    "cc=ContinuousContract(p)  \n",
    "cc.w_grid[0]"
   ]
  },
  {
   "cell_type": "code",
   "execution_count": 6,
   "id": "2953918f",
   "metadata": {},
   "outputs": [],
   "source": [
    "cc_J,cc_W,_,cc_rho_star = cc.J(0)"
   ]
  },
  {
   "cell_type": "code",
   "execution_count": 7,
   "id": "48d4afbc",
   "metadata": {},
   "outputs": [
    {
     "data": {
      "text/plain": [
       "array([-5.55541753e+02, -5.52232994e+02, -5.48924235e+02, -5.45615476e+02,\n",
       "       -5.42306717e+02, -5.38997958e+02, -5.35689199e+02, -5.32380440e+02,\n",
       "       -5.29071681e+02, -5.25762922e+02, -5.22454163e+02, -5.19145404e+02,\n",
       "       -5.15836646e+02, -5.12527887e+02, -5.09219128e+02, -5.05910369e+02,\n",
       "       -5.02601610e+02, -4.99292851e+02, -4.95984092e+02, -4.92675333e+02,\n",
       "       -4.89366574e+02, -4.86057815e+02, -4.82749056e+02, -4.79440297e+02,\n",
       "       -4.76131538e+02, -4.72822779e+02, -4.69514020e+02, -4.66205261e+02,\n",
       "       -4.62896502e+02, -4.59587743e+02, -4.56278985e+02, -4.52970226e+02,\n",
       "       -4.49661467e+02, -4.46352708e+02, -4.43043949e+02, -4.39735190e+02,\n",
       "       -4.36426431e+02, -4.33117672e+02, -4.29808913e+02, -4.26500154e+02,\n",
       "       -4.23191395e+02, -4.19882636e+02, -4.16573877e+02, -4.13265118e+02,\n",
       "       -4.09956359e+02, -4.06647600e+02, -4.03338841e+02, -4.00030083e+02,\n",
       "       -3.96721324e+02, -3.93412565e+02, -3.90103806e+02, -3.86795047e+02,\n",
       "       -3.83486288e+02, -3.80177529e+02, -3.76868770e+02, -3.73560011e+02,\n",
       "       -3.70251252e+02, -3.66942493e+02, -3.63633734e+02, -3.60324975e+02,\n",
       "       -3.57016216e+02, -3.53707457e+02, -3.50398698e+02, -3.47089939e+02,\n",
       "       -3.43781181e+02, -3.40472422e+02, -3.37163663e+02, -3.33854904e+02,\n",
       "       -3.30546145e+02, -3.27237386e+02, -3.23928627e+02, -3.20619868e+02,\n",
       "       -3.17311109e+02, -3.14002350e+02, -3.10693591e+02, -3.07384832e+02,\n",
       "       -3.04076073e+02, -3.00767314e+02, -2.97458555e+02, -2.94149796e+02,\n",
       "       -2.90841037e+02, -2.87532279e+02, -2.84223520e+02, -2.80914761e+02,\n",
       "       -2.77606002e+02, -2.74297243e+02, -2.70988484e+02, -2.67679725e+02,\n",
       "       -2.64370966e+02, -2.61062207e+02, -2.57753448e+02, -2.54444689e+02,\n",
       "       -2.51135930e+02, -2.47827171e+02, -2.44518412e+02, -2.41209653e+02,\n",
       "       -2.37900894e+02, -2.34592135e+02, -2.31283377e+02, -2.27974618e+02,\n",
       "       -2.24665859e+02, -2.21357100e+02, -2.18048341e+02, -2.14739582e+02,\n",
       "       -2.11430823e+02, -2.08122064e+02, -2.04813305e+02, -2.01504546e+02,\n",
       "       -1.98195787e+02, -1.94887028e+02, -1.91578269e+02, -1.88269510e+02,\n",
       "       -1.84960751e+02, -1.81651992e+02, -1.78343233e+02, -1.75034475e+02,\n",
       "       -1.71725716e+02, -1.68416957e+02, -1.65108198e+02, -1.61799439e+02,\n",
       "       -1.58490680e+02, -1.55181921e+02, -1.51873162e+02, -1.48564403e+02,\n",
       "       -1.45255644e+02, -1.41946885e+02, -1.38638126e+02, -1.35329367e+02,\n",
       "       -1.32020608e+02, -1.28711849e+02, -1.25403090e+02, -1.22094331e+02,\n",
       "       -1.18785573e+02, -1.15476814e+02, -1.12168055e+02, -1.08859296e+02,\n",
       "       -1.05550537e+02, -1.02241778e+02, -9.89330189e+01, -9.56242599e+01,\n",
       "       -9.23155010e+01, -8.90067420e+01, -8.56979831e+01, -8.23892242e+01,\n",
       "       -7.90804652e+01, -7.57717063e+01, -7.24629473e+01, -6.91541884e+01,\n",
       "       -6.58454294e+01, -6.25366705e+01, -5.92279116e+01, -5.59191526e+01,\n",
       "       -5.26103937e+01, -4.93016347e+01, -4.59928758e+01, -4.26841169e+01,\n",
       "       -3.93753579e+01, -3.60665990e+01, -3.27578400e+01, -2.94490811e+01,\n",
       "       -2.61403221e+01, -2.28315632e+01, -1.95228043e+01, -1.62140453e+01,\n",
       "       -1.29052864e+01, -9.59652744e+00, -6.28776850e+00, -2.97900956e+00,\n",
       "        3.29749386e-01,  3.63850833e+00,  6.94726727e+00,  1.02560262e+01,\n",
       "        1.35647852e+01,  1.68735441e+01,  2.01823030e+01,  2.34910620e+01,\n",
       "        2.67998209e+01,  3.01085799e+01,  3.34173388e+01,  3.67260977e+01,\n",
       "        4.00348567e+01,  4.33436156e+01,  4.66523746e+01,  4.99611335e+01,\n",
       "        5.32698925e+01,  5.65786514e+01,  5.98874103e+01,  6.31961693e+01,\n",
       "        6.65049282e+01,  6.98136872e+01,  7.31224461e+01,  7.64312050e+01,\n",
       "        7.97399640e+01,  8.30487229e+01,  8.63574819e+01,  8.96662408e+01,\n",
       "        9.29749998e+01,  9.62837587e+01,  9.95925176e+01,  1.02901277e+02])"
      ]
     },
     "execution_count": 7,
     "metadata": {},
     "output_type": "execute_result"
    }
   ],
   "source": [
    "cc.v_grid"
   ]
  },
  {
   "cell_type": "code",
   "execution_count": 8,
   "id": "acdc7ee0",
   "metadata": {},
   "outputs": [
    {
     "data": {
      "text/plain": [
       "(-8385.574702144228, 90.54769141022722, 3.199021364545065, 102.90127657534775)"
      ]
     },
     "execution_count": 8,
     "metadata": {},
     "output_type": "execute_result"
    }
   ],
   "source": [
    "cc_J.min(),cc_J.max(),cc_W.min(),cc_W.max()"
   ]
  },
  {
   "cell_type": "code",
   "execution_count": null,
   "id": "fd61e08d",
   "metadata": {},
   "outputs": [
    {
     "data": {
      "text/plain": [
       "array([2.03766514, 4.        , 7.85212434])"
      ]
     },
     "execution_count": 5,
     "metadata": {},
     "output_type": "execute_result"
    }
   ],
   "source": [
    "cc.fun_prod"
   ]
  },
  {
   "cell_type": "code",
   "execution_count": 3,
   "id": "5254f37d",
   "metadata": {},
   "outputs": [
    {
     "ename": "NameError",
     "evalue": "name 'cc' is not defined",
     "output_type": "error",
     "traceback": [
      "\u001b[1;31m---------------------------------------------------------------------------\u001b[0m",
      "\u001b[1;31mNameError\u001b[0m                                 Traceback (most recent call last)",
      "Cell \u001b[1;32mIn[3], line 3\u001b[0m\n\u001b[0;32m      1\u001b[0m plt\u001b[38;5;241m.\u001b[39mfigure(figsize\u001b[38;5;241m=\u001b[39m(\u001b[38;5;241m16\u001b[39m, \u001b[38;5;241m6\u001b[39m))\n\u001b[0;32m      2\u001b[0m plt\u001b[38;5;241m.\u001b[39msubplot(\u001b[38;5;241m1\u001b[39m,\u001b[38;5;241m2\u001b[39m,\u001b[38;5;241m1\u001b[39m)\n\u001b[1;32m----> 3\u001b[0m plt\u001b[38;5;241m.\u001b[39mplot(\u001b[43mcc\u001b[49m\u001b[38;5;241m.\u001b[39mrho_grid, cc_Jp[p\u001b[38;5;241m.\u001b[39mz_0\u001b[38;5;241m-\u001b[39m\u001b[38;5;241m1\u001b[39m,:]\u001b[38;5;241m+\u001b[39m cc\u001b[38;5;241m.\u001b[39mrho_grid[:] \u001b[38;5;241m*\u001b[39m cc_W[p\u001b[38;5;241m.\u001b[39mz_0\u001b[38;5;241m-\u001b[39m\u001b[38;5;241m1\u001b[39m,:], label \u001b[38;5;241m=\u001b[39m \u001b[38;5;124m\"\u001b[39m\u001b[38;5;124mVFI\u001b[39m\u001b[38;5;124m\"\u001b[39m)\n\u001b[0;32m      4\u001b[0m \u001b[38;5;66;03m#Plot the policy functions\u001b[39;00m\n\u001b[0;32m      5\u001b[0m plt\u001b[38;5;241m.\u001b[39msubplot(\u001b[38;5;241m1\u001b[39m,\u001b[38;5;241m2\u001b[39m,\u001b[38;5;241m2\u001b[39m)\n",
      "\u001b[1;31mNameError\u001b[0m: name 'cc' is not defined"
     ]
    },
    {
     "data": {
      "image/png": "[encoded data removed]",
      "text/plain": [
       "<Figure size 1600x600 with 1 Axes>"
      ]
     },
     "metadata": {},
     "output_type": "display_data"
    }
   ],
   "source": [
    "    plt.figure(figsize=(16, 6))\n",
    "    plt.subplot(1,2,1)\n",
    "    plt.plot(cc.rho_grid, cc_Jp[p.z_0-1,:]+ cc.rho_grid[:] * cc_W[p.z_0-1,:], label = \"VFI\")\n",
    "    #Plot the policy functions\n",
    "    plt.subplot(1,2,2)\n",
    "    plt.plot(cc.rho_grid, cc_W[p.z_0-1,:], label = \"VFI\")\n",
    "    plt.show()"
   ]
  },
  {
   "cell_type": "code",
   "execution_count": null,
   "id": "967d0856",
   "metadata": {},
   "outputs": [],
   "source": []
  },
  {
   "cell_type": "code",
   "execution_count": 3,
   "id": "f0738998",
   "metadata": {},
   "outputs": [],
   "source": [
    "class FOCOptimizer:\n",
    "    \"\"\"\n",
    "    Class to solve first-order conditions given a state and value function\n",
    "    This is a placeholder - you'll need to implement actual FOC logic\n",
    "    \"\"\"\n",
    "    def __init__(self, state_dim, action_dim, value_function_model, bounds_processor, parameters=None, js=None):\n",
    "        self.state_dim = state_dim\n",
    "        self.action_dim = action_dim\n",
    "        self.bounds_processor = bounds_processor  # Store bounds_processor\n",
    "\n",
    "        self.p = parameters\n",
    "        self.deriv_eps = 1e-4 # step size for derivative\n",
    "        # Model preferences initialized by the same parameter object.\n",
    "        self.pref = Preferences(input_param=self.p)\n",
    "\n",
    "        # Worker and Match Productivity Heterogeneity in the Model\n",
    "        self.Z_grid = self.construct_z_grid()   # Create match productivity grid\n",
    "\n",
    "        # Production Function in the Model\n",
    "        self.fun_prod = self.p.prod_a * np.power(self.Z_grid, self.p.prod_rho)\n",
    "        # Unemployment Benefits across Worker Productivities\n",
    "        self.unemp_bf = self.p.u_bf_m\n",
    "\n",
    "        # Transition matrices\n",
    "        self.Z_trans_mat = createPoissonTransitionMatrix(self.p.num_z, self.p.z_corr)\n",
    "\n",
    "        # Value Function Setup\n",
    "        self.J_grid   = -10 * np.ones((self.p.num_v)) #grid of job values, first productivity, then starting value, then tenure level\n",
    "        self.w_grid = np.linspace(self.unemp_bf, self.fun_prod.max(), self.p.num_v )\n",
    "        self.rho_grid=1/self.pref.utility_1d(self.w_grid)\n",
    "        # Normalize rho_grid to tensor for model input\n",
    "        self.rho_normalized = self.bounds_processor.normalize(torch.tensor(self.rho_grid, dtype=torch.float32)).unsqueeze(1)\n",
    "\n",
    "        \n",
    "        #Gotta fix the tightness+re functions somehow. Ultra simple J maybe?\n",
    "        self.v_grid=np.linspace(np.divide(self.pref.utility(self.unemp_bf),1-self.p.beta), np.divide(self.pref.utility(self.fun_prod.max()),1-self.p.beta), self.p.num_v ) #grid of submarkets the worker could theoretically search in. only used here for simplicity!!!\n",
    "        self.simple_J=np.divide(self.fun_prod[self.p.z_0-1,ax] -self.pref.inv_utility(self.v_grid[:]*(1-self.p.beta)),1-self.p.beta)\n",
    "        self.simple_Rho = self.simple_J + self.rho_grid * self.v_grid #We do indeed need to work with Rho here since we're taking W via its derivatives\n",
    "        #Apply the matching function: take the simple function and consider its different values across v.\n",
    "        self.prob_find_vx = self.p.alpha * np.power(1 - np.power(\n",
    "            np.divide(self.p.kappa, np.maximum(self.simple_J[ :], 1.0)), self.p.sigma), 1/self.p.sigma)\n",
    "        #Now get workers' probability to find a job while at some current value, as well as their return probabilities.\n",
    "        if js is None:\n",
    "            self.js = JobSearchArray() #Andrei: note that for us this array will have only one element\n",
    "            self.js.update(self.v_grid[:], self.prob_find_vx) #Andrei: two inputs: worker's value at the match quality of entrance (z_0-1), and the job-finding probability for the whole market\n",
    "        else:\n",
    "            self.js = js\n",
    "        #Note: I think??? js takes the values over the uniform grid only. so if I use NNs, gotta adapt it. But for now forget about updating it, keep it as is\n",
    "\n",
    "    def getWorkerDecisions(self, EW1, employed=True): #Andrei: Solves for the entire matrices of EW1 and EU\n",
    "        \"\"\"\n",
    "        :param EW1: Expected value of employment\n",
    "        :param EU:  Expected value of unemployment\n",
    "        :param employed: whether the worker is employed (in which case we multiply by efficiency)\n",
    "        :return: pe,re,qi search decision and associated return, as well as quit decision.\n",
    "        \"\"\"\n",
    "        pe, re = self.js.solve_search_choice(EW1) #Uses the job search array to solve for the search choice\n",
    "        assert (~np.isnan(pe)).all(), \"pe is not NaN\"\n",
    "        assert (pe <= 1).all(), \"pe is not less than 1\"\n",
    "        assert (pe >= -1e-10).all(), \"pe is not larger than 0\"\n",
    "        ve = self.js.ve(EW1)\n",
    "        if employed:\n",
    "            pe = pe * self.p.s_job\n",
    "            re = re * self.p.s_job\n",
    "        #print(\"Shape of pe:\", pe.shape)\n",
    "        # construct the continuation probability. #Andrei: probability the worker doesn't get fired and also doesn't leave\n",
    "        pc = (1 - pe)\n",
    "\n",
    "        return ve, re, pc #ve is vhat, the value the worker gets upon finding a job\n",
    "    def matching_function(self,J1): #Andrei: the formula of their matching function, applied to each particula job value J1\n",
    "        return self.p.alpha * np.power(1 - np.power(\n",
    "            np.divide(self.p.kappa, np.maximum(J1, self.p.kappa)), self.p.sigma),\n",
    "                                1 / self.p.sigma)\n",
    "    def construct_z_grid(self):\n",
    "        \"\"\"\n",
    "            Construct a grid for match productivity heterogeneity.\n",
    "        \"\"\"\n",
    "\n",
    "        exp_z = np.tile(np.linspace(0, 1, self.p.num_z + 2)[1:-1][:],\n",
    "                        (1))\n",
    "\n",
    "        return lnorm.ppf(q=exp_z, s=self.p.prod_var_z)    \n",
    "    def solve_foc(self, states, value_function_model):\n",
    "        \"\"\"\n",
    "        Solves first-order conditions to find optimal action and next state\n",
    "        \n",
    "        Args:\n",
    "            state: Current state tensor\n",
    "            value_function_model: Neural network model for value function\n",
    "        \n",
    "        Returns:\n",
    "            Dictionary with optimal action, next state, and immediate reward\n",
    "        \"\"\"\n",
    "        # This is a placeholder - replace with your actual FOC solver\n",
    "        # In a real implementation, you would:\n",
    "        # 1. Set up an optimization problem to find action that maximizes reward + discounted future value\n",
    "        # 2. Use value_function_model to evaluate future values\n",
    "        # 3. Return optimal action and resulting next state\n",
    "        # Compute gradient with gradients enabled\n",
    "        EW=self.EW\n",
    "        with torch.no_grad():\n",
    "            self.vf_output = value_function_model(self.rho_normalized).squeeze(1).numpy() #This EJpi from the CC FOC. I just precompute it for every point here\n",
    "        # Placeholder implementation (just random actions and states)\n",
    "        with torch.no_grad():\n",
    "            states_denorm = self.bounds_processor.denormalize(states).numpy()\n",
    "            # get worker decisions\n",
    "            _, _, pc = self.getWorkerDecisions(EW) #This EW1i is computed by taking the derivative of Rho, which is our core value function, wrt rho, which is the value-related state-variable\n",
    "            # get worker decisions at EW1i + epsilon\n",
    "            _, _, pc_d = self.getWorkerDecisions(EW + self.deriv_eps)\n",
    "            log_diff = np.zeros_like(self.rho_grid)\n",
    "            log_diff[:] = np.nan\n",
    "            log_diff[pc > 0] = np.log(pc_d[pc > 0]) - np.log(pc[pc > 0]) #This is log derivative of pc wrt the promised value\n",
    "            foc = self.rho_grid[:] - self.vf_output * log_diff / self.deriv_eps #So the FOC wrt promised value is: pay shadow cost lambda today (rho_grid), but more likely that the worker stays tomorrow\n",
    "            assert (np.isnan(foc) & (pc > 0)).sum() == 0, \"foc has NaN values where p>0\"\n",
    "\n",
    "                    #Andrei: so we look for the shadow cost that will satisfy the foc? Yes, look for u'(w'), with u'(w) given, so that the foc is satisfied\n",
    "                    # look for FOC below  rho_0\n",
    "\n",
    "            rho_star = np.interp(states_denorm,\n",
    "                                        impose_increasing(foc),\n",
    "                                        self.rho_grid)\n",
    "            rho_star_tensor = torch.tensor(rho_star, dtype=torch.float32)\n",
    "\n",
    "            action = rho_star_tensor\n",
    "            next_state = self.bounds_processor.normalize(rho_star_tensor)\n",
    "            reward = self.fun_prod[p.z_0-1] - np.interp(rho_star,self.rho_grid,self.w_grid) + states_denorm * self.pref.utility(np.interp(rho_star,self.rho_grid,self.w_grid))  # The entire Rho here. Big note though: this should be today's W, not EW\n",
    "            reward = torch.tensor(reward, dtype=torch.float32)\n",
    "\n",
    "\n",
    "\n",
    "        return {\n",
    "            \"action\": action,\n",
    "            \"next_state\": next_state,\n",
    "            \"reward\": reward\n",
    "        }\n",
    "    def get_batch_gradients(self,states, value_function_model):\n",
    "        states = states.detach().clone().requires_grad_(True)\n",
    "        values = value_function_model(states)\n",
    "    \n",
    "        # Sum values to get scalar for backward pass\n",
    "        values.sum().backward(retain_graph=True)\n",
    "    \n",
    "        gradients = states.grad.clone()\n",
    "        # Clear gradients for next computation\n",
    "        states.grad.zero_()\n",
    "        gradients = gradients / (0.5 * self.bounds_processor.range) #Normalize the gradient back to the original (not [-1,1]) state space\n",
    "\n",
    "        return gradients    \n",
    "    def get_value_function_gradient(self,state, value_function_model):\n",
    "        # Ensure state requires gradients\n",
    "        #if not state.requires_grad:\n",
    "        state = state.detach().clone().requires_grad_(True)\n",
    "    \n",
    "        # Forward pass\n",
    "        value = value_function_model(state)\n",
    "    \n",
    "        # Compute gradient of value with respect to state\n",
    "        #value.retain_grad()\n",
    "        value.sum().backward(retain_graph=True)\n",
    "\n",
    "        # Extract gradient\n",
    "        gradient = state.grad.clone()\n",
    "    \n",
    "        # Clear gradients for next computation\n",
    "        state.grad.zero_()\n",
    "        gradient = gradient / (0.5 * self.bounds_processor.range) #Normalize the gradient back to the original (not [-1,1]) state space\n",
    "        return gradient\n",
    "    #This can definitely be vectorized. So far each trajectory is done completely separately, even though the operations at each step are the same, no?\n",
    "    def simulate_trajectory(self,state, value_function_model, foc_optimizer, steps=5):\n",
    "        \"\"\"\n",
    "        Simulate a trajectory starting from a state and using the current value function\n",
    "    \n",
    "        Args:\n",
    "            state: Starting state tensor\n",
    "            value_function_model: Current value function model\n",
    "            foc_optimizer: Optimizer to solve FOCs\n",
    "            steps: Number of steps to simulate\n",
    "        \n",
    "        Returns:\n",
    "            Total discounted reward and final state value\n",
    "        \"\"\"\n",
    "        total_reward = 0\n",
    "        discount = 1.0\n",
    "    \n",
    "        current_state = state.clone()\n",
    "        with torch.enable_grad():\n",
    "            EW_tensor = self.get_batch_gradients(self.rho_normalized, value_function_model)[:,0] #This isn't even correct! I should be taking this at all the rho's!\n",
    "        self.EW = EW_tensor.detach().numpy()  # Convert to NumPy for further processing\n",
    "        for _ in range(steps):\n",
    "            \n",
    "            # Solve FOC to get optimal action and next state\n",
    "            result = foc_optimizer.solve_foc(current_state, value_function_model)\n",
    "            #Probability that the worker stays\n",
    "            EW_star = self.get_batch_gradients(result[\"next_state\"].unsqueeze(1).requires_grad_(True), value_function_model)[:,0]\n",
    "            ve_star, __, pc_star = self.getWorkerDecisions(EW_star.numpy())\n",
    "            ve_star = torch.from_numpy(ve_star)\n",
    "            pc_star = torch.from_numpy(pc_star)            \n",
    "            # Accumulate discounted reward\n",
    "            if _<range(steps)[-1]:\n",
    "                total_reward += discount * result[\"reward\"] + self.p.beta * self.bounds_processor.denormalize(current_state) * ( 1 - pc_star) * ve_star  #This should be: reward + rho*beta*ve_star*pe_star (so the value worker gets from leaving) + discount*next_reward\n",
    "            else:\n",
    "                total_reward += discount * result[\"reward\"] #for the last period we don't enymore do ve_star as that's included... right? confirm later\n",
    "            # Update state and discount factor\n",
    "            current_state = result[\"next_state\"]\n",
    "            discount *= self.p.beta * pc_star\n",
    "    \n",
    "        # Add final state value\n",
    "        with torch.no_grad():\n",
    "            final_value = value_function_model(current_state.unsqueeze(1).requires_grad_(True))\n",
    "    \n",
    "        total_value = total_reward + discount * final_value\n",
    "    \n",
    "        return total_value, current_state"
   ]
  },
  {
   "cell_type": "code",
   "execution_count": 4,
   "id": "1d534e92",
   "metadata": {},
   "outputs": [],
   "source": [
    "def train_value_function(\n",
    "    state_dim,\n",
    "    lower_bounds,\n",
    "    upper_bounds,\n",
    "    action_dim=5,\n",
    "    hidden_dims=[40, 30, 20, 10],\n",
    "    num_iterations=20, \n",
    "    starting_points_per_iter=100,\n",
    "    simulation_steps=5,\n",
    "    learning_rate=0.001,\n",
    "    parameters=None\n",
    "):\n",
    "    \"\"\"\n",
    "    Main training loop for value function approximation\n",
    "    \n",
    "    Args:\n",
    "        state_dim: Dimension of state space\n",
    "        action_dim: Dimension of action space\n",
    "        hidden_dims: List of hidden layer dimensions\n",
    "        num_iterations: Number of training iterations\n",
    "        starting_points_per_iter: Number of starting points per iteration\n",
    "        simulation_steps: Steps to simulate for each starting point\n",
    "        learning_rate: Learning rate for neural network optimizer\n",
    "        discount_factor: Discount factor for future rewards\n",
    "    \n",
    "    Returns:\n",
    "        Trained value function model\n",
    "    \"\"\"\n",
    "    bounds_processor = StateBoundsProcessor(lower_bounds,upper_bounds)\n",
    "    # Initialize value function neural network\n",
    "    value_function_model = ValueFunctionNN(state_dim, hidden_dims)\n",
    "    from ContinuousContract import ContinuousContract\n",
    "    cc=ContinuousContract(p)\n",
    "    # Initialize FOC optimizer\n",
    "    foc_optimizer = FOCOptimizer(state_dim, action_dim, value_function_model, bounds_processor, parameters, cc.js)\n",
    "    \n",
    "    # Initialize neural network optimizer\n",
    "    optimizer = optim.Adam(value_function_model.parameters(), lr=learning_rate)\n",
    "    \n",
    "    #Step 0: basic guess    \n",
    "    cc_J,cc_W,_,_ = cc.J(0)\n",
    "    target_values = torch.tensor(cc_J[p.z_0-1,:] + cc.rho_grid * cc_W[p.z_0-1,:], dtype=torch.float32)\n",
    "    states=bounds_processor.normalize(torch.tensor(foc_optimizer.rho_grid, dtype=torch.float32)).unsqueeze(1).requires_grad_(True) #This should be renormalized... right?\n",
    "    #print(np.max(np.abs(cc.rho_grid-foc_optimizer.rho_grid)))\n",
    "    #target_values=torch.tensor(foc_optimizer.simple_Rho, dtype=torch.float32)\n",
    "    for _ in (range(50)):\n",
    "        optimizer.zero_grad()\n",
    "        predicted_values = value_function_model(states)[:,0]\n",
    "        loss = nn.MSELoss()(predicted_values, target_values)\n",
    "        loss.backward() #\n",
    "        optimizer.step()\n",
    "\n",
    "    # Training loop\n",
    "    for iteration in tqdm(range(num_iterations)):\n",
    "        # Generate uniform random starting states\n",
    "        states_denormal = torch.rand(starting_points_per_iter, state_dim,dtype=torch.float32) * bounds_processor.range + torch.tensor(lower_bounds,dtype=torch.float32) #Turning lower_bounds into torch every time is wasteful\n",
    "        states = bounds_processor.normalize(states_denormal).requires_grad_(True)\n",
    "        #print(\"States shape\", states.shape)\n",
    "        # Calculate target values through simulation\n",
    "        target_values = []\n",
    "\n",
    "        # Simulate trajectory and get total discounted reward\n",
    "        target_values, _ = foc_optimizer.simulate_trajectory(\n",
    "            states[:,0], value_function_model, foc_optimizer, simulation_steps)\n",
    "        #target_values.append(total_values)\n",
    "        \n",
    "        #target_values = torch.tensor(target_values, dtype=torch.float32)\n",
    "        \n",
    "        # Update neural network based on simulated values\n",
    "        optimizer.zero_grad()\n",
    "        predicted_values = value_function_model(states)\n",
    "        loss = nn.MSELoss()(predicted_values, target_values)\n",
    "        loss.backward() #\n",
    "        optimizer.step()\n",
    "        \n",
    "        # Print progress\n",
    "        if (iteration + 1) % 5 == 0 or iteration == 0:\n",
    "            print(f\"Iteration {iteration + 1}, Loss: {loss.item():.6f}\")\n",
    "    \n",
    "    return value_function_model"
   ]
  },
  {
   "cell_type": "code",
   "execution_count": 5,
   "id": "1f041660",
   "metadata": {},
   "outputs": [],
   "source": [
    "def evaluate_value_function(model, p, lower_bounds,upper_bounds):\n",
    "    \"\"\"\n",
    "    Evaluate the trained value function on test points\n",
    "    \n",
    "    Args:\n",
    "        model: Trained value function model\n",
    "        num_test_points: Number of test points\n",
    "        state_dim: Dimension of state space\n",
    "    \"\"\"\n",
    "\n",
    "    bounds_processor = StateBoundsProcessor(lower_bounds,upper_bounds)\n",
    "    # Generate random test states\n",
    "    #test_states = torch.randn(num_test_points, state_dim)\n",
    "    from ContinuousContract import ContinuousContract\n",
    "    cc=ContinuousContract(p)    \n",
    "    cc_J,cc_W,_,_ = cc.J(0)\n",
    "    cc_Rho = cc_J[p.z_0-1,:] + cc.rho_grid * cc_W[p.z_0-1,:]\n",
    "    test_states = bounds_processor.normalize(torch.tensor(cc.rho_grid, dtype=torch.float32)).unsqueeze(1)\n",
    "    # Evaluate model\n",
    "    with torch.no_grad():\n",
    "        values = model(test_states)\n",
    "    \n",
    "    # Print results\n",
    "    #print(\"\\nValue function evaluation on test states:\")\n",
    "    #for i in range(min(5, num_test_points)):\n",
    "    #    print(f\"State {i+1}: Value = {values[i].item():.4f}\")\n",
    "    #Plot results\n",
    "    plt.plot(cc.rho_grid, cc_Rho, label = \"VFI\")\n",
    "    plt.plot(cc.rho_grid, values, label = \"NN\")    \n",
    "    plt.show()"
   ]
  },
  {
   "cell_type": "code",
   "execution_count": 11,
   "id": "2ceb00c8",
   "metadata": {},
   "outputs": [],
   "source": [
    "bounds_processor = StateBoundsProcessor(LOWER_BOUNDS,UPPER_BOUNDS)\n",
    "foc_optimizer = FOCOptimizer(STATE_DIM, ACTION_DIM, trained_model, bounds_processor, p, cc.js)"
   ]
  },
  {
   "cell_type": "code",
   "execution_count": 13,
   "id": "e5097f39",
   "metadata": {},
   "outputs": [
    {
     "data": {
      "text/plain": [
       "tensor([[-1.0000e+00],\n",
       "        [-9.9774e-01],\n",
       "        [-9.9461e-01],\n",
       "        [-9.9080e-01],\n",
       "        [-9.8643e-01],\n",
       "        [-9.8156e-01],\n",
       "        [-9.7623e-01],\n",
       "        [-9.7049e-01],\n",
       "        [-9.6435e-01],\n",
       "        [-9.5785e-01],\n",
       "        [-9.5099e-01],\n",
       "        [-9.4381e-01],\n",
       "        [-9.3632e-01],\n",
       "        [-9.2851e-01],\n",
       "        [-9.2042e-01],\n",
       "        [-9.1205e-01],\n",
       "        [-9.0340e-01],\n",
       "        [-8.9449e-01],\n",
       "        [-8.8532e-01],\n",
       "        [-8.7591e-01],\n",
       "        [-8.6625e-01],\n",
       "        [-8.5635e-01],\n",
       "        [-8.4622e-01],\n",
       "        [-8.3586e-01],\n",
       "        [-8.2529e-01],\n",
       "        [-8.1449e-01],\n",
       "        [-8.0349e-01],\n",
       "        [-7.9227e-01],\n",
       "        [-7.8085e-01],\n",
       "        [-7.6923e-01],\n",
       "        [-7.5741e-01],\n",
       "        [-7.4540e-01],\n",
       "        [-7.3319e-01],\n",
       "        [-7.2080e-01],\n",
       "        [-7.0822e-01],\n",
       "        [-6.9546e-01],\n",
       "        [-6.8251e-01],\n",
       "        [-6.6939e-01],\n",
       "        [-6.5610e-01],\n",
       "        [-6.4263e-01],\n",
       "        [-6.2899e-01],\n",
       "        [-6.1518e-01],\n",
       "        [-6.0120e-01],\n",
       "        [-5.8706e-01],\n",
       "        [-5.7276e-01],\n",
       "        [-5.5829e-01],\n",
       "        [-5.4366e-01],\n",
       "        [-5.2888e-01],\n",
       "        [-5.1394e-01],\n",
       "        [-4.9885e-01],\n",
       "        [-4.8360e-01],\n",
       "        [-4.6821e-01],\n",
       "        [-4.5266e-01],\n",
       "        [-4.3696e-01],\n",
       "        [-4.2112e-01],\n",
       "        [-4.0513e-01],\n",
       "        [-3.8900e-01],\n",
       "        [-3.7272e-01],\n",
       "        [-3.5631e-01],\n",
       "        [-3.3975e-01],\n",
       "        [-3.2305e-01],\n",
       "        [-3.0621e-01],\n",
       "        [-2.8924e-01],\n",
       "        [-2.7213e-01],\n",
       "        [-2.5489e-01],\n",
       "        [-2.3751e-01],\n",
       "        [-2.2000e-01],\n",
       "        [-2.0236e-01],\n",
       "        [-1.8458e-01],\n",
       "        [-1.6668e-01],\n",
       "        [-1.4864e-01],\n",
       "        [-1.3048e-01],\n",
       "        [-1.1219e-01],\n",
       "        [-9.3780e-02],\n",
       "        [-7.5240e-02],\n",
       "        [-5.6575e-02],\n",
       "        [-3.7786e-02],\n",
       "        [-1.8875e-02],\n",
       "        [ 1.5938e-04],\n",
       "        [ 1.9315e-02],\n",
       "        [ 3.8591e-02],\n",
       "        [ 5.7986e-02],\n",
       "        [ 7.7502e-02],\n",
       "        [ 9.7135e-02],\n",
       "        [ 1.1689e-01],\n",
       "        [ 1.3675e-01],\n",
       "        [ 1.5674e-01],\n",
       "        [ 1.7684e-01],\n",
       "        [ 1.9706e-01],\n",
       "        [ 2.1738e-01],\n",
       "        [ 2.3783e-01],\n",
       "        [ 2.5839e-01],\n",
       "        [ 2.7905e-01],\n",
       "        [ 2.9984e-01],\n",
       "        [ 3.2073e-01],\n",
       "        [ 3.4173e-01],\n",
       "        [ 3.6284e-01],\n",
       "        [ 3.8407e-01],\n",
       "        [ 4.0540e-01],\n",
       "        [ 4.2684e-01],\n",
       "        [ 4.4839e-01],\n",
       "        [ 4.7004e-01],\n",
       "        [ 4.9180e-01],\n",
       "        [ 5.1367e-01],\n",
       "        [ 5.3565e-01],\n",
       "        [ 5.5772e-01],\n",
       "        [ 5.7991e-01],\n",
       "        [ 6.0220e-01],\n",
       "        [ 6.2459e-01],\n",
       "        [ 6.4708e-01],\n",
       "        [ 6.6968e-01],\n",
       "        [ 6.9238e-01],\n",
       "        [ 7.1519e-01],\n",
       "        [ 7.3809e-01],\n",
       "        [ 7.6110e-01],\n",
       "        [ 7.8420e-01],\n",
       "        [ 8.0741e-01],\n",
       "        [ 8.3071e-01],\n",
       "        [ 8.5412e-01],\n",
       "        [ 8.7762e-01],\n",
       "        [ 9.0122e-01],\n",
       "        [ 9.2492e-01],\n",
       "        [ 9.4872e-01],\n",
       "        [ 9.7262e-01],\n",
       "        [ 9.9661e-01],\n",
       "        [ 1.0207e+00],\n",
       "        [ 1.0449e+00],\n",
       "        [ 1.0692e+00],\n",
       "        [ 1.0935e+00],\n",
       "        [ 1.1180e+00],\n",
       "        [ 1.1426e+00],\n",
       "        [ 1.1672e+00],\n",
       "        [ 1.1920e+00],\n",
       "        [ 1.2168e+00],\n",
       "        [ 1.2418e+00],\n",
       "        [ 1.2668e+00],\n",
       "        [ 1.2919e+00],\n",
       "        [ 1.3171e+00],\n",
       "        [ 1.3425e+00],\n",
       "        [ 1.3679e+00],\n",
       "        [ 1.3933e+00],\n",
       "        [ 1.4189e+00],\n",
       "        [ 1.4446e+00],\n",
       "        [ 1.4704e+00],\n",
       "        [ 1.4962e+00],\n",
       "        [ 1.5222e+00],\n",
       "        [ 1.5482e+00],\n",
       "        [ 1.5743e+00],\n",
       "        [ 1.6005e+00],\n",
       "        [ 1.6268e+00],\n",
       "        [ 1.6532e+00],\n",
       "        [ 1.6797e+00],\n",
       "        [ 1.7062e+00],\n",
       "        [ 1.7329e+00],\n",
       "        [ 1.7596e+00],\n",
       "        [ 1.7864e+00],\n",
       "        [ 1.8133e+00],\n",
       "        [ 1.8403e+00],\n",
       "        [ 1.8674e+00],\n",
       "        [ 1.8946e+00],\n",
       "        [ 1.9218e+00],\n",
       "        [ 1.9492e+00],\n",
       "        [ 1.9766e+00],\n",
       "        [ 2.0041e+00],\n",
       "        [ 2.0317e+00],\n",
       "        [ 2.0593e+00],\n",
       "        [ 2.0871e+00],\n",
       "        [ 2.1149e+00],\n",
       "        [ 2.1429e+00],\n",
       "        [ 2.1709e+00],\n",
       "        [ 2.1990e+00],\n",
       "        [ 2.2271e+00],\n",
       "        [ 2.2554e+00],\n",
       "        [ 2.2837e+00],\n",
       "        [ 2.3121e+00],\n",
       "        [ 2.3406e+00],\n",
       "        [ 2.3692e+00],\n",
       "        [ 2.3979e+00],\n",
       "        [ 2.4266e+00],\n",
       "        [ 2.4554e+00],\n",
       "        [ 2.4843e+00],\n",
       "        [ 2.5133e+00],\n",
       "        [ 2.5424e+00],\n",
       "        [ 2.5715e+00],\n",
       "        [ 2.6007e+00],\n",
       "        [ 2.6300e+00],\n",
       "        [ 2.6594e+00],\n",
       "        [ 2.6889e+00],\n",
       "        [ 2.7184e+00],\n",
       "        [ 2.7480e+00],\n",
       "        [ 2.7777e+00],\n",
       "        [ 2.8075e+00],\n",
       "        [ 2.8373e+00],\n",
       "        [ 2.8673e+00],\n",
       "        [ 2.8973e+00],\n",
       "        [ 2.9273e+00],\n",
       "        [ 2.9575e+00],\n",
       "        [ 2.9877e+00],\n",
       "        [ 3.0181e+00],\n",
       "        [ 3.0484e+00]])"
      ]
     },
     "execution_count": 13,
     "metadata": {},
     "output_type": "execute_result"
    }
   ],
   "source": [
    "foc_optimizer.rho_normalized"
   ]
  },
  {
   "cell_type": "code",
   "execution_count": 3,
   "id": "8c649c62",
   "metadata": {},
   "outputs": [
    {
     "data": {
      "text/plain": [
       "range(1, 3)"
      ]
     },
     "execution_count": 3,
     "metadata": {},
     "output_type": "execute_result"
    }
   ],
   "source": [
    "range(3)[1:]"
   ]
  },
  {
   "cell_type": "code",
   "execution_count": 6,
   "id": "0769e0cc",
   "metadata": {},
   "outputs": [
    {
     "name": "stdout",
     "output_type": "stream",
     "text": [
      "Training value function...\n"
     ]
    },
    {
     "name": "stderr",
     "output_type": "stream",
     "text": [
      "  0%|          | 0/690 [00:00<?, ?it/s]c:\\Programs\\Python 3.11\\Lib\\site-packages\\torch\\nn\\modules\\loss.py:610: UserWarning: Using a target size (torch.Size([200, 200])) that is different to the input size (torch.Size([200, 1])). This will likely lead to incorrect results due to broadcasting. Please ensure they have the same size.\n",
      "  return F.mse_loss(input, target, reduction=self.reduction)\n",
      "  1%|          | 8/690 [00:00<00:08, 76.93it/s]"
     ]
    },
    {
     "name": "stdout",
     "output_type": "stream",
     "text": [
      "Iteration 1, Loss: 1072808.125000\n",
      "Iteration 5, Loss: 1042377.750000\n",
      "Iteration 10, Loss: 1010504.500000\n",
      "Iteration 15, Loss: 998502.500000\n"
     ]
    },
    {
     "name": "stderr",
     "output_type": "stream",
     "text": [
      "  6%|▌         | 42/690 [00:00<00:06, 106.11it/s]"
     ]
    },
    {
     "name": "stdout",
     "output_type": "stream",
     "text": [
      "Iteration 20, Loss: 976151.125000\n",
      "Iteration 25, Loss: 907700.812500\n",
      "Iteration 30, Loss: 908379.062500\n",
      "Iteration 35, Loss: 927538.562500\n",
      "Iteration 40, Loss: 969004.625000\n"
     ]
    },
    {
     "name": "stderr",
     "output_type": "stream",
     "text": [
      "  8%|▊         | 53/690 [00:00<00:06, 106.15it/s]"
     ]
    },
    {
     "name": "stdout",
     "output_type": "stream",
     "text": [
      "Iteration 45, Loss: 953240.562500\n",
      "Iteration 50, Loss: 886677.312500\n",
      "Iteration 55, Loss: 778477.437500\n",
      "Iteration 60, Loss: 834091.187500\n"
     ]
    },
    {
     "name": "stderr",
     "output_type": "stream",
     "text": [
      " 11%|█         | 76/690 [00:00<00:05, 103.45it/s]"
     ]
    },
    {
     "name": "stdout",
     "output_type": "stream",
     "text": [
      "Iteration 65, Loss: 724189.000000\n",
      "Iteration 70, Loss: 778527.312500\n",
      "Iteration 75, Loss: 717930.187500\n",
      "Iteration 80, Loss: 628456.937500\n",
      "Iteration 85, Loss: 601701.625000\n"
     ]
    },
    {
     "name": "stderr",
     "output_type": "stream",
     "text": [
      " 16%|█▌        | 111/690 [00:01<00:05, 108.89it/s]"
     ]
    },
    {
     "name": "stdout",
     "output_type": "stream",
     "text": [
      "Iteration 90, Loss: 581074.625000\n",
      "Iteration 95, Loss: 483252.218750\n",
      "Iteration 100, Loss: 525326.562500\n",
      "Iteration 105, Loss: 407148.187500\n",
      "Iteration 110, Loss: 421952.343750\n"
     ]
    },
    {
     "name": "stderr",
     "output_type": "stream",
     "text": [
      " 19%|█▉        | 133/690 [00:01<00:05, 95.62it/s] "
     ]
    },
    {
     "name": "stdout",
     "output_type": "stream",
     "text": [
      "Iteration 115, Loss: 434463.125000\n",
      "Iteration 120, Loss: 336088.781250\n",
      "Iteration 125, Loss: 359288.968750\n",
      "Iteration 130, Loss: 326045.500000\n",
      "Iteration 135, Loss: 307162.406250\n"
     ]
    },
    {
     "name": "stderr",
     "output_type": "stream",
     "text": [
      " 22%|██▏       | 154/690 [00:01<00:05, 99.68it/s]"
     ]
    },
    {
     "name": "stdout",
     "output_type": "stream",
     "text": [
      "Iteration 140, Loss: 277218.156250\n",
      "Iteration 145, Loss: 250334.921875\n",
      "Iteration 150, Loss: 285057.375000\n",
      "Iteration 155, Loss: 254789.578125\n",
      "Iteration 160, Loss: 248147.125000\n"
     ]
    },
    {
     "name": "stderr",
     "output_type": "stream",
     "text": [
      " 26%|██▌       | 176/690 [00:01<00:05, 95.00it/s]"
     ]
    },
    {
     "name": "stdout",
     "output_type": "stream",
     "text": [
      "Iteration 165, Loss: 245808.890625\n",
      "Iteration 170, Loss: 248160.593750\n",
      "Iteration 175, Loss: 248967.468750\n",
      "Iteration 180, Loss: 285348.187500\n",
      "Iteration 185, Loss: 243185.203125\n"
     ]
    },
    {
     "name": "stderr",
     "output_type": "stream",
     "text": [
      " 29%|██▊       | 197/690 [00:01<00:05, 98.43it/s]"
     ]
    },
    {
     "name": "stdout",
     "output_type": "stream",
     "text": [
      "Iteration 190, Loss: 264384.375000\n",
      "Iteration 195, Loss: 250731.468750\n",
      "Iteration 200, Loss: 276909.718750\n",
      "Iteration 205, Loss: 262691.750000\n"
     ]
    },
    {
     "name": "stderr",
     "output_type": "stream",
     "text": [
      " 32%|███▏      | 218/690 [00:02<00:05, 90.25it/s]"
     ]
    },
    {
     "name": "stdout",
     "output_type": "stream",
     "text": [
      "Iteration 210, Loss: 267776.125000\n",
      "Iteration 215, Loss: 292850.031250\n",
      "Iteration 220, Loss: 272304.531250\n",
      "Iteration 225, Loss: 281415.843750\n"
     ]
    },
    {
     "name": "stderr",
     "output_type": "stream",
     "text": [
      " 36%|███▌      | 250/690 [00:02<00:04, 97.68it/s]"
     ]
    },
    {
     "name": "stdout",
     "output_type": "stream",
     "text": [
      "Iteration 230, Loss: 247926.687500\n",
      "Iteration 235, Loss: 253134.343750\n",
      "Iteration 240, Loss: 261770.296875\n",
      "Iteration 245, Loss: 271342.343750\n",
      "Iteration 250, Loss: 251285.140625\n"
     ]
    },
    {
     "name": "stderr",
     "output_type": "stream",
     "text": [
      " 39%|███▉      | 270/690 [00:02<00:04, 88.56it/s]"
     ]
    },
    {
     "name": "stdout",
     "output_type": "stream",
     "text": [
      "Iteration 255, Loss: 260978.812500\n",
      "Iteration 260, Loss: 266408.750000\n",
      "Iteration 265, Loss: 235421.078125\n",
      "Iteration 270, Loss: 270623.125000\n"
     ]
    },
    {
     "name": "stderr",
     "output_type": "stream",
     "text": [
      " 42%|████▏     | 293/690 [00:03<00:04, 97.35it/s]"
     ]
    },
    {
     "name": "stdout",
     "output_type": "stream",
     "text": [
      "Iteration 275, Loss: 266849.187500\n",
      "Iteration 280, Loss: 248010.468750\n",
      "Iteration 285, Loss: 272574.937500\n",
      "Iteration 290, Loss: 256446.484375\n",
      "Iteration 295, Loss: 260139.265625\n"
     ]
    },
    {
     "name": "stderr",
     "output_type": "stream",
     "text": [
      " 45%|████▌     | 313/690 [00:03<00:04, 93.82it/s]"
     ]
    },
    {
     "name": "stdout",
     "output_type": "stream",
     "text": [
      "Iteration 300, Loss: 256643.609375\n",
      "Iteration 305, Loss: 241915.390625\n",
      "Iteration 310, Loss: 269845.593750\n",
      "Iteration 315, Loss: 255845.328125\n",
      "Iteration 320, Loss: 273088.781250\n"
     ]
    },
    {
     "name": "stderr",
     "output_type": "stream",
     "text": [
      " 49%|████▊     | 335/690 [00:03<00:03, 100.14it/s]"
     ]
    },
    {
     "name": "stdout",
     "output_type": "stream",
     "text": [
      "Iteration 325, Loss: 273935.281250\n",
      "Iteration 330, Loss: 254117.843750\n",
      "Iteration 335, Loss: 265175.656250\n",
      "Iteration 340, Loss: 227105.593750\n",
      "Iteration 345, Loss: 249321.171875\n"
     ]
    },
    {
     "name": "stderr",
     "output_type": "stream",
     "text": [
      " 54%|█████▎    | 370/690 [00:03<00:03, 100.39it/s]"
     ]
    },
    {
     "name": "stdout",
     "output_type": "stream",
     "text": [
      "Iteration 350, Loss: 272571.343750\n",
      "Iteration 355, Loss: 292193.125000\n",
      "Iteration 360, Loss: 266058.687500\n",
      "Iteration 365, Loss: 272446.468750\n",
      "Iteration 370, Loss: 249512.421875\n"
     ]
    },
    {
     "name": "stderr",
     "output_type": "stream",
     "text": [
      " 57%|█████▋    | 393/690 [00:03<00:02, 103.38it/s]"
     ]
    },
    {
     "name": "stdout",
     "output_type": "stream",
     "text": [
      "Iteration 375, Loss: 265883.968750\n",
      "Iteration 380, Loss: 244591.828125\n",
      "Iteration 385, Loss: 280150.875000\n",
      "Iteration 390, Loss: 237677.468750\n",
      "Iteration 395, Loss: 270500.218750\n"
     ]
    },
    {
     "name": "stderr",
     "output_type": "stream",
     "text": [
      " 60%|██████    | 416/690 [00:04<00:02, 106.15it/s]"
     ]
    },
    {
     "name": "stdout",
     "output_type": "stream",
     "text": [
      "Iteration 400, Loss: 245079.703125\n",
      "Iteration 405, Loss: 283764.062500\n",
      "Iteration 410, Loss: 272286.000000\n",
      "Iteration 415, Loss: 245817.296875\n",
      "Iteration 420, Loss: 229322.906250\n"
     ]
    },
    {
     "name": "stderr",
     "output_type": "stream",
     "text": [
      " 63%|██████▎   | 438/690 [00:04<00:02, 103.07it/s]"
     ]
    },
    {
     "name": "stdout",
     "output_type": "stream",
     "text": [
      "Iteration 425, Loss: 269806.468750\n",
      "Iteration 430, Loss: 238455.187500\n",
      "Iteration 435, Loss: 281074.531250\n",
      "Iteration 440, Loss: 286969.593750\n",
      "Iteration 445, Loss: 286843.968750\n"
     ]
    },
    {
     "name": "stderr",
     "output_type": "stream",
     "text": [
      " 67%|██████▋   | 463/690 [00:04<00:02, 109.97it/s]"
     ]
    },
    {
     "name": "stdout",
     "output_type": "stream",
     "text": [
      "Iteration 450, Loss: 229300.406250\n",
      "Iteration 455, Loss: 273307.687500\n",
      "Iteration 460, Loss: 255077.906250\n",
      "Iteration 465, Loss: 279008.781250\n",
      "Iteration 470, Loss: 245204.703125\n",
      "Iteration 475, Loss: 256197.734375\n"
     ]
    },
    {
     "name": "stderr",
     "output_type": "stream",
     "text": [
      " 71%|███████   | 488/690 [00:04<00:01, 108.52it/s]"
     ]
    },
    {
     "name": "stdout",
     "output_type": "stream",
     "text": [
      "Iteration 480, Loss: 257915.187500\n",
      "Iteration 485, Loss: 252074.750000\n",
      "Iteration 490, Loss: 257332.890625\n",
      "Iteration 495, Loss: 248386.359375\n",
      "Iteration 500, Loss: 279221.343750\n"
     ]
    },
    {
     "name": "stderr",
     "output_type": "stream",
     "text": [
      " 76%|███████▌  | 524/690 [00:05<00:01, 112.70it/s]"
     ]
    },
    {
     "name": "stdout",
     "output_type": "stream",
     "text": [
      "Iteration 505, Loss: 278161.468750\n",
      "Iteration 510, Loss: 231339.921875\n",
      "Iteration 515, Loss: 273034.000000\n",
      "Iteration 520, Loss: 278587.781250\n",
      "Iteration 525, Loss: 243020.437500\n"
     ]
    },
    {
     "name": "stderr",
     "output_type": "stream",
     "text": [
      " 79%|███████▉  | 547/690 [00:05<00:01, 102.49it/s]"
     ]
    },
    {
     "name": "stdout",
     "output_type": "stream",
     "text": [
      "Iteration 530, Loss: 271022.937500\n",
      "Iteration 535, Loss: 266065.406250\n",
      "Iteration 540, Loss: 248310.421875\n",
      "Iteration 545, Loss: 261431.093750\n",
      "Iteration 550, Loss: 259869.546875\n"
     ]
    },
    {
     "name": "stderr",
     "output_type": "stream",
     "text": [
      " 83%|████████▎ | 570/690 [00:05<00:01, 102.95it/s]"
     ]
    },
    {
     "name": "stdout",
     "output_type": "stream",
     "text": [
      "Iteration 555, Loss: 269151.218750\n",
      "Iteration 560, Loss: 277035.812500\n",
      "Iteration 565, Loss: 258489.859375\n",
      "Iteration 570, Loss: 262350.375000\n",
      "Iteration 575, Loss: 269329.250000\n"
     ]
    },
    {
     "name": "stderr",
     "output_type": "stream",
     "text": [
      " 86%|████████▌ | 594/690 [00:05<00:00, 105.31it/s]"
     ]
    },
    {
     "name": "stdout",
     "output_type": "stream",
     "text": [
      "Iteration 580, Loss: 304275.343750\n",
      "Iteration 585, Loss: 258307.125000\n",
      "Iteration 590, Loss: 258928.843750\n",
      "Iteration 595, Loss: 244027.343750\n",
      "Iteration 600, Loss: 238008.109375\n"
     ]
    },
    {
     "name": "stderr",
     "output_type": "stream",
     "text": [
      " 90%|████████▉ | 618/690 [00:06<00:00, 109.72it/s]"
     ]
    },
    {
     "name": "stdout",
     "output_type": "stream",
     "text": [
      "Iteration 605, Loss: 250764.390625\n",
      "Iteration 610, Loss: 246388.843750\n",
      "Iteration 615, Loss: 266904.843750\n",
      "Iteration 620, Loss: 247580.140625\n",
      "Iteration 625, Loss: 248204.843750\n"
     ]
    },
    {
     "name": "stderr",
     "output_type": "stream",
     "text": [
      " 93%|█████████▎| 642/690 [00:06<00:00, 108.66it/s]"
     ]
    },
    {
     "name": "stdout",
     "output_type": "stream",
     "text": [
      "Iteration 630, Loss: 256453.687500\n",
      "Iteration 635, Loss: 286861.093750\n",
      "Iteration 640, Loss: 263090.062500\n",
      "Iteration 645, Loss: 276633.156250\n",
      "Iteration 650, Loss: 285180.968750\n"
     ]
    },
    {
     "name": "stderr",
     "output_type": "stream",
     "text": [
      " 96%|█████████▋| 665/690 [00:06<00:00, 106.82it/s]"
     ]
    },
    {
     "name": "stdout",
     "output_type": "stream",
     "text": [
      "Iteration 655, Loss: 276470.687500\n",
      "Iteration 660, Loss: 254664.609375\n",
      "Iteration 665, Loss: 250487.093750\n",
      "Iteration 670, Loss: 256669.187500\n",
      "Iteration 675, Loss: 255397.281250\n"
     ]
    },
    {
     "name": "stderr",
     "output_type": "stream",
     "text": [
      "100%|██████████| 690/690 [00:06<00:00, 101.78it/s]\n"
     ]
    },
    {
     "name": "stdout",
     "output_type": "stream",
     "text": [
      "Iteration 680, Loss: 265158.062500\n",
      "Iteration 685, Loss: 271582.218750\n",
      "Iteration 690, Loss: 280956.625000\n"
     ]
    },
    {
     "data": {
      "image/png": "[encoded data removed]",
      "text/plain": [
       "<Figure size 640x480 with 1 Axes>"
      ]
     },
     "metadata": {},
     "output_type": "display_data"
    },
    {
     "name": "stdout",
     "output_type": "stream",
     "text": [
      "Model saved to trained_value_function.pt\n"
     ]
    }
   ],
   "source": [
    "if __name__ == \"__main__\":\n",
    "    # Define parameters\n",
    "    STATE_DIM = 1  # Just one, continuous state, the promised value. Next step will be adding (discrete) y\n",
    "    ACTION_DIM = 1  # Adjust based on your problem\n",
    "    HIDDEN_DIMS = [64,64]  # Decreasing width architecture\n",
    "    pref = Preferences(input_param=p)\n",
    "    \n",
    "    LOWER_BOUNDS = [1/pref.utility_1d(p.u_bf_m)]\n",
    "    UPPER_BOUNDS = [1/pref.utility_1d(10)] #Ideally this should come from fun_prod.max\n",
    "    # Train value function\n",
    "    print(\"Training value function...\")\n",
    "    trained_model = train_value_function(\n",
    "        state_dim=STATE_DIM,\n",
    "        lower_bounds=LOWER_BOUNDS,\n",
    "        upper_bounds=UPPER_BOUNDS,\n",
    "        action_dim=ACTION_DIM,\n",
    "        hidden_dims=HIDDEN_DIMS,\n",
    "        num_iterations=690,\n",
    "        starting_points_per_iter=200,\n",
    "        simulation_steps=5,\n",
    "        learning_rate=0.003,\n",
    "        parameters=p\n",
    "    )\n",
    "    \n",
    "    # Evaluate trained model\n",
    "    evaluate_value_function(trained_model, p, LOWER_BOUNDS, UPPER_BOUNDS)\n",
    "    \n",
    "    # Save the model\n",
    "    torch.save(trained_model.state_dict(), \"trained_value_function.pt\")\n",
    "    print(\"Model saved to trained_value_function.pt\")"
   ]
  },
  {
   "cell_type": "code",
   "execution_count": 22,
   "id": "24a35ab4",
   "metadata": {},
   "outputs": [
    {
     "data": {
      "text/plain": [
       "tensor([3215.1104], grad_fn=<ViewBackward0>)"
      ]
     },
     "execution_count": 22,
     "metadata": {},
     "output_type": "execute_result"
    }
   ],
   "source": [
    "trained_model(torch.tensor([-40.0]))"
   ]
  }
 ],
 "metadata": {
  "kernelspec": {
   "display_name": "Python 3",
   "language": "python",
   "name": "python3"
  },
  "language_info": {
   "codemirror_mode": {
    "name": "ipython",
    "version": 3
   },
   "file_extension": ".py",
   "mimetype": "text/x-python",
   "name": "python",
   "nbconvert_exporter": "python",
   "pygments_lexer": "ipython3",
   "version": "3.11.4"
  }
 },
 "nbformat": 4,
 "nbformat_minor": 5
}

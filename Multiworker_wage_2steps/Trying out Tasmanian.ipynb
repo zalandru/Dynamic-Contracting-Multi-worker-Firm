{
 "cells": [
  {
   "cell_type": "code",
   "execution_count": 1,
   "metadata": {},
   "outputs": [],
   "source": [
    "def get_results_for_p(p,all_results):\n",
    "    # Create the key as a tuple\n",
    "    #key = (p.num_z,p.num_v,p.num_n,p.n_bar,p.num_q,p.q_0,p.prod_q,p.hire_c,p.k_entry,p.k_f,p.prod_alpha,p.dt)\n",
    "    key = (p.num_z,p.num_v,p.num_n,p.n_bar,p.num_q,p.q_0,p.prod_q,p.hire_c,p.prod_alpha,p.dt,p.u_bf_m)\n",
    "    # Check if the key exists in the saved results\n",
    "    if key in all_results:\n",
    "        print(key)\n",
    "        return all_results[key]\n",
    "    else:\n",
    "        print(f\"No results found for p = {key}\")\n",
    "        return None\n",
    "\n",
    "from primitives import Parameters\n",
    "p = Parameters()\n",
    "import pickle\n",
    "import matplotlib.pyplot as plt\n",
    "import numpy as np\n",
    "from plots import Plots\n",
    "import cProfile\n",
    "import pstats\n",
    "\n",
    "plts=Plots(p)\n",
    "cc_J,cc_W,cc_Wstar,cc_Jpi,cc_pc,mwc_J,mwc_W,mwc_Wstar,mwc_pc,mwc_n1,mwc_s_J,mwc_s_W,mwc_s_Wstar,mwc_s_sep,mwc_sd_J,mwc_sd_W,mwc_sd_Wstar,mwc_sd_sep=None,None,None,None,None,None,None,None,None,None,None,None,None,None,None,None,None,None"
   ]
  },
  {
   "cell_type": "code",
   "execution_count": 2,
   "metadata": {},
   "outputs": [
    {
     "name": "stdout",
     "output_type": "stream",
     "text": [
      "No results found for p = (3, 100, 5, 4, 6, 0.5, 1.0, 10.0, 0.85, 1.0, 1.0)\n"
     ]
    }
   ],
   "source": [
    "# Load the temp objects\n",
    "try:\n",
    "    with open('my_objects.pkl', 'rb') as file:\n",
    "        objects = pickle.load(file)\n",
    "except FileNotFoundError:\n",
    "    # If the file doesn't exist, start with an empty dictionary\n",
    "    objects = {}\n",
    "\n",
    "# Load the permanent results, for sep, across different parametrizations\n",
    "with open(\"results_Rho_sep.pkl\", \"rb\") as file:\n",
    "    all_results = pickle.load(file)\n",
    "results = get_results_for_p(p,all_results)"
   ]
  },
  {
   "cell_type": "code",
   "execution_count": 3,
   "metadata": {},
   "outputs": [
    {
     "name": "stdout",
     "output_type": "stream",
     "text": [
      "J shape (3, 5, 5, 100, 6)\n",
      "W shape (3, 5, 5, 100, 6, 2)\n",
      "Slow kappa method\n",
      "kappa 40.0\n",
      "signon [0.00000000e+00 3.14642911e-01 7.28285983e-01 1.27207891e+00\n",
      " 1.98697244e+00 2.92680214e+00 4.16234259e+00 5.78663709e+00\n",
      " 7.92200434e+00 1.07292498e+01 1.44197750e+01 1.92714979e+01\n",
      " 2.56497811e+01 3.40349457e+01 4.50584430e+01 5.95504056e+01\n",
      " 7.86021615e+01 1.03648417e+02 1.36575300e+02 1.79862393e+02\n",
      " 2.36769462e+02 3.11581938e+02 4.09933629e+02 5.39230982e+02\n",
      " 7.09210830e+02 9.32673633e+02 1.22644742e+03 1.61265505e+03\n",
      " 2.12038018e+03 2.78785741e+03 3.66535162e+03 4.81894317e+03\n",
      " 6.33550411e+03 8.32924021e+03 1.09502912e+04 1.43960374e+04\n",
      " 1.89259631e+04 2.48811979e+04 3.27102051e+04 4.30025539e+04\n",
      " 5.65333172e+04 7.43214393e+04 9.77064680e+04 1.28449430e+05\n",
      " 1.68865447e+05 2.21998078e+05 2.91848514e+05 3.83676894e+05\n",
      " 5.04398424e+05 6.63104127e+05 8.71745454e+05 1.14603430e+06\n",
      " 1.50662618e+06 1.98067574e+06 2.60388163e+06 3.42317484e+06\n",
      " 4.50025285e+06 5.91622582e+06 7.77772465e+06 1.02249309e+07\n",
      " 1.34421332e+07 1.76716054e+07 2.32318511e+07 3.05415887e+07\n",
      " 4.01512834e+07 5.27846004e+07 6.93929010e+07 9.12268856e+07\n",
      " 1.19930779e+08 1.57666148e+08 2.07274685e+08 2.72492195e+08\n",
      " 3.58229933e+08 4.70944442e+08 6.19123772e+08 8.13926678e+08\n",
      " 1.07002294e+09 1.40669807e+09 1.84930564e+09 2.43117655e+09\n",
      " 3.19612902e+09 4.20176836e+09 5.52382499e+09 7.26185736e+09\n",
      " 9.54674930e+09 1.25505663e+10 1.64995130e+10 2.16909678e+10\n",
      " 2.85158770e+10 3.74881956e+10 4.92835905e+10 6.47903229e+10\n",
      " 8.51761387e+10 1.11976207e+11 1.47208727e+11 1.93526909e+11\n",
      " 2.54418779e+11 3.34469844e+11 4.39708409e+11 5.78059543e+11]\n",
      "P [ 0.48504626  0.48315542  0.4806305   0.47724154  0.47266139  0.46641316\n",
      "  0.45777927  0.44563394  0.42811053  0.4018737   0.36031213  0.2881986\n",
      "  0.14209053  0.         -0.         -0.         -0.         -0.\n",
      " -0.         -0.         -0.         -0.         -0.         -0.\n",
      " -0.         -0.         -0.         -0.         -0.         -0.\n",
      " -0.         -0.         -0.         -0.         -0.         -0.\n",
      " -0.         -0.         -0.         -0.         -0.         -0.\n",
      " -0.         -0.         -0.         -0.         -0.         -0.\n",
      " -0.         -0.         -0.         -0.         -0.         -0.\n",
      " -0.         -0.         -0.         -0.         -0.         -0.\n",
      " -0.         -0.         -0.         -0.         -0.         -0.\n",
      " -0.         -0.         -0.         -0.         -0.         -0.\n",
      " -0.         -0.         -0.         -0.         -0.         -0.\n",
      " -0.         -0.         -0.         -0.         -0.         -0.\n",
      " -0.         -0.         -0.         -0.         -0.         -0.\n",
      " -0.         -0.         -0.         -0.         -0.         -0.\n",
      " -0.         -0.         -0.         -0.        ]\n",
      "kappa 40.0\n",
      "P [ 0.48504626  0.48315542  0.4806305   0.47724154  0.47266139  0.46641316\n",
      "  0.45777927  0.44563394  0.42811053  0.4018737   0.36031213  0.2881986\n",
      "  0.14209053  0.         -0.         -0.         -0.         -0.\n",
      " -0.         -0.         -0.         -0.         -0.         -0.\n",
      " -0.         -0.         -0.         -0.         -0.         -0.\n",
      " -0.         -0.         -0.         -0.         -0.         -0.\n",
      " -0.         -0.         -0.         -0.         -0.         -0.\n",
      " -0.         -0.         -0.         -0.         -0.         -0.\n",
      " -0.         -0.         -0.         -0.         -0.         -0.\n",
      " -0.         -0.         -0.         -0.         -0.         -0.\n",
      " -0.         -0.         -0.         -0.         -0.         -0.\n",
      " -0.         -0.         -0.         -0.         -0.         -0.\n",
      " -0.         -0.         -0.         -0.         -0.         -0.\n",
      " -0.         -0.         -0.         -0.         -0.         -0.\n",
      " -0.         -0.         -0.         -0.         -0.         -0.\n",
      " -0.         -0.         -0.         -0.         -0.         -0.\n",
      " -0.         -0.         -0.         -0.        ]\n"
     ]
    },
    {
     "name": "stderr",
     "output_type": "stream",
     "text": [
      "c:\\Users\\andre\\Codes\\Multi-worker firm\\Multiworker_wage_2steps\\primitives.py:186: RuntimeWarning: invalid value encountered in power\n",
      "  return np.power( np.power(self.p.alpha/q,self.p.sigma) - np.power(self.p.alpha,self.p.sigma), 1 / self.p.sigma )\n"
     ]
    },
    {
     "name": "stdout",
     "output_type": "stream",
     "text": [
      "q_star [0.5       0.5009901 0.5019802 0.5029703 0.5039604 0.5049505]\n",
      "Diff Rho: 0.0074947713981363155\n",
      "Time to fit the spline 0.02293229103088379\n",
      "Errors: 307379.88631441037 0.006270507205823778 1\n",
      "U [35.17862018]\n",
      "Slow kappa method\n",
      "kappa 40.0\n",
      "signon [0.00000000e+00 2.94172168e-01 6.74881600e-01 1.16758515e+00\n",
      " 1.80522837e+00 2.63044848e+00 3.69842538e+00 5.08057137e+00\n",
      " 6.86930622e+00 9.18423710e+00 1.21801562e+01 1.60573913e+01\n",
      " 2.10752011e+01 2.75691109e+01 3.59733481e+01 4.68498781e+01\n",
      " 6.09259805e+01 7.91428804e+01 1.02718685e+02 1.33229836e+02\n",
      " 1.72716517e+02 2.23819082e+02 2.89954599e+02 3.75545344e+02\n",
      " 4.86314503e+02 6.29668867e+02 8.15194095e+02 1.05529568e+03\n",
      " 1.36602847e+03 1.76817020e+03 2.28861083e+03 2.96215062e+03\n",
      " 3.83382706e+03 4.96192644e+03 6.42188127e+03 8.31131418e+03\n",
      " 1.07565657e+04 1.39211421e+04 1.80166488e+04 2.33169396e+04\n",
      " 3.01764284e+04 3.90537880e+04 5.05426196e+04 6.54111457e+04\n",
      " 8.46535784e+04 1.09556599e+05 1.41785396e+05 1.83495007e+05\n",
      " 2.37474425e+05 3.07333086e+05 3.97742220e+05 5.14747206e+05\n",
      " 6.66171801e+05 8.62141298e+05 1.11575957e+06 1.44398527e+06\n",
      " 1.86876584e+06 2.41850504e+06 3.12996220e+06 4.05071026e+06\n",
      " 5.24231677e+06 6.78446075e+06 8.78026057e+06 1.13631692e+07\n",
      " 1.47058975e+07 1.90319636e+07 2.46306379e+07 3.18762863e+07\n",
      " 4.12534029e+07 5.33890061e+07 6.90945660e+07 8.94202646e+07\n",
      " 1.15725218e+08 1.49768357e+08 1.93826039e+08 2.50844265e+08\n",
      " 3.24635667e+08 4.20134445e+08 5.43726306e+08 7.03675452e+08\n",
      " 9.10677185e+08 1.17857307e+09 1.52527646e+09 1.97397034e+09\n",
      " 2.55465748e+09 3.30616661e+09 4.27874881e+09 5.53743762e+09\n",
      " 7.16639765e+09 9.27455238e+09 1.20028676e+10 1.55337771e+10\n",
      " 2.01033820e+10 2.60172375e+10 3.36707846e+10 4.35757923e+10\n",
      " 5.63945776e+10 7.29842928e+10 9.44542404e+10 1.22240049e+11]\n",
      "P [ 0.48504626  0.48327921  0.48095902  0.47789901  0.47383956  0.46841211\n",
      "  0.46107928  0.45103026  0.43698577  0.41680548  0.38661451  0.33858774\n",
      "  0.25424078  0.08080879  0.         -0.         -0.         -0.\n",
      " -0.         -0.         -0.         -0.         -0.         -0.\n",
      " -0.         -0.         -0.         -0.         -0.         -0.\n",
      " -0.         -0.         -0.         -0.         -0.         -0.\n",
      " -0.         -0.         -0.         -0.         -0.         -0.\n",
      " -0.         -0.         -0.         -0.         -0.         -0.\n",
      " -0.         -0.         -0.         -0.         -0.         -0.\n",
      " -0.         -0.         -0.         -0.         -0.         -0.\n",
      " -0.         -0.         -0.         -0.         -0.         -0.\n",
      " -0.         -0.         -0.         -0.         -0.         -0.\n",
      " -0.         -0.         -0.         -0.         -0.         -0.\n",
      " -0.         -0.         -0.         -0.         -0.         -0.\n",
      " -0.         -0.         -0.         -0.         -0.         -0.\n",
      " -0.         -0.         -0.         -0.         -0.         -0.\n",
      " -0.         -0.         -0.         -0.        ]\n"
     ]
    },
    {
     "name": "stderr",
     "output_type": "stream",
     "text": [
      "c:\\Users\\andre\\Codes\\Multi-worker firm\\Multiworker_wage_2steps\\primitives.py:186: RuntimeWarning: invalid value encountered in power\n",
      "  return np.power( np.power(self.p.alpha/q,self.p.sigma) - np.power(self.p.alpha,self.p.sigma), 1 / self.p.sigma )\n"
     ]
    },
    {
     "name": "stdout",
     "output_type": "stream",
     "text": [
      "EJinv -50.40619517456829\n",
      "EJderiv 76.68225655425783\n",
      "EJinv diff 1j 2s: 2.331721214524012\n",
      "EJinv diff 1 sen: 3.7781182317535498\n",
      "EJinv diff 2 sen: 37.944690634847696\n"
     ]
    },
    {
     "data": {
      "image/png": "[encoded data removed]",
      "text/plain": [
       "<Figure size 640x480 with 1 Axes>"
      ]
     },
     "metadata": {},
     "output_type": "display_data"
    },
    {
     "name": "stdout",
     "output_type": "stream",
     "text": [
      "q_star [0.5       0.5009901 0.5019802 0.5029703 0.5039604 0.5049505]\n",
      "Diff Rho: 0.006471606275046156\n",
      "q_star [0.5       0.5009901 0.5019802 0.5029703 0.5039604 0.5049505]\n",
      "Diff Rho: 0.005624201896683339\n",
      "q_star [0.5       0.5009901 0.5019802 0.5029703 0.5039604 0.5049505]\n",
      "Diff Rho: 0.004819580719792009\n",
      "q_star [0.5       0.5009901 0.5019802 0.5029703 0.5039604 0.5049505]\n",
      "Diff Rho: 0.004081598658012449\n",
      "q_star [0.5       0.5009901 0.5019802 0.5029703 0.5039604 0.5049505]\n",
      "Diff Rho: 0.0034350001722999435\n",
      "q_star [0.5       0.5009901 0.5019802 0.5029703 0.5039604 0.5049505]\n",
      "Diff Rho: 0.0028896982665921746\n",
      "q_star [0.5       0.5009901 0.5019802 0.5029703 0.5039604 0.5049505]\n",
      "Diff Rho: 0.002429801264588723\n",
      "q_star [0.5       0.5009901 0.5019802 0.5029703 0.5039604 0.5049505]\n",
      "Diff Rho: 0.0020571457384385033\n",
      "q_star [0.5       0.5009901 0.5019802 0.5029703 0.5039604 0.5049505]\n",
      "Diff Rho: 0.0018093142774297207\n",
      "q_star [0.5       0.5009901 0.5019802 0.5029703 0.5039604 0.5049505]\n",
      "n0_star borders 0.0 3.0054296605782516\n",
      "Diff Rho: 0.0015433265641431346\n",
      "q_star [0.5       0.5009901 0.5019802 0.5029703 0.5039604 0.5049505]\n",
      "n0_star borders 0.0 3.0060160649537293\n",
      "Diff Rho: 0.0013899093468903098\n",
      "q_star [0.5       0.5009901 0.5019802 0.5029703 0.5039604 0.5049505]\n",
      "n0_star borders 0.0 3.0066766251859494\n",
      "Diff Rho: 0.0012020351221126093\n",
      "q_star [0.5       0.5009901 0.5019802 0.5029703 0.5039604 0.5049505]\n",
      "n0_star borders 0.0 3.0067982901231955\n",
      "Diff Rho: 0.0011568635268680105\n",
      "q_star [0.5       0.5009901 0.5019802 0.5029703 0.5039604 0.5049505]\n",
      "n0_star borders 0.0 3.0072994968778852\n",
      "Diff Rho: 0.0011592782276353695\n",
      "q_star [0.5       0.5009901 0.5019802 0.5029703 0.5039604 0.5049505]\n",
      "n0_star borders 0.0 3.0084923690888963\n",
      "Diff Rho: 0.0011362602812783314\n",
      "q_star [0.5       0.5009901 0.5019802 0.5029703 0.5039604 0.5049505]\n",
      "n0_star borders 0.0 3.009704281434758\n",
      "Diff Rho: 0.0010888703477634405\n",
      "q_star [0.5       0.5009901 0.5019802 0.5029703 0.5039604 0.5049505]\n",
      "n0_star borders 0.0 3.010537548528626\n",
      "Diff Rho: 0.0010487578277432344\n",
      "q_star [0.5       0.5009901 0.5019802 0.5029703 0.5039604 0.5049505]\n",
      "n0_star borders 0.0 3.011709543501978\n",
      "Diff Rho: 0.0010088670345766997\n",
      "q_star [0.5       0.5009901 0.5019802 0.5029703 0.5039604 0.5049505]\n",
      "n0_star borders 0.0 3.0124430243925024\n",
      "Diff Rho: 0.0009703854931485294\n",
      "sep borders 0.0 1.0\n",
      "q_star [0.51509485 0.51611484 0.51713483 0.51815482 0.51917481 0.5201948 ]\n",
      "n0_star borders 0.0 3.0130494807722483\n",
      "Diff Rho: 0.0009313010420463624\n",
      "sep borders 0.0 1.0\n",
      "q_star [0.51519895 0.51621914 0.51723934 0.51825954 0.51927973 0.52029993]\n",
      "n0_star borders 0.0 3.0137355964314585\n",
      "Diff Rho: 0.0009056492409636412\n",
      "sep borders 0.0 0.1456408389496611\n",
      "q_star [0.51284814 0.51386368 0.51487923 0.51589477 0.51691031 0.51792585]\n",
      "n0_star borders 0.0 3.014608276996027\n",
      "Diff Rho: 0.0008915760110664582\n",
      "sep borders 0.0 0.028970318947960434\n",
      "q_star [0.51007593 0.51108598 0.51209603 0.51310608 0.51411613 0.51512618]\n",
      "n0_star borders 0.0 3.0154326256083124\n",
      "Diff Rho: 0.0008726062565570084\n"
     ]
    },
    {
     "ename": "KeyboardInterrupt",
     "evalue": "",
     "output_type": "error",
     "traceback": [
      "\u001b[1;31m---------------------------------------------------------------------------\u001b[0m",
      "\u001b[1;31mKeyboardInterrupt\u001b[0m                         Traceback (most recent call last)",
      "Cell \u001b[1;32mIn[3], line 11\u001b[0m\n\u001b[0;32m      2\u001b[0m mwc_GE\u001b[38;5;241m=\u001b[39mMultiworkerContract(p)\n\u001b[0;32m      4\u001b[0m \u001b[38;5;66;03m# GE basic\u001b[39;00m\n\u001b[0;32m      5\u001b[0m \u001b[38;5;66;03m#mwc_GE_J = results['J']\u001b[39;00m\n\u001b[0;32m      6\u001b[0m \u001b[38;5;66;03m#mwc_GE_W = results['W']\u001b[39;00m\n\u001b[1;32m   (...)\u001b[0m\n\u001b[0;32m      9\u001b[0m \n\u001b[0;32m     10\u001b[0m \u001b[38;5;66;03m#(mwc_GE_J,mwc_GE_W,mwc_GE_U, mwc_GE_Rho, mwc_GE_Wstar,mwc_GE_pc,mwc_GE_n0,mwc_GE_n1)=mwc_GE.J_sep(mwc_GE_J,mwc_GE_W,mwc_GE_U,mwc_GE_Rho,1,s=10.0)\u001b[39;00m\n\u001b[1;32m---> 11\u001b[0m (mwc_GE_J,mwc_GE_W,mwc_GE_U, mwc_GE_Rho, mwc_GE_Wstar,mwc_GE_pc,mwc_GE_n0,mwc_GE_n1)\u001b[38;5;241m=\u001b[39m\u001b[43mmwc_GE\u001b[49m\u001b[38;5;241;43m.\u001b[39;49m\u001b[43mJ_sep\u001b[49m\u001b[43m(\u001b[49m\u001b[38;5;28;43;01mNone\u001b[39;49;00m\u001b[43m,\u001b[49m\u001b[38;5;28;43;01mNone\u001b[39;49;00m\u001b[43m,\u001b[49m\u001b[38;5;28;43;01mNone\u001b[39;49;00m\u001b[43m,\u001b[49m\u001b[38;5;28;43;01mNone\u001b[39;49;00m\u001b[43m,\u001b[49m\u001b[38;5;241;43m1\u001b[39;49m\u001b[43m,\u001b[49m\u001b[38;5;241;43m10.0\u001b[39;49m\u001b[43m)\u001b[49m\n",
      "File \u001b[1;32mc:\\Users\\andre\\Codes\\Multi-worker firm\\Multiworker_wage_2steps\\Multiworker_Contract_GE.py:896\u001b[0m, in \u001b[0;36mMultiworkerContract.J_sep\u001b[1;34m(self, Jg, Wg, Ug, Rhog, update_eq, s)\u001b[0m\n\u001b[0;32m    888\u001b[0m EJinv\u001b[38;5;241m=\u001b[39m(Jderiv\u001b[38;5;241m+\u001b[39m\u001b[38;5;28mself\u001b[39m\u001b[38;5;241m.\u001b[39mw_grid[ax,ax,ax,:, ax]\u001b[38;5;241m-\u001b[39m\u001b[38;5;28mself\u001b[39m\u001b[38;5;241m.\u001b[39mfun_prod\u001b[38;5;241m*\u001b[39m\u001b[38;5;28mself\u001b[39m\u001b[38;5;241m.\u001b[39mprod_nd)\u001b[38;5;241m/\u001b[39m\u001b[38;5;28mself\u001b[39m\u001b[38;5;241m.\u001b[39mp\u001b[38;5;241m.\u001b[39mbeta \u001b[38;5;66;03m#creating expected job value as a function of today's value            \u001b[39;00m\n\u001b[0;32m    891\u001b[0m \u001b[38;5;66;03m#Andrei: this is a special foc for the 1st step only! As both the 0th and the 1st steps are affected\u001b[39;00m\n\u001b[0;32m    892\u001b[0m \u001b[38;5;66;03m#Because of this, the values are modified with size according to the following formula:\u001b[39;00m\n\u001b[0;32m    893\u001b[0m \u001b[38;5;66;03m#(n_0+n_1)*rho'_1-EJderiv*eta*(n_0+n_1)-n_0*rho_0-n_1*rho_1\u001b[39;00m\n\u001b[0;32m    894\u001b[0m \n\u001b[0;32m    895\u001b[0m  \u001b[38;5;66;03m#Main foc, in the absence for separations\u001b[39;00m\n\u001b[1;32m--> 896\u001b[0m inv_utility_1d \u001b[38;5;241m=\u001b[39m \u001b[38;5;28;43mself\u001b[39;49m\u001b[38;5;241;43m.\u001b[39;49m\u001b[43mpref\u001b[49m\u001b[38;5;241;43m.\u001b[39;49m\u001b[43minv_utility_1d\u001b[49m\u001b[43m(\u001b[49m\u001b[38;5;28;43mself\u001b[39;49m\u001b[38;5;241;43m.\u001b[39;49m\u001b[43mv_0\u001b[49m\u001b[38;5;241;43m-\u001b[39;49m\u001b[38;5;28;43mself\u001b[39;49m\u001b[38;5;241;43m.\u001b[39;49m\u001b[43mp\u001b[49m\u001b[38;5;241;43m.\u001b[39;49m\u001b[43mbeta\u001b[49m\u001b[38;5;241;43m*\u001b[39;49m\u001b[43m(\u001b[49m\u001b[43msep_star\u001b[49m\u001b[43m[\u001b[49m\u001b[38;5;241;43m.\u001b[39;49m\u001b[38;5;241;43m.\u001b[39;49m\u001b[38;5;241;43m.\u001b[39;49m\u001b[43m,\u001b[49m\u001b[43max\u001b[49m\u001b[43m,\u001b[49m\u001b[43m:\u001b[49m\u001b[43m,\u001b[49m\u001b[43m:\u001b[49m\u001b[43m]\u001b[49m\u001b[38;5;241;43m*\u001b[39;49m\u001b[43mEU\u001b[49m\u001b[38;5;241;43m+\u001b[39;49m\u001b[43m(\u001b[49m\u001b[38;5;241;43m1\u001b[39;49m\u001b[38;5;241;43m-\u001b[39;49m\u001b[43msep_star\u001b[49m\u001b[43m[\u001b[49m\u001b[38;5;241;43m.\u001b[39;49m\u001b[38;5;241;43m.\u001b[39;49m\u001b[38;5;241;43m.\u001b[39;49m\u001b[43m,\u001b[49m\u001b[43max\u001b[49m\u001b[43m,\u001b[49m\u001b[43m:\u001b[49m\u001b[43m,\u001b[49m\u001b[43m:\u001b[49m\u001b[43m]\u001b[49m\u001b[43m)\u001b[49m\u001b[38;5;241;43m*\u001b[39;49m\u001b[43m(\u001b[49m\u001b[43mEW\u001b[49m\u001b[43m[\u001b[49m\u001b[38;5;241;43m.\u001b[39;49m\u001b[38;5;241;43m.\u001b[39;49m\u001b[38;5;241;43m.\u001b[39;49m\u001b[43m,\u001b[49m\u001b[43m \u001b[49m\u001b[43max\u001b[49m\u001b[43m,\u001b[49m\u001b[43m \u001b[49m\u001b[43m:\u001b[49m\u001b[43m]\u001b[49m\u001b[38;5;241;43m+\u001b[39;49m\u001b[43mre\u001b[49m\u001b[43m[\u001b[49m\u001b[38;5;241;43m.\u001b[39;49m\u001b[38;5;241;43m.\u001b[39;49m\u001b[38;5;241;43m.\u001b[39;49m\u001b[43m,\u001b[49m\u001b[43m \u001b[49m\u001b[43max\u001b[49m\u001b[43m,\u001b[49m\u001b[43m \u001b[49m\u001b[43m:\u001b[49m\u001b[43m]\u001b[49m\u001b[43m)\u001b[49m\u001b[43m)\u001b[49m\u001b[43m)\u001b[49m\n\u001b[0;32m    897\u001b[0m foc_2ndpart \u001b[38;5;241m=\u001b[39m \u001b[38;5;241m-\u001b[39m size[\u001b[38;5;241m.\u001b[39m\u001b[38;5;241m.\u001b[39m\u001b[38;5;241m.\u001b[39m, ax, :, \u001b[38;5;241m1\u001b[39m]\u001b[38;5;241m*\u001b[39mrho_grid[ax, ax, ax, ax, :, ax] \u001b[38;5;241m-\u001b[39m\\\n\u001b[0;32m    898\u001b[0m      size[\u001b[38;5;241m.\u001b[39m\u001b[38;5;241m.\u001b[39m\u001b[38;5;241m.\u001b[39m, ax, :,\u001b[38;5;241m0\u001b[39m] \u001b[38;5;241m*\u001b[39m (\u001b[38;5;241m1\u001b[39m\u001b[38;5;241m-\u001b[39msep_star[\u001b[38;5;241m.\u001b[39m\u001b[38;5;241m.\u001b[39m\u001b[38;5;241m.\u001b[39m,ax,:,:]) \u001b[38;5;241m/\u001b[39m inv_utility_1d             \n\u001b[0;32m    900\u001b[0m foc \u001b[38;5;241m=\u001b[39m rho_grid[ax, ax, ax, :, ax, ax] \u001b[38;5;241m-\u001b[39m (EJinv[:, :, :, ax, :, :] \u001b[38;5;241m/\u001b[39m pc[\u001b[38;5;241m.\u001b[39m\u001b[38;5;241m.\u001b[39m\u001b[38;5;241m.\u001b[39m,ax,:])\u001b[38;5;241m*\u001b[39m (log_diff[\u001b[38;5;241m.\u001b[39m\u001b[38;5;241m.\u001b[39m\u001b[38;5;241m.\u001b[39m,ax,:] \u001b[38;5;241m/\u001b[39m \u001b[38;5;28mself\u001b[39m\u001b[38;5;241m.\u001b[39mderiv_eps) \u001b[38;5;66;03m#first dim is productivity, second is future marg utility, third is today's margial utility\u001b[39;00m\n",
      "File \u001b[1;32mc:\\Users\\andre\\Codes\\Multi-worker firm\\Multiworker_wage_2steps\\primitives.py:229\u001b[0m, in \u001b[0;36mPreferences.inv_utility_1d\u001b[1;34m(self, value)\u001b[0m\n\u001b[0;32m    226\u001b[0m     \u001b[38;5;66;03m#return self.p.u_a * np.power(wage, - self.p.u_rho)\u001b[39;00m\n\u001b[0;32m    227\u001b[0m     \u001b[38;5;28;01mreturn\u001b[39;00m \u001b[38;5;241m1\u001b[39m\u001b[38;5;241m/\u001b[39mwage\n\u001b[1;32m--> 229\u001b[0m \u001b[38;5;28;01mdef\u001b[39;00m \u001b[38;5;21minv_utility_1d\u001b[39m(\u001b[38;5;28mself\u001b[39m, value):\n\u001b[0;32m    230\u001b[0m \u001b[38;5;250m    \u001b[39m\u001b[38;5;124;03m\"\"\"\u001b[39;00m\n\u001b[0;32m    231\u001b[0m \u001b[38;5;124;03m        Computes the first derivative of the inverse utility function at a particular value.\u001b[39;00m\n\u001b[0;32m    232\u001b[0m \u001b[38;5;124;03m        :param value: Argument of the function.\u001b[39;00m\n\u001b[0;32m    233\u001b[0m \u001b[38;5;124;03m        :return: Output of the function.\u001b[39;00m\n\u001b[0;32m    234\u001b[0m \u001b[38;5;124;03m    \"\"\"\u001b[39;00m\n\u001b[0;32m    235\u001b[0m     \u001b[38;5;66;03m#aa = self.p.u_a * np.power(self.p.tax_tau, 1 - self.p.u_rho) \u001b[39;00m\n\u001b[0;32m    236\u001b[0m     \u001b[38;5;66;03m#pow_arg = ( (1 - self.p.u_rho) * value + self.p.u_b   ) / aa\u001b[39;00m\n\u001b[0;32m    237\u001b[0m     \u001b[38;5;66;03m#return np.power( pow_arg, 1.0/( self.p.tax_lambda * (1 - self.p.u_rho) ) - 1.0) / ( self.p.tax_lambda * aa )\u001b[39;00m\n\u001b[0;32m    238\u001b[0m     \u001b[38;5;66;03m#return np.power( pow_arg, -self.p.u_rho / ( 1 - self.p.u_rho )) / ( self.p.tax_lambda * aa )\u001b[39;00m\n\u001b[0;32m    239\u001b[0m     \u001b[38;5;66;03m# return self.utility_1d(self.inv_utility(value))\u001b[39;00m\n",
      "\u001b[1;31mKeyboardInterrupt\u001b[0m: "
     ]
    }
   ],
   "source": [
    "from Multiworker_Contract_GE import MultiworkerContract\n",
    "mwc_GE=MultiworkerContract(p)\n",
    "\n",
    "# GE basic\n",
    "#mwc_GE_J = results['J']\n",
    "#mwc_GE_W = results['W']\n",
    "#mwc_GE_U = results['U']\n",
    "#mwc_GE_Rho = results['Rho']\n",
    "\n",
    "#(mwc_GE_J,mwc_GE_W,mwc_GE_U, mwc_GE_Rho, mwc_GE_Wstar,mwc_GE_pc,mwc_GE_n0,mwc_GE_n1)=mwc_GE.J_sep(mwc_GE_J,mwc_GE_W,mwc_GE_U,mwc_GE_Rho,1,s=10.0)\n",
    "(mwc_GE_J,mwc_GE_W,mwc_GE_U, mwc_GE_Rho, mwc_GE_Wstar,mwc_GE_pc,mwc_GE_n0,mwc_GE_n1)=mwc_GE.J_sep(None,None,None,None,1,10.0)"
   ]
  },
  {
   "cell_type": "code",
   "execution_count": 3,
   "metadata": {},
   "outputs": [
    {
     "name": "stdout",
     "output_type": "stream",
     "text": [
      "57.8736267314858\n"
     ]
    },
    {
     "data": {
      "image/png": "[encoded data removed]",
      "text/plain": [
       "<Figure size 640x480 with 1 Axes>"
      ]
     },
     "metadata": {},
     "output_type": "display_data"
    }
   ],
   "source": [
    "from ContinuousContract import ContinuousContract\n",
    "cc=ContinuousContract(p)\n",
    "(cc_J,cc_W,cc_Wstar,cc_Jpi,cc_pc)=cc.J(1)"
   ]
  },
  {
   "cell_type": "code",
   "execution_count": 4,
   "metadata": {},
   "outputs": [
    {
     "name": "stdout",
     "output_type": "stream",
     "text": [
      "Jshape (3, 5, 5, 100, 6)\n",
      "W shape (3, 5, 5, 100, 6, 2)\n",
      "q_star [0.5       0.5009901 0.5019802 0.5029703 0.5039604 0.5049505]\n",
      "Diff Rho: 0.005009110954414383\n",
      "Time to fit the spline 0.022923707962036133\n",
      "Errors: 0.42065763473777 0.00154766801587526 1\n",
      "EJinv -128.7253868817757\n",
      "EJderiv 70.73125102695235\n",
      "EJinv diff 1j 2s: 12.794278662400984\n",
      "EJinv diff 1 sen: 3.5965993161654226\n",
      "EJinv diff 2 sen: 7.56358874839468\n"
     ]
    },
    {
     "data": {
      "image/png": "[encoded data removed]",
      "text/plain": [
       "<Figure size 640x480 with 1 Axes>"
      ]
     },
     "metadata": {},
     "output_type": "display_data"
    },
    {
     "name": "stdout",
     "output_type": "stream",
     "text": [
      "q_star [0.5       0.5009901 0.5019802 0.5029703 0.5039604 0.5049505]\n",
      "Diff Rho: 0.004639214393871988\n",
      "q_star [0.5       0.5009901 0.5019802 0.5029703 0.5039604 0.5049505]\n",
      "Diff Rho: 0.004261983618321272\n",
      "q_star [0.5       0.5009901 0.5019802 0.5029703 0.5039604 0.5049505]\n",
      "Diff Rho: 0.0038778165920787875\n",
      "q_star [0.5       0.5009901 0.5019802 0.5029703 0.5039604 0.5049505]\n",
      "Diff Rho: 0.0035150026005925615\n",
      "q_star [0.5       0.5009901 0.5019802 0.5029703 0.5039604 0.5049505]\n",
      "Diff Rho: 0.003172065475590335\n",
      "q_star [0.5       0.5009901 0.5019802 0.5029703 0.5039604 0.5049505]\n",
      "Diff Rho: 0.00287489458800524\n",
      "q_star [0.5       0.5009901 0.5019802 0.5029703 0.5039604 0.5049505]\n",
      "Diff Rho: 0.002587664305581428\n",
      "q_star [0.5       0.5009901 0.5019802 0.5029703 0.5039604 0.5049505]\n",
      "Diff Rho: 0.0030296501636235067\n",
      "q_star [0.5       0.5009901 0.5019802 0.5029703 0.5039604 0.5049505]\n",
      "Diff Rho: 0.0028463173390632698\n",
      "q_star [0.5       0.5009901 0.5019802 0.5029703 0.5039604 0.5049505]\n",
      "n0_star borders 0.0 4.0\n",
      "Diff Rho: 0.0024393531473957688\n",
      "Errors: 0.4051761999767076 6.7960584083964e-05 1\n",
      "q_star [0.5       0.5009901 0.5019802 0.5029703 0.5039604 0.5049505]\n",
      "n0_star borders 0.0 4.0\n",
      "Diff Rho: 0.0028980849824208703\n",
      "q_star [0.5       0.5009901 0.5019802 0.5029703 0.5039604 0.5049505]\n",
      "n0_star borders 0.0 4.0\n",
      "Diff Rho: 0.0027092414002662566\n",
      "q_star [0.5       0.5009901 0.5019802 0.5029703 0.5039604 0.5049505]\n",
      "n0_star borders 0.0 4.0\n",
      "Diff Rho: 0.002269839570537\n",
      "q_star [0.5       0.5009901 0.5019802 0.5029703 0.5039604 0.5049505]\n",
      "n0_star borders 0.0 4.0\n",
      "Diff Rho: 0.00214454001247833\n",
      "q_star [0.5       0.5009901 0.5019802 0.5029703 0.5039604 0.5049505]\n",
      "n0_star borders 0.0 4.0\n",
      "Diff Rho: 0.0018828559618016703\n",
      "q_star [0.5       0.5009901 0.5019802 0.5029703 0.5039604 0.5049505]\n",
      "n0_star borders 0.0 4.0\n",
      "Diff Rho: 0.0017713585758818429\n",
      "q_star [0.5       0.5009901 0.5019802 0.5029703 0.5039604 0.5049505]\n",
      "n0_star borders 0.0 4.0\n",
      "Diff Rho: 0.0015976441653525889\n",
      "q_star [0.5       0.5009901 0.5019802 0.5029703 0.5039604 0.5049505]\n",
      "n0_star borders 0.0 4.0\n",
      "Diff Rho: 0.001419125089935667\n",
      "q_star [0.5       0.5009901 0.5019802 0.5029703 0.5039604 0.5049505]\n",
      "n0_star borders 0.0 4.0\n",
      "Diff Rho: 0.0012258317949179437\n",
      "sep borders 0.0 1.0\n",
      "q_star [0.5       0.5009901 0.5019802 0.5029703 0.5039604 0.5049505]\n",
      "n0_star borders 0.0 4.0\n",
      "Diff Rho: 0.0011359915601473237\n",
      "Errors: 0.0004540597854875478 9.887534529234836e-06 1\n",
      "sep borders 0.0 1.0\n",
      "q_star [0.5       0.5009901 0.5019802 0.5029703 0.5039604 0.5049505]\n",
      "n0_star borders 0.0 4.0\n",
      "Diff Rho: 0.001093252040972314\n",
      "sep borders 0.0 1.0\n",
      "q_star [0.5       0.5009901 0.5019802 0.5029703 0.5039604 0.5049505]\n",
      "n0_star borders 0.0 4.0\n",
      "Diff Rho: 0.001111634935392073\n",
      "sep borders 0.0 1.0\n",
      "q_star [0.5       0.5009901 0.5019802 0.5029703 0.5039604 0.5049505]\n",
      "n0_star borders 0.0 4.0\n",
      "Diff Rho: 0.0011857399739328897\n",
      "sep borders 0.0 1.0\n",
      "q_star [0.5       0.5009901 0.5019802 0.5029703 0.5039604 0.5049505]\n",
      "n0_star borders 0.0 4.0\n",
      "Diff Rho: 0.0008753044905272472\n",
      "sep borders 0.0 1.0\n",
      "q_star [0.5       0.5009901 0.5019802 0.5029703 0.5039604 0.5049505]\n",
      "n0_star borders 0.0 4.0\n",
      "Diff Rho: 0.0008150736987471454\n",
      "sep borders 0.0 1.0\n",
      "q_star [0.5       0.5009901 0.5019802 0.5029703 0.5039604 0.5049505]\n",
      "n0_star borders 0.0 4.0\n",
      "Diff Rho: 0.0006725783895519386\n",
      "sep borders 0.0 1.0\n",
      "q_star [0.5       0.5009901 0.5019802 0.5029703 0.5039604 0.5049505]\n",
      "n0_star borders 0.0 4.0\n",
      "Diff Rho: 0.0007062576147085636\n",
      "sep borders 0.0 1.0\n",
      "q_star [0.5       0.5009901 0.5019802 0.5029703 0.5039604 0.5049505]\n",
      "n0_star borders 0.0 4.0\n",
      "Diff Rho: 0.0006084919023935914\n",
      "sep borders 0.0 1.0\n",
      "q_star [0.5       0.5009901 0.5019802 0.5029703 0.5039604 0.5049505]\n",
      "n0_star borders 0.0 4.0\n",
      "Diff Rho: 0.0005820448745972134\n",
      "sep borders 0.0 1.0\n",
      "q_star [0.5       0.5009901 0.5019802 0.5029703 0.5039604 0.5049505]\n",
      "n0_star borders 0.0 4.0\n",
      "Diff Rho: 0.0005634282575279528\n",
      "Errors: 8.052131079699914e-05 1.6296212149220194e-06 1\n",
      "sep borders 0.0 1.0\n",
      "q_star [0.5       0.5009901 0.5019802 0.5029703 0.5039604 0.5049505]\n",
      "n0_star borders 0.0 4.0\n",
      "Diff Rho: 0.0005630751962514272\n",
      "sep borders 0.0 1.0\n",
      "q_star [0.5       0.5009901 0.5019802 0.5029703 0.5039604 0.5049505]\n",
      "n0_star borders 0.0 4.0\n",
      "Diff Rho: 0.0005672491324869339\n",
      "sep borders 0.0 1.0\n",
      "q_star [0.5       0.5009901 0.5019802 0.5029703 0.5039604 0.5049505]\n",
      "n0_star borders 0.0 4.0\n",
      "Diff Rho: 0.0005468113902262648\n",
      "sep borders 0.0 1.0\n",
      "q_star [0.5       0.5009901 0.5019802 0.5029703 0.5039604 0.5049505]\n",
      "n0_star borders 0.0 4.0\n",
      "Diff Rho: 0.0005988523954855201\n",
      "sep borders 0.0 1.0\n",
      "q_star [0.5       0.5009901 0.5019802 0.5029703 0.5039604 0.5049505]\n",
      "n0_star borders 0.0 4.0\n",
      "Diff Rho: 0.0004784517020132375\n",
      "sep borders 0.0 1.0\n",
      "q_star [0.5       0.5009901 0.5019802 0.5029703 0.5039604 0.5049505]\n",
      "n0_star borders 0.0 4.0\n",
      "Diff Rho: 0.0006480196483432474\n",
      "sep borders 0.0 1.0\n",
      "q_star [0.5       0.5009901 0.5019802 0.5029703 0.5039604 0.5049505]\n",
      "n0_star borders 0.0 4.0\n",
      "Diff Rho: 0.0005218032022235725\n",
      "sep borders 0.0 1.0\n",
      "q_star [0.5       0.5009901 0.5019802 0.5029703 0.5039604 0.5049505]\n",
      "n0_star borders 0.0 4.0\n",
      "Diff Rho: 0.0005493139101586186\n",
      "sep borders 0.0 1.0\n",
      "q_star [0.5       0.5009901 0.5019802 0.5029703 0.5039604 0.5049505]\n",
      "n0_star borders 0.0 4.0\n",
      "Diff Rho: 0.00048184895908020024\n",
      "sep borders 0.0 1.0\n",
      "q_star [0.5       0.5009901 0.5019802 0.5029703 0.5039604 0.5049505]\n",
      "n0_star borders 0.0 4.0\n",
      "Diff Rho: 0.0005122762246671232\n",
      "Errors: 7.26270770858159e-05 1.7532404816460296e-07 1\n",
      "sep borders 0.0 1.0\n",
      "q_star [0.5       0.5009901 0.5019802 0.5029703 0.5039604 0.5049505]\n",
      "n0_star borders 0.0 4.0\n",
      "Diff Rho: 0.0004575377283512049\n",
      "sep borders 0.0 1.0\n",
      "q_star [0.5       0.5009901 0.5019802 0.5029703 0.5039604 0.5049505]\n",
      "n0_star borders 0.0 4.0\n",
      "Diff Rho: 0.000390817680198956\n",
      "sep borders 0.0 1.0\n",
      "q_star [0.5       0.5009901 0.5019802 0.5029703 0.5039604 0.5049505]\n",
      "n0_star borders 0.0 4.0\n",
      "Diff Rho: 0.0005205204679146527\n",
      "sep borders 0.0 1.0\n",
      "q_star [0.5       0.5009901 0.5019802 0.5029703 0.5039604 0.5049505]\n",
      "n0_star borders 0.0 4.0\n",
      "Diff Rho: 0.00046232071648892505\n",
      "sep borders 0.0 1.0\n",
      "q_star [0.5       0.5009901 0.5019802 0.5029703 0.5039604 0.5049505]\n",
      "n0_star borders 0.0 4.0\n",
      "Diff Rho: 0.0004624703622245083\n",
      "sep borders 0.0 1.0\n",
      "q_star [0.5       0.5009901 0.5019802 0.5029703 0.5039604 0.5049505]\n",
      "n0_star borders 0.0 4.0\n",
      "Diff Rho: 0.000442538762942228\n",
      "sep borders 0.0 1.0\n",
      "q_star [0.5       0.5009901 0.5019802 0.5029703 0.5039604 0.5049505]\n",
      "n0_star borders 0.0 4.0\n",
      "Diff Rho: 0.000417544462326827\n",
      "sep borders 0.0 1.0\n",
      "q_star [0.5       0.5009901 0.5019802 0.5029703 0.5039604 0.5049505]\n",
      "n0_star borders 0.0 4.0\n",
      "Diff Rho: 0.00039450138766965203\n",
      "sep borders 0.0 1.0\n",
      "q_star [0.5       0.5009901 0.5019802 0.5029703 0.5039604 0.5049505]\n",
      "n0_star borders 0.0 4.0\n",
      "Diff Rho: 0.0004065440135536636\n",
      "sep borders 0.0 1.0\n",
      "q_star [0.5       0.5009901 0.5019802 0.5029703 0.5039604 0.5049505]\n",
      "n0_star borders 0.0 4.0\n",
      "Diff Rho: 0.00040198893649902236\n",
      "Errors: 2.8019947895601824e-05 3.330721579642682e-08 1\n",
      "sep borders 0.0 1.0\n",
      "q_star [0.5       0.5009901 0.5019802 0.5029703 0.5039604 0.5049505]\n",
      "n0_star borders 0.0 4.0\n",
      "Diff Rho: 0.00041693640518865495\n",
      "sep borders 0.0 1.0\n",
      "q_star [0.5       0.5009901 0.5019802 0.5029703 0.5039604 0.5049505]\n",
      "n0_star borders 0.0 4.0\n",
      "Diff Rho: 0.000359859646917233\n",
      "sep borders 0.0 1.0\n",
      "q_star [0.5       0.5009901 0.5019802 0.5029703 0.5039604 0.5049505]\n",
      "n0_star borders 0.0 4.0\n",
      "Diff Rho: 0.0003991043132835581\n",
      "sep borders 0.0 1.0\n",
      "q_star [0.5       0.5009901 0.5019802 0.5029703 0.5039604 0.5049505]\n",
      "n0_star borders 0.0 4.0\n",
      "Diff Rho: 0.0004215546565532119\n",
      "sep borders 0.0 1.0\n",
      "q_star [0.5       0.5009901 0.5019802 0.5029703 0.5039604 0.5049505]\n",
      "n0_star borders 0.0 4.0\n",
      "Diff Rho: 0.00037198948783651487\n",
      "sep borders 0.0 1.0\n",
      "q_star [0.5       0.5009901 0.5019802 0.5029703 0.5039604 0.5049505]\n",
      "n0_star borders 0.0 4.0\n",
      "Diff Rho: 0.0004561297867339062\n",
      "sep borders 0.0 1.0\n",
      "q_star [0.5       0.5009901 0.5019802 0.5029703 0.5039604 0.5049505]\n",
      "n0_star borders 0.0 4.0\n",
      "Diff Rho: 0.0004315038267861539\n",
      "sep borders 0.0 1.0\n",
      "q_star [0.5 0.6 0.7 0.8 0.9 1. ]\n",
      "n0_star borders 0.0 4.0\n",
      "Diff Rho: 0.0004416935753228924\n",
      "sep borders 0.0 1.0\n",
      "q_star [0.5 0.6 0.7 0.8 0.9 1. ]\n",
      "n0_star borders 0.0 4.0\n",
      "Diff Rho: 0.0004256376629290577\n",
      "sep borders 0.0 1.0\n",
      "q_star [0.5 0.6 0.7 0.8 0.9 1. ]\n",
      "n0_star borders 0.0 4.0\n",
      "Diff Rho: 0.00040154935435761363\n",
      "Errors: 0.00010590167180574676 1.1047145455238556e-07 1\n",
      "sep borders 0.0 1.0\n",
      "q_star [0.5 0.6 0.7 0.8 0.9 1. ]\n",
      "n0_star borders 0.0 4.0\n",
      "Diff Rho: 0.00040648202427440177\n",
      "sep borders 0.0 1.0\n",
      "q_star [0.5 0.6 0.7 0.8 0.9 1. ]\n",
      "n0_star borders 0.0 4.0\n",
      "Diff Rho: 0.00043901087842140716\n",
      "sep borders 0.0 1.0\n",
      "q_star [0.5 0.6 0.7 0.8 0.9 1. ]\n",
      "n0_star borders 0.0 4.0\n",
      "Diff Rho: 0.00043827257309486624\n",
      "sep borders 0.0 1.0\n",
      "q_star [0.5 0.6 0.7 0.8 0.9 1. ]\n",
      "n0_star borders 0.0 4.0\n",
      "Diff Rho: 0.0004036115275833404\n",
      "sep borders 0.0 1.0\n",
      "q_star [0.5 0.6 0.7 0.8 0.9 1. ]\n",
      "n0_star borders 0.0 4.0\n",
      "Diff Rho: 0.0004474844076395214\n",
      "sep borders 0.0 1.0\n",
      "q_star [0.5 0.6 0.7 0.8 0.9 1. ]\n",
      "n0_star borders 0.0 4.0\n",
      "Diff Rho: 0.0004808690570932234\n",
      "sep borders 0.0 1.0\n",
      "q_star [0.5 0.6 0.7 0.8 0.9 1. ]\n",
      "n0_star borders 0.0 4.0\n",
      "Diff Rho: 0.0004582626514881199\n",
      "sep borders 0.0 1.0\n",
      "q_star [0.5 0.6 0.7 0.8 0.9 1. ]\n",
      "n0_star borders 0.0 4.0\n",
      "Diff Rho: 0.00041836722511723177\n",
      "sep borders 0.0 1.0\n",
      "q_star [0.5 0.6 0.7 0.8 0.9 1. ]\n",
      "n0_star borders 0.0 4.0\n",
      "Diff Rho: 0.0004682358226333082\n",
      "sep borders 0.0 1.0\n",
      "q_star [0.5       0.5009901 0.5019802 0.5029703 0.5039604 0.5049505]\n",
      "n0_star borders 0.0 4.0\n",
      "Diff Rho: 0.0004774333973193165\n",
      "Errors: 1.545071964995294e-05 2.3425681494702183e-08 1\n",
      "sep borders 0.0 1.0\n",
      "q_star [0.5       0.5009901 0.5019802 0.5029703 0.5039604 0.5049505]\n",
      "n0_star borders 0.0 4.0\n",
      "Diff Rho: 0.0004197450938579614\n",
      "sep borders 0.0 1.0\n",
      "q_star [0.5       0.5009901 0.5019802 0.5029703 0.5039604 0.5049505]\n",
      "n0_star borders 0.0 4.0\n",
      "Diff Rho: 0.0004563859639796835\n",
      "sep borders 0.0 1.0\n",
      "q_star [0.5       0.5009901 0.5019802 0.5029703 0.5039604 0.5049505]\n",
      "n0_star borders 0.0 4.0\n",
      "Diff Rho: 0.0004176453712981952\n",
      "sep borders 0.0 1.0\n",
      "q_star [0.5       0.5009901 0.5019802 0.5029703 0.5039604 0.5049505]\n",
      "n0_star borders 0.0 4.0\n",
      "Diff Rho: 0.000446070170076038\n",
      "sep borders 0.0 1.0\n",
      "q_star [0.5       0.5009901 0.5019802 0.5029703 0.5039604 0.5049505]\n",
      "n0_star borders 0.0 4.0\n",
      "Diff Rho: 0.0004378393379195159\n",
      "sep borders 0.0 1.0\n",
      "q_star [0.5       0.5009901 0.5019802 0.5029703 0.5039604 0.5049505]\n",
      "n0_star borders 0.0 4.0\n",
      "Diff Rho: 0.0004587593314246663\n",
      "sep borders 0.0 1.0\n",
      "q_star [0.5       0.5009901 0.5019802 0.5029703 0.5039604 0.5049505]\n",
      "n0_star borders 0.0 4.0\n",
      "Diff Rho: 0.0004885754430635719\n",
      "sep borders 0.0 1.0\n",
      "q_star [0.5       0.5009901 0.5019802 0.5029703 0.5039604 0.5049505]\n",
      "n0_star borders 0.0 4.0\n",
      "Diff Rho: 0.0004296123575377711\n",
      "sep borders 0.0 1.0\n",
      "q_star [0.5       0.5009901 0.5019802 0.5029703 0.5039604 0.5049505]\n",
      "n0_star borders 0.0 4.0\n",
      "Diff Rho: 0.0004601469122573497\n",
      "sep borders 0.0 1.0\n",
      "q_star [0.5       0.5009901 0.5019802 0.5029703 0.5039604 0.5049505]\n",
      "n0_star borders 0.0 4.0\n",
      "Diff Rho: 0.0004418820468392947\n",
      "Errors: 1.962203342151214e-05 4.284887696901201e-08 1\n",
      "sep borders 0.0 1.0\n",
      "q_star [0.5       0.5009901 0.5019802 0.5029703 0.5039604 0.5049505]\n",
      "n0_star borders 0.0 4.0\n",
      "Diff Rho: 0.00039708094475250356\n",
      "sep borders 0.0 1.0\n",
      "q_star [0.5       0.5009901 0.5019802 0.5029703 0.5039604 0.5049505]\n",
      "n0_star borders 0.0 4.0\n",
      "Diff Rho: 0.00041086189515749\n",
      "sep borders 0.0 1.0\n",
      "q_star [0.5       0.5009901 0.5019802 0.5029703 0.5039604 0.5049505]\n",
      "n0_star borders 0.0 4.0\n",
      "Diff Rho: 0.0003984068468042628\n",
      "sep borders 0.0 1.0\n",
      "q_star [0.5       0.5009901 0.5019802 0.5029703 0.5039604 0.5049505]\n",
      "n0_star borders 0.0 4.0\n",
      "Diff Rho: 0.000470460458728097\n",
      "sep borders 0.0 1.0\n",
      "q_star [0.5       0.5009901 0.5019802 0.5029703 0.5039604 0.5049505]\n",
      "n0_star borders 0.0 4.0\n",
      "Diff Rho: 0.0004266927431519344\n",
      "sep borders 0.0 1.0\n",
      "q_star [0.5       0.5009901 0.5019802 0.5029703 0.5039604 0.5049505]\n",
      "n0_star borders 0.0 4.0\n",
      "Diff Rho: 0.0004662384597652762\n",
      "sep borders 0.0 1.0\n",
      "q_star [0.5       0.5009901 0.5019802 0.5029703 0.5039604 0.5049505]\n",
      "n0_star borders 0.0 4.0\n",
      "Diff Rho: 0.00046847279013813433\n",
      "sep borders 0.0 1.0\n",
      "q_star [0.5       0.5009901 0.5019802 0.5029703 0.5039604 0.5049505]\n",
      "n0_star borders 0.0 4.0\n",
      "Diff Rho: 0.00046397425153781247\n",
      "sep borders 0.0 1.0\n",
      "q_star [0.5       0.5009901 0.5019802 0.5029703 0.5039604 0.5049505]\n",
      "n0_star borders 0.0 4.0\n",
      "Diff Rho: 0.000455771370511296\n",
      "sep borders 0.0 1.0\n",
      "q_star [0.5       0.5009901 0.5019802 0.5029703 0.5039604 0.5049505]\n",
      "n0_star borders 0.0 4.0\n",
      "Diff Rho: 0.0005712506592541011\n",
      "Errors: 7.560290379790945e-05 1.1722811923507829e-07 1\n",
      "sep borders 0.0 1.0\n",
      "q_star [0.5       0.5009901 0.5019802 0.5029703 0.5039604 0.5049505]\n",
      "n0_star borders 0.0 4.0\n",
      "Diff Rho: 0.0005033074120275981\n",
      "sep borders 0.0 1.0\n",
      "q_star [0.5 0.6 0.7 0.8 0.9 1. ]\n",
      "n0_star borders 0.0 4.0\n",
      "Diff Rho: 0.0004350463105303454\n",
      "sep borders 0.0 1.0\n",
      "q_star [0.5 0.6 0.7 0.8 0.9 1. ]\n",
      "n0_star borders 0.0 4.0\n",
      "Diff Rho: 0.0004495591952354539\n",
      "sep borders 0.0 1.0\n",
      "q_star [0.5 0.6 0.7 0.8 0.9 1. ]\n",
      "n0_star borders 0.0 4.0\n",
      "Diff Rho: 0.0004630125090361238\n",
      "sep borders 0.0 1.0\n",
      "q_star [0.5 0.6 0.7 0.8 0.9 1. ]\n",
      "n0_star borders 0.0 4.0\n",
      "Diff Rho: 0.0004603514126326494\n",
      "sep borders 0.0 1.0\n",
      "q_star [0.5 0.6 0.7 0.8 0.9 1. ]\n",
      "n0_star borders 0.0 4.0\n",
      "Diff Rho: 0.00043500636266113614\n",
      "sep borders 0.0 1.0\n",
      "q_star [0.5 0.6 0.7 0.8 0.9 1. ]\n",
      "n0_star borders 0.0 4.0\n",
      "Diff Rho: 0.0004067352492914673\n",
      "sep borders 0.0 1.0\n",
      "q_star [0.5 0.6 0.7 0.8 0.9 1. ]\n",
      "n0_star borders 0.0 4.0\n",
      "Diff Rho: 0.00042741458249292557\n",
      "sep borders 0.0 1.0\n",
      "q_star [0.5 0.6 0.7 0.8 0.9 1. ]\n",
      "n0_star borders 0.0 4.0\n",
      "Diff Rho: 0.0004377165023754923\n",
      "sep borders 0.0 1.0\n",
      "q_star [0.5 0.6 0.7 0.8 0.9 1. ]\n",
      "n0_star borders 0.0 4.0\n",
      "Diff Rho: 0.0004584202612966767\n",
      "Time to fit the spline 0.019933462142944336\n",
      "Errors: 4.941208043774324e-05 2.8506530713635347e-08 1\n",
      "EJinv -8.943343034768693\n",
      "EJderiv -3.2509213633260288\n",
      "EJinv diff 1j 2s: 1.8882819317852602\n",
      "EJinv diff 1 sen: 10.933090054153247\n",
      "EJinv diff 2 sen: 7.673900603394757\n"
     ]
    },
    {
     "data": {
      "image/png": "[encoded data removed]",
      "text/plain": [
       "<Figure size 640x480 with 1 Axes>"
      ]
     },
     "metadata": {},
     "output_type": "display_data"
    },
    {
     "name": "stdout",
     "output_type": "stream",
     "text": [
      "sep borders 0.0 1.0\n",
      "q_star [0.5 0.6 0.7 0.8 0.9 1. ]\n",
      "n0_star borders 0.0 4.0\n",
      "Diff Rho: 0.00044456147969569983\n",
      "sep borders 0.0 1.0\n",
      "q_star [0.5 0.6 0.7 0.8 0.9 1. ]\n",
      "n0_star borders 0.0 4.0\n",
      "Diff Rho: 0.000540054344897702\n",
      "sep borders 0.0 1.0\n",
      "q_star [0.5 0.6 0.7 0.8 0.9 1. ]\n",
      "n0_star borders 0.0 4.0\n",
      "Diff Rho: 0.00045945314330144425\n",
      "sep borders 0.0 1.0\n",
      "q_star [0.5 0.6 0.7 0.8 0.9 1. ]\n",
      "n0_star borders 0.0 4.0\n",
      "Diff Rho: 0.0004153714335460141\n",
      "sep borders 0.0 1.0\n",
      "q_star [0.5 0.6 0.7 0.8 0.9 1. ]\n",
      "n0_star borders 0.0 4.0\n",
      "Diff Rho: 0.0004259683356774965\n",
      "sep borders 0.0 1.0\n",
      "q_star [0.5 0.6 0.7 0.8 0.9 1. ]\n",
      "n0_star borders 0.0 4.0\n",
      "Diff Rho: 0.00040753089183607474\n",
      "sep borders 0.0 1.0\n",
      "q_star [0.5 0.6 0.7 0.8 0.9 1. ]\n",
      "n0_star borders 0.0 4.0\n",
      "Diff Rho: 0.0004209119092671619\n",
      "sep borders 0.0 1.0\n",
      "q_star [0.5 0.6 0.7 0.8 0.9 1. ]\n",
      "n0_star borders 0.0 4.0\n",
      "Diff Rho: 0.00042511739409435375\n",
      "sep borders 0.0 1.0\n",
      "q_star [0.5 0.6 0.7 0.8 0.9 1. ]\n",
      "n0_star borders 0.0 4.0\n",
      "Diff Rho: 0.0004428525819548504\n",
      "sep borders 0.0 1.0\n",
      "q_star [0.5 0.6 0.7 0.8 0.9 1. ]\n",
      "n0_star borders 0.0 4.0\n",
      "Diff Rho: 0.00042192675405475677\n",
      "Errors: 9.908748638258964e-06 5.755380533283922e-08 1\n",
      "sep borders 0.0 1.0\n",
      "q_star [0.5 0.6 0.7 0.8 0.9 1. ]\n",
      "n0_star borders 0.0 4.0\n",
      "Diff Rho: 0.000436411581462244\n",
      "sep borders 0.0 1.0\n",
      "q_star [0.5 0.6 0.7 0.8 0.9 1. ]\n",
      "n0_star borders 0.0 4.0\n",
      "Diff Rho: 0.00046818542349662793\n",
      "sep borders 0.0 1.0\n",
      "q_star [0.5 0.6 0.7 0.8 0.9 1. ]\n",
      "n0_star borders 0.0 4.0\n",
      "Diff Rho: 0.0004465667864341762\n",
      "sep borders 0.0 1.0\n",
      "q_star [0.5 0.6 0.7 0.8 0.9 1. ]\n",
      "n0_star borders 0.0 4.0\n",
      "Diff Rho: 0.00040406677613592914\n",
      "sep borders 0.0 1.0\n",
      "q_star [0.5 0.6 0.7 0.8 0.9 1. ]\n",
      "n0_star borders 0.0 4.0\n",
      "Diff Rho: 0.00047096230270668427\n",
      "sep borders 0.0 1.0\n",
      "q_star [0.5 0.6 0.7 0.8 0.9 1. ]\n",
      "n0_star borders 0.0 4.0\n",
      "Diff Rho: 0.000409152693600014\n",
      "sep borders 0.0 1.0\n",
      "q_star [0.5 0.6 0.7 0.8 0.9 1. ]\n",
      "n0_star borders 0.0 4.0\n",
      "Diff Rho: 0.0004150065475373858\n",
      "sep borders 0.0 1.0\n",
      "q_star [0.5       0.5009901 0.5019802 0.5029703 0.5039604 0.5049505]\n",
      "n0_star borders 0.0 4.0\n",
      "Diff Rho: 0.00042217862773324564\n",
      "sep borders 0.0 1.0\n",
      "q_star [0.5       0.5009901 0.5019802 0.5029703 0.5039604 0.5049505]\n",
      "n0_star borders 0.0 4.0\n",
      "Diff Rho: 0.0003751280823794153\n",
      "sep borders 0.0 1.0\n",
      "q_star [0.5       0.5009901 0.5019802 0.5029703 0.5039604 0.5049505]\n",
      "n0_star borders 0.0 4.0\n",
      "Diff Rho: 0.0003995562838196287\n",
      "Errors: 1.3779296710078991e-05 2.997739970408658e-08 1\n",
      "sep borders 0.0 1.0\n",
      "q_star [0.5       0.5009901 0.5019802 0.5029703 0.5039604 0.5049505]\n",
      "n0_star borders 0.0 4.0\n",
      "Diff Rho: 0.0003960453618066104\n",
      "sep borders 0.0 1.0\n",
      "q_star [0.5       0.5009901 0.5019802 0.5029703 0.5039604 0.5049505]\n",
      "n0_star borders 0.0 4.0\n",
      "Diff Rho: 0.000355046241123693\n",
      "sep borders 0.0 1.0\n",
      "q_star [0.5       0.5009901 0.5019802 0.5029703 0.5039604 0.5049505]\n",
      "n0_star borders 0.0 4.0\n",
      "Diff Rho: 0.00036924509106624475\n",
      "sep borders 0.0 1.0\n",
      "q_star [0.5       0.5009901 0.5019802 0.5029703 0.5039604 0.5049505]\n",
      "n0_star borders 0.0 4.0\n",
      "Diff Rho: 0.00037235757874778735\n",
      "sep borders 0.0 1.0\n",
      "q_star [0.5       0.5009901 0.5019802 0.5029703 0.5039604 0.5049505]\n",
      "n0_star borders 0.0 4.0\n",
      "Diff Rho: 0.00037361912424574314\n",
      "sep borders 0.0 1.0\n",
      "q_star [0.5       0.5009901 0.5019802 0.5029703 0.5039604 0.5049505]\n",
      "n0_star borders 0.0 4.0\n",
      "Diff Rho: 0.00040688057979038875\n",
      "sep borders 0.0 1.0\n",
      "q_star [0.5       0.5009901 0.5019802 0.5029703 0.5039604 0.5049505]\n",
      "n0_star borders 0.0 4.0\n",
      "Diff Rho: 0.00041049307415044994\n",
      "sep borders 0.0 1.0\n",
      "q_star [0.5       0.5009901 0.5019802 0.5029703 0.5039604 0.5049505]\n",
      "n0_star borders 0.0 4.0\n",
      "Diff Rho: 0.0003973053420293461\n",
      "sep borders 0.0 1.0\n",
      "q_star [0.5       0.5009901 0.5019802 0.5029703 0.5039604 0.5049505]\n",
      "n0_star borders 0.0 4.0\n",
      "Diff Rho: 0.0003941794961080278\n",
      "sep borders 0.0 1.0\n",
      "q_star [0.5       0.5009901 0.5019802 0.5029703 0.5039604 0.5049505]\n",
      "n0_star borders 0.0 4.0\n",
      "Diff Rho: 0.00038211133778069857\n",
      "Errors: 5.11317619224876e-05 3.101815104107297e-08 1\n",
      "sep borders 0.0 1.0\n",
      "q_star [0.5       0.5009901 0.5019802 0.5029703 0.5039604 0.5049505]\n",
      "n0_star borders 0.0 4.0\n",
      "Diff Rho: 0.00042247349129640404\n",
      "sep borders 0.0 1.0\n",
      "q_star [0.5       0.5009901 0.5019802 0.5029703 0.5039604 0.5049505]\n",
      "n0_star borders 0.0 4.0\n",
      "Diff Rho: 0.00035832369090174783\n",
      "sep borders 0.0 1.0\n",
      "q_star [0.5       0.5009901 0.5019802 0.5029703 0.5039604 0.5049505]\n",
      "n0_star borders 0.0 4.0\n",
      "Diff Rho: 0.00038767053365113533\n",
      "sep borders 0.0 1.0\n",
      "q_star [0.5       0.5009901 0.5019802 0.5029703 0.5039604 0.5049505]\n",
      "n0_star borders 0.0 4.0\n",
      "Diff Rho: 0.00040587265049945746\n",
      "sep borders 0.0 1.0\n",
      "q_star [0.5       0.5009901 0.5019802 0.5029703 0.5039604 0.5049505]\n",
      "n0_star borders 0.0 4.0\n",
      "Diff Rho: 0.0004035724762818749\n",
      "sep borders 0.0 1.0\n",
      "q_star [0.5       0.5009901 0.5019802 0.5029703 0.5039604 0.5049505]\n",
      "n0_star borders 0.0 4.0\n",
      "Diff Rho: 0.0004082122910711175\n",
      "sep borders 0.0 1.0\n",
      "q_star [0.5       0.5009901 0.5019802 0.5029703 0.5039604 0.5049505]\n",
      "n0_star borders 0.0 4.0\n",
      "Diff Rho: 0.0003633697743093382\n",
      "sep borders 0.0 1.0\n",
      "q_star [0.5       0.5009901 0.5019802 0.5029703 0.5039604 0.5049505]\n",
      "n0_star borders 0.0 4.0\n",
      "Diff Rho: 0.0003810041566417985\n",
      "sep borders 0.0 1.0\n",
      "q_star [0.5       0.5009901 0.5019802 0.5029703 0.5039604 0.5049505]\n",
      "n0_star borders 0.0 4.0\n",
      "Diff Rho: 0.00038223327780669605\n",
      "sep borders 0.0 1.0\n",
      "q_star [0.5       0.5009901 0.5019802 0.5029703 0.5039604 0.5049505]\n",
      "n0_star borders 0.0 4.0\n",
      "Diff Rho: 0.0003445203454131076\n",
      "Errors: 2.9042706815786056e-05 2.0282213230375003e-08 1\n",
      "sep borders 0.0 1.0\n",
      "q_star [0.5       0.5009901 0.5019802 0.5029703 0.5039604 0.5049505]\n",
      "n0_star borders 0.0 4.0\n",
      "Diff Rho: 0.00035982307182200104\n",
      "sep borders 0.0 1.0\n",
      "q_star [0.5       0.5009901 0.5019802 0.5029703 0.5039604 0.5049505]\n",
      "n0_star borders 0.0 4.0\n",
      "Diff Rho: 0.0003642384526373288\n",
      "sep borders 0.0 1.0\n",
      "q_star [0.5       0.5009901 0.5019802 0.5029703 0.5039604 0.5049505]\n",
      "n0_star borders 0.0 4.0\n",
      "Diff Rho: 0.0003719912660307445\n",
      "sep borders 0.0 1.0\n",
      "q_star [0.5       0.5009901 0.5019802 0.5029703 0.5039604 0.5049505]\n",
      "n0_star borders 0.0 4.0\n",
      "Diff Rho: 0.0004301428258569274\n",
      "sep borders 0.0 1.0\n",
      "q_star [0.5       0.5009901 0.5019802 0.5029703 0.5039604 0.5049505]\n",
      "n0_star borders 0.0 4.0\n",
      "Diff Rho: 0.0003491017221835064\n",
      "sep borders 0.0 1.0\n",
      "q_star [0.5       0.5009901 0.5019802 0.5029703 0.5039604 0.5049505]\n",
      "n0_star borders 0.0 4.0\n",
      "Diff Rho: 0.00039142562960826715\n",
      "sep borders 0.0 1.0\n",
      "q_star [0.5       0.5009901 0.5019802 0.5029703 0.5039604 0.5049505]\n",
      "n0_star borders 0.0 4.0\n",
      "Diff Rho: 0.0004406000825509211\n",
      "sep borders 0.0 1.0\n",
      "q_star [0.5       0.5009901 0.5019802 0.5029703 0.5039604 0.5049505]\n",
      "n0_star borders 0.0 4.0\n",
      "Diff Rho: 0.000446145105156601\n",
      "sep borders 0.0 1.0\n",
      "q_star [0.5       0.5009901 0.5019802 0.5029703 0.5039604 0.5049505]\n",
      "n0_star borders 0.0 4.0\n",
      "Diff Rho: 0.00039520229416641143\n",
      "sep borders 0.0 1.0\n",
      "q_star [0.5       0.5009901 0.5019802 0.5029703 0.5039604 0.5049505]\n",
      "n0_star borders 0.0 4.0\n",
      "Diff Rho: 0.000391426918721242\n",
      "Errors: 4.863655201508802e-05 6.698456526515814e-08 1\n",
      "sep borders 0.0 1.0\n",
      "q_star [0.5       0.5009901 0.5019802 0.5029703 0.5039604 0.5049505]\n",
      "n0_star borders 0.0 4.0\n",
      "Diff Rho: 0.0004546709405804105\n",
      "sep borders 0.0 1.0\n",
      "q_star [0.5       0.5009901 0.5019802 0.5029703 0.5039604 0.5049505]\n",
      "n0_star borders 0.0 4.0\n",
      "Diff Rho: 0.0004131277951715532\n",
      "sep borders 0.0 1.0\n",
      "q_star [0.5       0.5009901 0.5019802 0.5029703 0.5039604 0.5049505]\n",
      "n0_star borders 0.0 4.0\n",
      "Diff Rho: 0.00038180674086618995\n",
      "sep borders 0.0 1.0\n",
      "q_star [0.5       0.5009901 0.5019802 0.5029703 0.5039604 0.5049505]\n",
      "<NULL> 0.0 4.0\n"
     ]
    },
    {
     "ename": "SystemError",
     "evalue": "CPUDispatcher(<function n0 at 0x0000026B595FE3E0>) returned a result with an exception set",
     "output_type": "error",
     "traceback": [
      "\u001b[1;31m---------------------------------------------------------------------------\u001b[0m",
      "\u001b[1;31mKeyboardInterrupt\u001b[0m                         Traceback (most recent call last)",
      "File \u001b[1;32mc:\\Programs\\Python 3.11\\Lib\\site-packages\\numba\\core\\serialize.py:30\u001b[0m, in \u001b[0;36m_numba_unpickle\u001b[1;34m(address, bytedata, hashed)\u001b[0m\n\u001b[0;32m     27\u001b[0m _unpickled_memo \u001b[38;5;241m=\u001b[39m {}\n\u001b[1;32m---> 30\u001b[0m \u001b[38;5;28;01mdef\u001b[39;00m \u001b[38;5;21m_numba_unpickle\u001b[39m(address, bytedata, hashed):\n\u001b[0;32m     31\u001b[0m \u001b[38;5;250m    \u001b[39m\u001b[38;5;124;03m\"\"\"Used by `numba_unpickle` from _helperlib.c\u001b[39;00m\n\u001b[0;32m     32\u001b[0m \n\u001b[0;32m     33\u001b[0m \u001b[38;5;124;03m    Parameters\u001b[39;00m\n\u001b[1;32m   (...)\u001b[0m\n\u001b[0;32m     42\u001b[0m \u001b[38;5;124;03m        unpickled object\u001b[39;00m\n\u001b[0;32m     43\u001b[0m \u001b[38;5;124;03m    \"\"\"\u001b[39;00m\n",
      "\u001b[1;31mKeyboardInterrupt\u001b[0m: ",
      "\nThe above exception was the direct cause of the following exception:\n",
      "\u001b[1;31mSystemError\u001b[0m                               Traceback (most recent call last)",
      "\u001b[1;31mSystemError\u001b[0m: <function _numba_unpickle at 0x0000026B590005E0> returned a result with an exception set",
      "\nThe above exception was the direct cause of the following exception:\n",
      "\u001b[1;31mSystemError\u001b[0m                               Traceback (most recent call last)",
      "Cell \u001b[1;32mIn[4], line 3\u001b[0m\n\u001b[0;32m      1\u001b[0m \u001b[38;5;28;01mfrom\u001b[39;00m \u001b[38;5;21;01mMultiworker_Contract_Spline\u001b[39;00m \u001b[38;5;28;01mimport\u001b[39;00m MultiworkerContract\n\u001b[0;32m      2\u001b[0m mwc \u001b[38;5;241m=\u001b[39m MultiworkerContract(\u001b[38;5;241m6\u001b[39m, p, cc\u001b[38;5;241m.\u001b[39mjs)\n\u001b[1;32m----> 3\u001b[0m (mwc_J,mwc_W,mwc_U,mwc_Rho,mwc_Wstar,mwc_sep,mwc_n0,mwc_n1)\u001b[38;5;241m=\u001b[39m\u001b[43mmwc\u001b[49m\u001b[38;5;241;43m.\u001b[39;49m\u001b[43mJ_sep\u001b[49m\u001b[43m(\u001b[49m\u001b[43ms\u001b[49m\u001b[38;5;241;43m=\u001b[39;49m\u001b[38;5;241;43m10.0\u001b[39;49m\u001b[43m)\u001b[49m\n",
      "File \u001b[1;32mc:\\Users\\andre\\Codes\\Multi-worker firm\\Multiworker_wage_2steps\\Multiworker_Contract_Spline.py:925\u001b[0m, in \u001b[0;36mMultiworkerContract.J_sep\u001b[1;34m(self, Jg, Wg, Ug, Rhog, update_eq, s)\u001b[0m\n\u001b[0;32m    923\u001b[0m \u001b[38;5;28;01mif\u001b[39;00m ite_num \u001b[38;5;241m>\u001b[39m\u001b[38;5;241m=\u001b[39m \u001b[38;5;241m10\u001b[39m:\n\u001b[0;32m    924\u001b[0m     Ihire \u001b[38;5;241m=\u001b[39m ((Rhod0[\u001b[38;5;241m.\u001b[39m\u001b[38;5;241m.\u001b[39m\u001b[38;5;241m.\u001b[39m,\u001b[38;5;241m1\u001b[39m]\u001b[38;5;241m-\u001b[39mRhod0[\u001b[38;5;241m.\u001b[39m\u001b[38;5;241m.\u001b[39m\u001b[38;5;241m.\u001b[39m,\u001b[38;5;241m0\u001b[39m]) \u001b[38;5;241m/\u001b[39m (N_grid[\u001b[38;5;241m1\u001b[39m]\u001b[38;5;241m-\u001b[39mN_grid[\u001b[38;5;241m0\u001b[39m]) \u001b[38;5;241m>\u001b[39m \u001b[38;5;28mself\u001b[39m\u001b[38;5;241m.\u001b[39mp\u001b[38;5;241m.\u001b[39mhire_c\u001b[38;5;241m/\u001b[39m\u001b[38;5;28mself\u001b[39m\u001b[38;5;241m.\u001b[39mp\u001b[38;5;241m.\u001b[39mbeta) \u001b[38;5;241m&\u001b[39m (size[\u001b[38;5;241m.\u001b[39m\u001b[38;5;241m.\u001b[39m\u001b[38;5;241m.\u001b[39m,\u001b[38;5;241m0\u001b[39m]\u001b[38;5;241m+\u001b[39msize[\u001b[38;5;241m.\u001b[39m\u001b[38;5;241m.\u001b[39m\u001b[38;5;241m.\u001b[39m,\u001b[38;5;241m1\u001b[39m] \u001b[38;5;241m<\u001b[39m \u001b[38;5;28mself\u001b[39m\u001b[38;5;241m.\u001b[39mp\u001b[38;5;241m.\u001b[39mn_bar)\n\u001b[1;32m--> 925\u001b[0m     n0_star \u001b[38;5;241m=\u001b[39m \u001b[43mn0\u001b[49m\u001b[43m(\u001b[49m\u001b[43mRhod0\u001b[49m\u001b[43m,\u001b[49m\u001b[43m \u001b[49m\u001b[43mn0_star\u001b[49m\u001b[43m,\u001b[49m\u001b[43m \u001b[49m\u001b[43mN_grid\u001b[49m\u001b[43m,\u001b[49m\u001b[43m \u001b[49m\u001b[43mIhire\u001b[49m\u001b[43m,\u001b[49m\u001b[43m \u001b[49m\u001b[38;5;28;43mself\u001b[39;49m\u001b[38;5;241;43m.\u001b[39;49m\u001b[43mp\u001b[49m\u001b[38;5;241;43m.\u001b[39;49m\u001b[43mhire_c\u001b[49m\u001b[43m \u001b[49m\u001b[38;5;241;43m/\u001b[39;49m\u001b[43m \u001b[49m\u001b[38;5;28;43mself\u001b[39;49m\u001b[38;5;241;43m.\u001b[39;49m\u001b[43mp\u001b[49m\u001b[38;5;241;43m.\u001b[39;49m\u001b[43mbeta\u001b[49m\u001b[43m)\u001b[49m\n\u001b[0;32m    927\u001b[0m \u001b[38;5;66;03m#Future optimal expectations\u001b[39;00m\n\u001b[0;32m    928\u001b[0m ERho_star \u001b[38;5;241m=\u001b[39m interp_multidim(n0_star,N_grid,np\u001b[38;5;241m.\u001b[39mmoveaxis(Rhod0,\u001b[38;5;241m-\u001b[39m\u001b[38;5;241m1\u001b[39m,\u001b[38;5;241m0\u001b[39m))\n",
      "\u001b[1;31mSystemError\u001b[0m: CPUDispatcher(<function n0 at 0x0000026B595FE3E0>) returned a result with an exception set"
     ]
    }
   ],
   "source": [
    "from Multiworker_Contract_Spline import MultiworkerContract\n",
    "mwc = MultiworkerContract(6, p, cc.js)\n",
    "(mwc_J,mwc_W,mwc_U,mwc_Rho,mwc_Wstar,mwc_sep,mwc_n0,mwc_n1)=mwc.J_sep(s=10.0)"
   ]
  },
  {
   "cell_type": "code",
   "execution_count": 11,
   "metadata": {},
   "outputs": [],
   "source": [
    "objects['mwc_J'] = mwc_J\n",
    "objects['mwc_W'] = mwc_W\n",
    "objects['mwc_U'] = mwc_U\n",
    "objects['mwc_Rho'] = mwc_Rho"
   ]
  },
  {
   "cell_type": "code",
   "execution_count": 8,
   "metadata": {},
   "outputs": [
    {
     "data": {
      "text/plain": [
       "[<matplotlib.lines.Line2D at 0x248c17d21d0>]"
      ]
     },
     "execution_count": 8,
     "metadata": {},
     "output_type": "execute_result"
    },
    {
     "data": {
      "image/png": "[encoded data removed]",
      "text/plain": [
       "<Figure size 640x480 with 1 Axes>"
      ]
     },
     "metadata": {},
     "output_type": "display_data"
    }
   ],
   "source": [
    "prod = p.z_0-2\n",
    "j=1\n",
    "s=2\n",
    "minv= 0\n",
    "q = 0\n",
    "\n",
    "\n",
    "\n",
    "plt.plot(mwc_W[prod,j,s,:,q,1],mwc_J[prod,j,s,:,q])\n",
    "plt.plot(mwc_W[prod,j,s,:,q,1],J_spline_curve)\n",
    "\n",
    "\n",
    "#plt.plot(mwc_Rho_W[prod,j,s,:,q,1],mwc_Rho.J1p.eval_at_W1(mwc_Rho_W[...,1])[prod,j,s,:,q])\n",
    "#plt.plot(mwc_Rho_W[prod,j,s,:,0,1],mwc_Rho_Rho[prod,j,s,:,0]) #Why is Rho convex??? Why J is concave? Also it's not smooth at highest productivity, effect of hiring i'd wager\n",
    "#plt.plot(mwc_Rho_W[prod,j,s,:,0,1],mwc_Rho_n0[prod,j,s,:,0])\n",
    "#plt.plot(mwc.w_grid,mwc_W[p.z_0-1,j,s,:,0,1])\n",
    "#plt.plot(mwc_Rho.w_grid,mwc_Rho_J[p.z_0-1,j,s,:,0])"
   ]
  },
  {
   "cell_type": "code",
   "execution_count": 6,
   "metadata": {},
   "outputs": [
    {
     "data": {
      "text/plain": [
       "[<matplotlib.lines.Line2D at 0x248c15acb50>]"
      ]
     },
     "execution_count": 6,
     "metadata": {},
     "output_type": "execute_result"
    },
    {
     "data": {
      "image/png": "[encoded data removed]",
      "text/plain": [
       "<Figure size 640x480 with 1 Axes>"
      ]
     },
     "metadata": {},
     "output_type": "display_data"
    }
   ],
   "source": [
    "plt.plot(mwc_W[prod,j,s,:,q,1],mwc_sep[prod,j,s,:,q])"
   ]
  },
  {
   "cell_type": "code",
   "execution_count": 7,
   "metadata": {},
   "outputs": [],
   "source": [
    "from scipy.interpolate import splrep\n",
    "from scipy.interpolate import splev\n",
    "\n",
    "J_spline = splrep(mwc_W[prod,j,s,:,q,1],mwc_J[prod,j,s,:,q],s=10.0)\n",
    "J_spline_curve = splev(mwc_W[prod,j,s,:,q,1], J_spline)"
   ]
  },
  {
   "cell_type": "code",
   "execution_count": null,
   "metadata": {},
   "outputs": [],
   "source": [
    "mwc_Rho_J = results['J']\n",
    "mwc_Rho_W = results['W']\n",
    "mwc_Rho_U = results['U']                                                                                                                                                                                                                                                                                                                                                                                                                                                                                                                                                                                                                                                                                                                                                                                    \n",
    "mwc_Rho_Rho = results['Rho']\n",
    "\n",
    "\n",
    "from Multiworker_Contract_Tasmanian_light import MultiworkerContract\n",
    "mwc = MultiworkerContract(6, p, cc.js)\n",
    "(mwc_J,mwc_W,mwc_U,mwc,mwc_Wstar,mwc_sep,mwc_n0,mwc_n1)=mwc.J_sep()"
   ]
  },
  {
   "cell_type": "markdown",
   "metadata": {},
   "source": [
    "Tasmanian Hiring. SUPER SLOW. Like 5+ seconds per iteration"
   ]
  },
  {
   "cell_type": "code",
   "execution_count": null,
   "metadata": {},
   "outputs": [],
   "source": [
    "            #How would I do it using Tasmanian\n",
    "            n0_star_x = np.zeros_like(n0_star)\n",
    "            foc_hire = np.zeros_like(Rhod0)\n",
    "            start= time.time()\n",
    "            if ite_num >= 10:\n",
    "             for iz in range(self.p.num_z):\n",
    "                for in0 in range(self.p.num_n):\n",
    "                 for in1 in range(self.p.num_n):\n",
    "                    for iv in range(self.p.num_v):\n",
    "                        for iq in range(self.p.num_q):\n",
    "                         for in00 in range(self.p.num_n):\n",
    "                            foc_hire[iz,in0,in1,iv,iq,in00] = self.gridE[iz].differentiate(np.array([N_grid[in00], n1_star[iz, in0, in1, iv, iq], rho_star[iz, in0, in1, iv, iq], q_star[iz, in0, in1, iv, iq]]))[0]\n",
    "                            if foc_hire[iz,in0,in1,iv,iq,in00] < self.p.hire_c/self.p.beta: \n",
    "                                if in00 == 0:\n",
    "                                    break #Meaning that n0_star is 0\n",
    "                                else: \n",
    "                                    n0_star_x[iz,in0,in1,iv,iq] = np.interp (self.p.hire_c/self.p.beta, foc_hire[iz,in0,in1,iv,iq,:in00],N_grid[:in00])\n",
    "                                    break\n",
    "            end= time.time()\n",
    "            print(\"Time for the Tasmanin hiring\", end-start)    \n",
    "            print(\"Difference between hiring methods\", np.mean(np.abs(n0_star_x-n0_star))) #Note that this is in differences rather than %\n"
   ]
  },
  {
   "cell_type": "markdown",
   "metadata": {},
   "source": [
    "Rhod0 alternative. ALSO GETS FUCKING SLOW FUUUUUUUUUUUUUUUCK\n",
    "Even at its fastest (<1sec) was still 10 times slower than lin interp"
   ]
  },
  {
   "cell_type": "code",
   "execution_count": null,
   "metadata": {},
   "outputs": [],
   "source": [
    "            print(\"Time for Rhod0\", end-start)   \n",
    "            #Alternatively, we can do points evaluation. Maybe it's faster?\n",
    "            Rhod0_x = np.zeros_like(Rhod0)\n",
    "            start=time.time()\n",
    "            # Repeat N_grid along the number of flattened points\n",
    "            n0_repeated = np.repeat(N_grid[:, np.newaxis], n1_star[0, ...].size, axis=1)\n",
    "            for iz in range(self.p.num_z):\n",
    "                # Flatten n1_star, rho_star, q_star\n",
    "                n1_flat = n1_star[iz, ...].ravel()\n",
    "                rho_flat = rho_star[iz, ...].ravel()\n",
    "                q_flat = q_star[iz, ...].ravel()\n",
    "\n",
    "                # Prepare points to evaluate (shape: (num_points * num_n, 4))\n",
    "                points_to_evaluate = np.vstack([\n",
    "                n0_repeated.ravel(),  # Flatten n0_repeated to match the other arrays\n",
    "                np.tile(n1_flat, self.p.num_n),  # Repeat n1_flat for each n0 value\n",
    "                np.tile(rho_flat, self.p.num_n),  # Same for rho_flat\n",
    "                np.tile(q_flat, self.p.num_n)    # Same for q_flat\n",
    "                ]).T\n",
    "\n",
    "                # Evaluate the batch\n",
    "                results = self.gridE[iz].evaluateBatch(points_to_evaluate)[..., 0].reshape(n0_star[iz, ...].shape + (self.p.num_n,))\n",
    "\n",
    "                # Store results\n",
    "                Rhod0_x[iz, ...] = results\n",
    "            end=time.time()\n",
    "            print(\"Time for Tasmanian Rhod0\", end-start)\n",
    "            print(\"Difference between Rhod0 methods\", np.mean(np.abs((Rhod0-Rhod0_x)/Rhod0)))\n",
    "            Rhod0 = Rhod0_x"
   ]
  },
  {
   "cell_type": "code",
   "execution_count": 4,
   "metadata": {},
   "outputs": [],
   "source": [
    "mwc_Rho_J = objects['mwc_Rho_J']\n",
    "mwc_Rho_W = objects['mwc_Rho_W']"
   ]
  },
  {
   "cell_type": "code",
   "execution_count": null,
   "metadata": {},
   "outputs": [],
   "source": [
    "from Multiworker_Contract_hire_Rho_noapprox import MultiworkerContract\n",
    "mwc_Rho=MultiworkerContract(p,cc.js)\n",
    "(mwc_Rho_J,mwc_Rho_W,mwc_Rho_U,mwc_Rho_Rho,mwc_Rho_Wstar,mwc_Rho_sep,mwc_Rho_n0,mwc_Rho_n1)=mwc_Rho.J_sep(mwc_Rho_J,mwc_Rho_W,mwc_Rho_U)"
   ]
  },
  {
   "cell_type": "code",
   "execution_count": 7,
   "metadata": {},
   "outputs": [],
   "source": [
    "objects['mwc_Rho_J'] = mwc_Rho_J\n",
    "objects['mwc_Rho_W'] = mwc_Rho_W\n",
    "objects['mwc_Rho_U'] = mwc_Rho_U\n",
    "objects['mwc_Rho_Rho'] = mwc_Rho_Rho"
   ]
  },
  {
   "cell_type": "code",
   "execution_count": null,
   "metadata": {},
   "outputs": [],
   "source": [
    "\n",
    "assert np.all(mwc.rho_grid[1:] >= mwc.rho_grid[ :-1])"
   ]
  },
  {
   "cell_type": "code",
   "execution_count": 26,
   "metadata": {},
   "outputs": [
    {
     "data": {
      "text/plain": [
       "array([[2.    , 2.    , 2.    , ..., 3.6875, 3.8125, 3.9375],\n",
       "       [2.005 , 2.005 , 2.005 , ..., 2.005 , 2.005 , 2.005 ]])"
      ]
     },
     "execution_count": 26,
     "metadata": {},
     "output_type": "execute_result"
    }
   ],
   "source": [
    "np.array((mwc.points[:,0],mwc.points[:,1]))"
   ]
  },
  {
   "cell_type": "code",
   "execution_count": 29,
   "metadata": {},
   "outputs": [
    {
     "name": "stdout",
     "output_type": "stream",
     "text": [
      "Unique combinations of (a, b, d):\n",
      "[[0.      0.01    0.5    ]\n",
      " [0.      0.01    0.53125]\n",
      " [0.      0.01    0.5625 ]\n",
      " ...\n",
      " [4.      4.      0.9375 ]\n",
      " [4.      4.      0.96875]\n",
      " [4.      4.      1.     ]]\n"
     ]
    }
   ],
   "source": [
    "# Exclude the 3rd dimension (index 2)\n",
    "points_reduced = np.delete(mwc.points, 2, axis=1)\n",
    "\n",
    "# Find unique combinations\n",
    "unique_combinations = np.unique(points_reduced, axis=0)\n",
    "\n",
    "print(\"Unique combinations of (a, b, d):\")\n",
    "print(unique_combinations)"
   ]
  },
  {
   "cell_type": "code",
   "execution_count": 30,
   "metadata": {},
   "outputs": [
    {
     "data": {
      "text/plain": [
       "(1073, 3)"
      ]
     },
     "execution_count": 30,
     "metadata": {},
     "output_type": "execute_result"
    }
   ],
   "source": [
    "unique_combinations.shape"
   ]
  },
  {
   "cell_type": "markdown",
   "metadata": {},
   "source": [
    "Checks for the Continuous Contract"
   ]
  },
  {
   "cell_type": "code",
   "execution_count": 16,
   "metadata": {},
   "outputs": [],
   "source": [
    "cc.grid[p.z_0-1].setSurplusRefinement(1e-3,-1,'classic')"
   ]
  },
  {
   "cell_type": "code",
   "execution_count": 18,
   "metadata": {},
   "outputs": [
    {
     "data": {
      "text/plain": [
       "array([[4.17525232],\n",
       "       [4.2466063 ]])"
      ]
     },
     "execution_count": 18,
     "metadata": {},
     "output_type": "execute_result"
    }
   ],
   "source": [
    "cc.grid[p.z_0-1].getNeededPoints()"
   ]
  },
  {
   "cell_type": "code",
   "execution_count": 20,
   "metadata": {},
   "outputs": [],
   "source": [
    "a=np.array((1,2,3))"
   ]
  },
  {
   "cell_type": "code",
   "execution_count": 23,
   "metadata": {},
   "outputs": [
    {
     "data": {
      "text/plain": [
       "array([1, 2])"
      ]
     },
     "execution_count": 23,
     "metadata": {},
     "output_type": "execute_result"
    }
   ],
   "source": [
    "a[:2]"
   ]
  },
  {
   "cell_type": "code",
   "execution_count": null,
   "metadata": {},
   "outputs": [],
   "source": [
    "cc.grid[p.z_0-1].loadNeededPoints() #Note that this would load ONLY the extra points suggested by the refinement!"
   ]
  },
  {
   "cell_type": "code",
   "execution_count": 28,
   "metadata": {},
   "outputs": [
    {
     "data": {
      "text/plain": [
       "array([114.6981696])"
      ]
     },
     "execution_count": 28,
     "metadata": {},
     "output_type": "execute_result"
    }
   ],
   "source": [
    "np.interp(cc.grid[p.z_0-1].getNeededPoints()[0],cc.rho_grid,cc_W[p.z_0-1,:])"
   ]
  },
  {
   "cell_type": "code",
   "execution_count": 10,
   "metadata": {},
   "outputs": [
    {
     "data": {
      "text/plain": [
       "[<matplotlib.lines.Line2D at 0x2717f5d63d0>]"
      ]
     },
     "execution_count": 10,
     "metadata": {},
     "output_type": "execute_result"
    },
    {
     "data": {
      "image/png": "[encoded data removed]",
      "text/plain": [
       "<Figure size 640x480 with 1 Axes>"
      ]
     },
     "metadata": {},
     "output_type": "display_data"
    }
   ],
   "source": [
    "Wrange = np.interp(cc.rho_grid_bas,cc.rho_grid,cc_W[p.z_0-1,:])\n",
    "plt.plot(Wrange, cc.grid[p.z_0-1].evaluateBatch(cc.rho_grid_bas[:,np.newaxis])[:,0])"
   ]
  },
  {
   "cell_type": "code",
   "execution_count": 15,
   "metadata": {},
   "outputs": [
    {
     "data": {
      "text/plain": [
       "[<matplotlib.lines.Line2D at 0x2717f77aa50>]"
      ]
     },
     "execution_count": 15,
     "metadata": {},
     "output_type": "execute_result"
    },
    {
     "data": {
      "image/png": "[encoded data removed]",
      "text/plain": [
       "<Figure size 640x480 with 1 Axes>"
      ]
     },
     "metadata": {},
     "output_type": "display_data"
    }
   ],
   "source": [
    "#Trying to plot the derivative and compare to rho\n",
    "plt.plot(cc.rho_grid_bas[:50],tas_derivatives[:50]-cc.rho_grid_bas[:50])"
   ]
  },
  {
   "cell_type": "code",
   "execution_count": 38,
   "metadata": {},
   "outputs": [],
   "source": [
    "jj = cc.grid[p.z_0-1].differentiate(cc.rho_grid_bas[0:3])"
   ]
  },
  {
   "cell_type": "code",
   "execution_count": 40,
   "metadata": {},
   "outputs": [
    {
     "data": {
      "text/plain": [
       "1"
      ]
     },
     "execution_count": 40,
     "metadata": {},
     "output_type": "execute_result"
    }
   ],
   "source": [
    "cc.grid[p.z_0-1].getNumDimensions()"
   ]
  },
  {
   "cell_type": "code",
   "execution_count": 39,
   "metadata": {},
   "outputs": [
    {
     "data": {
      "text/plain": [
       "array(-2.52306488)"
      ]
     },
     "execution_count": 39,
     "metadata": {},
     "output_type": "execute_result"
    }
   ],
   "source": [
    "jj"
   ]
  },
  {
   "cell_type": "code",
   "execution_count": 13,
   "metadata": {},
   "outputs": [],
   "source": [
    "cc.grid[p.z_0-1].differentiate(cc.rho_grid_bas)\n",
    "\n",
    "tas_derivatives = []\n",
    "for pt in range(1,cc.rho_grid_bas.shape[0]-1):\n",
    "    jac = cc.grid[p.z_0-1].differentiate(cc.rho_grid_bas[pt])  # returns flat array of length outputs*dimensions\n",
    "    # We want the derivative w.r.t x_1, which is dimension=1 (0-based)\n",
    "    # For a single output: jac = [dJ/dx0, dJ/dx1, dJ/dx2, dJ/dx3, dJ/dx4]\n",
    "    dJdx1 = -jac/((Wrange[pt+1]-Wrange[pt-1])/(cc.rho_grid_bas[pt+1]-cc.rho_grid_bas[pt-1])) #Derivative around coordinate 1\n",
    "    tas_derivatives.append(dJdx1)\n",
    "\n"
   ]
  },
  {
   "cell_type": "code",
   "execution_count": 39,
   "metadata": {},
   "outputs": [
    {
     "data": {
      "text/plain": [
       "array(-80.)"
      ]
     },
     "execution_count": 39,
     "metadata": {},
     "output_type": "execute_result"
    }
   ],
   "source": [
    "cc.grid[p.z_0-1].differentiate(cc.rho_grid_bas[199])"
   ]
  },
  {
   "cell_type": "code",
   "execution_count": 29,
   "metadata": {},
   "outputs": [
    {
     "data": {
      "text/plain": [
       "[<matplotlib.lines.Line2D at 0x17340c4e790>]"
      ]
     },
     "execution_count": 29,
     "metadata": {},
     "output_type": "execute_result"
    },
    {
     "data": {
      "image/png": "[encoded data removed]",
      "text/plain": [
       "<Figure size 640x480 with 1 Axes>"
      ]
     },
     "metadata": {},
     "output_type": "display_data"
    }
   ],
   "source": [
    "plt.plot(cc_W[p.z_0-1,:],cc_J[p.z_0-1,:])\n",
    "#plt.plot(cc_W[p.z_0-1,:],cc_Jpi[p.z_0-1,:])"
   ]
  },
  {
   "cell_type": "code",
   "execution_count": 5,
   "metadata": {},
   "outputs": [
    {
     "name": "stdout",
     "output_type": "stream",
     "text": [
      "115.11807503732125\n"
     ]
    }
   ],
   "source": [
    "from ContinuousContract import ContinuousContract\n",
    "cc=ContinuousContract(p)"
   ]
  },
  {
   "cell_type": "code",
   "execution_count": 6,
   "metadata": {},
   "outputs": [
    {
     "data": {
      "image/png": "[encoded data removed]",
      "text/plain": [
       "<Figure size 640x480 with 1 Axes>"
      ]
     },
     "metadata": {},
     "output_type": "display_data"
    }
   ],
   "source": [
    "(cc_J,cc_W,cc_Wstar,cc_Jpi,cc_pc)=cc.J(1)"
   ]
  },
  {
   "cell_type": "code",
   "execution_count": 8,
   "metadata": {},
   "outputs": [
    {
     "data": {
      "text/plain": [
       "[<matplotlib.lines.Line2D at 0x13f7c34ec10>]"
      ]
     },
     "execution_count": 8,
     "metadata": {},
     "output_type": "execute_result"
    },
    {
     "data": {
      "image/png": "[encoded data removed]",
      "text/plain": [
       "<Figure size 640x480 with 1 Axes>"
      ]
     },
     "metadata": {},
     "output_type": "display_data"
    }
   ],
   "source": [
    "plt.plot(cc_W[p.z_0-1,:],cc_J[p.z_0-1,:])\n",
    "#plt.plot(cc_W[p.z_0-1,:],cc_Jpi[p.z_0-1,:])"
   ]
  },
  {
   "cell_type": "markdown",
   "metadata": {},
   "source": [
    "Tring to apply Tasmanian to the already evaluated J using interpolations.\n",
    "Note: in the ideal Tasmanian scenario, I would instead directly evaluate J at the points suggested by Tasmanian! This would be essentially an endogenous grid method"
   ]
  },
  {
   "cell_type": "code",
   "execution_count": 5,
   "metadata": {},
   "outputs": [
    {
     "name": "stdout",
     "output_type": "stream",
     "text": [
      "(3, 200, 5, 4, 1, 1.0, 1.0, 1.0, 0.85, 0.25, 1.0)\n"
     ]
    }
   ],
   "source": [
    "# Load the temp objects\n",
    "try:\n",
    "    with open('my_objects.pkl', 'rb') as file:\n",
    "        objects = pickle.load(file)\n",
    "except FileNotFoundError:\n",
    "    # If the file doesn't exist, start with an empty dictionary\n",
    "    objects = {}\n",
    "\n",
    "# Load the permanent results, for sep, across different parametrizations\n",
    "with open(\"results_Rho_sep.pkl\", \"rb\") as file:\n",
    "    all_results = pickle.load(file)\n",
    "results = get_results_for_p(p,all_results)"
   ]
  },
  {
   "cell_type": "code",
   "execution_count": 8,
   "metadata": {},
   "outputs": [],
   "source": [
    "from Multiworker_Contract_hire_Rho_noapprox import MultiworkerContract\n",
    "mwc_Rho=MultiworkerContract(p,cc.js)"
   ]
  },
  {
   "cell_type": "code",
   "execution_count": 71,
   "metadata": {},
   "outputs": [],
   "source": [
    "from scipy.interpolate import RegularGridInterpolator\n",
    "\n",
    "vals = np.array([RegularGridInterpolator((mwc_Rho.N_grid, mwc_Rho.N_grid1, mwc_Rho.rho_grid, mwc_Rho.Q_grid), J, bounds_error=False, fill_value=None) (po) for po in points])\n"
   ]
  },
  {
   "cell_type": "code",
   "execution_count": 57,
   "metadata": {},
   "outputs": [],
   "source": [
    "dim = 1\n",
    "outputs = 1\n",
    "depth = 25\n",
    "anisotropic_weights = [1, 1, 2]  # for example, give dimension 3 more weight. Use this to make the foc make sense in high dimensions!\n",
    "\n",
    "grid = {}\n",
    "grid[1] = Tasmanian.TasmanianSparseGrid()\n",
    "# Using a global polynomial rule for demonstration:\n",
    "grid[1].makeGlobalGrid(dim, outputs, depth, \"level\", \"rleja\")\n",
    "\n",
    "points = grid[1].getPoints()"
   ]
  },
  {
   "cell_type": "code",
   "execution_count": 59,
   "metadata": {},
   "outputs": [],
   "source": [
    "sorted_indices = np.argsort(points[:, 0])  # for a 1D example\n",
    "points_sorted = points[sorted_indices]\n",
    "values_sorted = original_values[sorted_indices]\n"
   ]
  },
  {
   "cell_type": "code",
   "execution_count": 63,
   "metadata": {},
   "outputs": [
    {
     "data": {
      "text/plain": [
       "0"
      ]
     },
     "execution_count": 63,
     "metadata": {},
     "output_type": "execute_result"
    }
   ],
   "source": [
    "sorted_indices[25]"
   ]
  },
  {
   "cell_type": "code",
   "execution_count": 64,
   "metadata": {},
   "outputs": [
    {
     "data": {
      "text/plain": [
       "array([ 0,  1,  2,  3,  4,  5,  6,  7,  8,  9, 10, 11, 12, 13, 14, 15, 16,\n",
       "       17, 18, 19, 20, 21, 22, 23, 24, 25], dtype=int64)"
      ]
     },
     "execution_count": 64,
     "metadata": {},
     "output_type": "execute_result"
    }
   ],
   "source": [
    "inverse_indices[sorted_indices]"
   ]
  },
  {
   "cell_type": "code",
   "execution_count": 60,
   "metadata": {},
   "outputs": [
    {
     "ename": "NameError",
     "evalue": "name 'updated_values_sorted' is not defined",
     "output_type": "error",
     "traceback": [
      "\u001b[1;31m---------------------------------------------------------------------------\u001b[0m",
      "\u001b[1;31mNameError\u001b[0m                                 Traceback (most recent call last)",
      "Cell \u001b[1;32mIn[60], line 6\u001b[0m\n\u001b[0;32m      3\u001b[0m inverse_indices[sorted_indices] \u001b[38;5;241m=\u001b[39m np\u001b[38;5;241m.\u001b[39marange(\u001b[38;5;28mlen\u001b[39m(sorted_indices))\n\u001b[0;32m      5\u001b[0m \u001b[38;5;66;03m# Use inverse_indices to rearrange the updated values back to the original order\u001b[39;00m\n\u001b[1;32m----> 6\u001b[0m updated_values \u001b[38;5;241m=\u001b[39m \u001b[43mupdated_values_sorted\u001b[49m[inverse_indices]\n",
      "\u001b[1;31mNameError\u001b[0m: name 'updated_values_sorted' is not defined"
     ]
    }
   ],
   "source": [
    "# Create an inverse mapping from sorted indices back to original\n",
    "inverse_indices = np.zeros_like(sorted_indices)\n",
    "inverse_indices[sorted_indices] = np.arange(len(sorted_indices))\n",
    "\n",
    "# Use inverse_indices to rearrange the updated values back to the original order\n",
    "updated_values = updated_values_sorted[inverse_indices]\n"
   ]
  },
  {
   "cell_type": "code",
   "execution_count": 53,
   "metadata": {},
   "outputs": [
    {
     "name": "stdout",
     "output_type": "stream",
     "text": [
      "Number of points 1729\n"
     ]
    }
   ],
   "source": [
    "import numpy as np\n",
    "import matplotlib.pyplot as plt\n",
    "import time\n",
    "from scipy.interpolate import RegularGridInterpolator\n",
    "\n",
    "J = objects['mwc_Rho_J']\n",
    "W = objects['mwc_Rho_W']\n",
    "\n",
    "J = J[p.z_0-1,...,0]\n",
    "\n",
    "# Create a global sparse grid\n",
    "dim = 3\n",
    "outputs = 1\n",
    "depth = 25\n",
    "anisotropic_weights = [1, 1, 2]  # for example, give dimension 3 more weight. Use this to make the foc make sense in high dimensions!\n",
    "\n",
    "grid = {}\n",
    "grid[1] = Tasmanian.TasmanianSparseGrid()\n",
    "# Using a global polynomial rule for demonstration:\n",
    "grid[1].makeGlobalGrid(dim, outputs, depth, \"level\", \"rleja\", anisotropic_weights)\n",
    "#Good methods: \"clenshaw-curtis\", rleja\" maybe?, \"gauss-patterson\" kinda overdoes it, \"leja\" is good but requires higher depth (like 10)... still not many points though!\n",
    "\n",
    "\n",
    "a = (mwc_Rho.N_grid[0]+1e-10,mwc_Rho.N_grid1[0]+1e-10,mwc_Rho.rho_grid[0]+1e-10)\n",
    "b = (mwc_Rho.N_grid[-1]-1e-10,mwc_Rho.N_grid1[-1]-1e-10,mwc_Rho.rho_grid[-1]-1e-10)\n",
    "grid[1].setDomainTransform(np.column_stack((a, b)))\n",
    "# Get the points where Tasmanian wants J evaluated\n",
    "points = grid[1].getPoints()  # shape = (N,4)\n",
    "print (\"Number of points\", points.shape[0])\n",
    "\n",
    "# Evaluate J at these points (our \"given\" data)\n",
    "vals = np.array([RegularGridInterpolator((mwc_Rho.N_grid, mwc_Rho.N_grid1, mwc_Rho.rho_grid), J, bounds_error=False, fill_value=None) (po) for po in points])\n",
    "\n",
    "# Load these values into the Tasmanian grid\n",
    "grid[1].loadNeededPoints(vals)\n",
    "\n",
    "# 1. Plotting along dimension 2:\n",
    "# Fix other dimensions, say x0=0.0, x1=0.0, x3=0.5, x4=-0.2\n",
    "j= 0\n",
    "s= 1\n",
    "fixed_x0 = mwc_Rho.N_grid[j]\n",
    "fixed_x1 = mwc_Rho.N_grid1[s]\n",
    "\n",
    "\n",
    "# Create a range of points along x_2\n",
    "x2_values = mwc_Rho.rho_grid[1:-2]\n",
    "plot_points = np.zeros((197,3))\n",
    "plot_points[:,0] = fixed_x0\n",
    "plot_points[:,1] = fixed_x1\n",
    "plot_points[:,2] = x2_values\n",
    "\n",
    "\n",
    "# Evaluate original function J at these slice points\n",
    "original_values = np.array([J[j,s,1:-2]])[0,:]\n",
    "\n",
    "# Evaluate the Tasmanian surrogate at these slice points\n",
    "fitted_values = grid[1].evaluateBatch(plot_points)[:,0]"
   ]
  },
  {
   "cell_type": "code",
   "execution_count": 21,
   "metadata": {},
   "outputs": [
    {
     "data": {
      "image/png": "[encoded data removed]",
      "text/plain": [
       "<Figure size 1000x600 with 1 Axes>"
      ]
     },
     "metadata": {},
     "output_type": "display_data"
    }
   ],
   "source": [
    "# Plot the original vs fitted\n",
    "plt.figure(figsize=(10,6))\n",
    "plt.plot(x2_values, original_values, label='Original J', linewidth=2)\n",
    "plt.plot(x2_values, fitted_values, label='Fitted J (Tasmanian)', linestyle='--', linewidth=2)\n",
    "plt.xlabel('x2')\n",
    "plt.ylabel('J')\n",
    "plt.title('Comparison of Original and Fitted Function along x2')\n",
    "plt.legend()\n",
    "plt.grid(True)\n",
    "plt.show()\n"
   ]
  },
  {
   "cell_type": "code",
   "execution_count": 22,
   "metadata": {},
   "outputs": [
    {
     "ename": "NameError",
     "evalue": "name 'deriv_points' is not defined",
     "output_type": "error",
     "traceback": [
      "\u001b[1;31m---------------------------------------------------------------------------\u001b[0m",
      "\u001b[1;31mNameError\u001b[0m                                 Traceback (most recent call last)",
      "Cell \u001b[1;32mIn[22], line 4\u001b[0m\n\u001b[0;32m      2\u001b[0m s\u001b[38;5;241m=\u001b[39m\u001b[38;5;241m0\u001b[39m\n\u001b[0;32m      3\u001b[0m v\u001b[38;5;241m=\u001b[39m\u001b[38;5;241m100\u001b[39m\n\u001b[1;32m----> 4\u001b[0m \u001b[43mderiv_points\u001b[49m[:,\u001b[38;5;241m0\u001b[39m] \u001b[38;5;241m=\u001b[39m mwc_Rho\u001b[38;5;241m.\u001b[39mN_grid[j]\n\u001b[0;32m      5\u001b[0m deriv_points[:,\u001b[38;5;241m1\u001b[39m] \u001b[38;5;241m=\u001b[39m mwc_Rho\u001b[38;5;241m.\u001b[39mN_grid1[s]  \u001b[38;5;66;03m# We'll differentiate w.r.t. this dimension (x1)\u001b[39;00m\n\u001b[0;32m      6\u001b[0m deriv_points[:,\u001b[38;5;241m2\u001b[39m] \u001b[38;5;241m=\u001b[39m test_points   \u001b[38;5;66;03m# fix other dimensions\u001b[39;00m\n",
      "\u001b[1;31mNameError\u001b[0m: name 'deriv_points' is not defined"
     ]
    }
   ],
   "source": [
    "j=0\n",
    "s=0\n",
    "v=100\n",
    "deriv_points[:,0] = mwc_Rho.N_grid[j]\n",
    "deriv_points[:,1] = mwc_Rho.N_grid1[s]  # We'll differentiate w.r.t. this dimension (x1)\n",
    "deriv_points[:,2] = test_points   # fix other dimensions\n",
    "\n",
    "tas_derivatives = []\n",
    "for pt in deriv_points:\n",
    "    jac = grid.differentiate(pt)  # returns flat array of length outputs*dimensions\n",
    "    # We want the derivative w.r.t x_1, which is dimension=1 (0-based)\n",
    "    # For a single output: jac = [dJ/dx0, dJ/dx1, dJ/dx2, dJ/dx3, dJ/dx4]\n",
    "    dJdx1 = jac[1] #Derivative around coordinate 1\n",
    "    tas_derivatives.append(dJdx1)"
   ]
  },
  {
   "cell_type": "code",
   "execution_count": 32,
   "metadata": {},
   "outputs": [
    {
     "data": {
      "text/plain": [
       "[<matplotlib.lines.Line2D at 0x224d0cf4950>]"
      ]
     },
     "execution_count": 32,
     "metadata": {},
     "output_type": "execute_result"
    },
    {
     "data": {
      "image/png": "[encoded data removed]",
      "text/plain": [
       "<Figure size 640x480 with 1 Axes>"
      ]
     },
     "metadata": {},
     "output_type": "display_data"
    }
   ],
   "source": [
    "plt.plot(mwc_Rho.rho_grid,(J[j,3,:]-J[j,1,:])/2)\n",
    "plt.plot(mwc_Rho.rho_grid,tas_derivatives)"
   ]
  },
  {
   "cell_type": "code",
   "execution_count": 207,
   "metadata": {},
   "outputs": [],
   "source": [
    "test_points = (mwc_Rho.N_grid,mwc_Rho.N_grid1,mwc_Rho.rho_grid) # some test points for derivative\n"
   ]
  },
  {
   "cell_type": "code",
   "execution_count": 210,
   "metadata": {},
   "outputs": [
    {
     "data": {
      "text/plain": [
       "5"
      ]
     },
     "execution_count": 210,
     "metadata": {},
     "output_type": "execute_result"
    }
   ],
   "source": [
    "mwc_Rho.N_grid1.shape[0]"
   ]
  },
  {
   "cell_type": "code",
   "execution_count": 237,
   "metadata": {},
   "outputs": [
    {
     "data": {
      "text/plain": [
       "2.3687907119042744"
      ]
     },
     "execution_count": 237,
     "metadata": {},
     "output_type": "execute_result"
    }
   ],
   "source": [
    "jac[1]"
   ]
  },
  {
   "cell_type": "code",
   "execution_count": 233,
   "metadata": {},
   "outputs": [
    {
     "data": {
      "text/plain": [
       "3.8372424078120986"
      ]
     },
     "execution_count": 233,
     "metadata": {},
     "output_type": "execute_result"
    }
   ],
   "source": [
    "(J[j,4,v]-J[j,2,v])/2"
   ]
  },
  {
   "cell_type": "code",
   "execution_count": 218,
   "metadata": {},
   "outputs": [
    {
     "data": {
      "text/plain": [
       "array([1., 2., 3.])"
      ]
     },
     "execution_count": 218,
     "metadata": {},
     "output_type": "execute_result"
    }
   ],
   "source": [
    "mwc_Rho.N_grid1[1:-1]"
   ]
  },
  {
   "cell_type": "code",
   "execution_count": 30,
   "metadata": {},
   "outputs": [
    {
     "ename": "IndexError",
     "evalue": "arrays used as indices must be of integer (or boolean) type",
     "output_type": "error",
     "traceback": [
      "\u001b[1;31m---------------------------------------------------------------------------\u001b[0m",
      "\u001b[1;31mIndexError\u001b[0m                                Traceback (most recent call last)",
      "Cell \u001b[1;32mIn[30], line 48\u001b[0m\n\u001b[0;32m     45\u001b[0m start_fd_fitted \u001b[38;5;241m=\u001b[39m time\u001b[38;5;241m.\u001b[39mperf_counter()\n\u001b[0;32m     46\u001b[0m \u001b[38;5;28;01mfor\u001b[39;00m pt \u001b[38;5;129;01min\u001b[39;00m deriv_points:\n\u001b[0;32m     47\u001b[0m     \u001b[38;5;66;03m# Using the fitted surrogate:\u001b[39;00m\n\u001b[1;32m---> 48\u001b[0m     fd_fitted\u001b[38;5;241m.\u001b[39mappend(\u001b[43mfinite_diff_derivative\u001b[49m\u001b[43m(\u001b[49m\u001b[43mJ\u001b[49m\u001b[43m[\u001b[49m\u001b[43mj\u001b[49m\u001b[43m,\u001b[49m\u001b[43m:\u001b[49m\u001b[43m,\u001b[49m\u001b[43mv\u001b[49m\u001b[43m]\u001b[49m\u001b[43m,\u001b[49m\u001b[43m \u001b[49m\u001b[43mpt\u001b[49m\u001b[43m,\u001b[49m\u001b[43m \u001b[49m\u001b[43mdim\u001b[49m\u001b[38;5;241;43m=\u001b[39;49m\u001b[38;5;241;43m1\u001b[39;49m\u001b[43m,\u001b[49m\u001b[43mh\u001b[49m\u001b[38;5;241;43m=\u001b[39;49m\u001b[38;5;241;43m2e-1\u001b[39;49m\u001b[43m)\u001b[49m)\n\u001b[0;32m     49\u001b[0m end_fd_fitted \u001b[38;5;241m=\u001b[39m time\u001b[38;5;241m.\u001b[39mperf_counter()\n\u001b[0;32m     50\u001b[0m fd_fitted_time \u001b[38;5;241m=\u001b[39m end_fd_fitted \u001b[38;5;241m-\u001b[39m start_fd_fitted\n",
      "Cell \u001b[1;32mIn[30], line 37\u001b[0m, in \u001b[0;36mfinite_diff_derivative\u001b[1;34m(f, x, dim, h)\u001b[0m\n\u001b[0;32m     35\u001b[0m x_forward[dim] \u001b[38;5;241m+\u001b[39m\u001b[38;5;241m=\u001b[39m \u001b[38;5;241m1\u001b[39m\n\u001b[0;32m     36\u001b[0m x_backward[dim] \u001b[38;5;241m-\u001b[39m\u001b[38;5;241m=\u001b[39m \u001b[38;5;241m1\u001b[39m\n\u001b[1;32m---> 37\u001b[0m \u001b[38;5;28;01mreturn\u001b[39;00m (\u001b[43mf\u001b[49m\u001b[43m[\u001b[49m\u001b[43mx_forward\u001b[49m\u001b[43m]\u001b[49m \u001b[38;5;241m-\u001b[39m f[x_backward]) \u001b[38;5;241m/\u001b[39m (\u001b[38;5;241m2\u001b[39m)\n",
      "\u001b[1;31mIndexError\u001b[0m: arrays used as indices must be of integer (or boolean) type"
     ]
    }
   ],
   "source": [
    "#Getting derivatives around the original J values\n",
    "# 2. Compute derivatives along dimension 1 (the second coordinate x_1):\n",
    "# We can use Tasmanian's differentiate for a set of test points.\n",
    "test_points = mwc_Rho.rho_grid# some test points for derivative\n",
    "\n",
    "deriv_points = np.zeros((mwc_Rho.rho_grid.shape[0],3))\n",
    "j=2\n",
    "s=2\n",
    "v=100\n",
    "deriv_points[:,0] = mwc_Rho.N_grid[j]\n",
    "deriv_points[:,1] = mwc_Rho.N_grid1[s]  # We'll differentiate w.r.t. this dimension (x1)\n",
    "deriv_points[:,2] = test_points   # fix other dimensions\n",
    "\n",
    "# Tasmanian derivative w.r.t. dimension 1:\n",
    "# differentiate() returns the full Jacobian (for all outputs and all dims), \n",
    "# we need the correct index.\n",
    "tas_derivatives = []\n",
    "start_tas = time.perf_counter()\n",
    "for pt in deriv_points:\n",
    "    jac = grid.differentiate(pt)  # returns flat array of length outputs*dimensions\n",
    "    # We want the derivative w.r.t x_1, which is dimension=1 (0-based)\n",
    "    # For a single output: jac = [dJ/dx0, dJ/dx1, dJ/dx2, dJ/dx3, dJ/dx4]\n",
    "    dJdx1 = jac[1] \n",
    "    tas_derivatives.append(dJdx1)\n",
    "end_tas = time.perf_counter()\n",
    "tas_time = end_tas - start_tas\n",
    "tas_derivatives = np.array(tas_derivatives)\n",
    "\n",
    "# 3. Finite difference approximation of the derivative w.r.t x_1:\n",
    "def finite_diff_derivative(f, x, dim=1, h=1e-5):\n",
    "    # f is J, x is point, dim is the dimension we differentiate along\n",
    "    # We'll do a central difference: (f(x+h) - f(x-h)) / (2*h)\n",
    "    x_forward = np.copy(x)\n",
    "    x_backward = np.copy(x)\n",
    "    x_forward[dim] += 1\n",
    "    x_backward[dim] -= 1\n",
    "    return (f[x_forward] - f[x_backward]) / (2)\n",
    "\n",
    "# Compare the fitted derivative from Tasmanian with a finite difference approximation.\n",
    "# We'll do finite difference using:\n",
    "#   a) The original function J (for a reference \"truth\")\n",
    "#   b) The fitted approximation (to see if FD on the surrogate matches its differentiate())\n",
    "\n",
    "fd_fitted = []\n",
    "start_fd_fitted = time.perf_counter()\n",
    "for pt in deriv_points:\n",
    "    # Using the fitted surrogate:\n",
    "    fd_fitted.append(finite_diff_derivative(J[j,:,v], pt, dim=1,h=2e-1))\n",
    "end_fd_fitted = time.perf_counter()\n",
    "fd_fitted_time = end_fd_fitted - start_fd_fitted\n",
    "fd_fitted = np.array(fd_fitted)\n",
    "\n",
    "# Print comparison:\n",
    "print(\"Point (x1) |  Exact FD(Original)  | Tasmanian Derivative | FD(Fitted) \")\n",
    "print(\"---------------------------------------------------------------------\")\n",
    "for x1_val, fd_orig_val, tas_val, fd_fit_val in zip(test_points, tas_derivatives, fd_fitted):\n",
    "    print(f\"{x1_val:+1.3f}\\t{tas_val:+1.8f}\\t{fd_fit_val:+1.8f}\")\n",
    "\n",
    "# Print timing info\n",
    "print(\"\\nTiming Information:\")\n",
    "print(f\"Tasmanian differentiate: {tas_time:.6f} seconds for {len(test_points)} points\")\n",
    "print(f\"Finite difference: {fd_fitted_time:.6f} seconds for {len(test_points)} points\")\n",
    "\n",
    "# The above results will show:\n",
    "# - How Tasmanian's built-in derivative compares to a FD approximation of the original.\n",
    "# - How FD on the fitted surrogate compares.\n",
    "# - The relative speeds of Tasmanian differentiation vs finite differences.\n"
   ]
  },
  {
   "cell_type": "markdown",
   "metadata": {},
   "source": [
    "Basic example"
   ]
  },
  {
   "cell_type": "code",
   "execution_count": 89,
   "metadata": {},
   "outputs": [
    {
     "data": {
      "image/png": "[encoded data removed]",
      "text/plain": [
       "<Figure size 1000x600 with 1 Axes>"
      ]
     },
     "metadata": {},
     "output_type": "display_data"
    },
    {
     "name": "stdout",
     "output_type": "stream",
     "text": [
      "Point (x1) |  Exact FD(Original)  | Tasmanian Derivative | FD(Fitted) \n",
      "---------------------------------------------------------------------\n",
      "-0.800\t+0.15936975\t+0.20301242\t+0.15574745\n",
      "-0.720\t+0.16197897\t+0.22877791\t+0.15778802\n",
      "-0.640\t+0.16053042\t+0.24418361\t+0.15592613\n",
      "-0.560\t+0.15461715\t+0.24837205\t+0.14979996\n",
      "-0.480\t+0.14402709\t+0.24093288\t+0.13923148\n",
      "-0.400\t+0.12877669\t+0.22201060\t+0.12425586\n",
      "-0.320\t+0.10912961\t+0.19234678\t+0.10513712\n",
      "-0.240\t+0.08559734\t+0.15326637\t+0.08236740\n",
      "-0.160\t+0.05892050\t+0.10661701\t+0.05664885\n",
      "-0.080\t+0.03003135\t+0.05467114\t+0.02885873\n",
      "+0.000\t+0.00000000\t+0.00000000\t+0.00000000\n",
      "+0.080\t-0.03003135\t-0.05467114\t-0.02885873\n",
      "+0.160\t-0.05892050\t-0.10661701\t-0.05664885\n",
      "+0.240\t-0.08559734\t-0.15326637\t-0.08236740\n",
      "+0.320\t-0.10912961\t-0.19234678\t-0.10513712\n",
      "+0.400\t-0.12877669\t-0.22201060\t-0.12425586\n",
      "+0.480\t-0.14402709\t-0.24093288\t-0.13923148\n",
      "+0.560\t-0.15461715\t-0.24837205\t-0.14979996\n",
      "+0.640\t-0.16053042\t-0.24418361\t-0.15592613\n",
      "+0.720\t-0.16197897\t-0.22877791\t-0.15778802\n",
      "+0.800\t-0.15936975\t-0.20301242\t-0.15574745\n",
      "\n",
      "Timing Information:\n",
      "Tasmanian differentiate: 0.011363 seconds for 21 points\n",
      "Finite difference (original): 0.000268 seconds for 21 points\n",
      "Finite difference (fitted): 0.000238 seconds for 21 points\n"
     ]
    }
   ],
   "source": [
    "import numpy as np\n",
    "import Tasmanian\n",
    "import matplotlib.pyplot as plt\n",
    "import time\n",
    "\n",
    "# Define the 5D test function J\n",
    "# J(x0,x1,x2,x3,x4) = exp(-x0^2 - x1^2)* sin(pi*x2)* cos(pi*x3) * (1 + x4^2)\n",
    "def J(x):\n",
    "    return (np.exp(-x[0]**2 - x[1]**2) \n",
    "            * np.sin(np.pi*x[2]) \n",
    "            * np.cos(np.pi*x[3]) \n",
    "            * (1.0 + x[4]**2))\n",
    "\n",
    "# Let's pick which dimension to slice and which to differentiate:\n",
    "# - We'll plot along x_2 (dimension=2), fixing x_0,x_1,x_3,x_4.\n",
    "# - We'll differentiate along x_1 (dimension=1).\n",
    "\n",
    "# Create a global sparse grid\n",
    "dim = 5\n",
    "outputs = 1\n",
    "depth = 5\n",
    "grid = Tasmanian.TasmanianSparseGrid()\n",
    "# Using a global polynomial rule for demonstration:\n",
    "grid.makeGlobalGrid(dim, outputs, depth, \"level\", \"clenshaw-curtis\")\n",
    "\n",
    "# Get the points where Tasmanian wants J evaluated\n",
    "points = grid.getPoints()  # shape = (N,5)\n",
    "\n",
    "# Evaluate J at these points (our \"given\" data)\n",
    "vals = np.array([[J(p)] for p in points])\n",
    "\n",
    "# Load these values into the Tasmanian grid\n",
    "grid.loadNeededPoints(vals)\n",
    "\n",
    "# Now we have a fitted surrogate model using Tasmanian.\n",
    "\n",
    "# 1. Plotting along dimension 2:\n",
    "# Fix other dimensions, say x0=0.0, x1=0.0, x3=0.5, x4=-0.2\n",
    "fixed_x0 = 0.0\n",
    "fixed_x1 = 0.0\n",
    "fixed_x3 = 0.4\n",
    "fixed_x4 = -0.2\n",
    "\n",
    "# Create a range of points along x_2\n",
    "x2_values = np.linspace(-1, 1, 100)\n",
    "plot_points = np.zeros((100,5))\n",
    "plot_points[:,0] = fixed_x0\n",
    "plot_points[:,1] = fixed_x1\n",
    "plot_points[:,2] = x2_values\n",
    "plot_points[:,3] = fixed_x3\n",
    "plot_points[:,4] = fixed_x4\n",
    "\n",
    "# Evaluate original function J at these slice points\n",
    "original_values = np.array([J(pt) for pt in plot_points])\n",
    "\n",
    "# Evaluate the Tasmanian surrogate at these slice points\n",
    "fitted_values = grid.evaluateBatch(plot_points)[:,0]\n",
    "\n",
    "# Plot the original vs fitted\n",
    "plt.figure(figsize=(10,6))\n",
    "plt.plot(x2_values, original_values, label='Original J', linewidth=2)\n",
    "plt.plot(x2_values, fitted_values, label='Fitted J (Tasmanian)', linestyle='--', linewidth=2)\n",
    "plt.xlabel('x2')\n",
    "plt.ylabel('J')\n",
    "plt.title('Comparison of Original and Fitted Function along x2')\n",
    "plt.legend()\n",
    "plt.grid(True)\n",
    "plt.show()\n",
    "\n",
    "# 2. Compute derivatives along dimension 1 (the second coordinate x_1):\n",
    "# We can use Tasmanian's differentiate for a set of test points.\n",
    "test_points = np.linspace(-0.8, 0.8, 21) # some test points for derivative\n",
    "deriv_points = np.zeros((21,5))\n",
    "deriv_points[:,0] = fixed_x0\n",
    "deriv_points[:,1] = test_points  # We'll differentiate w.r.t. this dimension (x1)\n",
    "deriv_points[:,2] = 0.2   # fix other dimensions\n",
    "deriv_points[:,3] = fixed_x3\n",
    "deriv_points[:,4] = fixed_x4\n",
    "\n",
    "# Tasmanian derivative w.r.t. dimension 1:\n",
    "# differentiate() returns the full Jacobian (for all outputs and all dims), \n",
    "# we need the correct index.\n",
    "tas_derivatives = []\n",
    "start_tas = time.perf_counter()\n",
    "for pt in deriv_points:\n",
    "    jac = grid.differentiate(pt)  # returns flat array of length outputs*dimensions\n",
    "    # We want the derivative w.r.t x_1, which is dimension=1 (0-based)\n",
    "    # For a single output: jac = [dJ/dx0, dJ/dx1, dJ/dx2, dJ/dx3, dJ/dx4]\n",
    "    dJdx1 = jac[1] \n",
    "    tas_derivatives.append(dJdx1)\n",
    "end_tas = time.perf_counter()\n",
    "tas_time = end_tas - start_tas\n",
    "tas_derivatives = np.array(tas_derivatives)\n",
    "\n",
    "# 3. Finite difference approximation of the derivative w.r.t x_1:\n",
    "def finite_diff_derivative(f, x, dim=1, h=1e-5):\n",
    "    # f is J, x is point, dim is the dimension we differentiate along\n",
    "    # We'll do a central difference: (f(x+h) - f(x-h)) / (2*h)\n",
    "    x_forward = np.copy(x)\n",
    "    x_backward = np.copy(x)\n",
    "    x_forward[dim] += h\n",
    "    x_backward[dim] -= h\n",
    "    return (f(x_forward) - f(x_backward)) / (2.0*h)\n",
    "\n",
    "# Compare the fitted derivative from Tasmanian with a finite difference approximation.\n",
    "# We'll do finite difference using:\n",
    "#   a) The original function J (for a reference \"truth\")\n",
    "#   b) The fitted approximation (to see if FD on the surrogate matches its differentiate())\n",
    "\n",
    "fd_original = []\n",
    "start_fd_orig = time.perf_counter()\n",
    "for pt in deriv_points:\n",
    "    fd_original.append(finite_diff_derivative(J, pt, dim=1))\n",
    "end_fd_orig = time.perf_counter()\n",
    "fd_orig_time = end_fd_orig - start_fd_orig\n",
    "fd_original = np.array(fd_original)\n",
    "\n",
    "fd_fitted = []\n",
    "start_fd_fitted = time.perf_counter()\n",
    "for pt in deriv_points:\n",
    "    # Using the fitted surrogate:\n",
    "    fd_fitted.append(finite_diff_derivative(J, pt, dim=1,h=2e-1))\n",
    "end_fd_fitted = time.perf_counter()\n",
    "fd_fitted_time = end_fd_fitted - start_fd_fitted\n",
    "fd_fitted = np.array(fd_fitted)\n",
    "\n",
    "# Print comparison:\n",
    "print(\"Point (x1) |  Exact FD(Original)  | Tasmanian Derivative | FD(Fitted) \")\n",
    "print(\"---------------------------------------------------------------------\")\n",
    "for x1_val, fd_orig_val, tas_val, fd_fit_val in zip(test_points, fd_original, tas_derivatives, fd_fitted):\n",
    "    print(f\"{x1_val:+1.3f}\\t{fd_orig_val:+1.8f}\\t{tas_val:+1.8f}\\t{fd_fit_val:+1.8f}\")\n",
    "\n",
    "# Print timing info\n",
    "print(\"\\nTiming Information:\")\n",
    "print(f\"Tasmanian differentiate: {tas_time:.6f} seconds for {len(test_points)} points\")\n",
    "print(f\"Finite difference (original): {fd_orig_time:.6f} seconds for {len(test_points)} points\")\n",
    "print(f\"Finite difference (fitted): {fd_fitted_time:.6f} seconds for {len(test_points)} points\")\n",
    "\n",
    "# The above results will show:\n",
    "# - How Tasmanian's built-in derivative compares to a FD approximation of the original.\n",
    "# - How FD on the fitted surrogate compares.\n",
    "# - The relative speeds of Tasmanian differentiation vs finite differences.\n"
   ]
  },
  {
   "cell_type": "markdown",
   "metadata": {},
   "source": [
    "Testing derivative speed: Tasmanian vs Finite Diff"
   ]
  },
  {
   "cell_type": "code",
   "execution_count": 77,
   "metadata": {},
   "outputs": [
    {
     "name": "stdout",
     "output_type": "stream",
     "text": [
      "x\t\tExact Derivative\tApprox Derivative\tError\n",
      "-------------------------------------------------------------\n",
      "-1.0000\t-0.42035364\t-0.22111074\t+0.47398875\n",
      "-0.8000\t-0.23784212\t-0.25215458\t+0.06017632\n",
      "-0.6000\t+0.10309190\t+0.08867878\t+0.13980841\n",
      "-0.4000\t+0.51940407\t+0.52765542\t+0.01588620\n",
      "-0.2000\t+0.86528586\t+0.86925111\t+0.00458258\n",
      "+0.0000\t+1.00000000\t+0.99615128\t+0.00384872\n",
      "+0.2000\t+0.86528586\t+0.86925111\t+0.00458258\n",
      "+0.4000\t+0.51940407\t+0.52765542\t+0.01588620\n",
      "+0.6000\t+0.10309190\t+0.08867878\t+0.13980841\n",
      "+0.8000\t-0.23784212\t-0.25215458\t+0.06017632\n",
      "+1.0000\t-0.42035364\t-0.22111074\t+0.47398875\n"
     ]
    }
   ],
   "source": [
    "import numpy as np\n",
    "import Tasmanian\n",
    "\n",
    "def f(x):\n",
    "    # f(x) = sin(x)*exp(-x^2)\n",
    "    return np.sin(x[0]) * np.exp(-x[0]**2)\n",
    "\n",
    "def fprime(x):\n",
    "    # f'(x) = cos(x)*exp(-x^2) - 2x*sin(x)*exp(-x^2)\n",
    "    return (np.cos(x[0])*np.exp(-x[0]**2)) - (2*x[0]*np.sin(x[0])*np.exp(-x[0]**2))\n",
    "\n",
    "# Create a global sparse grid\n",
    "grid = Tasmanian.TasmanianSparseGrid()\n",
    "grid.makeGlobalGrid(1, 1, 5, \"level\", \"gauss-legendre\")\n",
    "\n",
    "# Get the points and load function values\n",
    "interp_points = grid.getPoints()\n",
    "vals = np.array([[f(pt)] for pt in interp_points])\n",
    "grid.loadNeededPoints(vals)\n",
    "\n",
    "# Points at which to differentiate\n",
    "test_points = np.linspace(-1.0, 1.0, 11).reshape((11, 1))\n",
    "\n",
    "approx_derivatives = []\n",
    "for p in test_points:\n",
    "    # Ensure p is passed as a simple list/array of floats\n",
    "    x_list = p[0]  # Convert to a simple Python list with one element\n",
    "    jac = grid.differentiate(x_list)\n",
    "    # If jac is scalar, just append jac directly\n",
    "    # If it's an array, you'd do jac[0], but likely it's scalar\n",
    "    approx_derivatives.append(jac)\n",
    "\n",
    "approx_derivatives = np.array(approx_derivatives)\n",
    "\n",
    "exact_derivatives = np.array([fprime(p) for p in test_points])\n",
    "\n",
    "print(\"x\\t\\tExact Derivative\\tApprox Derivative\\tError\")\n",
    "print(\"-------------------------------------------------------------\")\n",
    "for i, p in enumerate(test_points):\n",
    "    approx = approx_derivatives[i]\n",
    "    exact = exact_derivatives[i]\n",
    "    error = abs(exact - approx)/abs(exact)\n",
    "    print(f\"{p[0]:+1.4f}\\t{exact:+1.8f}\\t{approx:+1.8f}\\t{error:+1.8f}\")\n"
   ]
  },
  {
   "cell_type": "markdown",
   "metadata": {},
   "source": [
    "## Older stuff: Spline fitting"
   ]
  },
  {
   "cell_type": "code",
   "execution_count": null,
   "metadata": {},
   "outputs": [],
   "source": [
    "from scipy.interpolate import UnivariateSpline\n",
    "\n",
    "# Spline Fitting\n",
    "def fit_spline(W, J1, smoothness=0):\n",
    "    \"\"\"\n",
    "    Fit a Univariate Spline to the data.\n",
    "\n",
    "    Parameters:\n",
    "    - W: Input grid points.\n",
    "    - J1: Observed values at grid points.\n",
    "    - smoothness: Smoothing factor. Larger values result in smoother fits.\n",
    "      Default of 0 results in an interpolating spline.\n",
    "\n",
    "    Returns:\n",
    "    - spline: Fitted spline object.\n",
    "    \"\"\"\n",
    "    spline = UnivariateSpline(W, J1, s=smoothness)\n",
    "    return spline\n",
    "\n",
    "# Fit the spline (adjust smoothness if needed)\n",
    "smoothness_factor = 0.1  # Adjust this based on your needs\n",
    "spline = fit_spline(mwc_Rho_W[2,2,2,:,0,1], mwc_Rho_J[2,2,2,:,0], smoothness=smoothness_factor)"
   ]
  },
  {
   "cell_type": "code",
   "execution_count": null,
   "metadata": {},
   "outputs": [],
   "source": [
    "# Evaluate the spline over a fine grid\n",
    "W_fine = np.linspace(mwc_Rho_W[2,2,2,:,0,1].min(), mwc_Rho_W[2,2,2,:,0,1].max(), 500)\n",
    "J1_spline = spline(W_fine)\n",
    "\n",
    "# Plot the Results\n",
    "plt.figure(figsize=(8, 5))\n",
    "plt.scatter(mwc_Rho_W[2,2,2,:,0,1], mwc_Rho_J[2,2,2,:,0], label=\"Observed Data\", color=\"blue\", alpha=0.7)\n",
    "#plt.plot(W_fine, true_function, label=\"True Function (Ground Truth)\", color=\"green\", linestyle=\"--\")\n",
    "plt.plot(W_fine, J1_spline, label=\"Spline Approximation\", color=\"red\")\n",
    "plt.xlabel(\"W\")\n",
    "plt.ylabel(\"J1\")\n",
    "plt.title(\"Spline Fitting to Capture Concavity\")\n",
    "plt.legend()\n",
    "plt.show()\n",
    "\n",
    "# Access Spline Derivatives\n",
    "first_derivative = spline.derivative(n=1)(W_fine)  # First derivative\n",
    "delta_second_derivative = spline.derivative(n=2)(W_fine)  # Second derivative"
   ]
  }
 ],
 "metadata": {
  "kernelspec": {
   "display_name": "Python 3",
   "language": "python",
   "name": "python3"
  },
  "language_info": {
   "codemirror_mode": {
    "name": "ipython",
    "version": 3
   },
   "file_extension": ".py",
   "mimetype": "text/x-python",
   "name": "python",
   "nbconvert_exporter": "python",
   "pygments_lexer": "ipython3",
   "version": "3.11.4"
  }
 },
 "nbformat": 4,
 "nbformat_minor": 2
}

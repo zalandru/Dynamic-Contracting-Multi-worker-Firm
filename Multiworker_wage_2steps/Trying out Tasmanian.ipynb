{
 "cells": [
  {
   "cell_type": "code",
   "execution_count": 1,
   "metadata": {},
   "outputs": [],
   "source": [
    "def get_results_for_p(p,all_results):\n",
    "    # Create the key as a tuple\n",
    "    #key = (p.num_z,p.num_v,p.num_n,p.n_bar,p.num_q,p.q_0,p.prod_q,p.hire_c,p.k_entry,p.k_f,p.prod_alpha,p.dt)\n",
    "    key = (p.num_z,p.num_v,p.num_n,p.n_bar,p.num_q,p.q_0,p.prod_q,p.hire_c,p.prod_alpha,p.dt,p.u_bf_m)\n",
    "    # Check if the key exists in the saved results\n",
    "    if key in all_results:\n",
    "        print(key)\n",
    "        return all_results[key]\n",
    "    else:\n",
    "        print(f\"No results found for p = {key}\")\n",
    "        return None\n",
    "\n",
    "from primitives import Parameters\n",
    "p = Parameters()\n",
    "import pickle\n",
    "import matplotlib.pyplot as plt\n",
    "import numpy as np\n",
    "from plots import Plots\n",
    "import cProfile\n",
    "import pstats\n",
    "\n",
    "plts=Plots(p)\n",
    "cc_J,cc_W,cc_Wstar,cc_Jpi,cc_pc,mwc_J,mwc_W,mwc_Wstar,mwc_pc,mwc_n1,mwc_s_J,mwc_s_W,mwc_s_Wstar,mwc_s_sep,mwc_sd_J,mwc_sd_W,mwc_sd_Wstar,mwc_sd_sep=None,None,None,None,None,None,None,None,None,None,None,None,None,None,None,None,None,None"
   ]
  },
  {
   "cell_type": "code",
   "execution_count": 5,
   "metadata": {},
   "outputs": [
    {
     "data": {
      "text/plain": [
       "array([137.3435471 ,   0.        ,  95.10859144, 127.10426   ,\n",
       "        40.9670011 , 134.80587661,  12.82025027,  70.35473256,\n",
       "       113.9857852 , 136.7105306 ,   3.43506492,  83.44436963,\n",
       "       105.28654418, 121.24316186,  56.04074958,  26.04503977,\n",
       "       131.61289287, 137.18538075,   0.87478737,  89.46070282,\n",
       "       100.38390572, 124.34538677,  48.55483313,  33.40685392,\n",
       "       129.52513122, 133.37189312,  19.09693417,  63.32980124,\n",
       "       117.79190471, 109.81908156,  77.06959339])"
      ]
     },
     "execution_count": 5,
     "metadata": {},
     "output_type": "execute_result"
    }
   ],
   "source": [
    "cc.v_grid"
   ]
  },
  {
   "cell_type": "code",
   "execution_count": 2,
   "metadata": {},
   "outputs": [
    {
     "name": "stdout",
     "output_type": "stream",
     "text": [
      "(31,)\n"
     ]
    },
    {
     "ename": "IndexError",
     "evalue": "boolean index did not match indexed array along dimension 1; dimension is 200 but corresponding boolean dimension is 31",
     "output_type": "error",
     "traceback": [
      "\u001b[1;31m---------------------------------------------------------------------------\u001b[0m",
      "\u001b[1;31mIndexError\u001b[0m                                Traceback (most recent call last)",
      "Cell \u001b[1;32mIn[2], line 3\u001b[0m\n\u001b[0;32m      1\u001b[0m \u001b[38;5;28;01mfrom\u001b[39;00m \u001b[38;5;21;01mContinuousContract_Tasmanian\u001b[39;00m \u001b[38;5;28;01mimport\u001b[39;00m ContinuousContract\n\u001b[0;32m      2\u001b[0m cc\u001b[38;5;241m=\u001b[39mContinuousContract(p)\n\u001b[1;32m----> 3\u001b[0m (cc_J,cc_W,cc_Wstar,cc_Jpi,cc_pc)\u001b[38;5;241m=\u001b[39m\u001b[43mcc\u001b[49m\u001b[38;5;241;43m.\u001b[39;49m\u001b[43mJ\u001b[49m\u001b[43m(\u001b[49m\u001b[38;5;241;43m1\u001b[39;49m\u001b[43m)\u001b[49m\n",
      "File \u001b[1;32mc:\\Users\\andre\\Codes\\Multi-worker firm\\Multiworker_wage_2steps\\ContinuousContract_Tasmanian.py:217\u001b[0m, in \u001b[0;36mContinuousContract.J\u001b[1;34m(self, update_eq)\u001b[0m\n\u001b[0;32m    215\u001b[0m Isearch \u001b[38;5;241m=\u001b[39m (rho_grid \u001b[38;5;241m<\u001b[39m\u001b[38;5;241m=\u001b[39m rho_bar[iz]) \u001b[38;5;241m&\u001b[39m (pc[iz, :] \u001b[38;5;241m>\u001b[39m \u001b[38;5;241m0\u001b[39m) \u001b[38;5;66;03m#Okay, I think this is the set of points (of promised value v) such that these conditions hold\u001b[39;00m\n\u001b[0;32m    216\u001b[0m \u001b[38;5;28;01mif\u001b[39;00m Isearch\u001b[38;5;241m.\u001b[39msum() \u001b[38;5;241m>\u001b[39m \u001b[38;5;241m0\u001b[39m:\n\u001b[1;32m--> 217\u001b[0m       \u001b[43mrho_star\u001b[49m\u001b[43m[\u001b[49m\u001b[43miz\u001b[49m\u001b[43m,\u001b[49m\u001b[43m \u001b[49m\u001b[43mIsearch\u001b[49m\u001b[43m]\u001b[49m \u001b[38;5;241m=\u001b[39m np\u001b[38;5;241m.\u001b[39minterp(rho_grid[Isearch],\n\u001b[0;32m    218\u001b[0m                                               impose_increasing(foc[iz, Isearch]),\n\u001b[0;32m    219\u001b[0m                                               rho_grid[Isearch], right\u001b[38;5;241m=\u001b[39mrho_bar[iz])\n\u001b[0;32m    221\u001b[0m     \u001b[38;5;66;03m# look for FOC above rho_0\u001b[39;00m\n\u001b[0;32m    222\u001b[0m Ieffort \u001b[38;5;241m=\u001b[39m (rho_grid \u001b[38;5;241m>\u001b[39m rho_bar[iz]) \u001b[38;5;241m&\u001b[39m (pc[iz, :] \u001b[38;5;241m>\u001b[39m \u001b[38;5;241m0\u001b[39m)\n",
      "\u001b[1;31mIndexError\u001b[0m: boolean index did not match indexed array along dimension 1; dimension is 200 but corresponding boolean dimension is 31"
     ]
    }
   ],
   "source": [
    "from ContinuousContract_Tasmanian import ContinuousContract\n",
    "cc=ContinuousContract(p)\n",
    "(cc_J,cc_W,cc_Wstar,cc_Jpi,cc_pc)=cc.J(1)"
   ]
  },
  {
   "cell_type": "code",
   "execution_count": 6,
   "metadata": {},
   "outputs": [
    {
     "name": "stdout",
     "output_type": "stream",
     "text": [
      "(3, 200, 5, 4, 1, 1.0, 1.0, 1.0, 0.85, 0.25, 1.0)\n"
     ]
    }
   ],
   "source": [
    "# Load the temp objects\n",
    "try:\n",
    "    with open('my_objects.pkl', 'rb') as file:\n",
    "        objects = pickle.load(file)\n",
    "except FileNotFoundError:\n",
    "    # If the file doesn't exist, start with an empty dictionary\n",
    "    objects = {}\n",
    "\n",
    "# Load the permanent results, for sep, across different parametrizations\n",
    "with open(\"results_Rho_sep.pkl\", \"rb\") as file:\n",
    "    all_results = pickle.load(file)\n",
    "results = get_results_for_p(p,all_results)"
   ]
  },
  {
   "cell_type": "code",
   "execution_count": 7,
   "metadata": {},
   "outputs": [
    {
     "data": {
      "image/png": "[encoded data removed]",
      "text/plain": [
       "<Figure size 640x480 with 1 Axes>"
      ]
     },
     "metadata": {},
     "output_type": "display_data"
    }
   ],
   "source": [
    "from ContinuousContract import ContinuousContract\n",
    "cc=ContinuousContract(p)\n",
    "(cc_J,cc_W,cc_Wstar,cc_Jpi,cc_pc)=cc.J(1)"
   ]
  },
  {
   "cell_type": "code",
   "execution_count": 8,
   "metadata": {},
   "outputs": [],
   "source": [
    "from Multiworker_Contract_hire_Rho_noapprox import MultiworkerContract\n",
    "mwc_Rho=MultiworkerContract(p,cc.js)"
   ]
  },
  {
   "cell_type": "markdown",
   "metadata": {},
   "source": [
    "Tring to apply Tasmanian to the already evaluated J using interpolations.\n",
    "Note: in the ideal Tasmanian scenario, I would instead directly evaluate J at the points suggested by Tasmanian! This would be essentially an endogenous grid method"
   ]
  },
  {
   "cell_type": "code",
   "execution_count": 71,
   "metadata": {},
   "outputs": [],
   "source": [
    "from scipy.interpolate import RegularGridInterpolator\n",
    "\n",
    "vals = np.array([RegularGridInterpolator((mwc_Rho.N_grid, mwc_Rho.N_grid1, mwc_Rho.rho_grid, mwc_Rho.Q_grid), J, bounds_error=False, fill_value=None) (po) for po in points])\n"
   ]
  },
  {
   "cell_type": "code",
   "execution_count": 10,
   "metadata": {},
   "outputs": [],
   "source": [
    "import Tasmanian"
   ]
  },
  {
   "cell_type": "code",
   "execution_count": 13,
   "metadata": {},
   "outputs": [
    {
     "name": "stdout",
     "output_type": "stream",
     "text": [
      "8.1\n"
     ]
    }
   ],
   "source": [
    "print(Tasmanian.__version__)"
   ]
  },
  {
   "cell_type": "code",
   "execution_count": 57,
   "metadata": {},
   "outputs": [],
   "source": [
    "dim = 1\n",
    "outputs = 1\n",
    "depth = 25\n",
    "anisotropic_weights = [1, 1, 2]  # for example, give dimension 3 more weight. Use this to make the foc make sense in high dimensions!\n",
    "\n",
    "grid = {}\n",
    "grid[1] = Tasmanian.TasmanianSparseGrid()\n",
    "# Using a global polynomial rule for demonstration:\n",
    "grid[1].makeGlobalGrid(dim, outputs, depth, \"level\", \"rleja\")\n",
    "\n",
    "points = grid[1].getPoints()"
   ]
  },
  {
   "cell_type": "code",
   "execution_count": 59,
   "metadata": {},
   "outputs": [],
   "source": [
    "sorted_indices = np.argsort(points[:, 0])  # for a 1D example\n",
    "points_sorted = points[sorted_indices]\n",
    "values_sorted = original_values[sorted_indices]\n"
   ]
  },
  {
   "cell_type": "code",
   "execution_count": 63,
   "metadata": {},
   "outputs": [
    {
     "data": {
      "text/plain": [
       "0"
      ]
     },
     "execution_count": 63,
     "metadata": {},
     "output_type": "execute_result"
    }
   ],
   "source": [
    "sorted_indices[25]"
   ]
  },
  {
   "cell_type": "code",
   "execution_count": 64,
   "metadata": {},
   "outputs": [
    {
     "data": {
      "text/plain": [
       "array([ 0,  1,  2,  3,  4,  5,  6,  7,  8,  9, 10, 11, 12, 13, 14, 15, 16,\n",
       "       17, 18, 19, 20, 21, 22, 23, 24, 25], dtype=int64)"
      ]
     },
     "execution_count": 64,
     "metadata": {},
     "output_type": "execute_result"
    }
   ],
   "source": [
    "inverse_indices[sorted_indices]"
   ]
  },
  {
   "cell_type": "code",
   "execution_count": 60,
   "metadata": {},
   "outputs": [
    {
     "ename": "NameError",
     "evalue": "name 'updated_values_sorted' is not defined",
     "output_type": "error",
     "traceback": [
      "\u001b[1;31m---------------------------------------------------------------------------\u001b[0m",
      "\u001b[1;31mNameError\u001b[0m                                 Traceback (most recent call last)",
      "Cell \u001b[1;32mIn[60], line 6\u001b[0m\n\u001b[0;32m      3\u001b[0m inverse_indices[sorted_indices] \u001b[38;5;241m=\u001b[39m np\u001b[38;5;241m.\u001b[39marange(\u001b[38;5;28mlen\u001b[39m(sorted_indices))\n\u001b[0;32m      5\u001b[0m \u001b[38;5;66;03m# Use inverse_indices to rearrange the updated values back to the original order\u001b[39;00m\n\u001b[1;32m----> 6\u001b[0m updated_values \u001b[38;5;241m=\u001b[39m \u001b[43mupdated_values_sorted\u001b[49m[inverse_indices]\n",
      "\u001b[1;31mNameError\u001b[0m: name 'updated_values_sorted' is not defined"
     ]
    }
   ],
   "source": [
    "# Create an inverse mapping from sorted indices back to original\n",
    "inverse_indices = np.zeros_like(sorted_indices)\n",
    "inverse_indices[sorted_indices] = np.arange(len(sorted_indices))\n",
    "\n",
    "# Use inverse_indices to rearrange the updated values back to the original order\n",
    "updated_values = updated_values_sorted[inverse_indices]\n"
   ]
  },
  {
   "cell_type": "code",
   "execution_count": 53,
   "metadata": {},
   "outputs": [
    {
     "name": "stdout",
     "output_type": "stream",
     "text": [
      "Number of points 1729\n"
     ]
    }
   ],
   "source": [
    "import numpy as np\n",
    "import matplotlib.pyplot as plt\n",
    "import time\n",
    "from scipy.interpolate import RegularGridInterpolator\n",
    "\n",
    "J = objects['mwc_Rho_J']\n",
    "W = objects['mwc_Rho_W']\n",
    "\n",
    "J = J[p.z_0-1,...,0]\n",
    "\n",
    "# Create a global sparse grid\n",
    "dim = 3\n",
    "outputs = 1\n",
    "depth = 25\n",
    "anisotropic_weights = [1, 1, 2]  # for example, give dimension 3 more weight. Use this to make the foc make sense in high dimensions!\n",
    "\n",
    "grid = {}\n",
    "grid[1] = Tasmanian.TasmanianSparseGrid()\n",
    "# Using a global polynomial rule for demonstration:\n",
    "grid[1].makeGlobalGrid(dim, outputs, depth, \"level\", \"rleja\", anisotropic_weights)\n",
    "#Good methods: \"clenshaw-curtis\", rleja\" maybe?, \"gauss-patterson\" kinda overdoes it, \"leja\" is good but requires higher depth (like 10)... still not many points though!\n",
    "\n",
    "\n",
    "a = (mwc_Rho.N_grid[0]+1e-10,mwc_Rho.N_grid1[0]+1e-10,mwc_Rho.rho_grid[0]+1e-10)\n",
    "b = (mwc_Rho.N_grid[-1]-1e-10,mwc_Rho.N_grid1[-1]-1e-10,mwc_Rho.rho_grid[-1]-1e-10)\n",
    "grid[1].setDomainTransform(np.column_stack((a, b)))\n",
    "# Get the points where Tasmanian wants J evaluated\n",
    "points = grid[1].getPoints()  # shape = (N,4)\n",
    "print (\"Number of points\", points.shape[0])\n",
    "\n",
    "# Evaluate J at these points (our \"given\" data)\n",
    "vals = np.array([RegularGridInterpolator((mwc_Rho.N_grid, mwc_Rho.N_grid1, mwc_Rho.rho_grid), J, bounds_error=False, fill_value=None) (po) for po in points])\n",
    "\n",
    "# Load these values into the Tasmanian grid\n",
    "grid[1].loadNeededPoints(vals)\n",
    "\n",
    "# 1. Plotting along dimension 2:\n",
    "# Fix other dimensions, say x0=0.0, x1=0.0, x3=0.5, x4=-0.2\n",
    "j= 0\n",
    "s= 1\n",
    "fixed_x0 = mwc_Rho.N_grid[j]\n",
    "fixed_x1 = mwc_Rho.N_grid1[s]\n",
    "\n",
    "\n",
    "# Create a range of points along x_2\n",
    "x2_values = mwc_Rho.rho_grid[1:-2]\n",
    "plot_points = np.zeros((197,3))\n",
    "plot_points[:,0] = fixed_x0\n",
    "plot_points[:,1] = fixed_x1\n",
    "plot_points[:,2] = x2_values\n",
    "\n",
    "\n",
    "# Evaluate original function J at these slice points\n",
    "original_values = np.array([J[j,s,1:-2]])[0,:]\n",
    "\n",
    "# Evaluate the Tasmanian surrogate at these slice points\n",
    "fitted_values = grid[1].evaluateBatch(plot_points)[:,0]"
   ]
  },
  {
   "cell_type": "code",
   "execution_count": 3,
   "metadata": {},
   "outputs": [
    {
     "ename": "NameError",
     "evalue": "name 'vals' is not defined",
     "output_type": "error",
     "traceback": [
      "\u001b[1;31m---------------------------------------------------------------------------\u001b[0m",
      "\u001b[1;31mNameError\u001b[0m                                 Traceback (most recent call last)",
      "Cell \u001b[1;32mIn[3], line 1\u001b[0m\n\u001b[1;32m----> 1\u001b[0m \u001b[43mvals\u001b[49m\u001b[38;5;241m.\u001b[39mshape\n",
      "\u001b[1;31mNameError\u001b[0m: name 'vals' is not defined"
     ]
    }
   ],
   "source": [
    "vals.shape"
   ]
  },
  {
   "cell_type": "code",
   "execution_count": 17,
   "metadata": {},
   "outputs": [
    {
     "data": {
      "text/plain": [
       "(197,)"
      ]
     },
     "execution_count": 17,
     "metadata": {},
     "output_type": "execute_result"
    }
   ],
   "source": [
    "fitted_values.shape"
   ]
  },
  {
   "cell_type": "code",
   "execution_count": 21,
   "metadata": {},
   "outputs": [
    {
     "data": {
      "image/png": "[encoded data removed]",
      "text/plain": [
       "<Figure size 1000x600 with 1 Axes>"
      ]
     },
     "metadata": {},
     "output_type": "display_data"
    }
   ],
   "source": [
    "# Plot the original vs fitted\n",
    "plt.figure(figsize=(10,6))\n",
    "plt.plot(x2_values, original_values, label='Original J', linewidth=2)\n",
    "plt.plot(x2_values, fitted_values, label='Fitted J (Tasmanian)', linestyle='--', linewidth=2)\n",
    "plt.xlabel('x2')\n",
    "plt.ylabel('J')\n",
    "plt.title('Comparison of Original and Fitted Function along x2')\n",
    "plt.legend()\n",
    "plt.grid(True)\n",
    "plt.show()\n"
   ]
  },
  {
   "cell_type": "code",
   "execution_count": 22,
   "metadata": {},
   "outputs": [
    {
     "ename": "NameError",
     "evalue": "name 'deriv_points' is not defined",
     "output_type": "error",
     "traceback": [
      "\u001b[1;31m---------------------------------------------------------------------------\u001b[0m",
      "\u001b[1;31mNameError\u001b[0m                                 Traceback (most recent call last)",
      "Cell \u001b[1;32mIn[22], line 4\u001b[0m\n\u001b[0;32m      2\u001b[0m s\u001b[38;5;241m=\u001b[39m\u001b[38;5;241m0\u001b[39m\n\u001b[0;32m      3\u001b[0m v\u001b[38;5;241m=\u001b[39m\u001b[38;5;241m100\u001b[39m\n\u001b[1;32m----> 4\u001b[0m \u001b[43mderiv_points\u001b[49m[:,\u001b[38;5;241m0\u001b[39m] \u001b[38;5;241m=\u001b[39m mwc_Rho\u001b[38;5;241m.\u001b[39mN_grid[j]\n\u001b[0;32m      5\u001b[0m deriv_points[:,\u001b[38;5;241m1\u001b[39m] \u001b[38;5;241m=\u001b[39m mwc_Rho\u001b[38;5;241m.\u001b[39mN_grid1[s]  \u001b[38;5;66;03m# We'll differentiate w.r.t. this dimension (x1)\u001b[39;00m\n\u001b[0;32m      6\u001b[0m deriv_points[:,\u001b[38;5;241m2\u001b[39m] \u001b[38;5;241m=\u001b[39m test_points   \u001b[38;5;66;03m# fix other dimensions\u001b[39;00m\n",
      "\u001b[1;31mNameError\u001b[0m: name 'deriv_points' is not defined"
     ]
    }
   ],
   "source": [
    "j=0\n",
    "s=0\n",
    "v=100\n",
    "deriv_points[:,0] = mwc_Rho.N_grid[j]\n",
    "deriv_points[:,1] = mwc_Rho.N_grid1[s]  # We'll differentiate w.r.t. this dimension (x1)\n",
    "deriv_points[:,2] = test_points   # fix other dimensions\n",
    "\n",
    "tas_derivatives = []\n",
    "for pt in deriv_points:\n",
    "    jac = grid.differentiate(pt)  # returns flat array of length outputs*dimensions\n",
    "    # We want the derivative w.r.t x_1, which is dimension=1 (0-based)\n",
    "    # For a single output: jac = [dJ/dx0, dJ/dx1, dJ/dx2, dJ/dx3, dJ/dx4]\n",
    "    dJdx1 = jac[1] #Derivative around coordinate 1\n",
    "    tas_derivatives.append(dJdx1)"
   ]
  },
  {
   "cell_type": "code",
   "execution_count": 32,
   "metadata": {},
   "outputs": [
    {
     "data": {
      "text/plain": [
       "[<matplotlib.lines.Line2D at 0x224d0cf4950>]"
      ]
     },
     "execution_count": 32,
     "metadata": {},
     "output_type": "execute_result"
    },
    {
     "data": {
      "image/png": "[encoded data removed]",
      "text/plain": [
       "<Figure size 640x480 with 1 Axes>"
      ]
     },
     "metadata": {},
     "output_type": "display_data"
    }
   ],
   "source": [
    "plt.plot(mwc_Rho.rho_grid,(J[j,3,:]-J[j,1,:])/2)\n",
    "plt.plot(mwc_Rho.rho_grid,tas_derivatives)"
   ]
  },
  {
   "cell_type": "code",
   "execution_count": 207,
   "metadata": {},
   "outputs": [],
   "source": [
    "test_points = (mwc_Rho.N_grid,mwc_Rho.N_grid1,mwc_Rho.rho_grid) # some test points for derivative\n"
   ]
  },
  {
   "cell_type": "code",
   "execution_count": 210,
   "metadata": {},
   "outputs": [
    {
     "data": {
      "text/plain": [
       "5"
      ]
     },
     "execution_count": 210,
     "metadata": {},
     "output_type": "execute_result"
    }
   ],
   "source": [
    "mwc_Rho.N_grid1.shape[0]"
   ]
  },
  {
   "cell_type": "code",
   "execution_count": 237,
   "metadata": {},
   "outputs": [
    {
     "data": {
      "text/plain": [
       "2.3687907119042744"
      ]
     },
     "execution_count": 237,
     "metadata": {},
     "output_type": "execute_result"
    }
   ],
   "source": [
    "jac[1]"
   ]
  },
  {
   "cell_type": "code",
   "execution_count": 233,
   "metadata": {},
   "outputs": [
    {
     "data": {
      "text/plain": [
       "3.8372424078120986"
      ]
     },
     "execution_count": 233,
     "metadata": {},
     "output_type": "execute_result"
    }
   ],
   "source": [
    "(J[j,4,v]-J[j,2,v])/2"
   ]
  },
  {
   "cell_type": "code",
   "execution_count": 218,
   "metadata": {},
   "outputs": [
    {
     "data": {
      "text/plain": [
       "array([1., 2., 3.])"
      ]
     },
     "execution_count": 218,
     "metadata": {},
     "output_type": "execute_result"
    }
   ],
   "source": [
    "mwc_Rho.N_grid1[1:-1]"
   ]
  },
  {
   "cell_type": "code",
   "execution_count": 30,
   "metadata": {},
   "outputs": [
    {
     "ename": "IndexError",
     "evalue": "arrays used as indices must be of integer (or boolean) type",
     "output_type": "error",
     "traceback": [
      "\u001b[1;31m---------------------------------------------------------------------------\u001b[0m",
      "\u001b[1;31mIndexError\u001b[0m                                Traceback (most recent call last)",
      "Cell \u001b[1;32mIn[30], line 48\u001b[0m\n\u001b[0;32m     45\u001b[0m start_fd_fitted \u001b[38;5;241m=\u001b[39m time\u001b[38;5;241m.\u001b[39mperf_counter()\n\u001b[0;32m     46\u001b[0m \u001b[38;5;28;01mfor\u001b[39;00m pt \u001b[38;5;129;01min\u001b[39;00m deriv_points:\n\u001b[0;32m     47\u001b[0m     \u001b[38;5;66;03m# Using the fitted surrogate:\u001b[39;00m\n\u001b[1;32m---> 48\u001b[0m     fd_fitted\u001b[38;5;241m.\u001b[39mappend(\u001b[43mfinite_diff_derivative\u001b[49m\u001b[43m(\u001b[49m\u001b[43mJ\u001b[49m\u001b[43m[\u001b[49m\u001b[43mj\u001b[49m\u001b[43m,\u001b[49m\u001b[43m:\u001b[49m\u001b[43m,\u001b[49m\u001b[43mv\u001b[49m\u001b[43m]\u001b[49m\u001b[43m,\u001b[49m\u001b[43m \u001b[49m\u001b[43mpt\u001b[49m\u001b[43m,\u001b[49m\u001b[43m \u001b[49m\u001b[43mdim\u001b[49m\u001b[38;5;241;43m=\u001b[39;49m\u001b[38;5;241;43m1\u001b[39;49m\u001b[43m,\u001b[49m\u001b[43mh\u001b[49m\u001b[38;5;241;43m=\u001b[39;49m\u001b[38;5;241;43m2e-1\u001b[39;49m\u001b[43m)\u001b[49m)\n\u001b[0;32m     49\u001b[0m end_fd_fitted \u001b[38;5;241m=\u001b[39m time\u001b[38;5;241m.\u001b[39mperf_counter()\n\u001b[0;32m     50\u001b[0m fd_fitted_time \u001b[38;5;241m=\u001b[39m end_fd_fitted \u001b[38;5;241m-\u001b[39m start_fd_fitted\n",
      "Cell \u001b[1;32mIn[30], line 37\u001b[0m, in \u001b[0;36mfinite_diff_derivative\u001b[1;34m(f, x, dim, h)\u001b[0m\n\u001b[0;32m     35\u001b[0m x_forward[dim] \u001b[38;5;241m+\u001b[39m\u001b[38;5;241m=\u001b[39m \u001b[38;5;241m1\u001b[39m\n\u001b[0;32m     36\u001b[0m x_backward[dim] \u001b[38;5;241m-\u001b[39m\u001b[38;5;241m=\u001b[39m \u001b[38;5;241m1\u001b[39m\n\u001b[1;32m---> 37\u001b[0m \u001b[38;5;28;01mreturn\u001b[39;00m (\u001b[43mf\u001b[49m\u001b[43m[\u001b[49m\u001b[43mx_forward\u001b[49m\u001b[43m]\u001b[49m \u001b[38;5;241m-\u001b[39m f[x_backward]) \u001b[38;5;241m/\u001b[39m (\u001b[38;5;241m2\u001b[39m)\n",
      "\u001b[1;31mIndexError\u001b[0m: arrays used as indices must be of integer (or boolean) type"
     ]
    }
   ],
   "source": [
    "#Getting derivatives around the original J values\n",
    "# 2. Compute derivatives along dimension 1 (the second coordinate x_1):\n",
    "# We can use Tasmanian's differentiate for a set of test points.\n",
    "test_points = mwc_Rho.rho_grid# some test points for derivative\n",
    "\n",
    "deriv_points = np.zeros((mwc_Rho.rho_grid.shape[0],3))\n",
    "j=2\n",
    "s=2\n",
    "v=100\n",
    "deriv_points[:,0] = mwc_Rho.N_grid[j]\n",
    "deriv_points[:,1] = mwc_Rho.N_grid1[s]  # We'll differentiate w.r.t. this dimension (x1)\n",
    "deriv_points[:,2] = test_points   # fix other dimensions\n",
    "\n",
    "# Tasmanian derivative w.r.t. dimension 1:\n",
    "# differentiate() returns the full Jacobian (for all outputs and all dims), \n",
    "# we need the correct index.\n",
    "tas_derivatives = []\n",
    "start_tas = time.perf_counter()\n",
    "for pt in deriv_points:\n",
    "    jac = grid.differentiate(pt)  # returns flat array of length outputs*dimensions\n",
    "    # We want the derivative w.r.t x_1, which is dimension=1 (0-based)\n",
    "    # For a single output: jac = [dJ/dx0, dJ/dx1, dJ/dx2, dJ/dx3, dJ/dx4]\n",
    "    dJdx1 = jac[1] \n",
    "    tas_derivatives.append(dJdx1)\n",
    "end_tas = time.perf_counter()\n",
    "tas_time = end_tas - start_tas\n",
    "tas_derivatives = np.array(tas_derivatives)\n",
    "\n",
    "# 3. Finite difference approximation of the derivative w.r.t x_1:\n",
    "def finite_diff_derivative(f, x, dim=1, h=1e-5):\n",
    "    # f is J, x is point, dim is the dimension we differentiate along\n",
    "    # We'll do a central difference: (f(x+h) - f(x-h)) / (2*h)\n",
    "    x_forward = np.copy(x)\n",
    "    x_backward = np.copy(x)\n",
    "    x_forward[dim] += 1\n",
    "    x_backward[dim] -= 1\n",
    "    return (f[x_forward] - f[x_backward]) / (2)\n",
    "\n",
    "# Compare the fitted derivative from Tasmanian with a finite difference approximation.\n",
    "# We'll do finite difference using:\n",
    "#   a) The original function J (for a reference \"truth\")\n",
    "#   b) The fitted approximation (to see if FD on the surrogate matches its differentiate())\n",
    "\n",
    "fd_fitted = []\n",
    "start_fd_fitted = time.perf_counter()\n",
    "for pt in deriv_points:\n",
    "    # Using the fitted surrogate:\n",
    "    fd_fitted.append(finite_diff_derivative(J[j,:,v], pt, dim=1,h=2e-1))\n",
    "end_fd_fitted = time.perf_counter()\n",
    "fd_fitted_time = end_fd_fitted - start_fd_fitted\n",
    "fd_fitted = np.array(fd_fitted)\n",
    "\n",
    "# Print comparison:\n",
    "print(\"Point (x1) |  Exact FD(Original)  | Tasmanian Derivative | FD(Fitted) \")\n",
    "print(\"---------------------------------------------------------------------\")\n",
    "for x1_val, fd_orig_val, tas_val, fd_fit_val in zip(test_points, tas_derivatives, fd_fitted):\n",
    "    print(f\"{x1_val:+1.3f}\\t{tas_val:+1.8f}\\t{fd_fit_val:+1.8f}\")\n",
    "\n",
    "# Print timing info\n",
    "print(\"\\nTiming Information:\")\n",
    "print(f\"Tasmanian differentiate: {tas_time:.6f} seconds for {len(test_points)} points\")\n",
    "print(f\"Finite difference: {fd_fitted_time:.6f} seconds for {len(test_points)} points\")\n",
    "\n",
    "# The above results will show:\n",
    "# - How Tasmanian's built-in derivative compares to a FD approximation of the original.\n",
    "# - How FD on the fitted surrogate compares.\n",
    "# - The relative speeds of Tasmanian differentiation vs finite differences.\n"
   ]
  },
  {
   "cell_type": "markdown",
   "metadata": {},
   "source": [
    "Basic example"
   ]
  },
  {
   "cell_type": "code",
   "execution_count": 89,
   "metadata": {},
   "outputs": [
    {
     "data": {
      "image/png": "[encoded data removed]",
      "text/plain": [
       "<Figure size 1000x600 with 1 Axes>"
      ]
     },
     "metadata": {},
     "output_type": "display_data"
    },
    {
     "name": "stdout",
     "output_type": "stream",
     "text": [
      "Point (x1) |  Exact FD(Original)  | Tasmanian Derivative | FD(Fitted) \n",
      "---------------------------------------------------------------------\n",
      "-0.800\t+0.15936975\t+0.20301242\t+0.15574745\n",
      "-0.720\t+0.16197897\t+0.22877791\t+0.15778802\n",
      "-0.640\t+0.16053042\t+0.24418361\t+0.15592613\n",
      "-0.560\t+0.15461715\t+0.24837205\t+0.14979996\n",
      "-0.480\t+0.14402709\t+0.24093288\t+0.13923148\n",
      "-0.400\t+0.12877669\t+0.22201060\t+0.12425586\n",
      "-0.320\t+0.10912961\t+0.19234678\t+0.10513712\n",
      "-0.240\t+0.08559734\t+0.15326637\t+0.08236740\n",
      "-0.160\t+0.05892050\t+0.10661701\t+0.05664885\n",
      "-0.080\t+0.03003135\t+0.05467114\t+0.02885873\n",
      "+0.000\t+0.00000000\t+0.00000000\t+0.00000000\n",
      "+0.080\t-0.03003135\t-0.05467114\t-0.02885873\n",
      "+0.160\t-0.05892050\t-0.10661701\t-0.05664885\n",
      "+0.240\t-0.08559734\t-0.15326637\t-0.08236740\n",
      "+0.320\t-0.10912961\t-0.19234678\t-0.10513712\n",
      "+0.400\t-0.12877669\t-0.22201060\t-0.12425586\n",
      "+0.480\t-0.14402709\t-0.24093288\t-0.13923148\n",
      "+0.560\t-0.15461715\t-0.24837205\t-0.14979996\n",
      "+0.640\t-0.16053042\t-0.24418361\t-0.15592613\n",
      "+0.720\t-0.16197897\t-0.22877791\t-0.15778802\n",
      "+0.800\t-0.15936975\t-0.20301242\t-0.15574745\n",
      "\n",
      "Timing Information:\n",
      "Tasmanian differentiate: 0.011363 seconds for 21 points\n",
      "Finite difference (original): 0.000268 seconds for 21 points\n",
      "Finite difference (fitted): 0.000238 seconds for 21 points\n"
     ]
    }
   ],
   "source": [
    "import numpy as np\n",
    "import Tasmanian\n",
    "import matplotlib.pyplot as plt\n",
    "import time\n",
    "\n",
    "# Define the 5D test function J\n",
    "# J(x0,x1,x2,x3,x4) = exp(-x0^2 - x1^2)* sin(pi*x2)* cos(pi*x3) * (1 + x4^2)\n",
    "def J(x):\n",
    "    return (np.exp(-x[0]**2 - x[1]**2) \n",
    "            * np.sin(np.pi*x[2]) \n",
    "            * np.cos(np.pi*x[3]) \n",
    "            * (1.0 + x[4]**2))\n",
    "\n",
    "# Let's pick which dimension to slice and which to differentiate:\n",
    "# - We'll plot along x_2 (dimension=2), fixing x_0,x_1,x_3,x_4.\n",
    "# - We'll differentiate along x_1 (dimension=1).\n",
    "\n",
    "# Create a global sparse grid\n",
    "dim = 5\n",
    "outputs = 1\n",
    "depth = 5\n",
    "grid = Tasmanian.TasmanianSparseGrid()\n",
    "# Using a global polynomial rule for demonstration:\n",
    "grid.makeGlobalGrid(dim, outputs, depth, \"level\", \"clenshaw-curtis\")\n",
    "\n",
    "# Get the points where Tasmanian wants J evaluated\n",
    "points = grid.getPoints()  # shape = (N,5)\n",
    "\n",
    "# Evaluate J at these points (our \"given\" data)\n",
    "vals = np.array([[J(p)] for p in points])\n",
    "\n",
    "# Load these values into the Tasmanian grid\n",
    "grid.loadNeededPoints(vals)\n",
    "\n",
    "# Now we have a fitted surrogate model using Tasmanian.\n",
    "\n",
    "# 1. Plotting along dimension 2:\n",
    "# Fix other dimensions, say x0=0.0, x1=0.0, x3=0.5, x4=-0.2\n",
    "fixed_x0 = 0.0\n",
    "fixed_x1 = 0.0\n",
    "fixed_x3 = 0.4\n",
    "fixed_x4 = -0.2\n",
    "\n",
    "# Create a range of points along x_2\n",
    "x2_values = np.linspace(-1, 1, 100)\n",
    "plot_points = np.zeros((100,5))\n",
    "plot_points[:,0] = fixed_x0\n",
    "plot_points[:,1] = fixed_x1\n",
    "plot_points[:,2] = x2_values\n",
    "plot_points[:,3] = fixed_x3\n",
    "plot_points[:,4] = fixed_x4\n",
    "\n",
    "# Evaluate original function J at these slice points\n",
    "original_values = np.array([J(pt) for pt in plot_points])\n",
    "\n",
    "# Evaluate the Tasmanian surrogate at these slice points\n",
    "fitted_values = grid.evaluateBatch(plot_points)[:,0]\n",
    "\n",
    "# Plot the original vs fitted\n",
    "plt.figure(figsize=(10,6))\n",
    "plt.plot(x2_values, original_values, label='Original J', linewidth=2)\n",
    "plt.plot(x2_values, fitted_values, label='Fitted J (Tasmanian)', linestyle='--', linewidth=2)\n",
    "plt.xlabel('x2')\n",
    "plt.ylabel('J')\n",
    "plt.title('Comparison of Original and Fitted Function along x2')\n",
    "plt.legend()\n",
    "plt.grid(True)\n",
    "plt.show()\n",
    "\n",
    "# 2. Compute derivatives along dimension 1 (the second coordinate x_1):\n",
    "# We can use Tasmanian's differentiate for a set of test points.\n",
    "test_points = np.linspace(-0.8, 0.8, 21) # some test points for derivative\n",
    "deriv_points = np.zeros((21,5))\n",
    "deriv_points[:,0] = fixed_x0\n",
    "deriv_points[:,1] = test_points  # We'll differentiate w.r.t. this dimension (x1)\n",
    "deriv_points[:,2] = 0.2   # fix other dimensions\n",
    "deriv_points[:,3] = fixed_x3\n",
    "deriv_points[:,4] = fixed_x4\n",
    "\n",
    "# Tasmanian derivative w.r.t. dimension 1:\n",
    "# differentiate() returns the full Jacobian (for all outputs and all dims), \n",
    "# we need the correct index.\n",
    "tas_derivatives = []\n",
    "start_tas = time.perf_counter()\n",
    "for pt in deriv_points:\n",
    "    jac = grid.differentiate(pt)  # returns flat array of length outputs*dimensions\n",
    "    # We want the derivative w.r.t x_1, which is dimension=1 (0-based)\n",
    "    # For a single output: jac = [dJ/dx0, dJ/dx1, dJ/dx2, dJ/dx3, dJ/dx4]\n",
    "    dJdx1 = jac[1] \n",
    "    tas_derivatives.append(dJdx1)\n",
    "end_tas = time.perf_counter()\n",
    "tas_time = end_tas - start_tas\n",
    "tas_derivatives = np.array(tas_derivatives)\n",
    "\n",
    "# 3. Finite difference approximation of the derivative w.r.t x_1:\n",
    "def finite_diff_derivative(f, x, dim=1, h=1e-5):\n",
    "    # f is J, x is point, dim is the dimension we differentiate along\n",
    "    # We'll do a central difference: (f(x+h) - f(x-h)) / (2*h)\n",
    "    x_forward = np.copy(x)\n",
    "    x_backward = np.copy(x)\n",
    "    x_forward[dim] += h\n",
    "    x_backward[dim] -= h\n",
    "    return (f(x_forward) - f(x_backward)) / (2.0*h)\n",
    "\n",
    "# Compare the fitted derivative from Tasmanian with a finite difference approximation.\n",
    "# We'll do finite difference using:\n",
    "#   a) The original function J (for a reference \"truth\")\n",
    "#   b) The fitted approximation (to see if FD on the surrogate matches its differentiate())\n",
    "\n",
    "fd_original = []\n",
    "start_fd_orig = time.perf_counter()\n",
    "for pt in deriv_points:\n",
    "    fd_original.append(finite_diff_derivative(J, pt, dim=1))\n",
    "end_fd_orig = time.perf_counter()\n",
    "fd_orig_time = end_fd_orig - start_fd_orig\n",
    "fd_original = np.array(fd_original)\n",
    "\n",
    "fd_fitted = []\n",
    "start_fd_fitted = time.perf_counter()\n",
    "for pt in deriv_points:\n",
    "    # Using the fitted surrogate:\n",
    "    fd_fitted.append(finite_diff_derivative(J, pt, dim=1,h=2e-1))\n",
    "end_fd_fitted = time.perf_counter()\n",
    "fd_fitted_time = end_fd_fitted - start_fd_fitted\n",
    "fd_fitted = np.array(fd_fitted)\n",
    "\n",
    "# Print comparison:\n",
    "print(\"Point (x1) |  Exact FD(Original)  | Tasmanian Derivative | FD(Fitted) \")\n",
    "print(\"---------------------------------------------------------------------\")\n",
    "for x1_val, fd_orig_val, tas_val, fd_fit_val in zip(test_points, fd_original, tas_derivatives, fd_fitted):\n",
    "    print(f\"{x1_val:+1.3f}\\t{fd_orig_val:+1.8f}\\t{tas_val:+1.8f}\\t{fd_fit_val:+1.8f}\")\n",
    "\n",
    "# Print timing info\n",
    "print(\"\\nTiming Information:\")\n",
    "print(f\"Tasmanian differentiate: {tas_time:.6f} seconds for {len(test_points)} points\")\n",
    "print(f\"Finite difference (original): {fd_orig_time:.6f} seconds for {len(test_points)} points\")\n",
    "print(f\"Finite difference (fitted): {fd_fitted_time:.6f} seconds for {len(test_points)} points\")\n",
    "\n",
    "# The above results will show:\n",
    "# - How Tasmanian's built-in derivative compares to a FD approximation of the original.\n",
    "# - How FD on the fitted surrogate compares.\n",
    "# - The relative speeds of Tasmanian differentiation vs finite differences.\n"
   ]
  },
  {
   "cell_type": "markdown",
   "metadata": {},
   "source": [
    "Testing derivative speed: Tasmanian vs Finite Diff"
   ]
  },
  {
   "cell_type": "code",
   "execution_count": 77,
   "metadata": {},
   "outputs": [
    {
     "name": "stdout",
     "output_type": "stream",
     "text": [
      "x\t\tExact Derivative\tApprox Derivative\tError\n",
      "-------------------------------------------------------------\n",
      "-1.0000\t-0.42035364\t-0.22111074\t+0.47398875\n",
      "-0.8000\t-0.23784212\t-0.25215458\t+0.06017632\n",
      "-0.6000\t+0.10309190\t+0.08867878\t+0.13980841\n",
      "-0.4000\t+0.51940407\t+0.52765542\t+0.01588620\n",
      "-0.2000\t+0.86528586\t+0.86925111\t+0.00458258\n",
      "+0.0000\t+1.00000000\t+0.99615128\t+0.00384872\n",
      "+0.2000\t+0.86528586\t+0.86925111\t+0.00458258\n",
      "+0.4000\t+0.51940407\t+0.52765542\t+0.01588620\n",
      "+0.6000\t+0.10309190\t+0.08867878\t+0.13980841\n",
      "+0.8000\t-0.23784212\t-0.25215458\t+0.06017632\n",
      "+1.0000\t-0.42035364\t-0.22111074\t+0.47398875\n"
     ]
    }
   ],
   "source": [
    "import numpy as np\n",
    "import Tasmanian\n",
    "\n",
    "def f(x):\n",
    "    # f(x) = sin(x)*exp(-x^2)\n",
    "    return np.sin(x[0]) * np.exp(-x[0]**2)\n",
    "\n",
    "def fprime(x):\n",
    "    # f'(x) = cos(x)*exp(-x^2) - 2x*sin(x)*exp(-x^2)\n",
    "    return (np.cos(x[0])*np.exp(-x[0]**2)) - (2*x[0]*np.sin(x[0])*np.exp(-x[0]**2))\n",
    "\n",
    "# Create a global sparse grid\n",
    "grid = Tasmanian.TasmanianSparseGrid()\n",
    "grid.makeGlobalGrid(1, 1, 5, \"level\", \"gauss-legendre\")\n",
    "\n",
    "# Get the points and load function values\n",
    "interp_points = grid.getPoints()\n",
    "vals = np.array([[f(pt)] for pt in interp_points])\n",
    "grid.loadNeededPoints(vals)\n",
    "\n",
    "# Points at which to differentiate\n",
    "test_points = np.linspace(-1.0, 1.0, 11).reshape((11, 1))\n",
    "\n",
    "approx_derivatives = []\n",
    "for p in test_points:\n",
    "    # Ensure p is passed as a simple list/array of floats\n",
    "    x_list = p[0]  # Convert to a simple Python list with one element\n",
    "    jac = grid.differentiate(x_list)\n",
    "    # If jac is scalar, just append jac directly\n",
    "    # If it's an array, you'd do jac[0], but likely it's scalar\n",
    "    approx_derivatives.append(jac)\n",
    "\n",
    "approx_derivatives = np.array(approx_derivatives)\n",
    "\n",
    "exact_derivatives = np.array([fprime(p) for p in test_points])\n",
    "\n",
    "print(\"x\\t\\tExact Derivative\\tApprox Derivative\\tError\")\n",
    "print(\"-------------------------------------------------------------\")\n",
    "for i, p in enumerate(test_points):\n",
    "    approx = approx_derivatives[i]\n",
    "    exact = exact_derivatives[i]\n",
    "    error = abs(exact - approx)/abs(exact)\n",
    "    print(f\"{p[0]:+1.4f}\\t{exact:+1.8f}\\t{approx:+1.8f}\\t{error:+1.8f}\")\n"
   ]
  },
  {
   "cell_type": "markdown",
   "metadata": {},
   "source": [
    "## Older stuff: Spline fitting"
   ]
  },
  {
   "cell_type": "code",
   "execution_count": null,
   "metadata": {},
   "outputs": [],
   "source": [
    "from scipy.interpolate import UnivariateSpline\n",
    "\n",
    "# Spline Fitting\n",
    "def fit_spline(W, J1, smoothness=0):\n",
    "    \"\"\"\n",
    "    Fit a Univariate Spline to the data.\n",
    "\n",
    "    Parameters:\n",
    "    - W: Input grid points.\n",
    "    - J1: Observed values at grid points.\n",
    "    - smoothness: Smoothing factor. Larger values result in smoother fits.\n",
    "      Default of 0 results in an interpolating spline.\n",
    "\n",
    "    Returns:\n",
    "    - spline: Fitted spline object.\n",
    "    \"\"\"\n",
    "    spline = UnivariateSpline(W, J1, s=smoothness)\n",
    "    return spline\n",
    "\n",
    "# Fit the spline (adjust smoothness if needed)\n",
    "smoothness_factor = 0.1  # Adjust this based on your needs\n",
    "spline = fit_spline(mwc_Rho_W[2,2,2,:,0,1], mwc_Rho_J[2,2,2,:,0], smoothness=smoothness_factor)"
   ]
  },
  {
   "cell_type": "code",
   "execution_count": null,
   "metadata": {},
   "outputs": [],
   "source": [
    "# Evaluate the spline over a fine grid\n",
    "W_fine = np.linspace(mwc_Rho_W[2,2,2,:,0,1].min(), mwc_Rho_W[2,2,2,:,0,1].max(), 500)\n",
    "J1_spline = spline(W_fine)\n",
    "\n",
    "# Plot the Results\n",
    "plt.figure(figsize=(8, 5))\n",
    "plt.scatter(mwc_Rho_W[2,2,2,:,0,1], mwc_Rho_J[2,2,2,:,0], label=\"Observed Data\", color=\"blue\", alpha=0.7)\n",
    "#plt.plot(W_fine, true_function, label=\"True Function (Ground Truth)\", color=\"green\", linestyle=\"--\")\n",
    "plt.plot(W_fine, J1_spline, label=\"Spline Approximation\", color=\"red\")\n",
    "plt.xlabel(\"W\")\n",
    "plt.ylabel(\"J1\")\n",
    "plt.title(\"Spline Fitting to Capture Concavity\")\n",
    "plt.legend()\n",
    "plt.show()\n",
    "\n",
    "# Access Spline Derivatives\n",
    "first_derivative = spline.derivative(n=1)(W_fine)  # First derivative\n",
    "delta_second_derivative = spline.derivative(n=2)(W_fine)  # Second derivative"
   ]
  }
 ],
 "metadata": {
  "kernelspec": {
   "display_name": "Python 3",
   "language": "python",
   "name": "python3"
  },
  "language_info": {
   "codemirror_mode": {
    "name": "ipython",
    "version": 3
   },
   "file_extension": ".py",
   "mimetype": "text/x-python",
   "name": "python",
   "nbconvert_exporter": "python",
   "pygments_lexer": "ipython3",
   "version": "3.11.4"
  }
 },
 "nbformat": 4,
 "nbformat_minor": 2
}

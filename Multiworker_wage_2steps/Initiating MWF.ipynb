{
 "cells": [
  {
   "cell_type": "markdown",
   "metadata": {},
   "source": [
    "## Basics"
   ]
  },
  {
   "cell_type": "code",
   "execution_count": 1,
   "metadata": {},
   "outputs": [],
   "source": [
    "from primitives import Parameters\n",
    "p = Parameters()\n",
    "import matplotlib.pyplot as plt\n",
    "import numpy as np"
   ]
  },
  {
   "cell_type": "code",
   "execution_count": 3,
   "metadata": {},
   "outputs": [
    {
     "ename": "NameError",
     "evalue": "name 'mwc' is not defined",
     "output_type": "error",
     "traceback": [
      "\u001b[1;31m---------------------------------------------------------------------------\u001b[0m",
      "\u001b[1;31mNameError\u001b[0m                                 Traceback (most recent call last)",
      "Cell \u001b[1;32mIn[3], line 1\u001b[0m\n\u001b[1;32m----> 1\u001b[0m \u001b[43mmwc\u001b[49m\u001b[38;5;241m.\u001b[39msum_wage\n",
      "\u001b[1;31mNameError\u001b[0m: name 'mwc' is not defined"
     ]
    }
   ],
   "source": [
    "mwc.sum_wage"
   ]
  },
  {
   "cell_type": "code",
   "execution_count": 2,
   "metadata": {},
   "outputs": [
    {
     "name": "stdout",
     "output_type": "stream",
     "text": [
      "(100,)\n",
      "J_grid_diff: 0.0\n"
     ]
    },
    {
     "ename": "ValueError",
     "evalue": "too many values to unpack (expected 2)",
     "output_type": "error",
     "traceback": [
      "\u001b[1;31m---------------------------------------------------------------------------\u001b[0m",
      "\u001b[1;31mValueError\u001b[0m                                Traceback (most recent call last)",
      "Cell \u001b[1;32mIn[2], line 5\u001b[0m\n\u001b[0;32m      3\u001b[0m K\u001b[38;5;241m=\u001b[39m\u001b[38;5;241m2\u001b[39m \u001b[38;5;66;03m#number of tenure levels\u001b[39;00m\n\u001b[0;32m      4\u001b[0m mwc\u001b[38;5;241m=\u001b[39mMultiworkerContract(p)\n\u001b[1;32m----> 5\u001b[0m (mwc_J,mwc_W,mwc_Wstar)\u001b[38;5;241m=\u001b[39m\u001b[43mmwc\u001b[49m\u001b[38;5;241;43m.\u001b[39;49m\u001b[43mJ\u001b[49m\u001b[43m(\u001b[49m\u001b[43m)\u001b[49m\n",
      "File \u001b[1;32mc:\\Users\\andre\\Codes\\Multi-worker firm\\Multiworker_wage_2steps\\Multiworker_Contract.py:180\u001b[0m, in \u001b[0;36mMultiworkerContract.J\u001b[1;34m(self, update_eq)\u001b[0m\n\u001b[0;32m    177\u001b[0m W1i \u001b[38;5;241m=\u001b[39m \u001b[38;5;28mself\u001b[39m\u001b[38;5;241m.\u001b[39mW1i\n\u001b[0;32m    179\u001b[0m \u001b[38;5;66;03m# create representation for J1p\u001b[39;00m\n\u001b[1;32m--> 180\u001b[0m J1p \u001b[38;5;241m=\u001b[39m \u001b[43mPowerFunctionGrid\u001b[49m\u001b[43m(\u001b[49m\u001b[43mW1i\u001b[49m\u001b[43m,\u001b[49m\u001b[43m \u001b[49m\u001b[43mJi\u001b[49m\u001b[43m)\u001b[49m \u001b[38;5;66;03m#From valueFunction.py\u001b[39;00m\n\u001b[0;32m    183\u001b[0m EW1_star \u001b[38;5;241m=\u001b[39m np\u001b[38;5;241m.\u001b[39mcopy(Ji)\n\u001b[0;32m    184\u001b[0m EJ1_star \u001b[38;5;241m=\u001b[39m np\u001b[38;5;241m.\u001b[39mcopy(Ji)\n",
      "File \u001b[1;32mc:\\Users\\andre\\Codes\\Multi-worker firm\\Multiworker_wage_2steps\\valuefunction_multi.py:49\u001b[0m, in \u001b[0;36mPowerFunctionGrid.__init__\u001b[1;34m(self, W1, J1, weight)\u001b[0m\n\u001b[0;32m     48\u001b[0m \u001b[38;5;28;01mdef\u001b[39;00m \u001b[38;5;21m__init__\u001b[39m(\u001b[38;5;28mself\u001b[39m,W1,J1,weight\u001b[38;5;241m=\u001b[39m\u001b[38;5;241m0.01\u001b[39m):\n\u001b[1;32m---> 49\u001b[0m     \u001b[38;5;28mself\u001b[39m\u001b[38;5;241m.\u001b[39mnum_z, _  \u001b[38;5;241m=\u001b[39m J1\u001b[38;5;241m.\u001b[39mshape\n\u001b[0;32m     50\u001b[0m     \u001b[38;5;28mself\u001b[39m\u001b[38;5;241m.\u001b[39mgamma_all \u001b[38;5;241m=\u001b[39m np\u001b[38;5;241m.\u001b[39mzeros( (\u001b[38;5;28mself\u001b[39m\u001b[38;5;241m.\u001b[39mnum_z,\u001b[38;5;241m5\u001b[39m) )\n\u001b[0;32m     51\u001b[0m     \u001b[38;5;28mself\u001b[39m\u001b[38;5;241m.\u001b[39mrsqr  \u001b[38;5;241m=\u001b[39m np\u001b[38;5;241m.\u001b[39mzeros( (\u001b[38;5;28mself\u001b[39m\u001b[38;5;241m.\u001b[39mnum_z))\n",
      "\u001b[1;31mValueError\u001b[0m: too many values to unpack (expected 2)"
     ]
    }
   ],
   "source": [
    "#%%timeit\n",
    "from Multiworker_Contract import MultiworkerContract\n",
    "K=2 #number of tenure levels\n",
    "mwc=MultiworkerContract(p)\n",
    "(mwc_J,mwc_W,mwc_Wstar)=mwc.J()"
   ]
  },
  {
   "cell_type": "code",
   "execution_count": 31,
   "metadata": {},
   "outputs": [
    {
     "name": "stdout",
     "output_type": "stream",
     "text": [
      "Matrix W:\n",
      "[[[0. 1. 2. 3. 4.]\n",
      "  [0. 1. 2. 3. 4.]\n",
      "  [0. 1. 2. 3. 4.]\n",
      "  [0. 1. 2. 3. 4.]]\n",
      "\n",
      " [[0. 1. 2. 3. 4.]\n",
      "  [0. 1. 2. 3. 4.]\n",
      "  [0. 1. 2. 3. 4.]\n",
      "  [0. 1. 2. 3. 4.]]\n",
      "\n",
      " [[0. 1. 2. 3. 4.]\n",
      "  [0. 1. 2. 3. 4.]\n",
      "  [0. 1. 2. 3. 4.]\n",
      "  [0. 1. 2. 3. 4.]]]\n"
     ]
    }
   ],
   "source": [
    "import numpy as np\n",
    "\n",
    "# Define the shape of the matrix W\n",
    "shape = (3, 4, 5)  # Example shape (3, 4, 5)\n",
    "\n",
    "# Create an array where each element equals its last dimension index\n",
    "# Initialize an array with zeros of the desired shape\n",
    "W = np.zeros(shape)\n",
    "\n",
    "# Iterate over the indices of the last dimension and assign them to W\n",
    "for idx in np.ndindex(W.shape):\n",
    "    W[idx] = idx[-1]\n",
    "\n",
    "print(\"Matrix W:\")\n",
    "print(W)"
   ]
  },
  {
   "cell_type": "code",
   "execution_count": 9,
   "metadata": {},
   "outputs": [
    {
     "name": "stdout",
     "output_type": "stream",
     "text": [
      "W[0, 1, 0, 3] = 4\n"
     ]
    },
    {
     "ename": "IndexError",
     "evalue": "index 2 is out of bounds for axis 0 with size 1",
     "output_type": "error",
     "traceback": [
      "\u001b[1;31m---------------------------------------------------------------------------\u001b[0m",
      "\u001b[1;31mIndexError\u001b[0m                                Traceback (most recent call last)",
      "Cell \u001b[1;32mIn[9], line 15\u001b[0m\n\u001b[0;32m     13\u001b[0m \u001b[38;5;66;03m# Example of accessing specific elements\u001b[39;00m\n\u001b[0;32m     14\u001b[0m \u001b[38;5;28mprint\u001b[39m(\u001b[38;5;124m\"\u001b[39m\u001b[38;5;124mW[0, 1, 0, 3] =\u001b[39m\u001b[38;5;124m\"\u001b[39m, W[\u001b[38;5;241m0\u001b[39m, \u001b[38;5;241m1\u001b[39m, \u001b[38;5;241m0\u001b[39m, \u001b[38;5;241m3\u001b[39m])  \u001b[38;5;66;03m# Output: 1 + 3 = 4\u001b[39;00m\n\u001b[1;32m---> 15\u001b[0m \u001b[38;5;28mprint\u001b[39m(\u001b[38;5;124m\"\u001b[39m\u001b[38;5;124mW[2, 4, 0, 2] =\u001b[39m\u001b[38;5;124m\"\u001b[39m, \u001b[43mW\u001b[49m\u001b[43m[\u001b[49m\u001b[38;5;241;43m2\u001b[39;49m\u001b[43m,\u001b[49m\u001b[43m \u001b[49m\u001b[38;5;241;43m4\u001b[39;49m\u001b[43m,\u001b[49m\u001b[43m \u001b[49m\u001b[38;5;241;43m0\u001b[39;49m\u001b[43m,\u001b[49m\u001b[43m \u001b[49m\u001b[38;5;241;43m2\u001b[39;49m\u001b[43m]\u001b[49m)  \u001b[38;5;66;03m# Output: 4 + 2 = 6\u001b[39;00m\n",
      "\u001b[1;31mIndexError\u001b[0m: index 2 is out of bounds for axis 0 with size 1"
     ]
    }
   ],
   "source": [
    "import numpy as np\n",
    "\n",
    "# Define the shape of the matrix W\n",
    "shape_W = (3, 5, 7, 4)  # Example shape: 3x5x7x4 matrix\n",
    "\n",
    "# Create indices for 2nd and 4th dimensions\n",
    "index_2nd = np.arange(shape_W[1])[np.newaxis,:, np.newaxis, np.newaxis]\n",
    "index_4th = np.arange(shape_W[3])[np.newaxis, np.newaxis, np.newaxis, :]\n",
    "\n",
    "# Calculate matrix W where each element is the sum of indices\n",
    "W = index_2nd + index_4th\n",
    "\n",
    "# Example of accessing specific elements\n",
    "print(\"W[0, 1, 0, 3] =\", W[0, 1, 0, 3])  # Output: 1 + 3 = 4\n",
    "print(\"W[2, 4, 0, 2] =\", W[2, 4, 0, 2])  # Output: 4 + 2 = 6"
   ]
  },
  {
   "cell_type": "code",
   "execution_count": 7,
   "metadata": {},
   "outputs": [
    {
     "data": {
      "text/plain": [
       "1"
      ]
     },
     "execution_count": 7,
     "metadata": {},
     "output_type": "execute_result"
    }
   ],
   "source": []
  },
  {
   "cell_type": "code",
   "execution_count": 5,
   "metadata": {},
   "outputs": [
    {
     "data": {
      "text/plain": [
       "1010.9748841899266"
      ]
     },
     "execution_count": 5,
     "metadata": {},
     "output_type": "execute_result"
    }
   ],
   "source": [
    "mwc.w_grid[99]*(mwc.sum_size[0,0,10,10,0,0])\n",
    "#mwc.sum_wage[0,10,10,10,99,99] \n",
    "#Same value of maximum wage at all the maximum sizes. Keep in mind that this ignores the wage and size at the very first step."
   ]
  }
 ],
 "metadata": {
  "kernelspec": {
   "display_name": "Python 3",
   "language": "python",
   "name": "python3"
  },
  "language_info": {
   "codemirror_mode": {
    "name": "ipython",
    "version": 3
   },
   "file_extension": ".py",
   "mimetype": "text/x-python",
   "name": "python",
   "nbconvert_exporter": "python",
   "pygments_lexer": "ipython3",
   "version": "3.11.4"
  }
 },
 "nbformat": 4,
 "nbformat_minor": 2
}

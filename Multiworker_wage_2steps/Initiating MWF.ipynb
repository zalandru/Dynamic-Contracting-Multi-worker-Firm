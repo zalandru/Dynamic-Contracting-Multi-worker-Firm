{
 "cells": [
  {
   "cell_type": "markdown",
   "metadata": {},
   "source": [
    "## Basics"
   ]
  },
  {
   "cell_type": "code",
   "execution_count": 1,
   "metadata": {},
   "outputs": [],
   "source": [
    "from primitives import Parameters\n",
    "p = Parameters()\n",
    "import matplotlib.pyplot as plt\n",
    "import numpy as np"
   ]
  },
  {
   "cell_type": "code",
   "execution_count": 2,
   "metadata": {},
   "outputs": [
    {
     "name": "stdout",
     "output_type": "stream",
     "text": [
      "(100,)\n",
      "Ji shape (7, 11, 11, 100)\n",
      "W1i shape (7, 11, 11, 100, 2)\n"
     ]
    },
    {
     "name": "stderr",
     "output_type": "stream",
     "text": [
      "c:\\Users\\andre\\Codes\\Multi-worker firm\\Multiworker_wage_2steps\\valuefunction_multi.py:74: RuntimeWarning: divide by zero encountered in scalar divide\n",
      "  self.rsqr[iz, in0, in1] = res2.fun / np.power(J1[iz, in0, in1, :],2).mean()\n",
      "c:\\Users\\andre\\Codes\\Multi-worker firm\\Multiworker_wage_2steps\\valuefunction_multi.py:74: RuntimeWarning: invalid value encountered in scalar divide\n",
      "  self.rsqr[iz, in0, in1] = res2.fun / np.power(J1[iz, in0, in1, :],2).mean()\n"
     ]
    },
    {
     "ename": "ValueError",
     "evalue": "setting an array element with a sequence.",
     "output_type": "error",
     "traceback": [
      "\u001b[1;31m---------------------------------------------------------------------------\u001b[0m",
      "\u001b[1;31mTypeError\u001b[0m                                 Traceback (most recent call last)",
      "\u001b[1;31mTypeError\u001b[0m: only length-1 arrays can be converted to Python scalars",
      "\nThe above exception was the direct cause of the following exception:\n",
      "\u001b[1;31mValueError\u001b[0m                                Traceback (most recent call last)",
      "Cell \u001b[1;32mIn[2], line 5\u001b[0m\n\u001b[0;32m      3\u001b[0m K\u001b[38;5;241m=\u001b[39m\u001b[38;5;241m2\u001b[39m \u001b[38;5;66;03m#number of tenure levels\u001b[39;00m\n\u001b[0;32m      4\u001b[0m mwc\u001b[38;5;241m=\u001b[39mMultiworkerContract(p)\n\u001b[1;32m----> 5\u001b[0m (mwc_J,mwc_W,mwc_Wstar)\u001b[38;5;241m=\u001b[39m\u001b[43mmwc\u001b[49m\u001b[38;5;241;43m.\u001b[39;49m\u001b[43mJ\u001b[49m\u001b[43m(\u001b[49m\u001b[43m)\u001b[49m\n",
      "File \u001b[1;32mc:\\Users\\andre\\Codes\\Multi-worker firm\\Multiworker_wage_2steps\\Multiworker_Contract.py:313\u001b[0m, in \u001b[0;36mMultiworkerContract.J\u001b[1;34m(self, update_eq)\u001b[0m\n\u001b[0;32m    310\u001b[0m \u001b[38;5;28;01mfor\u001b[39;00m iv \u001b[38;5;129;01min\u001b[39;00m \u001b[38;5;28mrange\u001b[39m(\u001b[38;5;28mself\u001b[39m\u001b[38;5;241m.\u001b[39mp\u001b[38;5;241m.\u001b[39mnum_v):\n\u001b[0;32m    311\u001b[0m  \u001b[38;5;66;03m#rho_n_star_points = np.array([iz, in0,  n1_star[iz, in0, in1, iv], rho_star[iz, in0, in1, iv]])\u001b[39;00m\n\u001b[0;32m    312\u001b[0m  rho_n_star_points \u001b[38;5;241m=\u001b[39m np\u001b[38;5;241m.\u001b[39marray([n1_star[iz, in0, in1, iv], rho_star[iz, in0, in1, iv]])\n\u001b[1;32m--> 313\u001b[0m  \u001b[43mEW1_star\u001b[49m\u001b[43m[\u001b[49m\u001b[43miz\u001b[49m\u001b[43m,\u001b[49m\u001b[43m \u001b[49m\u001b[43min0\u001b[49m\u001b[43m,\u001b[49m\u001b[43m \u001b[49m\u001b[43min1\u001b[49m\u001b[43m,\u001b[49m\u001b[43m \u001b[49m\u001b[43miv\u001b[49m\u001b[43m]\u001b[49m \u001b[38;5;241m=\u001b[39m EW1i_interpolator(rho_n_star_points)[\u001b[38;5;241m0\u001b[39m]\n\u001b[0;32m    314\u001b[0m  EJ1_star[iz, in0, in1, iv] \u001b[38;5;241m=\u001b[39m EJpi_interpolator(rho_n_star_points)[\u001b[38;5;241m0\u001b[39m]\n\u001b[0;32m    316\u001b[0m \u001b[38;5;66;03m#EW1_star[iz, in0, in1, :] = np.interp(rho_star[iz, in0, in1, :], rho_grid, EW1i[iz, in0, in1, :])\u001b[39;00m\n\u001b[0;32m    317\u001b[0m \u001b[38;5;66;03m#EJ1_star[iz, in0, in1, :] = np.interp(rho_star[iz, in0, in1, :], rho_grid, EJpi[iz, in0, in1, :]) #Andrei: how does interpolating the shadow cost give us the future Value?\u001b[39;00m\n\u001b[0;32m    318\u001b[0m \u001b[38;5;66;03m#We're interpolating EJpi to the value where the shadow cost is the optimal one, aka rho_star/\u001b[39;00m\n\u001b[0;32m    319\u001b[0m \u001b[38;5;66;03m#Basically, fixing today's promised value, we find the future value that will be optimal via  the shadow cost, and interpolate the expected value at the point of the optimal shadow cost\u001b[39;00m\n",
      "\u001b[1;31mValueError\u001b[0m: setting an array element with a sequence."
     ]
    }
   ],
   "source": [
    "#%%timeit\n",
    "from Multiworker_Contract import MultiworkerContract\n",
    "K=2 #number of tenure levels\n",
    "mwc=MultiworkerContract(p)\n",
    "(mwc_J,mwc_W,mwc_Wstar)=mwc.J()"
   ]
  },
  {
   "cell_type": "code",
   "execution_count": 31,
   "metadata": {},
   "outputs": [
    {
     "name": "stdout",
     "output_type": "stream",
     "text": [
      "Matrix W:\n",
      "[[[0. 1. 2. 3. 4.]\n",
      "  [0. 1. 2. 3. 4.]\n",
      "  [0. 1. 2. 3. 4.]\n",
      "  [0. 1. 2. 3. 4.]]\n",
      "\n",
      " [[0. 1. 2. 3. 4.]\n",
      "  [0. 1. 2. 3. 4.]\n",
      "  [0. 1. 2. 3. 4.]\n",
      "  [0. 1. 2. 3. 4.]]\n",
      "\n",
      " [[0. 1. 2. 3. 4.]\n",
      "  [0. 1. 2. 3. 4.]\n",
      "  [0. 1. 2. 3. 4.]\n",
      "  [0. 1. 2. 3. 4.]]]\n"
     ]
    }
   ],
   "source": [
    "import numpy as np\n",
    "\n",
    "# Define the shape of the matrix W\n",
    "shape = (3, 4, 5)  # Example shape (3, 4, 5)\n",
    "\n",
    "# Create an array where each element equals its last dimension index\n",
    "# Initialize an array with zeros of the desired shape\n",
    "W = np.zeros(shape)\n",
    "\n",
    "# Iterate over the indices of the last dimension and assign them to W\n",
    "for idx in np.ndindex(W.shape):\n",
    "    W[idx] = idx[-1]\n",
    "\n",
    "print(\"Matrix W:\")\n",
    "print(W)"
   ]
  },
  {
   "cell_type": "code",
   "execution_count": 9,
   "metadata": {},
   "outputs": [
    {
     "name": "stdout",
     "output_type": "stream",
     "text": [
      "W[0, 1, 0, 3] = 4\n"
     ]
    },
    {
     "ename": "IndexError",
     "evalue": "index 2 is out of bounds for axis 0 with size 1",
     "output_type": "error",
     "traceback": [
      "\u001b[1;31m---------------------------------------------------------------------------\u001b[0m",
      "\u001b[1;31mIndexError\u001b[0m                                Traceback (most recent call last)",
      "Cell \u001b[1;32mIn[9], line 15\u001b[0m\n\u001b[0;32m     13\u001b[0m \u001b[38;5;66;03m# Example of accessing specific elements\u001b[39;00m\n\u001b[0;32m     14\u001b[0m \u001b[38;5;28mprint\u001b[39m(\u001b[38;5;124m\"\u001b[39m\u001b[38;5;124mW[0, 1, 0, 3] =\u001b[39m\u001b[38;5;124m\"\u001b[39m, W[\u001b[38;5;241m0\u001b[39m, \u001b[38;5;241m1\u001b[39m, \u001b[38;5;241m0\u001b[39m, \u001b[38;5;241m3\u001b[39m])  \u001b[38;5;66;03m# Output: 1 + 3 = 4\u001b[39;00m\n\u001b[1;32m---> 15\u001b[0m \u001b[38;5;28mprint\u001b[39m(\u001b[38;5;124m\"\u001b[39m\u001b[38;5;124mW[2, 4, 0, 2] =\u001b[39m\u001b[38;5;124m\"\u001b[39m, \u001b[43mW\u001b[49m\u001b[43m[\u001b[49m\u001b[38;5;241;43m2\u001b[39;49m\u001b[43m,\u001b[49m\u001b[43m \u001b[49m\u001b[38;5;241;43m4\u001b[39;49m\u001b[43m,\u001b[49m\u001b[43m \u001b[49m\u001b[38;5;241;43m0\u001b[39;49m\u001b[43m,\u001b[49m\u001b[43m \u001b[49m\u001b[38;5;241;43m2\u001b[39;49m\u001b[43m]\u001b[49m)  \u001b[38;5;66;03m# Output: 4 + 2 = 6\u001b[39;00m\n",
      "\u001b[1;31mIndexError\u001b[0m: index 2 is out of bounds for axis 0 with size 1"
     ]
    }
   ],
   "source": [
    "import numpy as np\n",
    "\n",
    "# Define the shape of the matrix W\n",
    "shape_W = (3, 5, 7, 4)  # Example shape: 3x5x7x4 matrix\n",
    "\n",
    "# Create indices for 2nd and 4th dimensions\n",
    "index_2nd = np.arange(shape_W[1])[np.newaxis,:, np.newaxis, np.newaxis]\n",
    "index_4th = np.arange(shape_W[3])[np.newaxis, np.newaxis, np.newaxis, :]\n",
    "\n",
    "# Calculate matrix W where each element is the sum of indices\n",
    "W = index_2nd + index_4th\n",
    "\n",
    "# Example of accessing specific elements\n",
    "print(\"W[0, 1, 0, 3] =\", W[0, 1, 0, 3])  # Output: 1 + 3 = 4\n",
    "print(\"W[2, 4, 0, 2] =\", W[2, 4, 0, 2])  # Output: 4 + 2 = 6"
   ]
  },
  {
   "cell_type": "code",
   "execution_count": 7,
   "metadata": {},
   "outputs": [
    {
     "data": {
      "text/plain": [
       "1"
      ]
     },
     "execution_count": 7,
     "metadata": {},
     "output_type": "execute_result"
    }
   ],
   "source": []
  },
  {
   "cell_type": "code",
   "execution_count": 5,
   "metadata": {},
   "outputs": [
    {
     "data": {
      "text/plain": [
       "1010.9748841899266"
      ]
     },
     "execution_count": 5,
     "metadata": {},
     "output_type": "execute_result"
    }
   ],
   "source": [
    "mwc.w_grid[99]*(mwc.sum_size[0,0,10,10,0,0])\n",
    "#mwc.sum_wage[0,10,10,10,99,99] \n",
    "#Same value of maximum wage at all the maximum sizes. Keep in mind that this ignores the wage and size at the very first step."
   ]
  }
 ],
 "metadata": {
  "kernelspec": {
   "display_name": "Python 3",
   "language": "python",
   "name": "python3"
  },
  "language_info": {
   "codemirror_mode": {
    "name": "ipython",
    "version": 3
   },
   "file_extension": ".py",
   "mimetype": "text/x-python",
   "name": "python",
   "nbconvert_exporter": "python",
   "pygments_lexer": "ipython3",
   "version": "3.11.4"
  }
 },
 "nbformat": 4,
 "nbformat_minor": 2
}

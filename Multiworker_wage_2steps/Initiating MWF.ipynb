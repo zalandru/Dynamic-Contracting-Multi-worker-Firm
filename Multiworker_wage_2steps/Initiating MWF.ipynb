{
 "cells": [
  {
   "cell_type": "markdown",
   "metadata": {},
   "source": [
    "## Basics"
   ]
  },
  {
   "cell_type": "code",
   "execution_count": 1,
   "metadata": {},
   "outputs": [],
   "source": [
    "from primitives import Parameters\n",
    "p = Parameters()\n",
    "import pickle\n",
    "import matplotlib.pyplot as plt\n",
    "import numpy as np\n",
    "from plots import Plots\n",
    "plts=Plots(p)\n",
    "cc_J,cc_W,cc_Wstar,cc_Jpi,cc_pc,mwc_J,mwc_W,mwc_Wstar,mwc_pc,mwc_n1,mwc_s_J,mwc_s_W,mwc_s_Wstar,mwc_s_sep,mwc_sd_J,mwc_sd_W,mwc_sd_Wstar,mwc_sd_sep=None,None,None,None,None,None,None,None,None,None,None,None,None,None,None,None,None,None"
   ]
  },
  {
   "cell_type": "code",
   "execution_count": 2,
   "metadata": {},
   "outputs": [],
   "source": [
    "# Step 1: Load the existing objects from the file\n",
    "try:\n",
    "    with open('my_objects.pkl', 'rb') as file:\n",
    "        objects = pickle.load(file)\n",
    "except FileNotFoundError:\n",
    "    # If the file doesn't exist, start with an empty dictionary\n",
    "    objects = {}"
   ]
  },
  {
   "cell_type": "code",
   "execution_count": 3,
   "metadata": {},
   "outputs": [],
   "source": [
    "from ContinuousContract import ContinuousContract\n",
    "cc=ContinuousContract(p)\n",
    "(cc_J,cc_W,cc_Wstar,cc_Jpi,cc_pc)=cc.J(0)"
   ]
  },
  {
   "cell_type": "code",
   "execution_count": 4,
   "metadata": {},
   "outputs": [
    {
     "name": "stdout",
     "output_type": "stream",
     "text": [
      "Ji shape (1, 5, 5, 100, 6)\n",
      "W1i shape (1, 5, 5, 100, 6, 2)\n",
      "Errors: 9.92365580137094e-08 7.25749904054046e-21 1\n",
      "EJinv 21.70174775231856\n",
      "EJderiv 27.03541864836688\n",
      "EJinv diff 1j 2s: 0.1661647294226265\n",
      "EJinv diff 1 sen: 0.5285202665987536\n",
      "EJinv diff 2 sen: 0.2257120954605765\n",
      "n0_star borders 0.0 0.0\n",
      "EJinv 21.701747856897025\n",
      "EJderiv 27.035418741591972\n",
      "EJinv diff 1j 2s: 0.16616472843497193\n",
      "EJinv diff 1 sen: 0.5285202658085453\n",
      "EJinv diff 2 sen: 0.22571209476807297\n",
      "n0_star borders 0.0 0.0\n",
      "EJinv 21.701747959189266\n",
      "EJderiv 27.035418832782995\n",
      "EJinv diff 1j 2s: 0.16616472746976804\n",
      "EJinv diff 1 sen: 0.5285202650355777\n",
      "EJinv diff 2 sen: 0.2257120940906632\n",
      "n0_star borders 0.0 0.0\n",
      "EJinv 21.701748059251912\n",
      "EJderiv 27.035418921984377\n",
      "EJinv diff 1j 2s: 0.16616472652585848\n",
      "EJinv diff 1 sen: 0.5285202642794752\n",
      "EJinv diff 2 sen: 0.22571209342803386\n",
      "n0_star borders 0.0 0.0\n",
      "EJinv 21.701748157136603\n",
      "EJderiv 27.035419009239558\n",
      "EJinv diff 1j 2s: 0.16616472560268508\n",
      "EJinv diff 1 sen: 0.5285202635398698\n",
      "EJinv diff 2 sen: 0.225712092779985\n",
      "n0_star borders 0.0 0.0\n",
      "EJinv 21.7017482528921\n",
      "EJderiv 27.035419094590903\n",
      "EJinv diff 1j 2s: 0.16616472469919305\n",
      "EJinv diff 1 sen: 0.5285202628163995\n",
      "EJinv diff 2 sen: 0.22571209214585042\n",
      "n0_star borders 0.0 0.0\n",
      "EJinv 21.70174834656465\n",
      "EJderiv 27.03541917808004\n",
      "EJinv diff 1j 2s: 0.1661647238153011\n",
      "EJinv diff 1 sen: 0.5285202621087165\n",
      "EJinv diff 2 sen: 0.22571209152565339\n",
      "n0_star borders 0.0 0.0\n",
      "EJinv 21.701748438199328\n",
      "EJderiv 27.03541925974754\n",
      "EJinv diff 1j 2s: 0.16616472295048673\n",
      "EJinv diff 1 sen: 0.5285202614164738\n",
      "EJinv diff 2 sen: 0.22571209091900166\n",
      "n0_star borders 0.0 0.0\n",
      "EJinv 21.70174852783982\n",
      "EJderiv 27.035419339633254\n",
      "EJinv diff 1j 2s: 0.16616472210439562\n",
      "EJinv diff 1 sen: 0.528520260739335\n",
      "EJinv diff 2 sen: 0.2257120903255632\n",
      "n0_star borders 0.0 0.0\n",
      "Errors: 9.477331944824212e-08 3.3100322382066886e-25 1\n",
      "EJinv 21.701748615528896\n",
      "EJderiv 27.035419417775994\n",
      "EJinv diff 1j 2s: 0.16616472127660017\n",
      "EJinv diff 1 sen: 0.5285202600769702\n",
      "EJinv diff 2 sen: 0.22571208974508403\n",
      "n0_star borders 0.0 0.0\n",
      "EJinv 21.701748701308414\n",
      "EJderiv 27.035419494213656\n",
      "EJinv diff 1j 2s: 0.1661647204666964\n",
      "EJinv diff 1 sen: 0.5285202594290569\n",
      "EJinv diff 2 sen: 0.22571208917739172\n",
      "n0_star borders 0.0 0.0\n",
      "EJinv 21.7017487852195\n",
      "EJderiv 27.03541956898361\n",
      "EJinv diff 1j 2s: 0.16616471967435373\n",
      "EJinv diff 1 sen: 0.5285202587952784\n",
      "EJinv diff 2 sen: 0.22571208862186065\n",
      "n0_star borders 0.0 0.0\n",
      "EJinv 21.701748867302282\n",
      "EJderiv 27.0354196421222\n",
      "EJinv diff 1j 2s: 0.16616471889921555\n",
      "EJinv diff 1 sen: 0.5285202581753302\n",
      "EJinv diff 2 sen: 0.22571208807855908\n",
      "n0_star borders 0.0 0.0\n",
      "EJinv 21.70174894759597\n",
      "EJderiv 27.035419713665014\n",
      "EJinv diff 1j 2s: 0.1661647181409297\n",
      "EJinv diff 1 sen: 0.5285202575689083\n",
      "EJinv diff 2 sen: 0.2257120875470954\n",
      "n0_star borders 0.0 0.0\n",
      "EJinv 21.701749026139638\n",
      "EJderiv 27.035419783646915\n",
      "EJinv diff 1j 2s: 0.16616471739906555\n",
      "EJinv diff 1 sen: 0.5285202569757174\n",
      "EJinv diff 2 sen: 0.2257120870272514\n",
      "n0_star borders 0.0 0.0\n",
      "EJinv 21.701749102970876\n",
      "EJderiv 27.03541985210189\n",
      "EJinv diff 1j 2s: 0.1661647166733648\n",
      "EJinv diff 1 sen: 0.5285202563954691\n",
      "EJinv diff 2 sen: 0.225712086518734\n",
      "n0_star borders 0.0 0.0\n",
      "EJinv 21.701749178126843\n",
      "EJderiv 27.035419919063347\n",
      "EJinv diff 1j 2s: 0.16616471596346924\n",
      "EJinv diff 1 sen: 0.5285202558278808\n",
      "EJinv diff 2 sen: 0.22571208602141346\n",
      "n0_star borders 0.0 0.0\n",
      "EJinv 21.70174925164385\n",
      "EJderiv 27.035419984563813\n",
      "EJinv diff 1j 2s: 0.16616471526895285\n",
      "EJinv diff 1 sen: 0.5285202552726745\n",
      "EJinv diff 2 sen: 0.2257120855347656\n",
      "n0_star borders 0.0 0.0\n",
      "EJinv 21.70174932355765\n",
      "EJderiv 27.035420048635043\n",
      "EJinv diff 1j 2s: 0.16616471458962845\n",
      "EJinv diff 1 sen: 0.5285202547295844\n",
      "EJinv diff 2 sen: 0.22571208505881024\n",
      "n0_star borders 0.0 0.0\n",
      "Errors: 9.050188923808821e-08 1.5649236855651173e-25 1\n",
      "EJinv 21.701749393902862\n",
      "EJderiv 27.03542011130834\n",
      "EJinv diff 1j 2s: 0.16616471392511495\n",
      "EJinv diff 1 sen: 0.5285202541983436\n",
      "EJinv diff 2 sen: 0.22571208459323297\n",
      "n0_star borders 0.0 0.0\n",
      "EJinv 21.70174946271365\n",
      "EJderiv 27.035420172614312\n",
      "EJinv diff 1j 2s: 0.16616471327502566\n",
      "EJinv diff 1 sen: 0.5285202536786934\n",
      "EJinv diff 2 sen: 0.22571208413783772\n",
      "n0_star borders 0.0 0.0\n",
      "EJinv 21.70174953002346\n",
      "EJderiv 27.03542023258261\n",
      "EJinv diff 1j 2s: 0.16616471263913965\n",
      "EJinv diff 1 sen: 0.5285202531703813\n",
      "EJinv diff 2 sen: 0.22571208369236234\n",
      "n0_star borders 0.0 0.0\n",
      "EJinv 21.70174959586497\n",
      "EJderiv 27.035420291242556\n",
      "EJinv diff 1j 2s: 0.1661647120171131\n",
      "EJinv diff 1 sen: 0.5285202526731594\n",
      "EJinv diff 2 sen: 0.22571208325671724\n",
      "n0_star borders 0.0 0.0\n",
      "EJinv 21.70174966027016\n",
      "EJderiv 27.035420348622527\n",
      "EJinv diff 1j 2s: 0.16616471140859235\n",
      "EJinv diff 1 sen: 0.5285202521867846\n",
      "EJinv diff 2 sen: 0.22571208283038868\n",
      "n0_star borders 0.0 0.0\n",
      "EJinv 21.70174972327039\n",
      "EJderiv 27.03542040475059\n",
      "EJinv diff 1j 2s: 0.166164710813427\n",
      "EJinv diff 1 sen: 0.5285202517110238\n",
      "EJinv diff 2 sen: 0.2257120824134289\n",
      "n0_star borders 0.0 0.0\n",
      "EJinv 21.70174978489609\n",
      "EJderiv 27.0354204596541\n",
      "EJinv diff 1j 2s: 0.1661647102312211\n",
      "EJinv diff 1 sen: 0.5285202512456433\n",
      "EJinv diff 2 sen: 0.22571208200557874\n",
      "n0_star borders 0.0 0.0\n",
      "EJinv 21.70174984517731\n",
      "EJderiv 27.03542051335962\n",
      "EJinv diff 1j 2s: 0.16616470966168775\n",
      "EJinv diff 1 sen: 0.5285202507904168\n",
      "EJinv diff 2 sen: 0.22571208160663261\n",
      "n0_star borders 0.0 0.0\n",
      "EJinv 21.701749904143465\n",
      "EJderiv 27.03542056589334\n",
      "EJinv diff 1j 2s: 0.16616470910459324\n",
      "EJinv diff 1 sen: 0.5285202503451226\n",
      "EJinv diff 2 sen: 0.22571208121638592\n",
      "n0_star borders 0.0 0.0\n",
      "EJinv 21.70174996182318\n",
      "EJderiv 27.035420617280877\n",
      "EJinv diff 1j 2s: 0.16616470855964874\n",
      "EJinv diff 1 sen: 0.5285202499095439\n",
      "EJinv diff 2 sen: 0.2257120808347633\n",
      "n0_star borders 0.0 0.0\n",
      "Errors: 8.641472839746935e-08 2.8115869235961636e-26 1\n",
      "EJinv 21.701750018244386\n",
      "EJderiv 27.035420667547225\n",
      "EJinv diff 1j 2s: 0.16616470802655\n",
      "EJinv diff 1 sen: 0.528520249483467\n",
      "EJinv diff 2 sen: 0.22571208046127061\n",
      "n0_star borders 0.0 0.0\n",
      "EJinv 21.701750073434628\n",
      "EJderiv 27.03542071671684\n",
      "EJinv diff 1j 2s: 0.1661647075051206\n",
      "EJinv diff 1 sen: 0.5285202490666887\n",
      "EJinv diff 2 sen: 0.22571208009601904\n",
      "n0_star borders 0.0 0.0\n",
      "EJinv 21.701750127420727\n",
      "EJderiv 27.03542076481372\n",
      "EJinv diff 1j 2s: 0.16616470699507574\n",
      "EJinv diff 1 sen: 0.5285202486590037\n",
      "EJinv diff 2 sen: 0.225712079738729\n",
      "n0_star borders 0.0 0.0\n",
      "EJinv 21.701750180229006\n",
      "EJderiv 27.035420811861087\n",
      "EJinv diff 1j 2s: 0.16616470649616263\n",
      "EJinv diff 1 sen: 0.5285202482602137\n",
      "EJinv diff 2 sen: 0.22571207938922805\n",
      "n0_star borders 0.0 0.0\n",
      "EJinv 21.70175023188508\n",
      "EJderiv 27.03542085788195\n",
      "EJinv diff 1j 2s: 0.16616470600810004\n",
      "EJinv diff 1 sen: 0.5285202478701249\n",
      "EJinv diff 2 sen: 0.22571207904737633\n",
      "n0_star borders 0.0 0.0\n",
      "EJinv 21.70175028241418\n",
      "EJderiv 27.035420902898704\n",
      "EJinv diff 1j 2s: 0.16616470553072138\n",
      "EJinv diff 1 sen: 0.5285202474885469\n",
      "EJinv diff 2 sen: 0.22571207871306867\n",
      "n0_star borders 0.0 0.0\n",
      "EJinv 21.701750331840753\n",
      "EJderiv 27.03542094693334\n",
      "EJinv diff 1j 2s: 0.16616470506371203\n",
      "EJinv diff 1 sen: 0.5285202471152926\n",
      "EJinv diff 2 sen: 0.22571207838586443\n",
      "n0_star borders 0.0 0.0\n",
      "EJinv 21.70175038018888\n",
      "EJderiv 27.0354209900072\n",
      "EJinv diff 1j 2s: 0.16616470460690888\n",
      "EJinv diff 1 sen: 0.5285202467501844\n",
      "EJinv diff 2 sen: 0.22571207806590235\n",
      "n0_star borders 0.0 0.0\n",
      "EJinv 21.70175042748223\n",
      "EJderiv 27.03542103214118\n",
      "EJinv diff 1j 2s: 0.16616470416010679\n",
      "EJinv diff 1 sen: 0.5285202463930421\n",
      "EJinv diff 2 sen: 0.22571207775289853\n",
      "n0_star borders 0.0 0.0\n",
      "EJinv 21.70175047374368\n",
      "EJderiv 27.035421073355863\n",
      "EJinv diff 1j 2s: 0.1661647037230253\n",
      "EJinv diff 1 sen: 0.528520246043692\n",
      "EJinv diff 2 sen: 0.22571207744673558\n",
      "n0_star borders 0.0 0.0\n",
      "Errors: 8.250447572050656e-08 4.9132274294941465e-26 1\n",
      "EJinv 21.701750518995908\n",
      "EJderiv 27.035421113671376\n",
      "EJinv diff 1j 2s: 0.1661647032954481\n",
      "EJinv diff 1 sen: 0.5285202457019641\n",
      "EJinv diff 2 sen: 0.22571207714727307\n",
      "n0_star borders 0.0 0.0\n",
      "EJinv 21.701750563260738\n",
      "EJderiv 27.035421153107265\n",
      "EJinv diff 1j 2s: 0.16616470287725374\n",
      "EJinv diff 1 sen: 0.5285202453676924\n",
      "EJinv diff 2 sen: 0.22571207685442018\n",
      "n0_star borders 0.0 0.0\n",
      "EJinv 21.70175060655977\n",
      "EJderiv 27.035421191682758\n",
      "EJinv diff 1j 2s: 0.16616470246814022\n",
      "EJinv diff 1 sen: 0.5285202450407118\n",
      "EJinv diff 2 sen: 0.22571207656776704\n",
      "n0_star borders 0.0 0.0\n",
      "EJinv 21.70175064891402\n",
      "EJderiv 27.03542122941656\n",
      "EJinv diff 1j 2s: 0.16616470206798678\n",
      "EJinv diff 1 sen: 0.528520244720868\n",
      "EJinv diff 2 sen: 0.22571207628746354\n",
      "n0_star borders 0.0 0.0\n",
      "EJinv 21.701750690344138\n",
      "EJderiv 27.035421266326992\n",
      "EJinv diff 1j 2s: 0.16616470167656602\n",
      "EJinv diff 1 sen: 0.5285202444080022\n",
      "EJinv diff 2 sen: 0.2257120760132713\n",
      "n0_star borders 0.0 0.0\n",
      "EJinv 21.701750730870376\n",
      "EJderiv 27.0354213024322\n",
      "EJinv diff 1j 2s: 0.1661647012936724\n",
      "EJinv diff 1 sen: 0.528520244101963\n",
      "EJinv diff 2 sen: 0.22571207574506275\n",
      "n0_star borders 0.0 0.0\n",
      "EJinv 21.70175077051242\n",
      "EJderiv 27.035421337749654\n",
      "EJinv diff 1j 2s: 0.16616470091913105\n",
      "EJinv diff 1 sen: 0.5285202438026009\n",
      "EJinv diff 2 sen: 0.2257120754827118\n",
      "n0_star borders 0.0 0.0\n",
      "EJinv 21.701750809289504\n",
      "EJderiv 27.035421372296533\n",
      "EJinv diff 1j 2s: 0.1661647005527676\n",
      "EJinv diff 1 sen: 0.5285202435097702\n",
      "EJinv diff 2 sen: 0.2257120752261883\n",
      "n0_star borders 0.0 0.0\n",
      "EJinv 21.701750847220417\n",
      "EJderiv 27.035421406089583\n",
      "EJinv diff 1j 2s: 0.1661647001943669\n",
      "EJinv diff 1 sen: 0.5285202432233271\n",
      "EJinv diff 2 sen: 0.22571207497506104\n",
      "n0_star borders 0.0 0.0\n",
      "EJinv 21.701750884323953\n",
      "EJderiv 27.035421439145317\n",
      "EJinv diff 1j 2s: 0.1661646998438076\n",
      "EJinv diff 1 sen: 0.5285202429431357\n",
      "EJinv diff 2 sen: 0.22571207472951568\n",
      "n0_star borders 0.0 0.0\n",
      "Errors: 7.876401414758689e-08 1.5897618550361975e-25 1\n",
      "EJinv 21.70175092061785\n",
      "EJderiv 27.03542147147982\n",
      "EJinv diff 1j 2s: 0.16616469950091348\n",
      "EJinv diff 1 sen: 0.5285202426690577\n",
      "EJinv diff 2 sen: 0.225712074489314\n",
      "n0_star borders 0.0 0.0\n",
      "EJinv 21.701750956119913\n",
      "EJderiv 27.03542150310884\n",
      "EJinv diff 1j 2s: 0.1661646991655064\n",
      "EJinv diff 1 sen: 0.5285202424009594\n",
      "EJinv diff 2 sen: 0.2257120742543467\n",
      "n0_star borders 0.0 0.0\n",
      "EJinv 21.701750990847355\n",
      "EJderiv 27.035421534047753\n",
      "EJinv diff 1j 2s: 0.1661646988374097\n",
      "EJinv diff 1 sen: 0.5285202421387107\n",
      "EJinv diff 2 sen: 0.2257120740245176\n",
      "n0_star borders 0.0 0.0\n",
      "EJinv 21.701751024817067\n",
      "EJderiv 27.035421564311626\n",
      "EJinv diff 1j 2s: 0.16616469851644008\n",
      "EJinv diff 1 sen: 0.5285202418821839\n",
      "EJinv diff 2 sen: 0.2257120737998244\n",
      "n0_star borders 0.0 0.0\n",
      "EJinv 21.701751058045662\n",
      "EJderiv 27.0354215939152\n",
      "EJinv diff 1j 2s: 0.16616469820248306\n",
      "EJinv diff 1 sen: 0.5285202416312521\n",
      "EJinv diff 2 sen: 0.22571207357980846\n",
      "n0_star borders 0.0 0.0\n",
      "EJinv 21.70175109054925\n",
      "EJderiv 27.035421622872853\n",
      "EJinv diff 1j 2s: 0.16616469789540617\n",
      "EJinv diff 1 sen: 0.5285202413857975\n",
      "EJinv diff 2 sen: 0.22571207336469454\n",
      "n0_star borders 0.0 0.0\n",
      "EJinv 21.701751122343726\n",
      "EJderiv 27.0354216511987\n",
      "EJinv diff 1j 2s: 0.16616469759501215\n",
      "EJinv diff 1 sen: 0.5285202411456984\n",
      "EJinv diff 2 sen: 0.22571207315427974\n",
      "n0_star borders 0.0 0.0\n",
      "EJinv 21.701751153444395\n",
      "EJderiv 27.035421678906594\n",
      "EJinv diff 1j 2s: 0.16616469730116698\n",
      "EJinv diff 1 sen: 0.5285202409108376\n",
      "EJinv diff 2 sen: 0.2257120729484507\n",
      "n0_star borders 0.0 0.0\n",
      "EJinv 21.70175118386651\n",
      "EJderiv 27.035421706009824\n",
      "EJinv diff 1j 2s: 0.16616469701372868\n",
      "EJinv diff 1 sen: 0.528520240681101\n",
      "EJinv diff 2 sen: 0.22571207274712068\n",
      "n0_star borders 0.0 0.0\n",
      "EJinv 21.701751213624775\n",
      "EJderiv 27.035421732521744\n",
      "EJinv diff 1j 2s: 0.1661646967325651\n",
      "EJinv diff 1 sen: 0.5285202404563772\n",
      "EJinv diff 2 sen: 0.22571207255028805\n",
      "n0_star borders 0.0 0.0\n",
      "Errors: 7.518647307136853e-08 2.2458479445768572e-26 1\n"
     ]
    }
   ],
   "source": [
    "# Retrieve the objects\n",
    "mwc_hmq_J = objects['mwc_hmq_J']\n",
    "mwc_hmq_W = objects['mwc_hmq_W']\n",
    "\n",
    "from Multiworker_Contract_hire_hmq import MultiworkerContract\n",
    "K=2 #number of tenure levels\n",
    "mwc_hmq=MultiworkerContract(p,cc.js)\n",
    "(mwc_hmq_J,mwc_hmq_W,mwc_hmq_Wstar,mwc_hmq_pc,mwc_hmq_n0,mwc_hmq_n1)=mwc_hmq.J(mwc_hmq_J,mwc_hmq_W)\n",
    "\n",
    "#still to do: introduce HMQ into the separations.\n",
    "#also gotta check that his actually works.\n",
    "#also this seems slow af\n",
    "objects['mwc_hmq_J'] = mwc_hmq_J\n",
    "objects['mwc_hmq_W'] = mwc_hmq_W\n",
    "\n",
    "with open('my_objects.pkl', 'wb') as file:\n",
    "    pickle.dump(objects, file)"
   ]
  },
  {
   "cell_type": "code",
   "execution_count": 5,
   "metadata": {},
   "outputs": [
    {
     "name": "stdout",
     "output_type": "stream",
     "text": [
      "Ji shape (1, 5, 5, 100, 6)\n",
      "W1i shape (1, 5, 5, 100, 6, 2)\n",
      "Errors: 7.483742231579782e-08 4.9378257643472295e-26 1\n",
      "EJinv 21.701751299060362\n",
      "EJderiv 27.035421808637\n",
      "EJinv diff 1j 2s: 0.1661646959253648\n",
      "EJinv diff 1 sen: 0.5285202398111972\n",
      "EJinv diff 2 sen: 0.22571207198476506\n"
     ]
    },
    {
     "ename": "ZeroDivisionError",
     "evalue": "division by zero",
     "output_type": "error",
     "traceback": [
      "\u001b[1;31m---------------------------------------------------------------------------\u001b[0m",
      "\u001b[1;31mZeroDivisionError\u001b[0m                         Traceback (most recent call last)",
      "Cell \u001b[1;32mIn[5], line 1\u001b[0m\n\u001b[1;32m----> 1\u001b[0m (mwc_hmq_sd_J,mwc_hmq_sd_W,mwc_hmq_sd_Wstar,mwc_hmq_sd_sep,mwc_hmq_sd_n0,mwc_hmq_sd_n1)\u001b[38;5;241m=\u001b[39m\u001b[43mmwc_hmq\u001b[49m\u001b[38;5;241;43m.\u001b[39;49m\u001b[43mJ_sep_dir\u001b[49m\u001b[43m(\u001b[49m\u001b[43mmwc_hmq_J\u001b[49m\u001b[43m,\u001b[49m\u001b[43mmwc_hmq_W\u001b[49m\u001b[43m)\u001b[49m\n",
      "File \u001b[1;32mc:\\Users\\andre\\Codes\\Multi-worker firm\\Multiworker_wage_2steps\\Multiworker_Contract_hire_hmq.py:1079\u001b[0m, in \u001b[0;36mMultiworkerContract.J_sep_dir\u001b[1;34m(self, Jg, Wg, update_eq)\u001b[0m\n\u001b[0;32m   1076\u001b[0m EJ0, EW0 \u001b[38;5;241m=\u001b[39m EQs(EJq,EWq,EJpi,EW1i,q0,\u001b[38;5;28mself\u001b[39m\u001b[38;5;241m.\u001b[39mQ_grid,\u001b[38;5;28mself\u001b[39m\u001b[38;5;241m.\u001b[39mp\u001b[38;5;241m.\u001b[39mnum_z,\u001b[38;5;28mself\u001b[39m\u001b[38;5;241m.\u001b[39mp\u001b[38;5;241m.\u001b[39mnum_n,\u001b[38;5;28mself\u001b[39m\u001b[38;5;241m.\u001b[39mp\u001b[38;5;241m.\u001b[39mnum_v,\u001b[38;5;28mself\u001b[39m\u001b[38;5;241m.\u001b[39mp\u001b[38;5;241m.\u001b[39mnum_q)\n\u001b[0;32m   1077\u001b[0m EJ1, EW1 \u001b[38;5;241m=\u001b[39m EQs(EJq,EWq,EJpi,EW1i,q1,\u001b[38;5;28mself\u001b[39m\u001b[38;5;241m.\u001b[39mQ_grid,\u001b[38;5;28mself\u001b[39m\u001b[38;5;241m.\u001b[39mp\u001b[38;5;241m.\u001b[39mnum_z,\u001b[38;5;28mself\u001b[39m\u001b[38;5;241m.\u001b[39mp\u001b[38;5;241m.\u001b[39mnum_n,\u001b[38;5;28mself\u001b[39m\u001b[38;5;241m.\u001b[39mp\u001b[38;5;241m.\u001b[39mnum_v,\u001b[38;5;28mself\u001b[39m\u001b[38;5;241m.\u001b[39mp\u001b[38;5;241m.\u001b[39mnum_q)\n\u001b[1;32m-> 1079\u001b[0m EJderiv0 \u001b[38;5;241m=\u001b[39m \u001b[43mEJderivative\u001b[49m\u001b[43m(\u001b[49m\u001b[43mEJ0\u001b[49m\u001b[43m,\u001b[49m\u001b[43mnp\u001b[49m\u001b[38;5;241;43m.\u001b[39;49m\u001b[43mfloor\u001b[49m\u001b[43m(\u001b[49m\u001b[43m(\u001b[49m\u001b[38;5;28;43mself\u001b[39;49m\u001b[38;5;241;43m.\u001b[39;49m\u001b[43mN_grid\u001b[49m\u001b[43m[\u001b[49m\u001b[38;5;28;43mself\u001b[39;49m\u001b[38;5;241;43m.\u001b[39;49m\u001b[43mgrid\u001b[49m\u001b[43m[\u001b[49m\u001b[38;5;241;43m1\u001b[39;49m\u001b[43m]\u001b[49m\u001b[43m]\u001b[49m\u001b[38;5;241;43m+\u001b[39;49m\u001b[38;5;28;43mself\u001b[39;49m\u001b[38;5;241;43m.\u001b[39;49m\u001b[43mN_grid1\u001b[49m\u001b[43m[\u001b[49m\u001b[38;5;28;43mself\u001b[39;49m\u001b[38;5;241;43m.\u001b[39;49m\u001b[43mgrid\u001b[49m\u001b[43m[\u001b[49m\u001b[38;5;241;43m2\u001b[39;49m\u001b[43m]\u001b[49m\u001b[43m]\u001b[49m\u001b[43m)\u001b[49m\u001b[38;5;241;43m*\u001b[39;49m\u001b[43mpc_star\u001b[49m\u001b[43m)\u001b[49m\u001b[38;5;241;43m.\u001b[39;49m\u001b[43mastype\u001b[49m\u001b[43m(\u001b[49m\u001b[38;5;28;43mint\u001b[39;49m\u001b[43m)\u001b[49m\u001b[43m,\u001b[49m\u001b[43mnp\u001b[49m\u001b[38;5;241;43m.\u001b[39;49m\u001b[43mceil\u001b[49m\u001b[43m(\u001b[49m\u001b[43m(\u001b[49m\u001b[38;5;28;43mself\u001b[39;49m\u001b[38;5;241;43m.\u001b[39;49m\u001b[43mN_grid\u001b[49m\u001b[43m[\u001b[49m\u001b[38;5;28;43mself\u001b[39;49m\u001b[38;5;241;43m.\u001b[39;49m\u001b[43mgrid\u001b[49m\u001b[43m[\u001b[49m\u001b[38;5;241;43m1\u001b[39;49m\u001b[43m]\u001b[49m\u001b[43m]\u001b[49m\u001b[38;5;241;43m+\u001b[39;49m\u001b[38;5;28;43mself\u001b[39;49m\u001b[38;5;241;43m.\u001b[39;49m\u001b[43mN_grid1\u001b[49m\u001b[43m[\u001b[49m\u001b[38;5;28;43mself\u001b[39;49m\u001b[38;5;241;43m.\u001b[39;49m\u001b[43mgrid\u001b[49m\u001b[43m[\u001b[49m\u001b[38;5;241;43m2\u001b[39;49m\u001b[43m]\u001b[49m\u001b[43m]\u001b[49m\u001b[43m)\u001b[49m\u001b[38;5;241;43m*\u001b[39;49m\u001b[43mpc_star\u001b[49m\u001b[43m)\u001b[49m\u001b[38;5;241;43m.\u001b[39;49m\u001b[43mastype\u001b[49m\u001b[43m(\u001b[49m\u001b[38;5;28;43mint\u001b[39;49m\u001b[43m)\u001b[49m\u001b[43m,\u001b[49m\u001b[43mn0_star\u001b[49m\u001b[43m,\u001b[49m\u001b[43m \u001b[49m\u001b[43mEJderiv0\u001b[49m\u001b[43m,\u001b[49m\u001b[43mrho_grid\u001b[49m\u001b[43m,\u001b[49m\u001b[43m \u001b[49m\u001b[38;5;28;43mself\u001b[39;49m\u001b[38;5;241;43m.\u001b[39;49m\u001b[43mN_grid\u001b[49m\u001b[43m,\u001b[49m\u001b[43m \u001b[49m\u001b[38;5;28;43mself\u001b[39;49m\u001b[38;5;241;43m.\u001b[39;49m\u001b[43mN_grid1\u001b[49m\u001b[43m,\u001b[49m\u001b[43mrho_star\u001b[49m\u001b[43m,\u001b[49m\u001b[38;5;28;43mself\u001b[39;49m\u001b[38;5;241;43m.\u001b[39;49m\u001b[43mp\u001b[49m\u001b[38;5;241;43m.\u001b[39;49m\u001b[43mnum_z\u001b[49m\u001b[43m,\u001b[49m\u001b[43m \u001b[49m\u001b[38;5;28;43mself\u001b[39;49m\u001b[38;5;241;43m.\u001b[39;49m\u001b[43mp\u001b[49m\u001b[38;5;241;43m.\u001b[39;49m\u001b[43mnum_n\u001b[49m\u001b[43m,\u001b[49m\u001b[43m \u001b[49m\u001b[38;5;28;43mself\u001b[39;49m\u001b[38;5;241;43m.\u001b[39;49m\u001b[43mp\u001b[49m\u001b[38;5;241;43m.\u001b[39;49m\u001b[43mn_bar\u001b[49m\u001b[43m,\u001b[49m\u001b[43m \u001b[49m\u001b[38;5;28;43mself\u001b[39;49m\u001b[38;5;241;43m.\u001b[39;49m\u001b[43mp\u001b[49m\u001b[38;5;241;43m.\u001b[39;49m\u001b[43mnum_v\u001b[49m\u001b[43m,\u001b[49m\u001b[43m \u001b[49m\u001b[38;5;28;43mself\u001b[39;49m\u001b[38;5;241;43m.\u001b[39;49m\u001b[43mp\u001b[49m\u001b[38;5;241;43m.\u001b[39;49m\u001b[43mnum_q\u001b[49m\u001b[43m)\u001b[49m\n\u001b[0;32m   1080\u001b[0m EWderiv0 \u001b[38;5;241m=\u001b[39m EWderivative(EW0,np\u001b[38;5;241m.\u001b[39mfloor((\u001b[38;5;28mself\u001b[39m\u001b[38;5;241m.\u001b[39mN_grid[\u001b[38;5;28mself\u001b[39m\u001b[38;5;241m.\u001b[39mgrid[\u001b[38;5;241m1\u001b[39m]]\u001b[38;5;241m+\u001b[39m\u001b[38;5;28mself\u001b[39m\u001b[38;5;241m.\u001b[39mN_grid1[\u001b[38;5;28mself\u001b[39m\u001b[38;5;241m.\u001b[39mgrid[\u001b[38;5;241m2\u001b[39m]])\u001b[38;5;241m*\u001b[39mpc_star)\u001b[38;5;241m.\u001b[39mastype(\u001b[38;5;28mint\u001b[39m),np\u001b[38;5;241m.\u001b[39mceil((\u001b[38;5;28mself\u001b[39m\u001b[38;5;241m.\u001b[39mN_grid[\u001b[38;5;28mself\u001b[39m\u001b[38;5;241m.\u001b[39mgrid[\u001b[38;5;241m1\u001b[39m]]\u001b[38;5;241m+\u001b[39m\u001b[38;5;28mself\u001b[39m\u001b[38;5;241m.\u001b[39mN_grid1[\u001b[38;5;28mself\u001b[39m\u001b[38;5;241m.\u001b[39mgrid[\u001b[38;5;241m2\u001b[39m]])\u001b[38;5;241m*\u001b[39mpc_star)\u001b[38;5;241m.\u001b[39mastype(\u001b[38;5;28mint\u001b[39m),n0_star, EWderiv0,rho_grid, \u001b[38;5;28mself\u001b[39m\u001b[38;5;241m.\u001b[39mN_grid, \u001b[38;5;28mself\u001b[39m\u001b[38;5;241m.\u001b[39mN_grid1,rho_star,\u001b[38;5;28mself\u001b[39m\u001b[38;5;241m.\u001b[39mp\u001b[38;5;241m.\u001b[39mnum_z, \u001b[38;5;28mself\u001b[39m\u001b[38;5;241m.\u001b[39mp\u001b[38;5;241m.\u001b[39mnum_n, \u001b[38;5;28mself\u001b[39m\u001b[38;5;241m.\u001b[39mp\u001b[38;5;241m.\u001b[39mn_bar, \u001b[38;5;28mself\u001b[39m\u001b[38;5;241m.\u001b[39mp\u001b[38;5;241m.\u001b[39mnum_v, \u001b[38;5;28mself\u001b[39m\u001b[38;5;241m.\u001b[39mp\u001b[38;5;241m.\u001b[39mnum_q)\n\u001b[0;32m   1081\u001b[0m EJderiv1 \u001b[38;5;241m=\u001b[39m EJderivative(EJ1,np\u001b[38;5;241m.\u001b[39mfloor((\u001b[38;5;28mself\u001b[39m\u001b[38;5;241m.\u001b[39mN_grid[\u001b[38;5;28mself\u001b[39m\u001b[38;5;241m.\u001b[39mgrid[\u001b[38;5;241m1\u001b[39m]] \u001b[38;5;241m*\u001b[39m (\u001b[38;5;241m1\u001b[39m\u001b[38;5;241m-\u001b[39m\u001b[38;5;241m0.5\u001b[39m)\u001b[38;5;241m+\u001b[39m\u001b[38;5;28mself\u001b[39m\u001b[38;5;241m.\u001b[39mN_grid1[\u001b[38;5;28mself\u001b[39m\u001b[38;5;241m.\u001b[39mgrid[\u001b[38;5;241m2\u001b[39m]])\u001b[38;5;241m*\u001b[39mpc_star)\u001b[38;5;241m.\u001b[39mastype(\u001b[38;5;28mint\u001b[39m),np\u001b[38;5;241m.\u001b[39mceil((\u001b[38;5;28mself\u001b[39m\u001b[38;5;241m.\u001b[39mN_grid[\u001b[38;5;28mself\u001b[39m\u001b[38;5;241m.\u001b[39mgrid[\u001b[38;5;241m1\u001b[39m]] \u001b[38;5;241m*\u001b[39m (\u001b[38;5;241m1\u001b[39m\u001b[38;5;241m-\u001b[39m\u001b[38;5;241m0.5\u001b[39m)\u001b[38;5;241m+\u001b[39m\u001b[38;5;28mself\u001b[39m\u001b[38;5;241m.\u001b[39mN_grid1[\u001b[38;5;28mself\u001b[39m\u001b[38;5;241m.\u001b[39mgrid[\u001b[38;5;241m2\u001b[39m]])\u001b[38;5;241m*\u001b[39mpc_star)\u001b[38;5;241m.\u001b[39mastype(\u001b[38;5;28mint\u001b[39m),n0_star, EJderiv1,rho_grid, \u001b[38;5;28mself\u001b[39m\u001b[38;5;241m.\u001b[39mN_grid, \u001b[38;5;28mself\u001b[39m\u001b[38;5;241m.\u001b[39mN_grid1,rho_star,\u001b[38;5;28mself\u001b[39m\u001b[38;5;241m.\u001b[39mp\u001b[38;5;241m.\u001b[39mnum_z, \u001b[38;5;28mself\u001b[39m\u001b[38;5;241m.\u001b[39mp\u001b[38;5;241m.\u001b[39mnum_n, \u001b[38;5;28mself\u001b[39m\u001b[38;5;241m.\u001b[39mp\u001b[38;5;241m.\u001b[39mn_bar, \u001b[38;5;28mself\u001b[39m\u001b[38;5;241m.\u001b[39mp\u001b[38;5;241m.\u001b[39mnum_v, \u001b[38;5;28mself\u001b[39m\u001b[38;5;241m.\u001b[39mp\u001b[38;5;241m.\u001b[39mnum_q)\n",
      "\u001b[1;31mZeroDivisionError\u001b[0m: division by zero"
     ]
    }
   ],
   "source": [
    "(mwc_hmq_sd_J,mwc_hmq_sd_W,mwc_hmq_sd_Wstar,mwc_hmq_sd_sep,mwc_hmq_sd_n0,mwc_hmq_sd_n1)=mwc_hmq.J_sep_dir(mwc_hmq_J,mwc_hmq_W)"
   ]
  },
  {
   "cell_type": "code",
   "execution_count": null,
   "metadata": {},
   "outputs": [],
   "source": [
    "mwc_hmq_sd_n0[0,2,2,...]"
   ]
  },
  {
   "cell_type": "code",
   "execution_count": null,
   "metadata": {},
   "outputs": [],
   "source": [
    "np.where(mwc_hmq_sd_n0-mwc_hmq_n0==np.max(mwc_hmq_sd_n0-mwc_hmq_n0))"
   ]
  },
  {
   "cell_type": "code",
   "execution_count": null,
   "metadata": {},
   "outputs": [],
   "source": [
    "(mwc_hmq_s_J,mwc_hmq_s_W,mwc_hmq_s_Wstar,mwc_hmq_s_sep,mwc_hmq_s_n0,mwc_hmq_s_n1)=mwc_hmq.J_sep(mwc_hmq_J,mwc_hmq_W)"
   ]
  },
  {
   "cell_type": "code",
   "execution_count": null,
   "metadata": {},
   "outputs": [],
   "source": [
    "# Retrieve the objects\n",
    "mwch_J = objects['mwch_J']\n",
    "mwch_W = objects['mwch_W']\n",
    "\n",
    "from Multiworker_Contract_hire import MultiworkerContract\n",
    "K=2 #number of tenure levels\n",
    "mwch=MultiworkerContract(p,cc.js)\n",
    "(mwch_J,mwch_W,mwch_Wstar,mwch_pc,mwch_n0,mwch_n1)=mwch.J(mwch_J,mwch_W)\n",
    "\n",
    "objects['mwch_J'] = mwch_J\n",
    "objects['mwch_W'] = mwch_W\n",
    "\n",
    "with open('my_objects.pkl', 'wb') as file:\n",
    "    pickle.dump(objects, file)"
   ]
  },
  {
   "cell_type": "code",
   "execution_count": null,
   "metadata": {},
   "outputs": [],
   "source": [
    "(mwch_s_J,mwch_s_W,mwch_s_Wstar,mwch_s_sep,mwch_s_n0,mwch_s_n1)=mwch.J_sep(mwch_J,mwch_W)"
   ]
  },
  {
   "cell_type": "code",
   "execution_count": null,
   "metadata": {},
   "outputs": [],
   "source": [
    "(mwch_sd_J,mwch_sd_W,mwch_sd_Wstar,mwch_sd_sep,mwch_sd_n0,mwch_sd_n1)=mwch.J_sep_dir(mwch_J,mwch_W)"
   ]
  },
  {
   "cell_type": "code",
   "execution_count": null,
   "metadata": {},
   "outputs": [],
   "source": [
    "from Multiworker_Contract_all import MultiworkerContract\n",
    "K=2 #number of tenure levels\n",
    "mwc=MultiworkerContract(p,cc.js)\n",
    "(mwc_J,mwc_W,mwc_Wstar,mwc_pc,mwc_n0,mwc_n1)=mwc.J()"
   ]
  },
  {
   "cell_type": "markdown",
   "metadata": {},
   "source": [
    "# Plots"
   ]
  },
  {
   "cell_type": "code",
   "execution_count": null,
   "metadata": {},
   "outputs": [],
   "source": [
    "plts.CRSvsDRSvalue(cc_W,cc_J,mwc_W,mwc_J/mwc.N_grid[1],mwc_s_W,mwc_s_J,mwc_sd_W,mwc_sd_J,0)"
   ]
  },
  {
   "cell_type": "code",
   "execution_count": null,
   "metadata": {},
   "outputs": [],
   "source": [
    "plts.CRSvsDRSpolicy(cc_W,cc_Wstar,mwc_W,mwc_Wstar,mwc_s_W,mwc_s_Wstar,mwc_sd_W,mwc_sd_Wstar,0)"
   ]
  },
  {
   "cell_type": "code",
   "execution_count": null,
   "metadata": {},
   "outputs": [],
   "source": [
    "np.where(mwch_sd_sep==1)"
   ]
  },
  {
   "cell_type": "code",
   "execution_count": 18,
   "metadata": {},
   "outputs": [
    {
     "data": {
      "text/plain": [
       "array([0.01118034, 0.02695456, 0.04676295, 0.06990547, 0.09595649,\n",
       "       0.1246214 , 0.15568047, 0.18896162, 0.22432531, 0.26165542,\n",
       "       0.30085335, 0.34183399, 0.38452292, 0.42885433, 0.47476947,\n",
       "       0.52221549, 0.5711445 , 0.62151284, 0.6732805 , 0.72641063,\n",
       "       0.78086914, 0.83662439, 0.89364689, 0.95190908, 1.01138513,\n",
       "       1.07205074, 1.13388304, 1.19686041, 1.26096239, 1.32616959,\n",
       "       1.39246359, 1.45982686, 1.52824268, 1.5976951 , 1.66816888,\n",
       "       1.73964941, 1.81212273, 1.8855754 , 1.95999455, 2.03536778,\n",
       "       2.11168315, 2.18892919, 2.26709481, 2.34616932, 2.42614238,\n",
       "       2.50700401, 2.58874456, 2.67135467, 2.75482529, 2.83914762,\n",
       "       2.92431317, 3.01031365, 3.09714104, 3.18478753, 3.27324555,\n",
       "       3.36250772, 3.45256685, 3.54341595, 3.63504822, 3.72745701,\n",
       "       3.82063586, 3.91457845, 4.00927863, 4.10473037, 4.20092781,\n",
       "       4.29786522, 4.39553698, 4.49393762, 4.59306178, 4.69290421,\n",
       "       4.79345978, 4.89472347, 4.99669037, 5.09935565, 5.2027146 ,\n",
       "       5.3067626 , 5.4114951 , 5.51690767, 5.62299594, 5.72975565,\n",
       "       5.83718259, 5.94527264, 6.05402176, 6.16342598, 6.2734814 ,\n",
       "       6.38418419, 6.49553059, 6.60751689, 6.72013947, 6.83339475,\n",
       "       6.9472792 , 7.06178938, 7.17692189, 7.29267337, 7.40904054,\n",
       "       7.52602015, 7.64360902, 7.76180401, 7.88060202, 8.        ])"
      ]
     },
     "execution_count": 18,
     "metadata": {},
     "output_type": "execute_result"
    }
   ],
   "source": [
    "mwc_hmq.rho_grid"
   ]
  },
  {
   "cell_type": "code",
   "execution_count": 17,
   "metadata": {},
   "outputs": [
    {
     "data": {
      "text/plain": [
       "0.049999999999999996"
      ]
     },
     "execution_count": 17,
     "metadata": {},
     "output_type": "execute_result"
    }
   ],
   "source": [
    "mwc_hmq.pref.inv_utility(mwc_hmq.v_0*(1-p.beta))"
   ]
  },
  {
   "cell_type": "code",
   "execution_count": 11,
   "metadata": {},
   "outputs": [
    {
     "data": {
      "text/plain": [
       "2.4622888266898326"
      ]
     },
     "execution_count": 11,
     "metadata": {},
     "output_type": "execute_result"
    }
   ],
   "source": [
    "mwc_hmq.fun_prod[0,0,0,0,0]*mwc_hmq.prod[0,0,1,0,0]"
   ]
  },
  {
   "cell_type": "code",
   "execution_count": 6,
   "metadata": {},
   "outputs": [
    {
     "data": {
      "image/png": "[encoded data removed]",
      "text/plain": [
       "<Figure size 1600x600 with 2 Axes>"
      ]
     },
     "metadata": {},
     "output_type": "display_data"
    }
   ],
   "source": [
    "plts.ValueComparison(2,2,1,0,cc_W,cc_J,mwc_hmq_W[...,5,:],mwc_hmq_J[...,5],None,None,mwc_hmq_sd_W[...,5,:],mwc_hmq_sd_J[...,5],0)"
   ]
  },
  {
   "cell_type": "code",
   "execution_count": 16,
   "metadata": {},
   "outputs": [
    {
     "data": {
      "text/plain": [
       "array([[[[0.17801715, 0.17801715, 0.17801715, ..., 0.17801715,\n",
       "          0.17801715, 0.17801715],\n",
       "         [2.78491079, 2.78491079, 2.78491079, ..., 2.78491103,\n",
       "          2.78491103, 2.78491112],\n",
       "         [4.87262207, 4.87262207, 4.87262208, ..., 4.87262289,\n",
       "          4.87262289, 4.87262348],\n",
       "         [6.70849317, 6.70849316, 6.70849317, ..., 6.70849483,\n",
       "          6.70849484, 6.70849702],\n",
       "         [8.38544435, 8.38544433, 8.38544434, ..., 8.38544658,\n",
       "          8.38544661, 8.38545282]],\n",
       "\n",
       "        [[0.        , 0.        , 0.        , ..., 0.        ,\n",
       "          0.        , 0.        ],\n",
       "         [2.61642168, 2.61642168, 2.61642168, ..., 2.61642199,\n",
       "          2.61642199, 2.616422  ],\n",
       "         [4.71508849, 4.71508849, 4.7150885 , ..., 4.71508935,\n",
       "          4.71508936, 4.71508937],\n",
       "         [6.52316336, 6.52316337, 6.52316337, ..., 6.52316455,\n",
       "          6.52316456, 6.52316458],\n",
       "         [8.28984019, 8.28984019, 8.28984019, ..., 8.28984019,\n",
       "          8.28984019, 8.28984019]],\n",
       "\n",
       "        [[0.        , 0.        , 0.        , ..., 0.        ,\n",
       "          0.        , 0.        ],\n",
       "         [2.49807366, 2.49807366, 2.49807366, ..., 2.49807385,\n",
       "          2.49807385, 2.49807385],\n",
       "         [4.52484632, 4.52484632, 4.52484632, ..., 4.52484667,\n",
       "          4.52484668, 4.52484669],\n",
       "         [6.45143242, 6.45143242, 6.45143242, ..., 6.45143242,\n",
       "          6.45143242, 6.45143242],\n",
       "         [8.18471127, 8.18471127, 8.18471127, ..., 8.18471127,\n",
       "          8.18471127, 8.18471127]],\n",
       "\n",
       "        [[0.        , 0.        , 0.        , ..., 0.        ,\n",
       "          0.        , 0.        ],\n",
       "         [2.37618225, 2.37618225, 2.37618224, ..., 2.37618219,\n",
       "          2.37618219, 2.37618219],\n",
       "         [4.47866051, 4.47866051, 4.47866051, ..., 4.47866051,\n",
       "          4.47866051, 4.47866051],\n",
       "         [6.28045485, 6.28045485, 6.28045485, ..., 6.28045485,\n",
       "          6.28045485, 6.28045485],\n",
       "         [8.14345354, 8.14345354, 8.14345354, ..., 8.14345354,\n",
       "          8.14345354, 8.14345354]],\n",
       "\n",
       "        [[0.        , 0.        , 0.        , ..., 0.        ,\n",
       "          0.        , 0.        ],\n",
       "         [2.39665032, 2.39665032, 2.39665032, ..., 2.39665032,\n",
       "          2.39665032, 2.39665032],\n",
       "         [4.36738337, 4.36738337, 4.36738337, ..., 4.36738337,\n",
       "          4.36738337, 4.36738337],\n",
       "         [6.2877619 , 6.2877619 , 6.2877619 , ..., 6.2877619 ,\n",
       "          6.2877619 , 6.2877619 ],\n",
       "         [8.02132671, 8.02132671, 8.02132671, ..., 8.02132671,\n",
       "          8.02132671, 8.02132671]]]])"
      ]
     },
     "execution_count": 16,
     "metadata": {},
     "output_type": "execute_result"
    }
   ],
   "source": [
    "mwc_hmq_J[...,5]-mwc_hmq_J[...,4]"
   ]
  },
  {
   "cell_type": "code",
   "execution_count": null,
   "metadata": {},
   "outputs": [],
   "source": [
    "plts.ValueComparison(0,2,1,0,cc_W,cc_J,mwch_W,mwch_J,mwch_s_W,mwch_s_J,mwch_sd_W,mwch_sd_J,0)"
   ]
  },
  {
   "cell_type": "code",
   "execution_count": null,
   "metadata": {},
   "outputs": [],
   "source": [
    "plts.ValueComparison(0,2,1,0,cc_W,cc_J,mwc_W,mwc_J,mwch_W,mwch_J,mwc_sd_W,mwc_sd_J,0)"
   ]
  },
  {
   "cell_type": "code",
   "execution_count": 7,
   "metadata": {},
   "outputs": [
    {
     "data": {
      "image/png": "[encoded data removed]",
      "text/plain": [
       "<Figure size 1600x600 with 2 Axes>"
      ]
     },
     "metadata": {},
     "output_type": "display_data"
    }
   ],
   "source": [
    "plts.sep(0,p.z_0-1,3,0,1,1,mwc_hmq_sd_W[...,5,:],mwc_hmq_sd_sep[...,5],None,None)"
   ]
  },
  {
   "cell_type": "code",
   "execution_count": null,
   "metadata": {},
   "outputs": [],
   "source": [
    "#Only firings when n1=0? Shit"
   ]
  },
  {
   "cell_type": "code",
   "execution_count": null,
   "metadata": {},
   "outputs": [],
   "source": [
    "import matplotlib.pyplot as plt\n",
    "import os\n",
    "# Create a directory to save plots\n",
    "output_dir = 'Plots'\n",
    "if not os.path.exists(output_dir):\n",
    "    os.makedirs(output_dir)"
   ]
  },
  {
   "cell_type": "code",
   "execution_count": null,
   "metadata": {},
   "outputs": [],
   "source": [
    "jun=0\n",
    "sen=0\n",
    "\n",
    "if mwch_W is not None:        \n",
    "    plt.plot(mwch_W[p.z_0-1, jun, sen, :, 1], mwch_n0[p.z_0-1, jun, sen, :], label='DRS')\n",
    "if mwch_s_W is not None:        \n",
    "    plt.plot(mwch_s_W[p.z_0-1, jun, sen, :, 1], mwch_s_n0[p.z_0-1, jun, sen, :], label='DRS with inv sep')\n",
    "if mwch_sd_W is not None:        \n",
    "    plt.plot(mwch_sd_W[p.z_0-1, jun, sen, :, 1], mwch_sd_n0[p.z_0-1, jun, sen, :], label='DRS with direct sep')\n",
    "\n",
    "plt.title(f'Hires across models, {jun} juniors and {sen} seniors')\n",
    "plt.xlabel('Worker value')\n",
    "plt.ylabel('Hires')\n",
    "plt.legend()\n",
    "#Why does the job value rise when separations go to 1?\n",
    "#Alex: when something strange is arising at the edge of the grid, it might be the extrapolation issue.\n",
    "#Is there a way to check my intuition? Seems consistent with size and productivity changes"
   ]
  },
  {
   "cell_type": "code",
   "execution_count": null,
   "metadata": {},
   "outputs": [],
   "source": [
    "plts.CRSvsDRSdirect(cc_J,mwc_J,0)"
   ]
  },
  {
   "cell_type": "code",
   "execution_count": null,
   "metadata": {},
   "outputs": [],
   "source": [
    "plts.CRSvsDRSsurplus(cc_J,cc_W,mwc_J,mwc_W,0)"
   ]
  },
  {
   "cell_type": "code",
   "execution_count": null,
   "metadata": {},
   "outputs": [],
   "source": [
    "import matplotlib.pyplot as plt\n",
    "import os\n",
    "# Create a directory to save plots\n",
    "output_dir = 'Plots'\n",
    "if not os.path.exists(output_dir):\n",
    "    os.makedirs(output_dir)"
   ]
  },
  {
   "cell_type": "code",
   "execution_count": null,
   "metadata": {},
   "outputs": [],
   "source": [
    "np.abs(mwc_s_sep[:,:1,:3,:]-mwc_sd_sep[:,:1,:3,:]).max()"
   ]
  },
  {
   "cell_type": "code",
   "execution_count": null,
   "metadata": {},
   "outputs": [],
   "source": [
    "np.max(np.abs(mwc_s_sep[:,3,0,:]-mwc_sd_sep[:,3,0,:]))"
   ]
  },
  {
   "cell_type": "code",
   "execution_count": null,
   "metadata": {},
   "outputs": [],
   "source": [
    "np.max(mwc_sd_sep[:,1,1,:])"
   ]
  },
  {
   "cell_type": "code",
   "execution_count": null,
   "metadata": {},
   "outputs": [],
   "source": [
    "mwc_sd_sep[:,1,1,:]"
   ]
  },
  {
   "cell_type": "code",
   "execution_count": null,
   "metadata": {},
   "outputs": [],
   "source": [
    "mwc_s_J[:,1,0,:]/mwc_s_J[:,3,0,:] #this is odd, should be 1/3 exactly, no? it is 1/3 in the case without separations, so why not here? there aren't even any separations!"
   ]
  },
  {
   "cell_type": "code",
   "execution_count": null,
   "metadata": {},
   "outputs": [],
   "source": [
    "np.max(mwc_s_sep[:,3,0,:])"
   ]
  },
  {
   "cell_type": "code",
   "execution_count": null,
   "metadata": {},
   "outputs": [],
   "source": [
    "mwc_s_sep[0,1,1,:] #if the two value functions intersect, then how come the separation rate is 1?\n",
    "#also thats way too many separations"
   ]
  }
 ],
 "metadata": {
  "kernelspec": {
   "display_name": "Python 3",
   "language": "python",
   "name": "python3"
  },
  "language_info": {
   "codemirror_mode": {
    "name": "ipython",
    "version": 3
   },
   "file_extension": ".py",
   "mimetype": "text/x-python",
   "name": "python",
   "nbconvert_exporter": "python",
   "pygments_lexer": "ipython3",
   "version": "3.11.4"
  }
 },
 "nbformat": 4,
 "nbformat_minor": 2
}

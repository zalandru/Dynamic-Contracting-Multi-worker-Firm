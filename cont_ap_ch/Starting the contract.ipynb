{
 "cells": [
  {
   "cell_type": "markdown",
   "metadata": {},
   "source": [
    "## Basics"
   ]
  },
  {
   "cell_type": "code",
   "execution_count": 1,
   "metadata": {},
   "outputs": [],
   "source": [
    "from primitives import Parameters\n",
    "p = Parameters()"
   ]
  },
  {
   "cell_type": "code",
   "execution_count": 2,
   "metadata": {},
   "outputs": [],
   "source": [
    "from ContinuousContract import ContinuousContract\n",
    "cc=ContinuousContract(p)\n",
    "(cc_J,cc_W)=cc.J()"
   ]
  },
  {
   "cell_type": "code",
   "execution_count": 3,
   "metadata": {},
   "outputs": [
    {
     "name": "stderr",
     "output_type": "stream",
     "text": [
      "c:\\Users\\andre\\Codes\\Multi-worker firm\\cont_ap_ch\\primitives.py:169: RuntimeWarning: divide by zero encountered in power\n",
      "  return np.divide(aa * np.power( wage, self.p.tax_lambda * (1.0 - self.p.u_rho)) - self.p.u_b,\n",
      "c:\\Users\\andre\\Codes\\Multi-worker firm\\cont_ap_ch\\search.py:192: RuntimeWarning: invalid value encountered in add\n",
      "  return self.re_cst - self.x[0]*e + self.x[1]/(1+self.x[2])*np.power( np.abs( e - self.e_asy), 1 + self.x[2])\n",
      "c:\\Users\\andre\\Codes\\Multi-worker firm\\cont_ap_ch\\valuefunction.py:27: RuntimeWarning: invalid value encountered in subtract\n",
      "  Xi_arg = (Xmax + np.exp(gamma[3]) - Xi)/100.0\n",
      "c:\\Users\\andre\\Codes\\Multi-worker firm\\cont_ap_ch\\valuefunction.py:11: RuntimeWarning: invalid value encountered in subtract\n",
      "  Xi_arg = (Xmax + np.exp(gamma[3]) - Xi)/ 100.0\n",
      "c:\\Users\\andre\\Codes\\Multi-worker firm\\cont_ap_ch\\valuefunction.py:32: RuntimeWarning: invalid value encountered in subtract\n",
      "  Xi_arg = (Xmax + np.exp(gamma[3]) - Xi)/100.0\n",
      "c:\\Users\\andre\\Codes\\Multi-worker firm\\cont_ap_ch\\BasicContract_r.py:41: RuntimeWarning: invalid value encountered in subtract\n",
      "  return  (np.power( A-B,2) ).mean() / ( np.power(B,2) ).mean()\n"
     ]
    },
    {
     "ename": "AssertionError",
     "evalue": "pe is not NaN",
     "output_type": "error",
     "traceback": [
      "\u001b[1;31m---------------------------------------------------------------------------\u001b[0m",
      "\u001b[1;31mAssertionError\u001b[0m                            Traceback (most recent call last)",
      "Cell \u001b[1;32mIn[3], line 5\u001b[0m\n\u001b[0;32m      1\u001b[0m \u001b[38;5;28;01mfrom\u001b[39;00m \u001b[38;5;21;01mBasicContract_r\u001b[39;00m \u001b[38;5;28;01mimport\u001b[39;00m BasicContract_r\n\u001b[0;32m      3\u001b[0m bc\u001b[38;5;241m=\u001b[39mBasicContract_r(\u001b[38;5;241m3\u001b[39m,cc\u001b[38;5;241m.\u001b[39mjs,p)\n\u001b[1;32m----> 5\u001b[0m (bcr_J,bcr_W)\u001b[38;5;241m=\u001b[39m\u001b[43mbc\u001b[49m\u001b[38;5;241;43m.\u001b[39;49m\u001b[43mJ_K\u001b[49m\u001b[43m(\u001b[49m\u001b[43m)\u001b[49m\n",
      "File \u001b[1;32mc:\\Users\\andre\\Codes\\Multi-worker firm\\cont_ap_ch\\BasicContract_r.py:125\u001b[0m, in \u001b[0;36mBasicContract_r.J_K\u001b[1;34m(self, update_eq)\u001b[0m\n\u001b[0;32m    122\u001b[0m EJpi \u001b[38;5;241m=\u001b[39m Jpi\n\u001b[0;32m    123\u001b[0m \u001b[38;5;66;03m#print(\"Shape of EW1i:\", EW1i.shape)\u001b[39;00m\n\u001b[0;32m    124\u001b[0m \u001b[38;5;66;03m# get worker decisions\u001b[39;00m\n\u001b[1;32m--> 125\u001b[0m _, _, pc \u001b[38;5;241m=\u001b[39m \u001b[38;5;28;43mself\u001b[39;49m\u001b[38;5;241;43m.\u001b[39;49m\u001b[43mgetWorkerDecisions\u001b[49m\u001b[43m(\u001b[49m\u001b[43mEW1i\u001b[49m\u001b[43m)\u001b[49m\n\u001b[0;32m    126\u001b[0m \u001b[38;5;66;03m# get worker decisions at EW1i + epsilon\u001b[39;00m\n\u001b[0;32m    127\u001b[0m _, _, pc_d \u001b[38;5;241m=\u001b[39m \u001b[38;5;28mself\u001b[39m\u001b[38;5;241m.\u001b[39mgetWorkerDecisions(EW1i \u001b[38;5;241m+\u001b[39m \u001b[38;5;28mself\u001b[39m\u001b[38;5;241m.\u001b[39mderiv_eps) \n",
      "File \u001b[1;32mc:\\Users\\andre\\Codes\\Multi-worker firm\\cont_ap_ch\\BasicContract_r.py:263\u001b[0m, in \u001b[0;36mBasicContract_r.getWorkerDecisions\u001b[1;34m(self, EW1, employed)\u001b[0m\n\u001b[0;32m    256\u001b[0m \u001b[38;5;250m\u001b[39m\u001b[38;5;124;03m\"\"\"\u001b[39;00m\n\u001b[0;32m    257\u001b[0m \u001b[38;5;124;03m:param EW1: Expected value of employment\u001b[39;00m\n\u001b[0;32m    258\u001b[0m \u001b[38;5;124;03m:param EU:  Expected value of unemployment\u001b[39;00m\n\u001b[0;32m    259\u001b[0m \u001b[38;5;124;03m:param employed: whether the worker is employed (in which case we multiply by efficiency)\u001b[39;00m\n\u001b[0;32m    260\u001b[0m \u001b[38;5;124;03m:return: pe,re,qi search decision and associated return, as well as quit decision.\u001b[39;00m\n\u001b[0;32m    261\u001b[0m \u001b[38;5;124;03m\"\"\"\u001b[39;00m\n\u001b[0;32m    262\u001b[0m pe, re \u001b[38;5;241m=\u001b[39m \u001b[38;5;28mself\u001b[39m\u001b[38;5;241m.\u001b[39mjs\u001b[38;5;241m.\u001b[39msolve_search_choice(EW1) \u001b[38;5;66;03m#Uses the job search array to solve for the search choice\u001b[39;00m\n\u001b[1;32m--> 263\u001b[0m \u001b[38;5;28;01massert\u001b[39;00m (\u001b[38;5;241m~\u001b[39mnp\u001b[38;5;241m.\u001b[39misnan(pe))\u001b[38;5;241m.\u001b[39mall(), \u001b[38;5;124m\"\u001b[39m\u001b[38;5;124mpe is not NaN\u001b[39m\u001b[38;5;124m\"\u001b[39m\n\u001b[0;32m    264\u001b[0m \u001b[38;5;28;01massert\u001b[39;00m (pe \u001b[38;5;241m<\u001b[39m\u001b[38;5;241m=\u001b[39m \u001b[38;5;241m1\u001b[39m)\u001b[38;5;241m.\u001b[39mall(), \u001b[38;5;124m\"\u001b[39m\u001b[38;5;124mpe is not less than 1\u001b[39m\u001b[38;5;124m\"\u001b[39m\n\u001b[0;32m    265\u001b[0m \u001b[38;5;28;01massert\u001b[39;00m (pe \u001b[38;5;241m>\u001b[39m\u001b[38;5;241m=\u001b[39m \u001b[38;5;241m-\u001b[39m\u001b[38;5;241m1e-10\u001b[39m)\u001b[38;5;241m.\u001b[39mall(), \u001b[38;5;124m\"\u001b[39m\u001b[38;5;124mpe is not larger than 0\u001b[39m\u001b[38;5;124m\"\u001b[39m\n",
      "\u001b[1;31mAssertionError\u001b[0m: pe is not NaN"
     ]
    }
   ],
   "source": [
    "from BasicContract_r import BasicContract_r\n",
    "\n",
    "bc=BasicContract_r(3,cc.js,p)\n",
    "\n",
    "(bcr_J,bcr_W)=bc.J_K()"
   ]
  },
  {
   "cell_type": "code",
   "execution_count": null,
   "metadata": {},
   "outputs": [],
   "source": [
    "from BasicContract import BasicContract\n",
    "\n",
    "bc=BasicContract(3,cc.js,p)\n",
    "\n",
    "(best_r,bc_J)=bc.J_K()"
   ]
  },
  {
   "cell_type": "code",
   "execution_count": null,
   "metadata": {},
   "outputs": [],
   "source": [
    "cc.js.re(150)"
   ]
  },
  {
   "cell_type": "code",
   "execution_count": null,
   "metadata": {},
   "outputs": [],
   "source": [
    "import numpy as np\n",
    "best_r*bc.v_grid_0[:,np.newaxis]"
   ]
  },
  {
   "cell_type": "code",
   "execution_count": null,
   "metadata": {},
   "outputs": [],
   "source": [
    "best_r"
   ]
  },
  {
   "cell_type": "code",
   "execution_count": null,
   "metadata": {},
   "outputs": [],
   "source": [
    "bc.v_grid_0"
   ]
  },
  {
   "cell_type": "markdown",
   "metadata": {},
   "source": [
    "## Comparisons across contracts"
   ]
  },
  {
   "cell_type": "code",
   "execution_count": null,
   "metadata": {},
   "outputs": [],
   "source": [
    "cc_W[0,0]#=60.185\n",
    "cc_J[0,0]"
   ]
  },
  {
   "cell_type": "code",
   "execution_count": null,
   "metadata": {},
   "outputs": [],
   "source": [
    "bc_J[0]"
   ]
  },
  {
   "cell_type": "code",
   "execution_count": null,
   "metadata": {},
   "outputs": [],
   "source": [
    "bc_J[1].shape[1]"
   ]
  },
  {
   "cell_type": "code",
   "execution_count": null,
   "metadata": {},
   "outputs": [],
   "source": [
    "cc_W[0,4]#=69.78\n",
    "cc_J[0,4]"
   ]
  },
  {
   "cell_type": "code",
   "execution_count": null,
   "metadata": {},
   "outputs": [],
   "source": [
    "bc_J[1]"
   ]
  },
  {
   "cell_type": "code",
   "execution_count": null,
   "metadata": {},
   "outputs": [],
   "source": [
    "cc_W[0,15]#=79.79\n",
    "cc_J[0,15]"
   ]
  },
  {
   "cell_type": "code",
   "execution_count": null,
   "metadata": {},
   "outputs": [],
   "source": [
    "bc_J[2]"
   ]
  },
  {
   "cell_type": "code",
   "execution_count": null,
   "metadata": {},
   "outputs": [],
   "source": [
    "cc_W[0,45]#=90.01\n",
    "cc_J[0,45]"
   ]
  },
  {
   "cell_type": "code",
   "execution_count": null,
   "metadata": {},
   "outputs": [],
   "source": [
    "bc_J[3]"
   ]
  },
  {
   "cell_type": "code",
   "execution_count": null,
   "metadata": {},
   "outputs": [],
   "source": [
    "cc_W[0,99]\n",
    "cc_J[0,99]"
   ]
  },
  {
   "cell_type": "code",
   "execution_count": null,
   "metadata": {},
   "outputs": [],
   "source": [
    "bc_J[4]"
   ]
  },
  {
   "cell_type": "code",
   "execution_count": null,
   "metadata": {},
   "outputs": [],
   "source": [
    "15.25811404/16.986493446281656"
   ]
  },
  {
   "cell_type": "code",
   "execution_count": null,
   "metadata": {},
   "outputs": [],
   "source": [
    "cc_W[0,197]#=110\n",
    "cc_J[0,197]"
   ]
  }
 ],
 "metadata": {
  "kernelspec": {
   "display_name": "Python 3",
   "language": "python",
   "name": "python3"
  },
  "language_info": {
   "codemirror_mode": {
    "name": "ipython",
    "version": 3
   },
   "file_extension": ".py",
   "mimetype": "text/x-python",
   "name": "python",
   "nbconvert_exporter": "python",
   "pygments_lexer": "ipython3",
   "version": "3.11.4"
  }
 },
 "nbformat": 4,
 "nbformat_minor": 2
}

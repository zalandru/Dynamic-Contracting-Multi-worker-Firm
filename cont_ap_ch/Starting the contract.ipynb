{
 "cells": [
  {
   "cell_type": "markdown",
   "metadata": {},
   "source": [
    "## Basics"
   ]
  },
  {
   "cell_type": "code",
   "execution_count": 1,
   "metadata": {},
   "outputs": [],
   "source": [
    "from primitives import Parameters\n",
    "p = Parameters()"
   ]
  },
  {
   "cell_type": "code",
   "execution_count": 2,
   "metadata": {},
   "outputs": [],
   "source": [
    "from ContinuousContract import ContinuousContract\n",
    "cc=ContinuousContract(p)\n",
    "(cc_J,cc_W)=cc.J()"
   ]
  },
  {
   "cell_type": "code",
   "execution_count": 3,
   "metadata": {},
   "outputs": [
    {
     "name": "stdout",
     "output_type": "stream",
     "text": [
      "w_star: [[[0.         0.         0.06213958]\n",
      "  [0.         0.         0.08042259]\n",
      "  [0.         0.         0.09921045]\n",
      "  [0.         0.         0.11828158]\n",
      "  [0.         0.         0.1375303 ]\n",
      "  [0.         0.         0.15689898]\n",
      "  [0.         0.         0.17635315]\n",
      "  [0.         0.         0.19587078]\n",
      "  [0.         0.         0.21543704]\n",
      "  [0.         0.         0.23504154]\n",
      "  [0.         0.         0.25467675]\n",
      "  [0.         0.         0.27433705]\n",
      "  [0.         0.         0.2940182 ]\n",
      "  [0.         0.         0.31371686]\n",
      "  [0.         0.         0.33343042]\n",
      "  [0.         0.         0.35315678]\n",
      "  [0.         0.         0.37289424]\n",
      "  [0.         0.         0.39264139]\n",
      "  [0.         0.         0.41239707]\n",
      "  [0.         0.         0.43216031]\n",
      "  [0.         0.         0.45193027]\n",
      "  [0.         0.         0.47170627]\n",
      "  [0.         0.         0.49148769]\n",
      "  [0.         0.         0.51127402]\n",
      "  [0.         0.         0.53106481]\n",
      "  [0.         0.         0.55085967]\n",
      "  [0.         0.         0.57065826]\n",
      "  [0.         0.         0.59046026]\n",
      "  [0.         0.         0.61026541]\n",
      "  [0.         0.         0.63007349]\n",
      "  [0.         0.         0.64988426]\n",
      "  [0.         0.         0.66969755]\n",
      "  [0.         0.         0.68951318]\n",
      "  [0.         0.         0.709331  ]\n",
      "  [0.         0.         0.72915088]\n",
      "  [0.         0.         0.74897269]\n",
      "  [0.         0.         0.76879631]\n",
      "  [0.         0.         0.78862165]\n",
      "  [0.         0.         0.80844861]\n",
      "  [0.         0.         0.82827711]\n",
      "  [0.         0.         0.84810706]\n",
      "  [0.         0.         0.86793841]\n",
      "  [0.         0.         0.88777108]\n",
      "  [0.         0.         0.90760501]\n",
      "  [0.         0.         0.92744016]\n",
      "  [0.         0.         0.94727646]\n",
      "  [0.         0.         0.96711388]\n",
      "  [0.         0.         0.98695237]\n",
      "  [0.         0.         1.00679189]\n",
      "  [0.         0.         1.02663241]\n",
      "  [0.         0.         1.04647389]\n",
      "  [0.         0.         1.0663163 ]\n",
      "  [0.         0.         1.08615962]\n",
      "  [0.         0.         1.10600382]\n",
      "  [0.         0.         1.12584887]\n",
      "  [0.         0.         1.14569476]\n",
      "  [0.         0.         1.16554146]\n",
      "  [0.         0.         1.18538896]\n",
      "  [0.         0.         1.20523723]\n",
      "  [0.         0.         1.22508627]\n",
      "  [0.         0.         1.24493605]\n",
      "  [0.         0.         1.26478658]\n",
      "  [0.         0.         1.28463782]\n",
      "  [0.         0.         1.30448978]\n",
      "  [0.         0.         1.32434245]\n",
      "  [0.         0.         1.34419582]\n",
      "  [0.         0.         1.36404987]\n",
      "  [0.         0.         1.38390461]\n",
      "  [0.         0.         1.40376003]\n",
      "  [0.         0.         1.42361612]\n",
      "  [0.         0.         1.44347288]\n",
      "  [0.         0.         1.46333031]\n",
      "  [0.         0.         1.48318841]\n",
      "  [0.         0.         1.50304717]\n",
      "  [0.         0.         1.5229066 ]\n",
      "  [0.         0.         1.5427667 ]\n",
      "  [0.         0.         1.56262746]\n",
      "  [0.         0.         1.58248889]\n",
      "  [0.         0.         1.60235099]\n",
      "  [0.         0.         1.62221377]\n",
      "  [0.         0.         1.64207723]\n",
      "  [0.         0.         1.66194137]\n",
      "  [0.         0.         1.6818062 ]\n",
      "  [0.         0.         1.70167173]\n",
      "  [0.         0.         1.72153796]\n",
      "  [0.         0.         1.7414049 ]\n",
      "  [0.         0.         1.76127257]\n",
      "  [0.         0.         1.78114096]\n",
      "  [0.         0.         1.80101009]\n",
      "  [0.         0.         1.82087997]\n",
      "  [0.         0.         1.84075061]\n",
      "  [0.         0.         1.86062203]\n",
      "  [0.         0.         1.88049423]\n",
      "  [0.         0.         1.90036723]\n",
      "  [0.         0.         1.92024106]\n",
      "  [0.         0.         1.94011571]\n",
      "  [0.         0.         1.95999121]\n",
      "  [0.         0.         1.97986758]\n",
      "  [0.         0.         1.99974484]\n",
      "  [0.         0.         2.01962301]\n",
      "  [0.         0.         2.0395021 ]\n",
      "  [0.         0.         2.05938214]\n",
      "  [0.         0.         2.07926315]\n",
      "  [0.         0.         2.09914517]\n",
      "  [0.         0.         2.1190282 ]\n",
      "  [0.         0.         2.13891229]\n",
      "  [0.         0.         2.15879746]\n",
      "  [0.         0.         2.17868374]\n",
      "  [0.         0.         2.19857116]\n",
      "  [0.         0.         2.21845976]\n",
      "  [0.         0.         2.23834957]\n",
      "  [0.         0.         2.25824064]\n",
      "  [0.         0.         2.27813299]\n",
      "  [0.         0.         2.29802667]\n",
      "  [0.         0.         2.31792172]\n",
      "  [0.         0.         2.3378182 ]\n",
      "  [0.         0.         2.35771614]\n",
      "  [0.         0.         2.3776156 ]\n",
      "  [0.         0.         2.39751663]\n",
      "  [0.         0.         2.4174193 ]\n",
      "  [0.         0.         2.43732365]\n",
      "  [0.         0.         2.45722976]\n",
      "  [0.         0.         2.47713769]\n",
      "  [0.         0.         2.4970475 ]\n",
      "  [0.         0.         2.51695929]\n",
      "  [0.         0.         2.53687311]\n",
      "  [0.         0.         2.55678907]\n",
      "  [0.         0.         2.57670724]\n",
      "  [0.         0.         2.59662772]\n",
      "  [0.         0.         2.61655062]\n",
      "  [0.         0.         2.63647603]\n",
      "  [0.         0.         2.65640407]\n",
      "  [0.         0.         2.67633485]\n",
      "  [0.         0.         2.69626852]\n",
      "  [0.         0.         2.7162052 ]\n",
      "  [0.         0.         2.73614504]\n",
      "  [0.         0.         2.75608819]\n",
      "  [0.         0.         2.77603481]\n",
      "  [0.         0.         2.7959851 ]\n",
      "  [0.         0.         2.81593922]\n",
      "  [0.         0.         2.8358974 ]\n",
      "  [0.         0.         2.85585983]\n",
      "  [0.         0.         2.87582677]\n",
      "  [0.         0.         2.89579846]\n",
      "  [0.         0.         2.91577517]\n",
      "  [0.         0.         2.93575719]\n",
      "  [0.         0.         2.95574485]\n",
      "  [0.         0.         2.97573848]\n",
      "  [0.         0.         2.99573845]\n",
      "  [0.         0.         3.01574517]\n",
      "  [0.         0.         3.03575907]\n",
      "  [0.         0.         3.05578062]\n",
      "  [0.         0.         3.07581036]\n",
      "  [0.         0.         3.09584883]\n",
      "  [0.         0.         3.11589668]\n",
      "  [0.         0.         3.13595457]\n",
      "  [0.         0.         3.15602326]\n",
      "  [0.         0.         3.17610357]\n",
      "  [0.         0.         3.19619643]\n",
      "  [0.         0.         3.21630283]\n",
      "  [0.         0.         3.23642391]\n",
      "  [0.         0.         3.25656092]\n",
      "  [0.         0.         3.27671527]\n",
      "  [0.         0.         3.29688851]\n",
      "  [0.         0.         3.31708243]\n",
      "  [0.         0.         3.33729901]\n",
      "  [0.         0.         3.35754052]\n",
      "  [0.         0.         3.37780954]\n",
      "  [0.         0.         3.398109  ]\n",
      "  [0.         0.         3.4184423 ]\n",
      "  [0.         0.         3.43881334]\n",
      "  [0.         0.         3.45922666]\n",
      "  [0.         0.         3.47968756]\n",
      "  [0.         0.         3.50020228]\n",
      "  [0.         0.         3.52077821]\n",
      "  [0.         0.         3.54142417]\n",
      "  [0.         0.         3.5621508 ]\n",
      "  [0.         0.         3.58297101]\n",
      "  [0.         0.         3.60390014]\n",
      "  [0.         0.         3.62495915]\n",
      "  [0.         0.         3.64617364]\n",
      "  [0.         0.         3.66757637]\n",
      "  [0.         0.         3.6892103 ]\n",
      "  [0.         0.         3.71113304]\n",
      "  [0.         0.         3.73342726]\n",
      "  [0.         0.         3.75621596]\n",
      "  [0.         0.         3.77966642]\n",
      "  [0.         0.         3.80409358]\n",
      "  [0.         0.         3.83003685]\n",
      "  [0.         0.         3.85846256]\n",
      "  [0.         0.         3.89311121]\n",
      "  [0.         0.         3.99907381]\n",
      "  [0.         0.         3.99907381]\n",
      "  [0.         0.         3.99907381]\n",
      "  [0.         0.         3.99907381]\n",
      "  [0.         0.         3.99907381]\n",
      "  [0.         0.         3.99907381]\n",
      "  [0.         0.         3.99907381]\n",
      "  [0.         0.         3.99907381]\n",
      "  [0.         0.         4.        ]]]\n"
     ]
    },
    {
     "name": "stderr",
     "output_type": "stream",
     "text": [
      "c:\\Users\\andre\\Codes\\Multi-worker firm\\cont_ap_ch\\primitives.py:169: RuntimeWarning: divide by zero encountered in power\n",
      "  return np.divide(aa * np.power( wage, self.p.tax_lambda * (1.0 - self.p.u_rho)) - self.p.u_b,\n",
      "c:\\Users\\andre\\Codes\\Multi-worker firm\\cont_ap_ch\\search.py:192: RuntimeWarning: invalid value encountered in add\n",
      "  return self.re_cst - self.x[0]*e + self.x[1]/(1+self.x[2])*np.power( np.abs( e - self.e_asy), 1 + self.x[2])\n",
      "c:\\Users\\andre\\Codes\\Multi-worker firm\\cont_ap_ch\\valuefunction.py:27: RuntimeWarning: invalid value encountered in subtract\n",
      "  Xi_arg = (Xmax + np.exp(gamma[3]) - Xi)/100.0\n",
      "c:\\Users\\andre\\Codes\\Multi-worker firm\\cont_ap_ch\\valuefunction.py:11: RuntimeWarning: invalid value encountered in subtract\n",
      "  Xi_arg = (Xmax + np.exp(gamma[3]) - Xi)/ 100.0\n",
      "c:\\Users\\andre\\Codes\\Multi-worker firm\\cont_ap_ch\\valuefunction.py:32: RuntimeWarning: invalid value encountered in subtract\n",
      "  Xi_arg = (Xmax + np.exp(gamma[3]) - Xi)/100.0\n",
      "c:\\Users\\andre\\Codes\\Multi-worker firm\\cont_ap_ch\\BasicContract_r.py:41: RuntimeWarning: invalid value encountered in subtract\n",
      "  return  (np.power( A-B,2) ).mean() / ( np.power(B,2) ).mean()\n"
     ]
    },
    {
     "ename": "AssertionError",
     "evalue": "pe is not NaN",
     "output_type": "error",
     "traceback": [
      "\u001b[1;31m---------------------------------------------------------------------------\u001b[0m",
      "\u001b[1;31mAssertionError\u001b[0m                            Traceback (most recent call last)",
      "Cell \u001b[1;32mIn[3], line 5\u001b[0m\n\u001b[0;32m      1\u001b[0m \u001b[38;5;28;01mfrom\u001b[39;00m \u001b[38;5;21;01mBasicContract_r\u001b[39;00m \u001b[38;5;28;01mimport\u001b[39;00m BasicContract_r\n\u001b[0;32m      3\u001b[0m bc\u001b[38;5;241m=\u001b[39mBasicContract_r(\u001b[38;5;241m3\u001b[39m,cc\u001b[38;5;241m.\u001b[39mjs,p)\n\u001b[1;32m----> 5\u001b[0m (bcr_J,bcr_W)\u001b[38;5;241m=\u001b[39m\u001b[43mbc\u001b[49m\u001b[38;5;241;43m.\u001b[39;49m\u001b[43mJ_K\u001b[49m\u001b[43m(\u001b[49m\u001b[43m)\u001b[49m\n",
      "File \u001b[1;32mc:\\Users\\andre\\Codes\\Multi-worker firm\\cont_ap_ch\\BasicContract_r.py:125\u001b[0m, in \u001b[0;36mBasicContract_r.J_K\u001b[1;34m(self, update_eq)\u001b[0m\n\u001b[0;32m    122\u001b[0m EJpi \u001b[38;5;241m=\u001b[39m Jpi\n\u001b[0;32m    123\u001b[0m \u001b[38;5;66;03m#print(\"Shape of EW1i:\", EW1i.shape)\u001b[39;00m\n\u001b[0;32m    124\u001b[0m \u001b[38;5;66;03m# get worker decisions\u001b[39;00m\n\u001b[1;32m--> 125\u001b[0m _, _, pc \u001b[38;5;241m=\u001b[39m \u001b[38;5;28;43mself\u001b[39;49m\u001b[38;5;241;43m.\u001b[39;49m\u001b[43mgetWorkerDecisions\u001b[49m\u001b[43m(\u001b[49m\u001b[43mEW1i\u001b[49m\u001b[43m)\u001b[49m\n\u001b[0;32m    126\u001b[0m \u001b[38;5;66;03m# get worker decisions at EW1i + epsilon\u001b[39;00m\n\u001b[0;32m    127\u001b[0m _, _, pc_d \u001b[38;5;241m=\u001b[39m \u001b[38;5;28mself\u001b[39m\u001b[38;5;241m.\u001b[39mgetWorkerDecisions(EW1i \u001b[38;5;241m+\u001b[39m \u001b[38;5;28mself\u001b[39m\u001b[38;5;241m.\u001b[39mderiv_eps) \n",
      "File \u001b[1;32mc:\\Users\\andre\\Codes\\Multi-worker firm\\cont_ap_ch\\BasicContract_r.py:264\u001b[0m, in \u001b[0;36mBasicContract_r.getWorkerDecisions\u001b[1;34m(self, EW1, employed)\u001b[0m\n\u001b[0;32m    257\u001b[0m \u001b[38;5;250m\u001b[39m\u001b[38;5;124;03m\"\"\"\u001b[39;00m\n\u001b[0;32m    258\u001b[0m \u001b[38;5;124;03m:param EW1: Expected value of employment\u001b[39;00m\n\u001b[0;32m    259\u001b[0m \u001b[38;5;124;03m:param EU:  Expected value of unemployment\u001b[39;00m\n\u001b[0;32m    260\u001b[0m \u001b[38;5;124;03m:param employed: whether the worker is employed (in which case we multiply by efficiency)\u001b[39;00m\n\u001b[0;32m    261\u001b[0m \u001b[38;5;124;03m:return: pe,re,qi search decision and associated return, as well as quit decision.\u001b[39;00m\n\u001b[0;32m    262\u001b[0m \u001b[38;5;124;03m\"\"\"\u001b[39;00m\n\u001b[0;32m    263\u001b[0m pe, re \u001b[38;5;241m=\u001b[39m \u001b[38;5;28mself\u001b[39m\u001b[38;5;241m.\u001b[39mjs\u001b[38;5;241m.\u001b[39msolve_search_choice(EW1) \u001b[38;5;66;03m#Uses the job search array to solve for the search choice\u001b[39;00m\n\u001b[1;32m--> 264\u001b[0m \u001b[38;5;28;01massert\u001b[39;00m (\u001b[38;5;241m~\u001b[39mnp\u001b[38;5;241m.\u001b[39misnan(pe))\u001b[38;5;241m.\u001b[39mall(), \u001b[38;5;124m\"\u001b[39m\u001b[38;5;124mpe is not NaN\u001b[39m\u001b[38;5;124m\"\u001b[39m\n\u001b[0;32m    265\u001b[0m \u001b[38;5;28;01massert\u001b[39;00m (pe \u001b[38;5;241m<\u001b[39m\u001b[38;5;241m=\u001b[39m \u001b[38;5;241m1\u001b[39m)\u001b[38;5;241m.\u001b[39mall(), \u001b[38;5;124m\"\u001b[39m\u001b[38;5;124mpe is not less than 1\u001b[39m\u001b[38;5;124m\"\u001b[39m\n\u001b[0;32m    266\u001b[0m \u001b[38;5;28;01massert\u001b[39;00m (pe \u001b[38;5;241m>\u001b[39m\u001b[38;5;241m=\u001b[39m \u001b[38;5;241m-\u001b[39m\u001b[38;5;241m1e-10\u001b[39m)\u001b[38;5;241m.\u001b[39mall(), \u001b[38;5;124m\"\u001b[39m\u001b[38;5;124mpe is not larger than 0\u001b[39m\u001b[38;5;124m\"\u001b[39m\n",
      "\u001b[1;31mAssertionError\u001b[0m: pe is not NaN"
     ]
    }
   ],
   "source": [
    "from BasicContract_r import BasicContract_r\n",
    "\n",
    "bc=BasicContract_r(3,cc.js,p)\n",
    "\n",
    "(bcr_J,bcr_W)=bc.J_K()"
   ]
  },
  {
   "cell_type": "code",
   "execution_count": null,
   "metadata": {},
   "outputs": [],
   "source": [
    "from BasicContract import BasicContract\n",
    "\n",
    "bc=BasicContract(3,cc.js,p)\n",
    "\n",
    "(best_r,bc_J)=bc.J_K()"
   ]
  },
  {
   "cell_type": "code",
   "execution_count": null,
   "metadata": {},
   "outputs": [],
   "source": [
    "cc.js.re(150)"
   ]
  },
  {
   "cell_type": "code",
   "execution_count": null,
   "metadata": {},
   "outputs": [],
   "source": [
    "import numpy as np\n",
    "best_r*bc.v_grid_0[:,np.newaxis]"
   ]
  },
  {
   "cell_type": "code",
   "execution_count": null,
   "metadata": {},
   "outputs": [],
   "source": [
    "best_r"
   ]
  },
  {
   "cell_type": "code",
   "execution_count": null,
   "metadata": {},
   "outputs": [],
   "source": [
    "bc.v_grid_0"
   ]
  },
  {
   "cell_type": "markdown",
   "metadata": {},
   "source": [
    "## Comparisons across contracts"
   ]
  },
  {
   "cell_type": "code",
   "execution_count": null,
   "metadata": {},
   "outputs": [],
   "source": [
    "cc_W[0,0]#=60.185\n",
    "cc_J[0,0]"
   ]
  },
  {
   "cell_type": "code",
   "execution_count": null,
   "metadata": {},
   "outputs": [],
   "source": [
    "bc_J[0]"
   ]
  },
  {
   "cell_type": "code",
   "execution_count": null,
   "metadata": {},
   "outputs": [],
   "source": [
    "bc_J[1].shape[1]"
   ]
  },
  {
   "cell_type": "code",
   "execution_count": null,
   "metadata": {},
   "outputs": [],
   "source": [
    "cc_W[0,4]#=69.78\n",
    "cc_J[0,4]"
   ]
  },
  {
   "cell_type": "code",
   "execution_count": null,
   "metadata": {},
   "outputs": [],
   "source": [
    "bc_J[1]"
   ]
  },
  {
   "cell_type": "code",
   "execution_count": null,
   "metadata": {},
   "outputs": [],
   "source": [
    "cc_W[0,15]#=79.79\n",
    "cc_J[0,15]"
   ]
  },
  {
   "cell_type": "code",
   "execution_count": null,
   "metadata": {},
   "outputs": [],
   "source": [
    "bc_J[2]"
   ]
  },
  {
   "cell_type": "code",
   "execution_count": null,
   "metadata": {},
   "outputs": [],
   "source": [
    "cc_W[0,45]#=90.01\n",
    "cc_J[0,45]"
   ]
  },
  {
   "cell_type": "code",
   "execution_count": null,
   "metadata": {},
   "outputs": [],
   "source": [
    "bc_J[3]"
   ]
  },
  {
   "cell_type": "code",
   "execution_count": null,
   "metadata": {},
   "outputs": [],
   "source": [
    "cc_W[0,99]\n",
    "cc_J[0,99]"
   ]
  },
  {
   "cell_type": "code",
   "execution_count": null,
   "metadata": {},
   "outputs": [],
   "source": [
    "bc_J[4]"
   ]
  },
  {
   "cell_type": "code",
   "execution_count": null,
   "metadata": {},
   "outputs": [],
   "source": [
    "15.25811404/16.986493446281656"
   ]
  },
  {
   "cell_type": "code",
   "execution_count": null,
   "metadata": {},
   "outputs": [],
   "source": [
    "cc_W[0,197]#=110\n",
    "cc_J[0,197]"
   ]
  }
 ],
 "metadata": {
  "kernelspec": {
   "display_name": "Python 3",
   "language": "python",
   "name": "python3"
  },
  "language_info": {
   "codemirror_mode": {
    "name": "ipython",
    "version": 3
   },
   "file_extension": ".py",
   "mimetype": "text/x-python",
   "name": "python",
   "nbconvert_exporter": "python",
   "pygments_lexer": "ipython3",
   "version": "3.11.4"
  }
 },
 "nbformat": 4,
 "nbformat_minor": 2
}

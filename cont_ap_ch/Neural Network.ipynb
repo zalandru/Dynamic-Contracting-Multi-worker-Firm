{
 "cells": [
  {
   "cell_type": "code",
   "execution_count": 26,
   "id": "4dd39fe7",
   "metadata": {},
   "outputs": [],
   "source": [
    "import torch\n",
    "import torch.nn as nn\n",
    "import torch.optim as optim\n",
    "from tqdm import tqdm\n",
    "import numpy as np\n",
    "from scipy.stats import lognorm as lnorm\n",
    "from primitives import Parameters\n",
    "p = Parameters()\n",
    "import opt_einsum as oe\n",
    "from primitives import Preferences\n",
    "from probabilities import createPoissonTransitionMatrix,createBlockPoissonTransitionMatrix\n",
    "from search import JobSearchArray\n",
    "import matplotlib.pyplot as plt\n",
    "# Set random seeds for reproducibility\n",
    "torch.manual_seed(0)\n",
    "np.random.seed(0)\n",
    "def impose_decreasing(M):\n",
    "    nv = M.shape[1]\n",
    "    for v in reversed(range(nv-1)):\n",
    "        M[:,v,:] = np.maximum(M[:,v,:],M[:,v+1,:])\n",
    "    return M\n",
    "def impose_increasing(A0):\n",
    "    A = np.copy(A0)\n",
    "    nv = len(A)\n",
    "    for v in range(1,nv):\n",
    "        A[v] = np.maximum(A[v],A[v-1])\n",
    "    return A\n",
    "ax = np.newaxis\n",
    "class StateBoundsProcessor:\n",
    "    def __init__(self, lower_bounds, upper_bounds):\n",
    "        \"\"\"\n",
    "        Initialize with lower and upper bounds for each state dimension\n",
    "        \n",
    "        Args:\n",
    "            lower_bounds: List or tensor of lower bounds [x_1, x_2, ..., x_20]\n",
    "            upper_bounds: List or tensor of upper bounds [y_1, y_2, ..., y_20]\n",
    "        \"\"\"\n",
    "        self.lower_bounds = torch.tensor(lower_bounds, dtype=torch.float32)\n",
    "        self.upper_bounds = torch.tensor(upper_bounds, dtype=torch.float32)\n",
    "        self.range = self.upper_bounds - self.lower_bounds\n",
    "        \n",
    "    def normalize(self, states):\n",
    "        \"\"\"Scale states from [lower_bound, upper_bound] to [-1, 1]\"\"\"\n",
    "        return 2 * (states - self.lower_bounds) / self.range - 1\n",
    "        #Example: lower-upper is [0,1]. So normalize(0.5) = 2 * (0.5 - 0) /1 -1 = 0. Ok correct\n",
    "        #Another example. lower-upper is [0,30]. Sn normalize 15= 2 * 15 / 30 -1 = 0 Ok good.\n",
    "        # And normalize (20) = 40/30 - 1 = 1/3 yup\n",
    "        # Now denormalize(1/3) = 0.5 ( 1/3 +1 ) * 30 + 0 = 2/3*30 = 20\n",
    "        \n",
    "    def denormalize(self, normalized_states):\n",
    "        \"\"\"Convert normalized states back to original range\"\"\"\n",
    "        return 0.5 * (normalized_states + 1) * self.range + self.lower_bounds\n",
    "class ValueFunctionNN(nn.Module):\n",
    "    \"\"\"Neural network to approximate the value function\"\"\"\n",
    "    def __init__(self, state_dim, hidden_dims=[40, 30, 20, 10]):\n",
    "        super(ValueFunctionNN, self).__init__()\n",
    "        \n",
    "        # Build layers\n",
    "        layers = []\n",
    "        input_dim = state_dim\n",
    "        \n",
    "        for hidden_dim in hidden_dims:\n",
    "            layers.append(nn.Linear(input_dim, hidden_dim))\n",
    "            layers.append(nn.Softplus())  # SiLU activation function\n",
    "            # Consider adding layer normalization for stability\n",
    "            #layers.append(nn.LayerNorm(hidden_dim))\n",
    "            input_dim = hidden_dim\n",
    "        \n",
    "        # Output layer\n",
    "        layers.append(nn.Linear(input_dim, 1)) #was input_dim instead of 16\n",
    "        \n",
    "        self.model = nn.Sequential(*layers)\n",
    "    \n",
    "    def forward(self, x):\n",
    "        return self.model(x)\n"
   ]
  },
  {
   "cell_type": "code",
   "execution_count": 28,
   "id": "205077dd",
   "metadata": {},
   "outputs": [
    {
     "data": {
      "text/plain": [
       "0.05"
      ]
     },
     "execution_count": 28,
     "metadata": {},
     "output_type": "execute_result"
    }
   ],
   "source": [
    "from ContinuousContract import ContinuousContract\n",
    "cc=ContinuousContract(p)  \n",
    "cc.w_grid[0]"
   ]
  },
  {
   "cell_type": "code",
   "execution_count": 24,
   "id": "f6a4f7c7",
   "metadata": {},
   "outputs": [
    {
     "data": {
      "text/plain": [
       "range(0, 0)"
      ]
     },
     "execution_count": 24,
     "metadata": {},
     "output_type": "execute_result"
    }
   ],
   "source": [
    "range(0)"
   ]
  },
  {
   "cell_type": "code",
   "execution_count": 2,
   "id": "f0738998",
   "metadata": {},
   "outputs": [],
   "source": [
    "class FOCOptimizer:\n",
    "    \"\"\"\n",
    "    Class to solve first-order conditions given a state and value function\n",
    "    This is a placeholder - you'll need to implement actual FOC logic\n",
    "    \"\"\"\n",
    "    def __init__(self, state_dim, action_dim, value_function_model, bounds_processor, parameters=None, js=None):\n",
    "        self.state_dim = state_dim\n",
    "        self.action_dim = action_dim\n",
    "        self.bounds_processor = bounds_processor  # Store bounds_processor\n",
    "\n",
    "        self.p = parameters\n",
    "        self.deriv_eps = 1e-4 # step size for derivative\n",
    "        # Model preferences initialized by the same parameter object.\n",
    "        self.pref = Preferences(input_param=self.p)\n",
    "\n",
    "        # Worker and Match Productivity Heterogeneity in the Model\n",
    "        self.Z_grid = self.construct_z_grid()   # Create match productivity grid\n",
    "\n",
    "        # Production Function in the Model\n",
    "        self.fun_prod = self.p.prod_a * np.power(self.Z_grid, self.p.prod_rho)\n",
    "        # Unemployment Benefits across Worker Productivities\n",
    "        self.unemp_bf = self.p.u_bf_m\n",
    "\n",
    "        # Transition matrices\n",
    "        self.Z_trans_mat = createPoissonTransitionMatrix(self.p.num_z, self.p.z_corr)\n",
    "\n",
    "        # Value Function Setup\n",
    "        self.J_grid   = -10 * np.ones((self.p.num_v)) #grid of job values, first productivity, then starting value, then tenure level\n",
    "        self.w_grid = np.linspace(self.unemp_bf, self.fun_prod.max(), self.p.num_v )\n",
    "        self.rho_grid=1/self.pref.utility_1d(self.w_grid)\n",
    "        # Normalize rho_grid to tensor for model input\n",
    "        self.rho_normalized = self.bounds_processor.normalize(torch.tensor(self.rho_grid, dtype=torch.float32)).unsqueeze(1)\n",
    "\n",
    "        \n",
    "        #Gotta fix the tightness+re functions somehow. Ultra simple J maybe?\n",
    "        self.v_grid=np.linspace(np.divide(self.pref.utility(self.unemp_bf),1-self.p.beta), np.divide(self.pref.utility(self.fun_prod.max()),1-self.p.beta), self.p.num_v ) #grid of submarkets the worker could theoretically search in. only used here for simplicity!!!\n",
    "        self.simple_J=np.divide(self.fun_prod[self.p.z_0-1,ax] -self.pref.inv_utility(self.v_grid[:]*(1-self.p.beta)),1-self.p.beta)\n",
    "        self.simple_Rho = self.simple_J + self.rho_grid * self.v_grid #We do indeed need to work with Rho here since we're taking W via its derivatives\n",
    "        #Apply the matching function: take the simple function and consider its different values across v.\n",
    "        self.prob_find_vx = self.p.alpha * np.power(1 - np.power(\n",
    "            np.divide(self.p.kappa, np.maximum(self.simple_J[ :], 1.0)), self.p.sigma), 1/self.p.sigma)\n",
    "        #Now get workers' probability to find a job while at some current value, as well as their return probabilities.\n",
    "        if js is None:\n",
    "            self.js = JobSearchArray() #Andrei: note that for us this array will have only one element\n",
    "            self.js.update(self.v_grid[:], self.prob_find_vx) #Andrei: two inputs: worker's value at the match quality of entrance (z_0-1), and the job-finding probability for the whole market\n",
    "        else:\n",
    "            self.js = js\n",
    "        #Note: I think??? js takes the values over the uniform grid only. so if I use NNs, gotta adapt it. But for now forget about updating it, keep it as is\n",
    "\n",
    "    def getWorkerDecisions(self, EW1, employed=True): #Andrei: Solves for the entire matrices of EW1 and EU\n",
    "        \"\"\"\n",
    "        :param EW1: Expected value of employment\n",
    "        :param EU:  Expected value of unemployment\n",
    "        :param employed: whether the worker is employed (in which case we multiply by efficiency)\n",
    "        :return: pe,re,qi search decision and associated return, as well as quit decision.\n",
    "        \"\"\"\n",
    "        pe, re = self.js.solve_search_choice(EW1) #Uses the job search array to solve for the search choice\n",
    "        assert (~np.isnan(pe)).all(), \"pe is not NaN\"\n",
    "        assert (pe <= 1).all(), \"pe is not less than 1\"\n",
    "        assert (pe >= -1e-10).all(), \"pe is not larger than 0\"\n",
    "        ve = self.js.ve(EW1)\n",
    "        if employed:\n",
    "            pe = pe * self.p.s_job\n",
    "            re = re * self.p.s_job\n",
    "        #print(\"Shape of pe:\", pe.shape)\n",
    "        # construct the continuation probability. #Andrei: probability the worker doesn't get fired and also doesn't leave\n",
    "        pc = (1 - pe)\n",
    "\n",
    "        return ve, re, pc #ve is vhat, the value the worker gets upon finding a job\n",
    "    def matching_function(self,J1): #Andrei: the formula of their matching function, applied to each particula job value J1\n",
    "        return self.p.alpha * np.power(1 - np.power(\n",
    "            np.divide(self.p.kappa, np.maximum(J1, self.p.kappa)), self.p.sigma),\n",
    "                                1 / self.p.sigma)\n",
    "    def construct_z_grid(self):\n",
    "        \"\"\"\n",
    "            Construct a grid for match productivity heterogeneity.\n",
    "        \"\"\"\n",
    "\n",
    "        exp_z = np.tile(np.linspace(0, 1, self.p.num_z + 2)[1:-1][:],\n",
    "                        (1))\n",
    "\n",
    "        return lnorm.ppf(q=exp_z, s=self.p.prod_var_z)    \n",
    "    def solve_foc(self, states, value_function_model):\n",
    "        \"\"\"\n",
    "        Solves first-order conditions to find optimal action and next state\n",
    "        \n",
    "        Args:\n",
    "            state: Current state tensor\n",
    "            value_function_model: Neural network model for value function\n",
    "        \n",
    "        Returns:\n",
    "            Dictionary with optimal action, next state, and immediate reward\n",
    "        \"\"\"\n",
    "        # This is a placeholder - replace with your actual FOC solver\n",
    "        # In a real implementation, you would:\n",
    "        # 1. Set up an optimization problem to find action that maximizes reward + discounted future value\n",
    "        # 2. Use value_function_model to evaluate future values\n",
    "        # 3. Return optimal action and resulting next state\n",
    "        # Compute gradient with gradients enabled\n",
    "        EW=self.EW\n",
    "        with torch.no_grad():\n",
    "            self.vf_output = value_function_model(self.rho_normalized).squeeze(1).numpy() #This EJpi from the CC FOC. I just precompute it for every point here\n",
    "        # Placeholder implementation (just random actions and states)\n",
    "        with torch.no_grad():\n",
    "            states_denorm = self.bounds_processor.denormalize(states).numpy()\n",
    "            # get worker decisions\n",
    "            _, _, pc = self.getWorkerDecisions(EW) #This EW1i is computed by taking the derivative of Rho, which is our core value function, wrt rho, which is the value-related state-variable\n",
    "            # get worker decisions at EW1i + epsilon\n",
    "            _, _, pc_d = self.getWorkerDecisions(EW + self.deriv_eps)\n",
    "            log_diff = np.zeros_like(self.rho_grid)\n",
    "            log_diff[:] = np.nan\n",
    "            log_diff[pc > 0] = np.log(pc_d[pc > 0]) - np.log(pc[pc > 0]) #This is log derivative of pc wrt the promised value\n",
    "            foc = self.rho_grid[:] - self.vf_output * log_diff / self.deriv_eps #So the FOC wrt promised value is: pay shadow cost lambda today (rho_grid), but more likely that the worker stays tomorrow\n",
    "            assert (np.isnan(foc) & (pc > 0)).sum() == 0, \"foc has NaN values where p>0\"\n",
    "\n",
    "                    #Andrei: so we look for the shadow cost that will satisfy the foc? Yes, look for u'(w'), with u'(w) given, so that the foc is satisfied\n",
    "                    # look for FOC below  rho_0\n",
    "\n",
    "            rho_star = np.interp(states_denorm,\n",
    "                                        impose_increasing(foc),\n",
    "                                        self.rho_grid)\n",
    "            rho_star_tensor = torch.tensor(rho_star, dtype=torch.float32)\n",
    "\n",
    "            action = rho_star_tensor\n",
    "            next_state = self.bounds_processor.normalize(rho_star_tensor)\n",
    "            reward = self.fun_prod[p.z_0-1] - np.interp(rho_star,self.rho_grid,self.w_grid) + states_denorm * self.pref.utility(np.interp(rho_star,self.rho_grid,self.w_grid))  # The entire Rho here. Big note though: this should be today's W, not EW\n",
    "            reward = torch.tensor(reward, dtype=torch.float32)\n",
    "\n",
    "\n",
    "\n",
    "        return {\n",
    "            \"action\": action,\n",
    "            \"next_state\": next_state,\n",
    "            \"reward\": reward\n",
    "        }\n",
    "    def get_batch_gradients(self,states, value_function_model):\n",
    "        states = states.detach().clone().requires_grad_(True)\n",
    "        values = value_function_model(states)\n",
    "    \n",
    "        # Sum values to get scalar for backward pass\n",
    "        values.sum().backward(retain_graph=True)\n",
    "    \n",
    "        gradients = states.grad.clone()\n",
    "        # Clear gradients for next computation\n",
    "        states.grad.zero_()\n",
    "        gradients = gradients / (0.5 * self.bounds_processor.range) #Normalize the gradient back to the original (not [-1,1]) state space\n",
    "\n",
    "        return gradients    \n",
    "    def get_value_function_gradient(self,state, value_function_model):\n",
    "        # Ensure state requires gradients\n",
    "        #if not state.requires_grad:\n",
    "        state = state.detach().clone().requires_grad_(True)\n",
    "    \n",
    "        # Forward pass\n",
    "        value = value_function_model(state)\n",
    "    \n",
    "        # Compute gradient of value with respect to state\n",
    "        #value.retain_grad()\n",
    "        value.sum().backward(retain_graph=True)\n",
    "\n",
    "        # Extract gradient\n",
    "        gradient = state.grad.clone()\n",
    "    \n",
    "        # Clear gradients for next computation\n",
    "        state.grad.zero_()\n",
    "        gradient = gradient / (0.5 * self.bounds_processor.range) #Normalize the gradient back to the original (not [-1,1]) state space\n",
    "        return gradient\n",
    "    #This can definitely be vectorized. So far each trajectory is done completely separately, even though the operations at each step are the same, no?\n",
    "    def simulate_trajectory(self,state, value_function_model, foc_optimizer, steps=5):\n",
    "        \"\"\"\n",
    "        Simulate a trajectory starting from a state and using the current value function\n",
    "    \n",
    "        Args:\n",
    "            state: Starting state tensor\n",
    "            value_function_model: Current value function model\n",
    "            foc_optimizer: Optimizer to solve FOCs\n",
    "            steps: Number of steps to simulate\n",
    "        \n",
    "        Returns:\n",
    "            Total discounted reward and final state value\n",
    "        \"\"\"\n",
    "        total_reward = 0\n",
    "        discount = 1.0\n",
    "    \n",
    "        current_state = state.clone()\n",
    "        with torch.enable_grad():\n",
    "            EW_tensor = self.get_batch_gradients(self.rho_normalized, value_function_model)[:,0] #This isn't even correct! I should be taking this at all the rho's!\n",
    "        self.EW = EW_tensor.detach().numpy()  # Convert to NumPy for further processing\n",
    "        for _ in range(steps):\n",
    "            \n",
    "            # Solve FOC to get optimal action and next state\n",
    "            result = foc_optimizer.solve_foc(current_state, value_function_model)\n",
    "            #Probability that the worker stays\n",
    "            EW_star = self.get_batch_gradients(result[\"next_state\"].unsqueeze(1).requires_grad_(True), value_function_model)[:,0]\n",
    "            ve_star, __, pc_star = self.getWorkerDecisions(EW_star.numpy())\n",
    "            ve_star = torch.from_numpy(ve_star)\n",
    "            pc_star = torch.from_numpy(pc_star)            \n",
    "            # Accumulate discounted reward\n",
    "            if _<range(steps)[-1]:\n",
    "                total_reward += discount * result[\"reward\"] + self.p.beta * self.bounds_processor.denormalize(current_state) * ( 1 - pc_star) * ve_star  #This should be: reward + rho*beta*ve_star*pe_star (so the value worker gets from leaving) + discount*next_reward\n",
    "            else:\n",
    "                total_reward += discount * result[\"reward\"] #for the last period we don't enymore do ve_star as that's included... right? confirm later\n",
    "            # Update state and discount factor\n",
    "            current_state = result[\"next_state\"]\n",
    "            discount *= self.p.beta * pc_star\n",
    "    \n",
    "        # Add final state value\n",
    "        with torch.no_grad():\n",
    "            final_value = value_function_model(current_state.unsqueeze(1).requires_grad_(True))\n",
    "    \n",
    "        total_value = total_reward + discount * final_value\n",
    "    \n",
    "        return total_value, current_state"
   ]
  },
  {
   "cell_type": "code",
   "execution_count": 3,
   "id": "1d534e92",
   "metadata": {},
   "outputs": [],
   "source": [
    "def train_value_function(\n",
    "    state_dim,\n",
    "    lower_bounds,\n",
    "    upper_bounds,\n",
    "    action_dim=5,\n",
    "    hidden_dims=[40, 30, 20, 10],\n",
    "    num_iterations=20, \n",
    "    starting_points_per_iter=100,\n",
    "    simulation_steps=5,\n",
    "    learning_rate=0.001,\n",
    "    parameters=None\n",
    "):\n",
    "    \"\"\"\n",
    "    Main training loop for value function approximation\n",
    "    \n",
    "    Args:\n",
    "        state_dim: Dimension of state space\n",
    "        action_dim: Dimension of action space\n",
    "        hidden_dims: List of hidden layer dimensions\n",
    "        num_iterations: Number of training iterations\n",
    "        starting_points_per_iter: Number of starting points per iteration\n",
    "        simulation_steps: Steps to simulate for each starting point\n",
    "        learning_rate: Learning rate for neural network optimizer\n",
    "        discount_factor: Discount factor for future rewards\n",
    "    \n",
    "    Returns:\n",
    "        Trained value function model\n",
    "    \"\"\"\n",
    "    bounds_processor = StateBoundsProcessor(lower_bounds,upper_bounds)\n",
    "    # Initialize value function neural network\n",
    "    value_function_model = ValueFunctionNN(state_dim, hidden_dims)\n",
    "    from ContinuousContract import ContinuousContract\n",
    "    cc=ContinuousContract(p)\n",
    "    # Initialize FOC optimizer\n",
    "    foc_optimizer = FOCOptimizer(state_dim, action_dim, value_function_model, bounds_processor, parameters, cc.js)\n",
    "    \n",
    "    # Initialize neural network optimizer\n",
    "    optimizer = optim.Adam(value_function_model.parameters(), lr=learning_rate)\n",
    "    \n",
    "    #Step 0: basic guess    \n",
    "    cc_J,cc_W,_,_ = cc.J()\n",
    "    target_values = torch.tensor(cc_J[p.z_0-1,:] + cc.rho_grid * cc_W[p.z_0-1,:], dtype=torch.float32)\n",
    "    states=bounds_processor.normalize(torch.tensor(foc_optimizer.rho_grid, dtype=torch.float32)).unsqueeze(1).requires_grad_(True) #This should be renormalized... right?\n",
    "    #print(np.max(np.abs(cc.rho_grid-foc_optimizer.rho_grid)))\n",
    "    #target_values=torch.tensor(foc_optimizer.simple_Rho, dtype=torch.float32)\n",
    "    for _ in (range(50)):\n",
    "        optimizer.zero_grad()\n",
    "        predicted_values = value_function_model(states)[:,0]\n",
    "        loss = nn.MSELoss()(predicted_values, target_values)\n",
    "        loss.backward() #\n",
    "        optimizer.step()\n",
    "\n",
    "    # Training loop\n",
    "    for iteration in tqdm(range(num_iterations)):\n",
    "        # Generate uniform random starting states\n",
    "        states_denormal = torch.rand(starting_points_per_iter, state_dim,dtype=torch.float32) * bounds_processor.range + torch.tensor(lower_bounds,dtype=torch.float32) #Turning lower_bounds into torch every time is wasteful\n",
    "        states = bounds_processor.normalize(states_denormal).requires_grad_(True)\n",
    "        #print(\"States shape\", states.shape)\n",
    "        # Calculate target values through simulation\n",
    "        target_values = []\n",
    "\n",
    "        # Simulate trajectory and get total discounted reward\n",
    "        target_values, _ = foc_optimizer.simulate_trajectory(\n",
    "            states[:,0], value_function_model, foc_optimizer, simulation_steps)\n",
    "        #target_values.append(total_values)\n",
    "        \n",
    "        #target_values = torch.tensor(target_values, dtype=torch.float32)\n",
    "        \n",
    "        # Update neural network based on simulated values\n",
    "        optimizer.zero_grad()\n",
    "        predicted_values = value_function_model(states)\n",
    "        loss = nn.MSELoss()(predicted_values, target_values)\n",
    "        loss.backward() #\n",
    "        optimizer.step()\n",
    "        \n",
    "        # Print progress\n",
    "        if (iteration + 1) % 5 == 0 or iteration == 0:\n",
    "            print(f\"Iteration {iteration + 1}, Loss: {loss.item():.6f}\")\n",
    "    \n",
    "    return value_function_model"
   ]
  },
  {
   "cell_type": "code",
   "execution_count": 4,
   "id": "1f041660",
   "metadata": {},
   "outputs": [],
   "source": [
    "def evaluate_value_function(model, p, lower_bounds,upper_bounds):\n",
    "    \"\"\"\n",
    "    Evaluate the trained value function on test points\n",
    "    \n",
    "    Args:\n",
    "        model: Trained value function model\n",
    "        num_test_points: Number of test points\n",
    "        state_dim: Dimension of state space\n",
    "    \"\"\"\n",
    "\n",
    "    bounds_processor = StateBoundsProcessor(lower_bounds,upper_bounds)\n",
    "    # Generate random test states\n",
    "    #test_states = torch.randn(num_test_points, state_dim)\n",
    "    from ContinuousContract import ContinuousContract\n",
    "    cc=ContinuousContract(p)    \n",
    "    cc_J,cc_W,_,_ = cc.J()\n",
    "    cc_Rho = cc_J[p.z_0-1,:] + cc.rho_grid * cc_W[p.z_0-1,:]\n",
    "    test_states = bounds_processor.normalize(torch.tensor(cc.rho_grid, dtype=torch.float32)).unsqueeze(1)\n",
    "    # Evaluate model\n",
    "    with torch.no_grad():\n",
    "        values = model(test_states)\n",
    "    \n",
    "    # Print results\n",
    "    #print(\"\\nValue function evaluation on test states:\")\n",
    "    #for i in range(min(5, num_test_points)):\n",
    "    #    print(f\"State {i+1}: Value = {values[i].item():.4f}\")\n",
    "    #Plot results\n",
    "    plt.plot(cc.rho_grid, cc_Rho, label = \"VFI\")\n",
    "    plt.plot(cc.rho_grid, values, label = \"NN\")    \n",
    "    plt.show()"
   ]
  },
  {
   "cell_type": "code",
   "execution_count": 5,
   "id": "0769e0cc",
   "metadata": {},
   "outputs": [
    {
     "name": "stdout",
     "output_type": "stream",
     "text": [
      "Training value function...\n"
     ]
    },
    {
     "name": "stderr",
     "output_type": "stream",
     "text": [
      "  0%|          | 0/690 [00:00<?, ?it/s]c:\\Programs\\Python 3.11\\Lib\\site-packages\\torch\\nn\\modules\\loss.py:610: UserWarning: Using a target size (torch.Size([200, 200])) that is different to the input size (torch.Size([200, 1])). This will likely lead to incorrect results due to broadcasting. Please ensure they have the same size.\n",
      "  return F.mse_loss(input, target, reduction=self.reduction)\n",
      "  2%|▏         | 11/690 [00:00<00:06, 107.79it/s]"
     ]
    },
    {
     "name": "stdout",
     "output_type": "stream",
     "text": [
      "Iteration 1, Loss: 76970.539062\n",
      "Iteration 5, Loss: 72109.554688\n",
      "Iteration 10, Loss: 67536.468750\n",
      "Iteration 15, Loss: 64638.335938\n",
      "Iteration 20, Loss: 61628.710938\n"
     ]
    },
    {
     "name": "stderr",
     "output_type": "stream",
     "text": [
      "  5%|▍         | 34/690 [00:00<00:06, 100.57it/s]"
     ]
    },
    {
     "name": "stdout",
     "output_type": "stream",
     "text": [
      "Iteration 25, Loss: 56396.363281\n",
      "Iteration 30, Loss: 55585.351562\n",
      "Iteration 35, Loss: 55838.453125\n",
      "Iteration 40, Loss: 58460.312500\n"
     ]
    },
    {
     "name": "stderr",
     "output_type": "stream",
     "text": [
      "  8%|▊         | 56/690 [00:00<00:06, 96.84it/s] "
     ]
    },
    {
     "name": "stdout",
     "output_type": "stream",
     "text": [
      "Iteration 45, Loss: 57278.343750\n",
      "Iteration 50, Loss: 52494.667969\n",
      "Iteration 55, Loss: 45388.777344\n",
      "Iteration 60, Loss: 49214.507812\n",
      "Iteration 65, Loss: 41844.488281\n"
     ]
    },
    {
     "name": "stderr",
     "output_type": "stream",
     "text": [
      " 13%|█▎        | 88/690 [00:00<00:06, 99.15it/s] "
     ]
    },
    {
     "name": "stdout",
     "output_type": "stream",
     "text": [
      "Iteration 70, Loss: 45584.929688\n",
      "Iteration 75, Loss: 41550.546875\n",
      "Iteration 80, Loss: 36385.421875\n",
      "Iteration 85, Loss: 35478.015625\n",
      "Iteration 90, Loss: 34189.691406\n"
     ]
    },
    {
     "name": "stderr",
     "output_type": "stream",
     "text": [
      " 16%|█▌        | 108/690 [00:01<00:05, 98.48it/s]"
     ]
    },
    {
     "name": "stdout",
     "output_type": "stream",
     "text": [
      "Iteration 95, Loss: 28260.531250\n",
      "Iteration 100, Loss: 31917.298828\n",
      "Iteration 105, Loss: 24590.832031\n",
      "Iteration 110, Loss: 25988.365234\n",
      "Iteration 115, Loss: 27807.263672\n"
     ]
    },
    {
     "name": "stderr",
     "output_type": "stream",
     "text": [
      " 19%|█▉        | 130/690 [00:01<00:05, 98.07it/s] "
     ]
    },
    {
     "name": "stdout",
     "output_type": "stream",
     "text": [
      "Iteration 120, Loss: 21942.261719\n",
      "Iteration 125, Loss: 24078.388672\n",
      "Iteration 130, Loss: 22344.876953\n",
      "Iteration 135, Loss: 21451.484375\n"
     ]
    },
    {
     "name": "stderr",
     "output_type": "stream",
     "text": [
      " 22%|██▏       | 150/690 [00:01<00:05, 97.88it/s]"
     ]
    },
    {
     "name": "stdout",
     "output_type": "stream",
     "text": [
      "Iteration 140, Loss: 19812.988281\n",
      "Iteration 145, Loss: 18037.863281\n",
      "Iteration 150, Loss: 20815.517578\n",
      "Iteration 155, Loss: 18661.146484\n"
     ]
    },
    {
     "name": "stderr",
     "output_type": "stream",
     "text": [
      " 25%|██▍       | 171/690 [00:01<00:05, 97.93it/s]"
     ]
    },
    {
     "name": "stdout",
     "output_type": "stream",
     "text": [
      "Iteration 160, Loss: 18309.794922\n",
      "Iteration 165, Loss: 18144.355469\n",
      "Iteration 170, Loss: 18250.525391\n",
      "Iteration 175, Loss: 18419.386719\n",
      "Iteration 180, Loss: 20989.898438\n"
     ]
    },
    {
     "name": "stderr",
     "output_type": "stream",
     "text": [
      " 28%|██▊       | 196/690 [00:01<00:04, 108.58it/s]"
     ]
    },
    {
     "name": "stdout",
     "output_type": "stream",
     "text": [
      "Iteration 185, Loss: 17865.916016\n",
      "Iteration 190, Loss: 19650.806641\n",
      "Iteration 195, Loss: 18474.757812\n",
      "Iteration 200, Loss: 20442.035156\n",
      "Iteration 205, Loss: 19350.880859\n"
     ]
    },
    {
     "name": "stderr",
     "output_type": "stream",
     "text": [
      " 32%|███▏      | 221/690 [00:02<00:04, 103.32it/s]"
     ]
    },
    {
     "name": "stdout",
     "output_type": "stream",
     "text": [
      "Iteration 210, Loss: 19829.423828\n",
      "Iteration 215, Loss: 21531.296875\n",
      "Iteration 220, Loss: 20116.769531\n",
      "Iteration 225, Loss: 20582.837891\n"
     ]
    },
    {
     "name": "stderr",
     "output_type": "stream",
     "text": [
      " 35%|███▌      | 244/690 [00:02<00:04, 106.37it/s]"
     ]
    },
    {
     "name": "stdout",
     "output_type": "stream",
     "text": [
      "Iteration 230, Loss: 18199.599609\n",
      "Iteration 235, Loss: 18620.585938\n",
      "Iteration 240, Loss: 19295.138672\n",
      "Iteration 245, Loss: 19749.414062\n",
      "Iteration 250, Loss: 18573.439453\n"
     ]
    },
    {
     "name": "stderr",
     "output_type": "stream",
     "text": [
      " 39%|███▊      | 267/690 [00:02<00:03, 108.44it/s]"
     ]
    },
    {
     "name": "stdout",
     "output_type": "stream",
     "text": [
      "Iteration 255, Loss: 19274.099609\n",
      "Iteration 260, Loss: 19616.333984\n",
      "Iteration 265, Loss: 17480.783203\n",
      "Iteration 270, Loss: 20019.242188\n",
      "Iteration 275, Loss: 19612.861328\n"
     ]
    },
    {
     "name": "stderr",
     "output_type": "stream",
     "text": [
      " 42%|████▏     | 291/690 [00:02<00:03, 107.19it/s]"
     ]
    },
    {
     "name": "stdout",
     "output_type": "stream",
     "text": [
      "Iteration 280, Loss: 18404.085938\n",
      "Iteration 285, Loss: 20037.208984\n",
      "Iteration 290, Loss: 18876.380859\n",
      "Iteration 295, Loss: 19109.404297\n",
      "Iteration 300, Loss: 18947.312500\n"
     ]
    },
    {
     "name": "stderr",
     "output_type": "stream",
     "text": [
      " 46%|████▌     | 315/690 [00:03<00:03, 111.49it/s]"
     ]
    },
    {
     "name": "stdout",
     "output_type": "stream",
     "text": [
      "Iteration 305, Loss: 17784.736328\n",
      "Iteration 310, Loss: 19768.351562\n",
      "Iteration 315, Loss: 18890.863281\n",
      "Iteration 320, Loss: 20077.398438\n",
      "Iteration 325, Loss: 20057.685547\n"
     ]
    },
    {
     "name": "stderr",
     "output_type": "stream",
     "text": [
      " 51%|█████     | 351/690 [00:03<00:03, 107.33it/s]"
     ]
    },
    {
     "name": "stdout",
     "output_type": "stream",
     "text": [
      "Iteration 330, Loss: 18680.552734\n",
      "Iteration 335, Loss: 19426.962891\n",
      "Iteration 340, Loss: 16701.929688\n",
      "Iteration 345, Loss: 18318.943359\n",
      "Iteration 350, Loss: 20035.363281\n"
     ]
    },
    {
     "name": "stderr",
     "output_type": "stream",
     "text": [
      " 54%|█████▍    | 374/690 [00:03<00:02, 110.32it/s]"
     ]
    },
    {
     "name": "stdout",
     "output_type": "stream",
     "text": [
      "Iteration 355, Loss: 21422.601562\n",
      "Iteration 360, Loss: 19583.431641\n",
      "Iteration 365, Loss: 20106.630859\n",
      "Iteration 370, Loss: 18396.732422\n",
      "Iteration 375, Loss: 19521.865234\n"
     ]
    },
    {
     "name": "stderr",
     "output_type": "stream",
     "text": [
      " 58%|█████▊    | 398/690 [00:03<00:02, 108.41it/s]"
     ]
    },
    {
     "name": "stdout",
     "output_type": "stream",
     "text": [
      "Iteration 380, Loss: 17914.000000\n",
      "Iteration 385, Loss: 20502.482422\n",
      "Iteration 390, Loss: 17482.863281\n",
      "Iteration 395, Loss: 19816.234375\n",
      "Iteration 400, Loss: 17958.048828\n"
     ]
    },
    {
     "name": "stderr",
     "output_type": "stream",
     "text": [
      " 61%|██████    | 422/690 [00:04<00:02, 112.51it/s]"
     ]
    },
    {
     "name": "stdout",
     "output_type": "stream",
     "text": [
      "Iteration 405, Loss: 20776.250000\n",
      "Iteration 410, Loss: 19926.167969\n",
      "Iteration 415, Loss: 17955.082031\n",
      "Iteration 420, Loss: 16864.923828\n",
      "Iteration 425, Loss: 19793.650391\n"
     ]
    },
    {
     "name": "stderr",
     "output_type": "stream",
     "text": [
      " 65%|██████▍   | 446/690 [00:04<00:02, 105.88it/s]"
     ]
    },
    {
     "name": "stdout",
     "output_type": "stream",
     "text": [
      "Iteration 430, Loss: 17505.017578\n",
      "Iteration 435, Loss: 20612.623047\n",
      "Iteration 440, Loss: 20992.761719\n",
      "Iteration 445, Loss: 21013.830078\n"
     ]
    },
    {
     "name": "stderr",
     "output_type": "stream",
     "text": [
      " 68%|██████▊   | 468/690 [00:04<00:02, 105.99it/s]"
     ]
    },
    {
     "name": "stdout",
     "output_type": "stream",
     "text": [
      "Iteration 450, Loss: 16816.406250\n",
      "Iteration 455, Loss: 20139.148438\n",
      "Iteration 460, Loss: 18703.769531\n",
      "Iteration 465, Loss: 20469.003906\n",
      "Iteration 470, Loss: 17950.414062\n"
     ]
    },
    {
     "name": "stderr",
     "output_type": "stream",
     "text": [
      " 71%|███████▏  | 492/690 [00:04<00:01, 109.74it/s]"
     ]
    },
    {
     "name": "stdout",
     "output_type": "stream",
     "text": [
      "Iteration 475, Loss: 18867.992188\n",
      "Iteration 480, Loss: 18867.576172\n",
      "Iteration 485, Loss: 18572.474609\n",
      "Iteration 490, Loss: 18818.291016\n",
      "Iteration 495, Loss: 18402.703125\n",
      "Iteration 500, Loss: 20514.597656\n"
     ]
    },
    {
     "name": "stderr",
     "output_type": "stream",
     "text": [
      " 75%|███████▍  | 517/690 [00:04<00:01, 110.77it/s]"
     ]
    },
    {
     "name": "stdout",
     "output_type": "stream",
     "text": [
      "Iteration 505, Loss: 20486.615234\n",
      "Iteration 510, Loss: 16990.066406\n",
      "Iteration 515, Loss: 19880.011719\n",
      "Iteration 520, Loss: 20501.070312\n",
      "Iteration 525, Loss: 17809.271484\n"
     ]
    },
    {
     "name": "stderr",
     "output_type": "stream",
     "text": [
      " 79%|███████▊  | 543/690 [00:05<00:01, 116.43it/s]"
     ]
    },
    {
     "name": "stdout",
     "output_type": "stream",
     "text": [
      "Iteration 530, Loss: 19705.542969\n",
      "Iteration 535, Loss: 19365.458984\n",
      "Iteration 540, Loss: 18211.828125\n",
      "Iteration 545, Loss: 19124.736328\n",
      "Iteration 550, Loss: 19165.535156\n"
     ]
    },
    {
     "name": "stderr",
     "output_type": "stream",
     "text": [
      " 82%|████████▏ | 568/690 [00:05<00:01, 117.73it/s]"
     ]
    },
    {
     "name": "stdout",
     "output_type": "stream",
     "text": [
      "Iteration 555, Loss: 19721.863281\n",
      "Iteration 560, Loss: 20375.552734\n",
      "Iteration 565, Loss: 19009.031250\n",
      "Iteration 570, Loss: 19404.695312\n",
      "Iteration 575, Loss: 19783.046875\n"
     ]
    },
    {
     "name": "stderr",
     "output_type": "stream",
     "text": [
      " 86%|████████▌ | 592/690 [00:05<00:00, 111.21it/s]"
     ]
    },
    {
     "name": "stdout",
     "output_type": "stream",
     "text": [
      "Iteration 580, Loss: 22191.101562\n",
      "Iteration 585, Loss: 19016.853516\n",
      "Iteration 590, Loss: 19007.849609\n",
      "Iteration 595, Loss: 18011.162109\n",
      "Iteration 600, Loss: 17450.410156\n"
     ]
    },
    {
     "name": "stderr",
     "output_type": "stream",
     "text": [
      " 91%|█████████ | 628/690 [00:05<00:00, 112.04it/s]"
     ]
    },
    {
     "name": "stdout",
     "output_type": "stream",
     "text": [
      "Iteration 605, Loss: 18592.802734\n",
      "Iteration 610, Loss: 18112.125000\n",
      "Iteration 615, Loss: 19573.339844\n",
      "Iteration 620, Loss: 18260.947266\n",
      "Iteration 625, Loss: 18357.128906\n"
     ]
    },
    {
     "name": "stderr",
     "output_type": "stream",
     "text": [
      " 93%|█████████▎| 640/690 [00:05<00:00, 111.95it/s]"
     ]
    },
    {
     "name": "stdout",
     "output_type": "stream",
     "text": [
      "Iteration 630, Loss: 18886.308594\n",
      "Iteration 635, Loss: 21203.359375\n",
      "Iteration 640, Loss: 19469.181641\n",
      "Iteration 645, Loss: 20190.730469\n"
     ]
    },
    {
     "name": "stderr",
     "output_type": "stream",
     "text": [
      " 96%|█████████▌| 664/690 [00:06<00:00, 107.05it/s]"
     ]
    },
    {
     "name": "stdout",
     "output_type": "stream",
     "text": [
      "Iteration 650, Loss: 20686.773438\n",
      "Iteration 655, Loss: 20191.250000\n",
      "Iteration 660, Loss: 18671.578125\n",
      "Iteration 665, Loss: 18344.996094\n",
      "Iteration 670, Loss: 18832.445312\n"
     ]
    },
    {
     "name": "stderr",
     "output_type": "stream",
     "text": [
      "100%|██████████| 690/690 [00:06<00:00, 107.11it/s]"
     ]
    },
    {
     "name": "stdout",
     "output_type": "stream",
     "text": [
      "Iteration 675, Loss: 18679.669922\n",
      "Iteration 680, Loss: 19503.365234\n",
      "Iteration 685, Loss: 19993.189453\n",
      "Iteration 690, Loss: 20521.265625\n"
     ]
    },
    {
     "name": "stderr",
     "output_type": "stream",
     "text": [
      "\n"
     ]
    },
    {
     "data": {
      "image/png": "[encoded data removed]",
      "text/plain": [
       "<Figure size 640x480 with 1 Axes>"
      ]
     },
     "metadata": {},
     "output_type": "display_data"
    },
    {
     "name": "stdout",
     "output_type": "stream",
     "text": [
      "Model saved to trained_value_function.pt\n"
     ]
    }
   ],
   "source": [
    "if __name__ == \"__main__\":\n",
    "    # Define parameters\n",
    "    STATE_DIM = 1  # Just one, continuous state, the promised value. Next step will be adding (discrete) y\n",
    "    ACTION_DIM = 1  # Adjust based on your problem\n",
    "    HIDDEN_DIMS = [64,64]  # Decreasing width architecture\n",
    "    pref = Preferences(input_param=p)\n",
    "    \n",
    "    LOWER_BOUNDS = [1/pref.utility_1d(p.u_bf_m)]\n",
    "    UPPER_BOUNDS = [1/pref.utility_1d(10)] #Ideally this should come from fun_prod.max\n",
    "    # Train value function\n",
    "    print(\"Training value function...\")\n",
    "    trained_model = train_value_function(\n",
    "        state_dim=STATE_DIM,\n",
    "        lower_bounds=LOWER_BOUNDS,\n",
    "        upper_bounds=UPPER_BOUNDS,\n",
    "        action_dim=ACTION_DIM,\n",
    "        hidden_dims=HIDDEN_DIMS,\n",
    "        num_iterations=690,\n",
    "        starting_points_per_iter=200,\n",
    "        simulation_steps=5,\n",
    "        learning_rate=0.003,\n",
    "        parameters=p\n",
    "    )\n",
    "    \n",
    "    # Evaluate trained model\n",
    "    evaluate_value_function(trained_model, p, LOWER_BOUNDS, UPPER_BOUNDS)\n",
    "    \n",
    "    # Save the model\n",
    "    torch.save(trained_model.state_dict(), \"trained_value_function.pt\")\n",
    "    print(\"Model saved to trained_value_function.pt\")"
   ]
  },
  {
   "cell_type": "code",
   "execution_count": 22,
   "id": "24a35ab4",
   "metadata": {},
   "outputs": [
    {
     "data": {
      "text/plain": [
       "tensor([3215.1104], grad_fn=<ViewBackward0>)"
      ]
     },
     "execution_count": 22,
     "metadata": {},
     "output_type": "execute_result"
    }
   ],
   "source": [
    "trained_model(torch.tensor([-40.0]))"
   ]
  }
 ],
 "metadata": {
  "kernelspec": {
   "display_name": "Python 3",
   "language": "python",
   "name": "python3"
  },
  "language_info": {
   "codemirror_mode": {
    "name": "ipython",
    "version": 3
   },
   "file_extension": ".py",
   "mimetype": "text/x-python",
   "name": "python",
   "nbconvert_exporter": "python",
   "pygments_lexer": "ipython3",
   "version": "3.11.4"
  }
 },
 "nbformat": 4,
 "nbformat_minor": 5
}
